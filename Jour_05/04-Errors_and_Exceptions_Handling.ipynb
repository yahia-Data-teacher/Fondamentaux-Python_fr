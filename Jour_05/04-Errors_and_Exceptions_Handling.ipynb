{
    "cells": [
        {
            "cell_type": "markdown",
            "metadata": {
                "id": "view-in-github",
                "colab_type": "text"
            },
            "source": [
                "<a href=\"https://colab.research.google.com/github/yahia-kplr/Fondamentaux-Python_fr/blob/main/Jour_05/04-Errors_and_Exceptions_Handling.ipynb\" target=\"_blank\"><img src=\"https://colab.research.google.com/assets/colab-badge.svg\" alt=\"Open In Colab\"/></a>"
            ]
        },
        {
            "cell_type": "markdown",
            "metadata": {},
            "source": [
                "# Errors and Exception Handling\n",
                "\n",
                "In this lecture we will learn about Errors and Exception Handling in Python. You've definitely already encountered errors by this point in the course. For example:"
            ]
        },
        {
            "cell_type": "code",
            "execution_count": 1,
            "metadata": {},
            "outputs": [
                {
                    "ename": "SyntaxError",
                    "evalue": "EOL while scanning string literal (<ipython-input-1-db8c9988558c>, line 1)",
                    "output_type": "error",
                    "traceback": [
                        "\u001b[1;36m  File \u001b[1;32m\"<ipython-input-1-db8c9988558c>\"\u001b[1;36m, line \u001b[1;32m1\u001b[0m\n\u001b[1;33m    print('Hello)\u001b[0m\n\u001b[1;37m                 ^\u001b[0m\n\u001b[1;31mSyntaxError\u001b[0m\u001b[1;31m:\u001b[0m EOL while scanning string literal\n"
                    ]
                }
            ],
            "source": [
                "print('Hello)"
            ]
        },
        {
            "cell_type": "markdown",
            "metadata": {},
            "source": [
                "Notez comment nous obtenons une SyntaxError, avec la description suppl\u00e9mentaire qu'il s'agissait d'une EOL (Erreur de fin de ligne) lors de l'analyse de la cha\u00eene litt\u00e9rale. C'est suffisamment pr\u00e9cis pour que nous constations que nous avons oubli\u00e9 un seul guillemet \u00e0 la fin de la ligne. Comprendre ces diff\u00e9rents types d'erreurs vous aidera \u00e0 d\u00e9boguer votre code beaucoup plus rapidement.\n",
                "\n",
                "Ce type d'erreur et de description est appel\u00e9 une exception. M\u00eame si une instruction ou une expression est syntaxiquement correcte, elle peut provoquer une erreur lors d'une tentative d'ex\u00e9cution. Les erreurs d\u00e9tect\u00e9es lors de l'ex\u00e9cution sont appel\u00e9es exceptions et ne sont pas inconditionnellement fatales.\n",
                "\n",
                "Vous pouvez consulter la liste compl\u00e8te des exceptions int\u00e9gr\u00e9es [ici](https://docs.python.org/3/library/exceptions.html). Apprenons maintenant \u00e0 g\u00e9rer les erreurs et les exceptions dans notre propre code.\n"
            ]
        },
        {
            "cell_type": "markdown",
            "metadata": {},
            "source": [
                "## essayez et sauf\n",
                "\n",
                "La terminologie et la syntaxe de base utilis\u00e9es pour g\u00e9rer les erreurs en Python sont les instructions <code>try</code> et <code>except</code>. Le code qui peut provoquer une exception est plac\u00e9 dans le bloc <code>try</code> et la gestion de l'exception est ensuite impl\u00e9ment\u00e9e dans le bloc de code <code>except</code>. La syntaxe suit :\n",
                "\n",
                "essayer:\n",
                "Vous faites vos op\u00e9rations ici...\n",
                "...\n",
                "sauf Exception1\u00a0:\n",
                "S'il y a ExceptionI, alors ex\u00e9cutez ce bloc.\n",
                "sauf ExceptionII\u00a0:\n",
                "S'il y a ExceptionII, alors ex\u00e9cutez ce bloc.\n",
                "...\n",
                "autre:\n",
                "S'il n'y a pas d'exception, ex\u00e9cutez ce bloc.\n",
                "\n",
                "Nous pouvons \u00e9galement simplement v\u00e9rifier toute exception en utilisant simplement <code>sauf\u00a0:</code> Pour mieux comprendre tout cela, examinons un exemple\u00a0: nous examinerons un code qui ouvre et \u00e9crit un fichier\u00a0:\n"
            ]
        },
        {
            "cell_type": "code",
            "execution_count": 2,
            "metadata": {},
            "outputs": [
                {
                    "name": "stdout",
                    "output_type": "stream",
                    "text": [
                        "Content written successfully\n"
                    ]
                }
            ],
            "source": [
                "try:\n",
                "    f = open('testfile','w')\n",
                "    f.write('Test write this')\n",
                "except IOError:\n",
                "    # This will only check for an IOError exception and then execute this print statement\n",
                "    print(\"Error: Could not find file or read data\")\n",
                "else:\n",
                "    print(\"Content written successfully\")\n",
                "    f.close()"
            ]
        },
        {
            "cell_type": "markdown",
            "metadata": {},
            "source": [
                "Voyons maintenant ce qui se passerait si nous n'avions pas l'autorisation d'\u00e9criture (ouverture uniquement avec 'r'):\n"
            ]
        },
        {
            "cell_type": "code",
            "execution_count": 3,
            "metadata": {},
            "outputs": [
                {
                    "name": "stdout",
                    "output_type": "stream",
                    "text": [
                        "Error: Could not find file or read data\n"
                    ]
                }
            ],
            "source": [
                "try:\n",
                "    f = open('testfile','r')\n",
                "    f.write('Test write this')\n",
                "except IOError:\n",
                "    # This will only check for an IOError exception and then execute this print statement\n",
                "    print(\"Error: Could not find file or read data\")\n",
                "else:\n",
                "    print(\"Content written successfully\")\n",
                "    f.close()"
            ]
        },
        {
            "cell_type": "markdown",
            "metadata": {},
            "source": [
                "Super! Remarquez que nous n'avons imprim\u00e9 qu'un relev\u00e9\u00a0! Le code fonctionnait toujours et nous avons pu continuer \u00e0 effectuer des actions et \u00e0 ex\u00e9cuter des blocs de code. Ceci est extr\u00eamement utile lorsque vous devez tenir compte d'\u00e9ventuelles erreurs de saisie dans votre code. Vous pouvez vous pr\u00e9parer \u00e0 l'erreur et continuer \u00e0 ex\u00e9cuter du code, au lieu que votre code se brise comme nous l'avons vu ci-dessus.\n",
                "\n",
                "Nous aurions \u00e9galement pu simplement dire <code>sauf\u00a0:</code> si nous n'\u00e9tions pas s\u00fbrs de l'exception qui se produirait. Par exemple:\n"
            ]
        },
        {
            "cell_type": "code",
            "execution_count": 4,
            "metadata": {},
            "outputs": [
                {
                    "name": "stdout",
                    "output_type": "stream",
                    "text": [
                        "Error: Could not find file or read data\n"
                    ]
                }
            ],
            "source": [
                "try:\n",
                "    f = open('testfile','r')\n",
                "    f.write('Test write this')\n",
                "except:\n",
                "    # This will check for any exception and then execute this print statement\n",
                "    print(\"Error: Could not find file or read data\")\n",
                "else:\n",
                "    print(\"Content written successfully\")\n",
                "    f.close()"
            ]
        },
        {
            "cell_type": "markdown",
            "metadata": {},
            "source": [
                "Super! Maintenant, nous n'avons plus besoin de m\u00e9moriser cette liste de types d'exception\u00a0! Et si nous continuions \u00e0 vouloir ex\u00e9cuter du code apr\u00e8s que l'exception se soit produite ? C'est l\u00e0 qu'intervient <code>enfin</code>.\n",
                "## enfin\n",
                "Le bloc de code <code>finally\u00a0:</code> sera toujours ex\u00e9cut\u00e9, qu'il y ait ou non une exception dans le bloc de code <code>try</code>. La syntaxe est :\n",
                "\n",
                "essayer:\n",
                "Bloc de code ici\n",
                "...\n",
                "En raison de toute exception, ce code peut \u00eatre ignor\u00e9\u00a0!\n",
                "enfin:\n",
                "Ce bloc de code serait toujours ex\u00e9cut\u00e9.\n",
                "\n",
                "Par exemple:\n"
            ]
        },
        {
            "cell_type": "code",
            "execution_count": 5,
            "metadata": {},
            "outputs": [
                {
                    "name": "stdout",
                    "output_type": "stream",
                    "text": [
                        "Always execute finally code blocks\n"
                    ]
                }
            ],
            "source": [
                "try:\n",
                "    f = open(\"testfile\", \"w\")\n",
                "    f.write(\"Test write statement\")\n",
                "    f.close()\n",
                "finally:\n",
                "    print(\"Always execute finally code blocks\")"
            ]
        },
        {
            "cell_type": "markdown",
            "metadata": {},
            "source": [
                "Nous pouvons l'utiliser en conjonction avec <code>except</code>. Voyons un nouvel exemple qui prendra en compte un utilisateur fournissant la mauvaise entr\u00e9e\u00a0:\n"
            ]
        },
        {
            "cell_type": "code",
            "execution_count": 6,
            "metadata": {
                "collapsed": true
            },
            "outputs": [],
            "source": [
                "def askint():\n",
                "    try:\n",
                "        val = int(input(\"Please enter an integer: \"))\n",
                "    except:\n",
                "        print(\"Looks like you did not enter an integer!\")\n",
                "\n",
                "    finally:\n",
                "        print(\"Finally, I executed!\")\n",
                "    print(val)"
            ]
        },
        {
            "cell_type": "code",
            "execution_count": 7,
            "metadata": {},
            "outputs": [
                {
                    "name": "stdout",
                    "output_type": "stream",
                    "text": [
                        "Please enter an integer: 5\n",
                        "Finally, I executed!\n",
                        "5\n"
                    ]
                }
            ],
            "source": [
                "askint()"
            ]
        },
        {
            "cell_type": "code",
            "execution_count": 8,
            "metadata": {},
            "outputs": [
                {
                    "name": "stdout",
                    "output_type": "stream",
                    "text": [
                        "Please enter an integer: five\n",
                        "Looks like you did not enter an integer!\n",
                        "Finally, I executed!\n"
                    ]
                },
                {
                    "ename": "UnboundLocalError",
                    "evalue": "local variable 'val' referenced before assignment",
                    "output_type": "error",
                    "traceback": [
                        "\u001b[1;31m---------------------------------------------------------------------------\u001b[0m",
                        "\u001b[1;31mUnboundLocalError\u001b[0m                         Traceback (most recent call last)",
                        "\u001b[1;32m<ipython-input-8-cc291aa76c10>\u001b[0m in \u001b[0;36m<module>\u001b[1;34m()\u001b[0m\n\u001b[1;32m----> 1\u001b[1;33m \u001b[0maskint\u001b[0m\u001b[1;33m(\u001b[0m\u001b[1;33m)\u001b[0m\u001b[1;33m\u001b[0m\u001b[0m\n\u001b[0m",
                        "\u001b[1;32m<ipython-input-6-c97dd1c75d24>\u001b[0m in \u001b[0;36maskint\u001b[1;34m()\u001b[0m\n\u001b[0;32m      7\u001b[0m     \u001b[1;32mfinally\u001b[0m\u001b[1;33m:\u001b[0m\u001b[1;33m\u001b[0m\u001b[0m\n\u001b[0;32m      8\u001b[0m         \u001b[0mprint\u001b[0m\u001b[1;33m(\u001b[0m\u001b[1;34m\"Finally, I executed!\"\u001b[0m\u001b[1;33m)\u001b[0m\u001b[1;33m\u001b[0m\u001b[0m\n\u001b[1;32m----> 9\u001b[1;33m     \u001b[0mprint\u001b[0m\u001b[1;33m(\u001b[0m\u001b[0mval\u001b[0m\u001b[1;33m)\u001b[0m\u001b[1;33m\u001b[0m\u001b[0m\n\u001b[0m",
                        "\u001b[1;31mUnboundLocalError\u001b[0m: local variable 'val' referenced before assignment"
                    ]
                }
            ],
            "source": [
                "askint()"
            ]
        },
        {
            "cell_type": "markdown",
            "metadata": {},
            "source": [
                "Remarquez comment nous avons eu une erreur en essayant d'imprimer val (parce qu'il n'a jamais \u00e9t\u00e9 correctement attribu\u00e9). Rem\u00e9dions \u00e0 cela en demandant \u00e0 l'utilisateur et en v\u00e9rifiant que le type d'entr\u00e9e est un entier\u00a0:\n"
            ]
        },
        {
            "cell_type": "code",
            "execution_count": 9,
            "metadata": {
                "collapsed": true
            },
            "outputs": [],
            "source": [
                "def askint():\n",
                "    try:\n",
                "        val = int(input(\"Please enter an integer: \"))\n",
                "    except:\n",
                "        print(\"Looks like you did not enter an integer!\")\n",
                "        val = int(input(\"Try again-Please enter an integer: \"))\n",
                "    finally:\n",
                "        print(\"Finally, I executed!\")\n",
                "    print(val)"
            ]
        },
        {
            "cell_type": "code",
            "execution_count": 10,
            "metadata": {},
            "outputs": [
                {
                    "name": "stdout",
                    "output_type": "stream",
                    "text": [
                        "Please enter an integer: five\n",
                        "Looks like you did not enter an integer!\n",
                        "Try again-Please enter an integer: four\n",
                        "Finally, I executed!\n"
                    ]
                },
                {
                    "ename": "ValueError",
                    "evalue": "invalid literal for int() with base 10: 'four'",
                    "output_type": "error",
                    "traceback": [
                        "\u001b[1;31m---------------------------------------------------------------------------\u001b[0m",
                        "\u001b[1;31mValueError\u001b[0m                                Traceback (most recent call last)",
                        "\u001b[1;32m<ipython-input-9-92b5f751eb01>\u001b[0m in \u001b[0;36maskint\u001b[1;34m()\u001b[0m\n\u001b[0;32m      2\u001b[0m     \u001b[1;32mtry\u001b[0m\u001b[1;33m:\u001b[0m\u001b[1;33m\u001b[0m\u001b[0m\n\u001b[1;32m----> 3\u001b[1;33m         \u001b[0mval\u001b[0m \u001b[1;33m=\u001b[0m \u001b[0mint\u001b[0m\u001b[1;33m(\u001b[0m\u001b[0minput\u001b[0m\u001b[1;33m(\u001b[0m\u001b[1;34m\"Please enter an integer: \"\u001b[0m\u001b[1;33m)\u001b[0m\u001b[1;33m)\u001b[0m\u001b[1;33m\u001b[0m\u001b[0m\n\u001b[0m\u001b[0;32m      4\u001b[0m     \u001b[1;32mexcept\u001b[0m\u001b[1;33m:\u001b[0m\u001b[1;33m\u001b[0m\u001b[0m\n",
                        "\u001b[1;31mValueError\u001b[0m: invalid literal for int() with base 10: 'five'",
                        "\nDuring handling of the above exception, another exception occurred:\n",
                        "\u001b[1;31mValueError\u001b[0m                                Traceback (most recent call last)",
                        "\u001b[1;32m<ipython-input-10-cc291aa76c10>\u001b[0m in \u001b[0;36m<module>\u001b[1;34m()\u001b[0m\n\u001b[1;32m----> 1\u001b[1;33m \u001b[0maskint\u001b[0m\u001b[1;33m(\u001b[0m\u001b[1;33m)\u001b[0m\u001b[1;33m\u001b[0m\u001b[0m\n\u001b[0m",
                        "\u001b[1;32m<ipython-input-9-92b5f751eb01>\u001b[0m in \u001b[0;36maskint\u001b[1;34m()\u001b[0m\n\u001b[0;32m      4\u001b[0m     \u001b[1;32mexcept\u001b[0m\u001b[1;33m:\u001b[0m\u001b[1;33m\u001b[0m\u001b[0m\n\u001b[0;32m      5\u001b[0m         \u001b[0mprint\u001b[0m\u001b[1;33m(\u001b[0m\u001b[1;34m\"Looks like you did not enter an integer!\"\u001b[0m\u001b[1;33m)\u001b[0m\u001b[1;33m\u001b[0m\u001b[0m\n\u001b[1;32m----> 6\u001b[1;33m         \u001b[0mval\u001b[0m \u001b[1;33m=\u001b[0m \u001b[0mint\u001b[0m\u001b[1;33m(\u001b[0m\u001b[0minput\u001b[0m\u001b[1;33m(\u001b[0m\u001b[1;34m\"Try again-Please enter an integer: \"\u001b[0m\u001b[1;33m)\u001b[0m\u001b[1;33m)\u001b[0m\u001b[1;33m\u001b[0m\u001b[0m\n\u001b[0m\u001b[0;32m      7\u001b[0m     \u001b[1;32mfinally\u001b[0m\u001b[1;33m:\u001b[0m\u001b[1;33m\u001b[0m\u001b[0m\n\u001b[0;32m      8\u001b[0m         \u001b[0mprint\u001b[0m\u001b[1;33m(\u001b[0m\u001b[1;34m\"Finally, I executed!\"\u001b[0m\u001b[1;33m)\u001b[0m\u001b[1;33m\u001b[0m\u001b[0m\n",
                        "\u001b[1;31mValueError\u001b[0m: invalid literal for int() with base 10: 'four'"
                    ]
                }
            ],
            "source": [
                "askint()"
            ]
        },
        {
            "cell_type": "markdown",
            "metadata": {},
            "source": [
                "Hmmm... qui n'a fait qu'une seule v\u00e9rification. Comment pouvons-nous continuellement continuer \u00e0 v\u00e9rifier? On peut utiliser une boucle while !\n"
            ]
        },
        {
            "cell_type": "code",
            "execution_count": 11,
            "metadata": {
                "collapsed": true
            },
            "outputs": [],
            "source": [
                "def askint():\n",
                "    while True:\n",
                "        try:\n",
                "            val = int(input(\"Please enter an integer: \"))\n",
                "        except:\n",
                "            print(\"Looks like you did not enter an integer!\")\n",
                "            continue\n",
                "        else:\n",
                "            print(\"Yep that's an integer!\")\n",
                "            break\n",
                "        finally:\n",
                "            print(\"Finally, I executed!\")\n",
                "        print(val)"
            ]
        },
        {
            "cell_type": "code",
            "execution_count": 12,
            "metadata": {},
            "outputs": [
                {
                    "name": "stdout",
                    "output_type": "stream",
                    "text": [
                        "Please enter an integer: five\n",
                        "Looks like you did not enter an integer!\n",
                        "Finally, I executed!\n",
                        "Please enter an integer: four\n",
                        "Looks like you did not enter an integer!\n",
                        "Finally, I executed!\n",
                        "Please enter an integer: 3\n",
                        "Yep that's an integer!\n",
                        "Finally, I executed!\n"
                    ]
                }
            ],
            "source": [
                "askint()"
            ]
        },
        {
            "cell_type": "markdown",
            "metadata": {},
            "source": [
                "Alors pourquoi notre fonction a-t-elle imprim\u00e9 \"Enfin, j'ai ex\u00e9cut\u00e9 !\" apr\u00e8s chaque essai, mais il n'a jamais imprim\u00e9 \"val\" lui-m\u00eame\u00a0? En effet, avec une clause try/except/finally, toutes les instructions <code>continue</code> ou <code>break</code> sont r\u00e9serv\u00e9es jusqu'\u00e0 *apr\u00e8s* que la clause try soit termin\u00e9e. Cela signifie que m\u00eame si une entr\u00e9e r\u00e9ussie de **3** nous a amen\u00e9s au bloc <code>else\u00a0:</code> et qu'une instruction <code>break</code> a \u00e9t\u00e9 \u00e9mise, la clause try a continu\u00e9 jusqu'\u00e0 < code>finally\u00a0:</code> avant de sortir de la boucle while. Et puisque <code>print(val)</code> \u00e9tait en dehors de la clause try, l'instruction <code>break</code> l'a emp\u00each\u00e9 de s'ex\u00e9cuter.\n",
                "\n",
                "Faisons un dernier r\u00e9glage\u00a0:\n"
            ]
        },
        {
            "cell_type": "code",
            "execution_count": 13,
            "metadata": {
                "collapsed": true
            },
            "outputs": [],
            "source": [
                "def askint():\n",
                "    while True:\n",
                "        try:\n",
                "            val = int(input(\"Please enter an integer: \"))\n",
                "        except:\n",
                "            print(\"Looks like you did not enter an integer!\")\n",
                "            continue\n",
                "        else:\n",
                "            print(\"Yep that's an integer!\")\n",
                "            print(val)\n",
                "            break\n",
                "        finally:\n",
                "            print(\"Finally, I executed!\")"
            ]
        },
        {
            "cell_type": "code",
            "execution_count": 14,
            "metadata": {},
            "outputs": [
                {
                    "name": "stdout",
                    "output_type": "stream",
                    "text": [
                        "Please enter an integer: six\n",
                        "Looks like you did not enter an integer!\n",
                        "Finally, I executed!\n",
                        "Please enter an integer: 6\n",
                        "Yep that's an integer!\n",
                        "6\n",
                        "Finally, I executed!\n"
                    ]
                }
            ],
            "source": [
                "askint()"
            ]
        },
        {
            "cell_type": "markdown",
            "metadata": {},
            "source": [
                "**Super! Vous savez maintenant comment g\u00e9rer les erreurs et les exceptions en Python avec la notation try, except, else et enfin !**\n"
            ]
        }
    ],
    "metadata": {
        "kernelspec": {
            "display_name": "Python 3",
            "language": "python",
            "name": "python3"
        },
        "language_info": {
            "codemirror_mode": {
                "name": "ipython",
                "version": 3
            },
            "file_extension": ".py",
            "mimetype": "text/x-python",
            "name": "python",
            "nbconvert_exporter": "python",
            "pygments_lexer": "ipython3",
            "version": "3.11.0 (main, Oct 24 2022, 18:26:48) [MSC v.1933 64 bit (AMD64)]"
        },
        "vscode": {
            "interpreter": {
                "hash": "9fedf123aa532497912d939029aac71791b23fba076af1a3c1eebd0e739bf47a"
            }
        }
    },
    "nbformat": 4,
    "nbformat_minor": 1
}