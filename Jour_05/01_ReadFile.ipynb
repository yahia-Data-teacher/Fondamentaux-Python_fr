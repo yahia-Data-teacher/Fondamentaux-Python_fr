{
    "cells": [
        {
            "cell_type": "markdown",
            "metadata": {
                "id": "view-in-github",
                "colab_type": "text"
            },
            "source": [
                "<a href=\"https://colab.research.google.com/github/yahia-kplr/Fondamentaux-Python_fr/blob/main/Jour_05/01_ReadFile.ipynb\" target=\"_blank\"><img src=\"https://colab.research.google.com/assets/colab-badge.svg\" alt=\"Open In Colab\"/></a>"
            ]
        },
        {
            "cell_type": "markdown",
            "metadata": {
                "id": "YggPuNPiVh8e"
            },
            "source": [
                "# Lecture de fichiers Python\n"
            ]
        },
        {
            "cell_type": "markdown",
            "metadata": {
                "id": "3zS3VeUbVh8k"
            },
            "source": [
                "## Cr\u00e9er un fichier de donn\u00e9es\n"
            ]
        },
        {
            "cell_type": "markdown",
            "metadata": {
                "id": "2Si8yPcXVh8l"
            },
            "source": [
                "**Cr\u00e9ez un fichier de donn\u00e9es nomm\u00e9 (Example1.txt) qui contient les lignes d'arbre suivantes**\n",
                "\n",
                "C'est la ligne 1\n",
                "\n",
                "C'est la ligne 2\n",
                "\n",
                "C'est la ligne 3\n"
            ]
        },
        {
            "cell_type": "markdown",
            "metadata": {
                "id": "bWaw21lbVh8l"
            },
            "source": [
                "<h>\n"
            ]
        },
        {
            "cell_type": "markdown",
            "metadata": {
                "id": "oa10zbX-Vh8m"
            },
            "source": [
                "<h2 id=\"read\">Lecture de fichiers texte</h2>\n"
            ]
        },
        {
            "cell_type": "markdown",
            "metadata": {
                "id": "iGAv47KUVh8m"
            },
            "source": [
                "Une fa\u00e7on de lire ou d'\u00e9crire un fichier en Python consiste \u00e0 utiliser la fonction int\u00e9gr\u00e9e\u00a0<code>open</code>\u00a0. La fonction <code>open</code> fournit un <b>objet File</b> qui contient les m\u00e9thodes et les attributs dont vous avez besoin pour lire, enregistrer et manipuler le fichier. Dans ce bloc-notes, nous ne couvrirons que les fichiers <b>.txt</b>. Le premier param\u00e8tre dont vous avez besoin est le chemin du fichier et le nom du fichier. Un exemple est illustr\u00e9 comme suit\u00a0:\n"
            ]
        },
        {
            "cell_type": "markdown",
            "metadata": {
                "id": "aO7wOe7XVh8n"
            },
            "source": [
                "<img src=\"https://s3-api.us-geo.objectstorage.softlayer.net/cf-courses-data/CognitiveClass/PY0101EN/Chapter%204/Images/ReadOpen.png\" width=\"500\" />\n"
            ]
        },
        {
            "cell_type": "markdown",
            "metadata": {
                "id": "m_zDz7N2Vh8o"
            },
            "source": [
                "L'argument mode est facultatif et la valeur par d\u00e9faut est <b>r</b>. Dans ce cahier, nous ne couvrons que deux modes\u00a0:\n",
                "<ul>\n",
                "<li><b>r</b> Mode lecture pour lire les fichiers </li>\n",
                "<li><b>w</b>\u00a0Mode d'\u00e9criture pour l'\u00e9criture de fichiers</li>\n",
                "</ul>\n"
            ]
        },
        {
            "cell_type": "markdown",
            "metadata": {
                "id": "l5lfdMoCVh8p"
            },
            "source": [
                "Pour l'exemple suivant, nous utiliserons le fichier texte <b>Example1.txt</b>.\n"
            ]
        },
        {
            "cell_type": "markdown",
            "metadata": {
                "id": "E2O3R_V4Vh8q"
            },
            "source": [
                "Nous lisons le fichier :\n"
            ]
        },
        {
            "cell_type": "code",
            "execution_count": null,
            "metadata": {
                "id": "JzWGmnpRVh8q"
            },
            "outputs": [],
            "source": [
                "# Read the Example1.txt\n",
                "#change the file path to the file path in your machine\n",
                "example1 = \"/resources/data/Example1.txt\"\n",
                "file1 = open(example1, \"r\")"
            ]
        },
        {
            "cell_type": "markdown",
            "metadata": {
                "id": "XDtGURydVh8r"
            },
            "source": [
                "Nous pouvons afficher les attributs du fichier.\n"
            ]
        },
        {
            "cell_type": "markdown",
            "metadata": {
                "id": "5sKCckKVVh8r"
            },
            "source": [
                "Le nom du fichier\u00a0:\n"
            ]
        },
        {
            "cell_type": "code",
            "execution_count": null,
            "metadata": {
                "id": "fwiF_KYhVh8s"
            },
            "outputs": [],
            "source": [
                "# Print the path of file\n",
                "\n",
                "file1.name"
            ]
        },
        {
            "cell_type": "markdown",
            "metadata": {
                "id": "bb8mX_CEVh8s"
            },
            "source": [
                "Le mode dans lequel se trouve l'objet fichier\u00a0:\n"
            ]
        },
        {
            "cell_type": "code",
            "execution_count": null,
            "metadata": {
                "id": "iiE45OTcVh8t"
            },
            "outputs": [],
            "source": [
                "# Print the mode of file, either 'r' or 'w'\n",
                "\n",
                "file1.mode"
            ]
        },
        {
            "cell_type": "markdown",
            "metadata": {
                "id": "fbS2zFNqVh8u"
            },
            "source": [
                "Nous pouvons lire le fichier et l'affecter \u00e0 une variable :\n"
            ]
        },
        {
            "cell_type": "code",
            "execution_count": null,
            "metadata": {
                "id": "ijoCTLDRVh8u"
            },
            "outputs": [],
            "source": [
                "# Read the file\n",
                "\n",
                "FileContent = file1.read()\n",
                "FileContent"
            ]
        },
        {
            "cell_type": "markdown",
            "metadata": {
                "id": "DLC8rcodVh8u"
            },
            "source": [
                "Le <b>/n</b> signifie qu'il y a une nouvelle ligne.\n"
            ]
        },
        {
            "cell_type": "markdown",
            "metadata": {
                "id": "u1vHMJGyVh8v"
            },
            "source": [
                "Nous pouvons imprimer le fichier :\n"
            ]
        },
        {
            "cell_type": "code",
            "execution_count": null,
            "metadata": {
                "id": "34MskFdMVh8w"
            },
            "outputs": [],
            "source": [
                "# Print the file with '\\n' as a new line\n",
                "\n",
                "print(FileContent)"
            ]
        },
        {
            "cell_type": "markdown",
            "metadata": {
                "id": "Y4AtCIbOVh8w"
            },
            "source": [
                "Le fichier est de type string\u00a0:\n"
            ]
        },
        {
            "cell_type": "code",
            "execution_count": null,
            "metadata": {
                "id": "Xi2lHHcSVh8x"
            },
            "outputs": [],
            "source": [
                "# Type of file content\n",
                "\n",
                "type(FileContent)"
            ]
        },
        {
            "cell_type": "markdown",
            "metadata": {
                "id": "toarDyjpVh8x"
            },
            "source": [
                "Il faut fermer l'objet fichier :\n"
            ]
        },
        {
            "cell_type": "code",
            "execution_count": null,
            "metadata": {
                "id": "hnPU7aCoVh8x"
            },
            "outputs": [],
            "source": [
                "# Close file after finish\n",
                "\n",
                "file1.close()"
            ]
        },
        {
            "cell_type": "markdown",
            "metadata": {
                "id": "aK5dYcKPVh8x"
            },
            "source": [
                "<h>\n"
            ]
        },
        {
            "cell_type": "markdown",
            "metadata": {
                "id": "qeVNIzuXVh8x"
            },
            "source": [
                "# Une meilleure fa\u00e7on d'ouvrir un fichier\n"
            ]
        },
        {
            "cell_type": "markdown",
            "metadata": {
                "id": "9eR8azDVVh8x"
            },
            "source": [
                "L'utilisation de l'instruction <code>with</code> est une meilleure pratique, elle ferme automatiquement le fichier m\u00eame si le code rencontre une exception. Le code ex\u00e9cutera tout dans le bloc d'indentation puis fermera l'objet fichier.\n"
            ]
        },
        {
            "cell_type": "code",
            "execution_count": null,
            "metadata": {
                "id": "h16Xme8WVh8y"
            },
            "outputs": [],
            "source": [
                "# Open file using with\n",
                "\n",
                "with open(example1, \"r\") as file1:\n",
                "    FileContent = file1.read()\n",
                "    print(FileContent)"
            ]
        },
        {
            "cell_type": "markdown",
            "metadata": {
                "id": "VTtE4GAcVh8z"
            },
            "source": [
                "L'objet fichier est ferm\u00e9, vous pouvez le v\u00e9rifier en ex\u00e9cutant la cellule suivante\u00a0:\n"
            ]
        },
        {
            "cell_type": "code",
            "execution_count": null,
            "metadata": {
                "id": "3FcOXM7lVh8z"
            },
            "outputs": [],
            "source": [
                "# Verify if the file is closed\n",
                "\n",
                "file1.closed"
            ]
        },
        {
            "cell_type": "markdown",
            "metadata": {
                "id": "_TxjXb4DVh80"
            },
            "source": [
                "Nous pouvons voir les informations dans le fichier:\n"
            ]
        },
        {
            "cell_type": "code",
            "execution_count": null,
            "metadata": {
                "id": "DFyw0QhuVh81"
            },
            "outputs": [],
            "source": [
                "# See the content of file\n",
                "\n",
                "print(FileContent)"
            ]
        },
        {
            "cell_type": "markdown",
            "metadata": {
                "id": "71UOYfOFVh82"
            },
            "source": [
                "La syntaxe est un peu d\u00e9routante car l'objet file se trouve apr\u00e8s l'instruction <code>as</code>. Nous ne fermons pas non plus explicitement le fichier. Nous r\u00e9sumons donc les \u00e9tapes dans une figure :\n"
            ]
        },
        {
            "cell_type": "markdown",
            "metadata": {
                "id": "CkIr7IWGVh83"
            },
            "source": [
                "<img src=\"https://s3-api.us-geo.objectstorage.softlayer.net/cf-courses-data/CognitiveClass/PY0101EN/Chapter%204/Images/ReadWith.png\" width=\"500\" />\n"
            ]
        },
        {
            "cell_type": "markdown",
            "metadata": {
                "id": "ZPKSntvIVh83"
            },
            "source": [
                "Nous n'avons pas \u00e0 lire l'int\u00e9gralit\u00e9 du fichier, par exemple, nous pouvons lire les 4 premiers caract\u00e8res en entrant trois en param\u00e8tre de la m\u00e9thode **.read()**\u00a0:\n"
            ]
        },
        {
            "cell_type": "code",
            "execution_count": null,
            "metadata": {
                "id": "1ivYck8UVh84"
            },
            "outputs": [],
            "source": [
                "# Read first four characters\n",
                "\n",
                "with open(example1, \"r\") as file1:\n",
                "    print(file1.read(4))"
            ]
        },
        {
            "cell_type": "markdown",
            "metadata": {
                "id": "G0nKW-s7Vh85"
            },
            "source": [
                "Une fois que la m\u00e9thode <code>.read(4)</code> est appel\u00e9e, les 4 premiers caract\u00e8res sont appel\u00e9s. Si nous appelons \u00e0 nouveau la m\u00e9thode, les 4 caract\u00e8res suivants sont appel\u00e9s. La sortie de la cellule suivante illustrera le processus pour diff\u00e9rentes entr\u00e9es de la m\u00e9thode <code>read()</code>\u00a0:\n"
            ]
        },
        {
            "cell_type": "code",
            "execution_count": null,
            "metadata": {
                "id": "BIJkTPVgVh85"
            },
            "outputs": [],
            "source": [
                "# Read certain amount of characters\n",
                "\n",
                "with open(example1, \"r\") as file1:\n",
                "    print(file1.read(4))\n",
                "    print(file1.read(4))\n",
                "    print(file1.read(7))\n",
                "    print(file1.read(15))"
            ]
        },
        {
            "cell_type": "markdown",
            "metadata": {
                "id": "pcxdSp-7Vh86"
            },
            "source": [
                "Le processus est illustr\u00e9 dans la figure ci-dessous, et chaque couleur repr\u00e9sente la partie du fichier lue apr\u00e8s l'appel de la m\u00e9thode <code>read()</code>\u00a0:\n"
            ]
        },
        {
            "cell_type": "markdown",
            "metadata": {
                "id": "XW16khCNVh86"
            },
            "source": [
                "<img src=\"https://s3-api.us-geo.objectstorage.softlayer.net/cf-courses-data/CognitiveClass/PY0101EN/Chapter%204/Images/ReadChar.png\" width=\"500\" />\n"
            ]
        },
        {
            "cell_type": "markdown",
            "metadata": {
                "id": "9L-0cGIGVh87"
            },
            "source": [
                "Voici un exemple utilisant le m\u00eame fichier, mais \u00e0 la place, nous lisons 16, 5, puis 9 caract\u00e8res \u00e0 la fois :\n"
            ]
        },
        {
            "cell_type": "code",
            "execution_count": null,
            "metadata": {
                "id": "ZODFMQT3Vh87"
            },
            "outputs": [],
            "source": [
                "# Read certain amount of characters\n",
                "\n",
                "with open(example1, \"r\") as file1:\n",
                "    print(file1.read(16))\n",
                "    print(file1.read(5))\n",
                "    print(file1.read(9))"
            ]
        },
        {
            "cell_type": "markdown",
            "metadata": {
                "id": "K3VDmD2vVh87"
            },
            "source": [
                "Nous pouvons \u00e9galement lire une ligne du fichier \u00e0 la fois en utilisant la m\u00e9thode <code>readline()</code>\u00a0:\n"
            ]
        },
        {
            "cell_type": "code",
            "execution_count": null,
            "metadata": {
                "id": "Nd0y7EMdVh87"
            },
            "outputs": [],
            "source": [
                "# Read one line\n",
                "\n",
                "with open(example1, \"r\") as file1:\n",
                "    print(\"first line: \" + file1.readline())"
            ]
        },
        {
            "cell_type": "markdown",
            "metadata": {
                "id": "PeqJLpbeVh87"
            },
            "source": [
                "Nous pouvons utiliser une boucle pour parcourir chaque ligne\u00a0:\n"
            ]
        },
        {
            "cell_type": "code",
            "execution_count": null,
            "metadata": {
                "id": "Xut20FpEVh88"
            },
            "outputs": [],
            "source": [
                "# Iterate through the lines\n",
                "\n",
                "with open(example1,\"r\") as file1:\n",
                "        i = 0;\n",
                "        for line in file1:\n",
                "            print(\"Iteration\", str(i), \": \", line)\n",
                "            i = i + 1;"
            ]
        },
        {
            "cell_type": "markdown",
            "metadata": {
                "id": "PvZ-uZA0Vh88"
            },
            "source": [
                "Nous pouvons utiliser la m\u00e9thode <code>readlines()</code> pour enregistrer le fichier texte dans une liste\u00a0:\n"
            ]
        },
        {
            "cell_type": "code",
            "execution_count": null,
            "metadata": {
                "id": "u6F5GveIVh89"
            },
            "outputs": [],
            "source": [
                "# Read all lines and save as a list\n",
                "\n",
                "with open(example1, \"r\") as file1:\n",
                "    FileasList = file1.readlines()"
            ]
        },
        {
            "cell_type": "markdown",
            "metadata": {
                "id": "8PhTewnEVh89"
            },
            "source": [
                "Chaque \u00e9l\u00e9ment de la liste correspond \u00e0 une ligne de texte :\n"
            ]
        },
        {
            "cell_type": "code",
            "execution_count": null,
            "metadata": {
                "id": "UDUaTVT0Vh89"
            },
            "outputs": [],
            "source": [
                "# Print the first line\n",
                "\n",
                "FileasList[0]"
            ]
        },
        {
            "cell_type": "code",
            "execution_count": null,
            "metadata": {
                "id": "Fg_xXgs0Vh8-"
            },
            "outputs": [],
            "source": [
                "# Print the second line\n",
                "\n",
                "FileasList[1]"
            ]
        },
        {
            "cell_type": "code",
            "execution_count": null,
            "metadata": {
                "id": "HK2rwX_fVh8-"
            },
            "outputs": [],
            "source": [
                "# Print the third line\n",
                "\n",
                "FileasList[2]"
            ]
        }
    ],
    "metadata": {
        "kernelspec": {
            "display_name": "Python 3",
            "language": "python",
            "name": "python3"
        },
        "language_info": {
            "codemirror_mode": {
                "name": "ipython",
                "version": 3
            },
            "file_extension": ".py",
            "mimetype": "text/x-python",
            "name": "python",
            "nbconvert_exporter": "python",
            "pygments_lexer": "ipython3",
            "version": "3.11.0"
        },
        "vscode": {
            "interpreter": {
                "hash": "9fedf123aa532497912d939029aac71791b23fba076af1a3c1eebd0e739bf47a"
            }
        }
    },
    "nbformat": 4,
    "nbformat_minor": 0
}