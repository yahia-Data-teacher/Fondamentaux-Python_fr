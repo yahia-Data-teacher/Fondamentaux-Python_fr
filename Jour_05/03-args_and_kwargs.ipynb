{
    "cells": [
        {
            "cell_type": "markdown",
            "metadata": {
                "id": "view-in-github",
                "colab_type": "text"
            },
            "source": [
                "<a href=\"https://colab.research.google.com/github/yahia-kplr/Fondamentaux-Python_fr/blob/main/Jour_05/03-args_and_kwargs.ipynb\" target=\"_blank\"><img src=\"https://colab.research.google.com/assets/colab-badge.svg\" alt=\"Open In Colab\"/></a>"
            ]
        },
        {
            "cell_type": "markdown",
            "id": "2b3a537c",
            "metadata": {},
            "source": [
                "# Fonctions Python `*args` et `**kwargs` / BON \u00c0 SAVOIR\n",
                "\n"
            ]
        },
        {
            "cell_type": "markdown",
            "id": "cf2077d3",
            "metadata": {},
            "source": [
                "### Consid\u00e9rez le probl\u00e8me suivant\n",
                "\n",
                "Cr\u00e9ez une fonction qui renvoie 10\u00a0% de la somme des arguments.\n",
                "\n",
                "``` Python\n",
                "def dix_pourcent(a, b):\n",
                "retour somme([a, b])*0.1\n",
                "```\n"
            ]
        },
        {
            "cell_type": "code",
            "execution_count": 3,
            "id": "a1129008",
            "metadata": {},
            "outputs": [],
            "source": [
                "def ten_percent(a, b, c):\n",
                "    return sum([a, b, c])*0.1"
            ]
        },
        {
            "cell_type": "code",
            "execution_count": 5,
            "id": "71f17ea3",
            "metadata": {},
            "outputs": [
                {
                    "data": {
                        "text/plain": [
                            "21.0"
                        ]
                    },
                    "execution_count": 5,
                    "metadata": {},
                    "output_type": "execute_result"
                }
            ],
            "source": [
                "ten_percent(100, 100, 10)"
            ]
        },
        {
            "cell_type": "code",
            "execution_count": null,
            "id": "dc9d3aff",
            "metadata": {},
            "outputs": [],
            "source": []
        },
        {
            "cell_type": "markdown",
            "id": "97699ce1",
            "metadata": {},
            "source": [
                "### Utilisation de `*args`\n",
                "\n",
                "Si un param\u00e8tre de fonction commence par un ast\u00e9risque `*`\n",
                "- il permet un nombre arbitraire d'arguments\n",
                "- la fonction les prend comme un tuple de valeurs\n",
                "- il est standard d'utiliser `*args`, mais n'importe quel nom peut \u00eatre utilis\u00e9\n",
                "\n",
                "``` Python\n",
                "def ten_percent(*args):\n",
                "retour somme(args)*0.1\n",
                "```\n"
            ]
        },
        {
            "cell_type": "code",
            "execution_count": 9,
            "id": "c30ec42d",
            "metadata": {},
            "outputs": [],
            "source": [
                "def ten_percent(*args):\n",
                "    print(len(args))\n",
                "    print(args[0])\n",
                "    return sum(args)*0.1"
            ]
        },
        {
            "cell_type": "code",
            "execution_count": 11,
            "id": "f1c05a44",
            "metadata": {},
            "outputs": [
                {
                    "name": "stdout",
                    "output_type": "stream",
                    "text": [
                        "10\n",
                        "0\n"
                    ]
                },
                {
                    "data": {
                        "text/plain": [
                            "4.5"
                        ]
                    },
                    "execution_count": 11,
                    "metadata": {},
                    "output_type": "execute_result"
                }
            ],
            "source": [
                "ten_percent(0, 1, 2, 3, 4, 5, 6, 7, 8, 9)"
            ]
        },
        {
            "cell_type": "code",
            "execution_count": null,
            "id": "47ee0be3",
            "metadata": {},
            "outputs": [],
            "source": []
        },
        {
            "cell_type": "code",
            "execution_count": null,
            "id": "53e002ba",
            "metadata": {},
            "outputs": [],
            "source": []
        },
        {
            "cell_type": "markdown",
            "id": "ea62f174",
            "metadata": {},
            "source": [
                "### Utilisation de `**kwargs`\n",
                "\n",
                "Une fonction peut \u00e9galement prendre un nombre arbitraire d'arguments avec mots cl\u00e9s.\n",
                "* Au lieu de cr\u00e9er un tuple de valeurs, `**kwargs` construit un dictionnaire de paires cl\u00e9/valeur.\n",
                "\n",
                "``` Python\n",
                "def my_func(**kwargs):\n",
                "pour la cl\u00e9, valeur dans kwargs.items()\u00a0:\n",
                "print(cl\u00e9, valeur)\n",
                "```\n"
            ]
        },
        {
            "cell_type": "code",
            "execution_count": 12,
            "id": "95e87fa4",
            "metadata": {},
            "outputs": [],
            "source": [
                "def my_func(**kwargs):\n",
                "    for key, value in kwargs.items():\n",
                "        print(key, value)"
            ]
        },
        {
            "cell_type": "code",
            "execution_count": 13,
            "id": "218578f8",
            "metadata": {},
            "outputs": [
                {
                    "name": "stdout",
                    "output_type": "stream",
                    "text": [
                        "name Charles\n",
                        "age 38\n",
                        "height 1.83\n"
                    ]
                }
            ],
            "source": [
                "my_func(name='Charles', age=38, height=1.83)"
            ]
        },
        {
            "cell_type": "code",
            "execution_count": null,
            "id": "d324a495",
            "metadata": {},
            "outputs": [],
            "source": []
        },
        {
            "cell_type": "code",
            "execution_count": null,
            "id": "0d108426",
            "metadata": {},
            "outputs": [],
            "source": []
        },
        {
            "cell_type": "markdown",
            "id": "1b321b91",
            "metadata": {},
            "source": [
                "### Combinaison de `*args` et `**kwargs`\n",
                "\n",
                "Vous pouvez avoir les deux.\n",
                "\n",
                "``` Python\n",
                "def my_func(*args, **kwargs):\n",
                "pour l'\u00e9l\u00e9ment dans args\u00a0:\n",
                "imprimer (article)\n",
                "pour la cl\u00e9, valeur dans kwargs.items()\u00a0:\n",
                "print(cl\u00e9, valeur)\n",
                "```\n"
            ]
        },
        {
            "cell_type": "code",
            "execution_count": 14,
            "id": "27ece69a",
            "metadata": {},
            "outputs": [],
            "source": [
                "def my_func(*args, **kwargs):\n",
                "    for item in args:\n",
                "        print(item)\n",
                "    for key, value in kwargs.items():\n",
                "        print(key, value)"
            ]
        },
        {
            "cell_type": "code",
            "execution_count": 15,
            "id": "b9b23219",
            "metadata": {},
            "outputs": [
                {
                    "name": "stdout",
                    "output_type": "stream",
                    "text": [
                        "1\n",
                        "2\n",
                        "3\n",
                        "4\n",
                        "name Sebastian\n",
                        "age 16\n"
                    ]
                }
            ],
            "source": [
                "my_func(1, 2, 3, 4, name='Sebastian', age=16)"
            ]
        },
        {
            "cell_type": "code",
            "execution_count": null,
            "id": "0c3491ea",
            "metadata": {},
            "outputs": [],
            "source": []
        }
    ],
    "metadata": {
        "kernelspec": {
            "display_name": "Python 3 (ipykernel)",
            "language": "python",
            "name": "python3"
        },
        "language_info": {
            "codemirror_mode": {
                "name": "ipython",
                "version": 3
            },
            "file_extension": ".py",
            "mimetype": "text/x-python",
            "name": "python",
            "nbconvert_exporter": "python",
            "pygments_lexer": "ipython3",
            "version": "3.9.13"
        }
    },
    "nbformat": 4,
    "nbformat_minor": 5
}