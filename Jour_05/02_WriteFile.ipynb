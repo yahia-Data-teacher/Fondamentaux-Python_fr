{
    "cells": [
        {
            "cell_type": "markdown",
            "metadata": {
                "id": "view-in-github",
                "colab_type": "text"
            },
            "source": [
                "<a href=\"https://colab.research.google.com/github/yahia-kplr/Fondamentaux-Python_fr/blob/main/Jour_05/02_WriteFile.ipynb\" target=\"_blank\"><img src=\"https://colab.research.google.com/assets/colab-badge.svg\" alt=\"Open In Colab\"/></a>"
            ]
        },
        {
            "cell_type": "markdown",
            "metadata": {
                "id": "bMN6582_8MmH"
            },
            "source": [
                "<h1>\u00c9crire et enregistrer des fichiers en Python</h1>\n"
            ]
        },
        {
            "cell_type": "markdown",
            "metadata": {
                "id": "wtJgxUbW8MmM"
            },
            "source": [
                "## \u00c9crire des fichiers\n"
            ]
        },
        {
            "cell_type": "markdown",
            "metadata": {
                "id": "JMv9E9Ag8MmN"
            },
            "source": [
                "Nous pouvons ouvrir un objet fichier en utilisant la m\u00e9thode <code>write()</code> pour enregistrer le fichier texte dans une liste. Pour \u00e9crire le mode, l'argument doit \u00eatre d\u00e9fini pour \u00e9crire <b>w</b>. \u00c9crivons un fichier <b>Example2.txt</b> avec la ligne\u00a0: <b>\"This is line A\"</b>\n"
            ]
        },
        {
            "cell_type": "code",
            "execution_count": null,
            "metadata": {
                "id": "U5ot1LhY8MmO"
            },
            "outputs": [],
            "source": [
                "# Write line to file\n",
                "\n",
                "with open('/resources/data/Example2.txt', 'w') as writefile:\n",
                "    writefile.write(\"This is line A\")"
            ]
        },
        {
            "cell_type": "markdown",
            "metadata": {
                "id": "QaXR1I2h8MmP"
            },
            "source": [
                "Nous pouvons lire le fichier pour voir si cela a fonctionn\u00e9\u00a0:\n"
            ]
        },
        {
            "cell_type": "code",
            "execution_count": null,
            "metadata": {
                "id": "34o1-qIR8MmP"
            },
            "outputs": [],
            "source": [
                "# Read file\n",
                "\n",
                "with open('/resources/data/Example2.txt', 'r') as testwritefile:\n",
                "    print(testwritefile.read())"
            ]
        },
        {
            "cell_type": "markdown",
            "metadata": {
                "id": "nIgvcMdX8MmQ"
            },
            "source": [
                "Nous pouvons \u00e9crire plusieurs lignes :\n"
            ]
        },
        {
            "cell_type": "code",
            "execution_count": null,
            "metadata": {
                "id": "DObpNchh8MmR"
            },
            "outputs": [],
            "source": [
                "# Write lines to file\n",
                "\n",
                "with open('/resources/data/Example2.txt', 'w') as writefile:\n",
                "    writefile.write(\"This is line A\\n\")\n",
                "    writefile.write(\"This is line B\\n\")"
            ]
        },
        {
            "cell_type": "markdown",
            "metadata": {
                "id": "JsKxL-I-8MmS"
            },
            "source": [
                "La m\u00e9thode <code>.write()</code> fonctionne de mani\u00e8re similaire \u00e0 la m\u00e9thode <code>.readline()</code>, sauf qu'au lieu de lire une nouvelle ligne, elle \u00e9crit une nouvelle ligne. Le processus est illustr\u00e9 sur la figure , le codage couleur diff\u00e9rent de la grille repr\u00e9sente une nouvelle ligne ajout\u00e9e au fichier apr\u00e8s chaque appel de m\u00e9thode.\n"
            ]
        },
        {
            "cell_type": "markdown",
            "metadata": {
                "id": "gyB3otbs8MmS"
            },
            "source": [
                "<img src=\"https://s3-api.us-geo.objectstorage.softlayer.net/cf-courses-data/CognitiveClass/PY0101EN/Chapter%204/Images/WriteLine.png\" width=\"500\" />\n"
            ]
        },
        {
            "cell_type": "markdown",
            "metadata": {
                "id": "QkCQ6yDZ8MmS"
            },
            "source": [
                "Vous pouvez v\u00e9rifier le fichier pour voir si vos r\u00e9sultats sont corrects\n"
            ]
        },
        {
            "cell_type": "code",
            "execution_count": null,
            "metadata": {
                "id": "8LyC6_wV8MmT"
            },
            "outputs": [],
            "source": [
                "# Check whether write to file\n",
                "\n",
                "with open('/resources/data/Example2.txt', 'r') as testwritefile:\n",
                "    print(testwritefile.read())"
            ]
        },
        {
            "cell_type": "markdown",
            "metadata": {
                "id": "JzabgXyR8MmT"
            },
            "source": [
                "En d\u00e9finissant l'argument mode sur append **a**, vous pouvez ajouter une nouvelle ligne comme suit\u00a0:\n"
            ]
        },
        {
            "cell_type": "code",
            "execution_count": null,
            "metadata": {
                "id": "McJUsPwE8MmT"
            },
            "outputs": [],
            "source": [
                "# Write a new line to text file\n",
                "\n",
                "with open('/resources/data/Example2.txt', 'a') as testwritefile:\n",
                "    testwritefile.write(\"This is line C\\n\")"
            ]
        },
        {
            "cell_type": "markdown",
            "metadata": {
                "id": "s-nuASd-8MmU"
            },
            "source": [
                "Vous pouvez v\u00e9rifier que le fichier a \u00e9t\u00e9 modifi\u00e9 en ex\u00e9cutant la cellule suivante\u00a0:\n"
            ]
        },
        {
            "cell_type": "code",
            "execution_count": null,
            "metadata": {
                "id": "j_SzDM728MmU"
            },
            "outputs": [],
            "source": [
                "# Verify if the new line is in the text file\n",
                "\n",
                "with open('/resources/data/Example2.txt', 'r') as testwritefile:\n",
                "    print(testwritefile.read())"
            ]
        },
        {
            "cell_type": "markdown",
            "metadata": {
                "id": "CRwuPKtv8MmV"
            },
            "source": [
                "Nous \u00e9crivons une liste dans un fichier <b>.txt</b> comme suit\u00a0:\n"
            ]
        },
        {
            "cell_type": "code",
            "execution_count": null,
            "metadata": {
                "id": "Koc4yIRP8MmW"
            },
            "outputs": [],
            "source": [
                "# Sample list of text\n",
                "\n",
                "Lines = [\"This is line A\\n\", \"This is line B\\n\", \"This is line C\\n\"]\n",
                "Lines"
            ]
        },
        {
            "cell_type": "code",
            "execution_count": null,
            "metadata": {
                "id": "vYnuJJEk8MmX"
            },
            "outputs": [],
            "source": [
                "# Write the strings in the list to text file\n",
                "\n",
                "with open('Example2.txt', 'w') as writefile:\n",
                "    for line in Lines:\n",
                "        print(line)\n",
                "        writefile.write(line)"
            ]
        },
        {
            "cell_type": "markdown",
            "metadata": {
                "id": "zb20w2Zy8MmX"
            },
            "source": [
                "Nous pouvons v\u00e9rifier que le fichier est \u00e9crit en le lisant et en imprimant les valeurs\u00a0:\n"
            ]
        },
        {
            "cell_type": "code",
            "execution_count": null,
            "metadata": {
                "id": "px90Aelg8MmY"
            },
            "outputs": [],
            "source": [
                "# Verify if writing to file is successfully executed\n",
                "\n",
                "with open('Example2.txt', 'r') as testwritefile:\n",
                "    print(testwritefile.read())"
            ]
        },
        {
            "cell_type": "markdown",
            "metadata": {
                "id": "db_QmYVI8MmY"
            },
            "source": [
                "Nous pouvons \u00e0 nouveau ajouter au fichier en modifiant le deuxi\u00e8me param\u00e8tre en <b>a</b>. Cela ajoute le code\u00a0:\n"
            ]
        },
        {
            "cell_type": "code",
            "execution_count": null,
            "metadata": {
                "id": "VPpUtMAi8MmY"
            },
            "outputs": [],
            "source": [
                "# Append the line to the file\n",
                "\n",
                "with open('Example2.txt', 'a') as testwritefile:\n",
                "    testwritefile.write(\"This is line D\\n\")"
            ]
        },
        {
            "cell_type": "markdown",
            "metadata": {
                "id": "gcphqiQI8MmY"
            },
            "source": [
                "Nous pouvons voir les r\u00e9sultats de l'ajout du fichier\u00a0:\n"
            ]
        },
        {
            "cell_type": "code",
            "execution_count": null,
            "metadata": {
                "id": "sZhBKIbf8MmY"
            },
            "outputs": [],
            "source": [
                "# Verify if the appending is successfully executed\n",
                "\n",
                "with open('Example2.txt', 'r') as testwritefile:\n",
                "    print(testwritefile.read())"
            ]
        },
        {
            "cell_type": "markdown",
            "metadata": {
                "id": "E_9H3b018Mma"
            },
            "source": [
                "<h>\n"
            ]
        },
        {
            "cell_type": "markdown",
            "metadata": {
                "id": "cHMMx9Jd8Mma"
            },
            "source": [
                "##Copier un fichier\n"
            ]
        },
        {
            "cell_type": "markdown",
            "metadata": {
                "id": "ZzsaEud08Mma"
            },
            "source": [
                "Copions le fichier <b>Example2.txt</b> dans le fichier <b>Example3.txt</b>\u00a0:\n"
            ]
        },
        {
            "cell_type": "code",
            "execution_count": null,
            "metadata": {
                "id": "txBct6BA8Mmb"
            },
            "outputs": [],
            "source": [
                "# Copy file to another\n",
                "\n",
                "with open('Example2.txt','r') as readfile:\n",
                "    with open('Example3.txt','w') as writefile:\n",
                "          for line in readfile:\n",
                "                writefile.write(line)"
            ]
        },
        {
            "cell_type": "markdown",
            "metadata": {
                "id": "1eVtX2i08Mmb"
            },
            "source": [
                "Nous pouvons lire le fichier pour voir si tout fonctionne :\n"
            ]
        },
        {
            "cell_type": "code",
            "execution_count": null,
            "metadata": {
                "id": "jXwgFryj8Mmc"
            },
            "outputs": [],
            "source": [
                "# Verify if the copy is successfully executed\n",
                "\n",
                "with open('Example3.txt','r') as testwritefile:\n",
                "    print(testwritefile.read())"
            ]
        },
        {
            "cell_type": "markdown",
            "metadata": {
                "id": "xO1gqtrq8Mmc"
            },
            "source": [
                "Apr\u00e8s avoir lu les fichiers, nous pouvons \u00e9galement \u00e9crire des donn\u00e9es dans des fichiers et les enregistrer dans diff\u00e9rents formats de fichiers tels que **.txt, .csv, .xls (pour les fichiers Excel), etc.**. Jetons un coup d'\u0153il \u00e0 quelques exemples.\n"
            ]
        },
        {
            "cell_type": "markdown",
            "metadata": {
                "id": "pzAO77Px8Mmd"
            },
            "source": [
                "Allez maintenant dans le r\u00e9pertoire pour vous assurer que le fichier <b>.txt</b> existe et contient les donn\u00e9es r\u00e9capitulatives que nous avons \u00e9crites.\n"
            ]
        }
    ],
    "metadata": {
        "kernelspec": {
            "display_name": "Python 3",
            "language": "python",
            "name": "python3"
        },
        "language_info": {
            "codemirror_mode": {
                "name": "ipython",
                "version": 3
            },
            "file_extension": ".py",
            "mimetype": "text/x-python",
            "name": "python",
            "nbconvert_exporter": "python",
            "pygments_lexer": "ipython3",
            "version": "3.7.4"
        }
    },
    "nbformat": 4,
    "nbformat_minor": 0
}