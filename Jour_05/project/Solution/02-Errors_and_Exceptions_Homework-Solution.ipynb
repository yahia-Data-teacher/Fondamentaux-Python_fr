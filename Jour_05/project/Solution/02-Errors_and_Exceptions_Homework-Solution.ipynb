{
    "cells": [
        {
            "cell_type": "markdown",
            "metadata": {
                "id": "view-in-github",
                "colab_type": "text"
            },
            "source": [
                "<a href=\"https://colab.research.google.com/github/yahia-kplr/Fondamentaux-Python_fr/blob/main/Jour_05/project/Solution/02-Errors_and_Exceptions_Homework-Solution.ipynb\" target=\"_blank\"><img src=\"https://colab.research.google.com/assets/colab-badge.svg\" alt=\"Open In Colab\"/></a>"
            ]
        },
        {
            "cell_type": "markdown",
            "metadata": {},
            "source": [
                "# Devoirs d'erreurs et d'exceptions - Solution\n"
            ]
        },
        {
            "cell_type": "markdown",
            "metadata": {},
            "source": [
                "### Probl\u00e8me 1\n",
                "G\u00e9rez l'exception lev\u00e9e par le code ci-dessous en utilisant les blocs <code>try</code> et <code>except</code>.\n"
            ]
        },
        {
            "cell_type": "code",
            "execution_count": 1,
            "metadata": {},
            "outputs": [
                {
                    "name": "stdout",
                    "output_type": "stream",
                    "text": [
                        "An error occurred!\n"
                    ]
                }
            ],
            "source": [
                "try:\n",
                "    for i in ['a','b','c']:\n",
                "        print(i**2)\n",
                "except:\n",
                "    print(\"An error occurred!\")"
            ]
        },
        {
            "cell_type": "markdown",
            "metadata": {},
            "source": [
                "### Probl\u00e8me 2\n",
                "G\u00e9rez l'exception lev\u00e9e par le code ci-dessous en utilisant les blocs <code>try</code> et <code>except</code>. Utilisez ensuite un bloc <code>finally</code> pour imprimer \"Tout est termin\u00e9\".\n"
            ]
        },
        {
            "cell_type": "code",
            "execution_count": 2,
            "metadata": {},
            "outputs": [
                {
                    "name": "stdout",
                    "output_type": "stream",
                    "text": [
                        "Can't divide by Zero!\n",
                        "All Done!\n"
                    ]
                }
            ],
            "source": [
                "x = 5\n",
                "y = 0\n",
                "try:\n",
                "    z = x/y\n",
                "except ZeroDivisionError:\n",
                "    print(\"Can't divide by Zero!\")\n",
                "finally:\n",
                "    print('All Done!')"
            ]
        },
        {
            "cell_type": "markdown",
            "metadata": {},
            "source": [
                "### Probl\u00e8me 3\n",
                "\u00c9crivez une fonction qui demande un nombre entier et en imprime le carr\u00e9. Utilisez une boucle <code>while</code> avec un bloc <code>try</code>, <code>except</code>, <code>else</code> pour tenir compte des entr\u00e9es incorrectes.\n"
            ]
        },
        {
            "cell_type": "code",
            "execution_count": 3,
            "metadata": {
                "collapsed": true
            },
            "outputs": [],
            "source": [
                "def ask():\n",
                "    \n",
                "    while True:\n",
                "        try:\n",
                "            n = int(input('Input an integer: '))\n",
                "        except:\n",
                "            print('An error occurred! Please try again!')\n",
                "            continue\n",
                "        else:\n",
                "            break\n",
                "            \n",
                "        \n",
                "    print('Thank you, your number squared is: ',n**2)"
            ]
        },
        {
            "cell_type": "code",
            "execution_count": 4,
            "metadata": {},
            "outputs": [
                {
                    "name": "stdout",
                    "output_type": "stream",
                    "text": [
                        "Input an integer: null\n",
                        "An error occurred! Please try again!\n",
                        "Input an integer: 2\n",
                        "Thank you, your number squared is:  4\n"
                    ]
                }
            ],
            "source": [
                "ask()"
            ]
        }
    ],
    "metadata": {
        "kernelspec": {
            "display_name": "Python 3",
            "language": "python",
            "name": "python3"
        },
        "language_info": {
            "codemirror_mode": {
                "name": "ipython",
                "version": 3
            },
            "file_extension": ".py",
            "mimetype": "text/x-python",
            "name": "python",
            "nbconvert_exporter": "python",
            "pygments_lexer": "ipython3",
            "version": "3.11.0"
        },
        "vscode": {
            "interpreter": {
                "hash": "9fedf123aa532497912d939029aac71791b23fba076af1a3c1eebd0e739bf47a"
            }
        }
    },
    "nbformat": 4,
    "nbformat_minor": 1
}