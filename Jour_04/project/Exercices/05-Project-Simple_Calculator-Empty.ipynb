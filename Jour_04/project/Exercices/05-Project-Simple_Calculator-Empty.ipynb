{
    "cells": [
        {
            "cell_type": "markdown",
            "metadata": {
                "id": "view-in-github",
                "colab_type": "text"
            },
            "source": [
                "<a href=\"https://colab.research.google.com/github/yahia-kplr/Fondamentaux-Python_fr/blob/main/Jour_04/project/Exercices/05-Project-Simple_Calculator-Empty.ipynb\" target=\"_blank\"><img src=\"https://colab.research.google.com/assets/colab-badge.svg\" alt=\"Open In Colab\"/></a>"
            ]
        },
        {
            "cell_type": "markdown",
            "id": "e4f89401",
            "metadata": {},
            "source": [
                "# Project - Simple Calculator\n",
                "\n",
                "In this projects you will create a simple calculator.\n",
                "\n",
                "The calculator will take input from the user and create the calculation.\n",
                "\n",
                "It will only accept postive integer input with one operator. \n",
                "\n",
                "Examples valid input.\n",
                "- `1+4`\n",
                "- `6*10`\n",
                "- `100-90`\n",
                "- `1000/50`\n",
                "\n",
                "Examples of invalid input.\n",
                "- `1+2+3`\n",
                "- `1/3*6`\n",
                "- `-10/3`\n",
                "- `10*-1`"
            ]
        },
        {
            "cell_type": "markdown",
            "id": "f5e76599",
            "metadata": {},
            "source": [
                "#### Donn\u00e9es de test\n",
                "- `100+10` \u279e `110`\n",
                "- `99-88` \u279e `11`\n",
                "- `10*10` \u279e `100`\n",
                "- `100/10` \u279e `10.0`\n"
            ]
        },
        {
            "cell_type": "markdown",
            "id": "f991be03",
            "metadata": {},
            "source": [
                "### Choix de conception\n",
                "\n",
                "Lorsqu'un d\u00e9veloppeur re\u00e7oit une t\u00e2che, il y a souvent des choses non sp\u00e9cifi\u00e9es.\n",
                "\n",
                "Exemples\n",
                "- Que se passe-t-il si l'utilisateur entre des donn\u00e9es dans un format incorrect (entr\u00e9e invalide)\u00a0?\n",
                "- Comment doit-il sortir les donn\u00e9es de r\u00e9sultat\u00a0?\n",
                "\n",
                "### Ce qu'il faut faire?\n",
                "\n",
                "- Parfois, vous pouvez clarifier ces probl\u00e8mes avec l'utilisateur.\n",
                "- D'autres fois, vous pouvez faire des choix en fonction de vos connaissances ou de vos meilleures suppositions.\n",
                "\n",
                "Quand faire quoi ?\n",
                "- Qui est l'utilisateur ou le propri\u00e9taire du code que vous d\u00e9veloppez\u00a0?\n",
                "- Quel est l'impact de la d\u00e9cision\u00a0?\n"
            ]
        },
        {
            "cell_type": "markdown",
            "id": "cd7624f9",
            "metadata": {},
            "source": [
                "###\u00a0\u00c9tape\u00a01\u00a0: Choix de conception\n",
                "\n",
                "Consid\u00e9rons les deux inconnues suivantes.\n",
                "- Que se passe-t-il si l'utilisateur entre des donn\u00e9es dans un format incorrect (entr\u00e9e invalide)\u00a0?\n",
                "- Comment doit-il sortir les donn\u00e9es de r\u00e9sultat\u00a0?\n",
                "\n",
                "1. R\u00e9fl\u00e9chissez aux cons\u00e9quences de la prise de d\u00e9cision en tant que d\u00e9veloppeur.\n"
            ]
        },
        {
            "cell_type": "code",
            "execution_count": null,
            "id": "8d79bf42",
            "metadata": {},
            "outputs": [],
            "source": []
        },
        {
            "cell_type": "code",
            "execution_count": null,
            "id": "223c32fb",
            "metadata": {},
            "outputs": [],
            "source": []
        },
        {
            "cell_type": "markdown",
            "id": "a027effc",
            "metadata": {},
            "source": [
                "### \u00c9tape\u00a02\u00a0: Conception de la calculatrice\n",
                "\n",
                "Nous prenons la d\u00e9cision suivante.\n",
                "- L'utilisateur est invit\u00e9 jusqu'\u00e0 ce que le format soit correct.\n",
                "- Le programme doit afficher le format suivant\u00a0: `Le r\u00e9sultat de [calcul] est [r\u00e9sultat]`\n",
                "\n",
                "Comment pouvons-nous maintenant d\u00e9composer le programme en \u00e9tapes.\n"
            ]
        },
        {
            "cell_type": "code",
            "execution_count": null,
            "id": "9ed9e7de",
            "metadata": {},
            "outputs": [],
            "source": []
        },
        {
            "cell_type": "code",
            "execution_count": null,
            "id": "7c29bae1",
            "metadata": {},
            "outputs": [],
            "source": []
        },
        {
            "cell_type": "code",
            "execution_count": null,
            "id": "4175643e",
            "metadata": {},
            "outputs": [],
            "source": []
        },
        {
            "cell_type": "markdown",
            "id": "9f809d8a",
            "metadata": {},
            "source": [
                "### \u00c9tape\u00a03\u00a0: D\u00e9composer les fonctions\n",
                "\n",
                "Une fa\u00e7on de le d\u00e9composer est la suivante.\n",
                "\n",
                "1. Saisie et validation depuis l'utilisateur\n",
                "2. Calculez le r\u00e9sultat\n",
                "3. Sortir le r\u00e9sultat\n",
                "\n",
                "Pourquoi l'entr\u00e9e et la validation sont-elles associ\u00e9es\u00a0?\n",
                "\n",
                "Nous pouvons maintenant d\u00e9composer les \u00e9tapes en fonctions.\n",
                "\n",
                "Remarque : *Chaque \u00e9tape peut avoir plus d'une fonction*\n"
            ]
        },
        {
            "cell_type": "code",
            "execution_count": null,
            "id": "90e3c43f",
            "metadata": {},
            "outputs": [],
            "source": []
        },
        {
            "cell_type": "code",
            "execution_count": null,
            "id": "7c309c52",
            "metadata": {},
            "outputs": [],
            "source": []
        },
        {
            "cell_type": "code",
            "execution_count": null,
            "id": "d89dc37d",
            "metadata": {},
            "outputs": [],
            "source": []
        },
        {
            "cell_type": "markdown",
            "id": "6a278a90",
            "metadata": {},
            "source": [
                "### Etape 4 : Etape de saisie et de validation\n",
                "\n",
                "Envisagez de cr\u00e9er une fonction qui prend l'entr\u00e9e de l'utilisateur et la valide.\n",
                "\n",
                "D\u00e9composez maintenant cela en deux fonctions.\n",
                "1. Celui qui valide l'entr\u00e9e.\n",
                "2. Celui qui prend l'entr\u00e9e de l'utilisateur et utilise la fonction ci-dessus pour la valider.\n",
                "\n",
                "Pour la premi\u00e8re fonction, cr\u00e9ez ce qui suit (nous l'impl\u00e9menterons \u00e0 l'\u00e9tape suivante).\n",
                "```Python\n",
                "def is_input_format_correct(input_str):\n",
                "retourner Vrai\n",
                "```\n",
                "\n",
                "Impl\u00e9mentez la deuxi\u00e8me fonction.\n",
                "- Il doit inviter l'utilisateur jusqu'\u00e0 ce que `is_input_format_correct(.)` soit True.\n",
                "- Testez-le manuellement dans les deux cas (lorsque `is_input_format_correct(.)` renvoie `True` et `False`)\n"
            ]
        },
        {
            "cell_type": "code",
            "execution_count": null,
            "id": "664dbff3",
            "metadata": {},
            "outputs": [],
            "source": []
        },
        {
            "cell_type": "code",
            "execution_count": null,
            "id": "d946f7eb",
            "metadata": {},
            "outputs": [],
            "source": []
        },
        {
            "cell_type": "code",
            "execution_count": null,
            "id": "3387dada",
            "metadata": {},
            "outputs": [],
            "source": []
        },
        {
            "cell_type": "markdown",
            "id": "6bca3373",
            "metadata": {},
            "source": [
                "###\u00a0\u00c9tape\u00a05\u00a0: d\u00e9composer la validation\n",
                "\n",
                "La fonction `is_input_format_correct(input_str)` doit valider 3 choses.\n",
                "1. Si `input_str` ne contient que les caract\u00e8res suivants `0123456789+-*/`\n",
                "2. Si `input_str` ne contient qu'un seul op\u00e9rateur (l'un des suivants `+`, `-`, `*` ou `/`).\n",
                "3. Et `input_str` est form\u00e9 `[number][operator][number]` (exemples `123+456`)\n",
                "\n",
                "Une excellente fa\u00e7on de le faire est de cr\u00e9er 3 fonctions pour cela. De cette fa\u00e7on, vous pouvez tester s'ils font ce que vous attendez.\n",
                "\n",
                "Impl\u00e9menter les fonctions d'assistance.\n",
                "- \u00c9crivez les 3 fonctions et testez qu'elles font ce que vous attendez.\n",
                "- Ecrire des doc-strings pour chacun d'eux\n",
                "- \u00c9crire des tests avec `assert`\n"
            ]
        },
        {
            "cell_type": "markdown",
            "id": "73b8f909",
            "metadata": {},
            "source": [
                "#### Double-cliquez ici pour obtenir un indice pour v\u00e9rifier qu'une cha\u00eene ne contient que des caract\u00e8res sp\u00e9cifiques\n",
                "\n",
                "<!--\n",
                "\n",
                "Pour v\u00e9rifier si une cha\u00eene `s` ne contient que des caract\u00e8res 'abc', vous pouvez proc\u00e9der comme suit.\n",
                "\n",
                "def contient_uniquement_abc(s)\u00a0:\n",
                "pour c dans s :\n",
                "si c pas dans 'abc' :\n",
                "retourner Faux\n",
                "\n",
                "retourner Vrai\n",
                "\n",
                "-->\n"
            ]
        },
        {
            "cell_type": "markdown",
            "id": "0a07f192",
            "metadata": {},
            "source": [
                "#### Double-cliquez ici pour obtenir un indice pour v\u00e9rifier le nombre d'op\u00e9rateurs dans une cha\u00eene\n",
                "\n",
                "<!--\n",
                "\n",
                "Si vous avez une cha\u00eene `s` alors `s.count('+')` renverra combien d'occurrences de '+' la cha\u00eene a.\n",
                "\n",
                "-->\n"
            ]
        },
        {
            "cell_type": "markdown",
            "id": "61ae096f",
            "metadata": {},
            "source": [
                "#### Double-cliquez ici pour obtenir un indice pour v\u00e9rifier si le format est correct\n",
                "\n",
                "<!--\n",
                "\n",
                "Ici, nous supposons que la cha\u00eene ne contient que '0123456789+-*/' et qu'elle n'a qu'un seul op\u00e9rateur (l'un des suivants '+', '-', '*' ou '/')\n",
                "\n",
                "Vous savez alors que le premier et le dernier caract\u00e8re de la cha\u00eene sont num\u00e9riques.\n",
                "\n",
                "Exemple : 's = 123+456'\n",
                "Alors s[0] vaut '1' et s[-1] vaut '6'.\n",
                "\n",
                "-->\n"
            ]
        },
        {
            "cell_type": "code",
            "execution_count": null,
            "id": "f96ebc40",
            "metadata": {},
            "outputs": [],
            "source": []
        },
        {
            "cell_type": "code",
            "execution_count": null,
            "id": "593a4e33",
            "metadata": {},
            "outputs": [],
            "source": []
        },
        {
            "cell_type": "code",
            "execution_count": null,
            "id": "10a45045",
            "metadata": {},
            "outputs": [],
            "source": []
        },
        {
            "cell_type": "markdown",
            "id": "bcc4aa96",
            "metadata": {},
            "source": [
                "### \u00c9tape 6 : Combiner les fonctions\n",
                "\n",
                "En utilisant les 3 fonctions de l'\u00e9tape ci-dessus, cr\u00e9ez la fonction `is_input_format_correct(input_str)` en les utilisant.\n",
                "- Ecrire une doc-string pour cette fonction.\n",
                "- \u00c9crire des tests avec `assert`\n"
            ]
        },
        {
            "cell_type": "code",
            "execution_count": null,
            "id": "42e76437",
            "metadata": {},
            "outputs": [],
            "source": []
        },
        {
            "cell_type": "code",
            "execution_count": null,
            "id": "d111324a",
            "metadata": {},
            "outputs": [],
            "source": []
        },
        {
            "cell_type": "code",
            "execution_count": null,
            "id": "48494dff",
            "metadata": {},
            "outputs": [],
            "source": []
        },
        {
            "cell_type": "markdown",
            "id": "83154a71",
            "metadata": {},
            "source": [
                "### \u00c9tape\u00a07\u00a0: Calculer le r\u00e9sultat\n",
                "\n",
                "Cette fonction peut supposer que l'entr\u00e9e est au format correct.\n",
                "\n",
                "Exemples\n",
                "- `1+4`\n",
                "- `6*10`\n",
                "- `100-90`\n",
                "- `1000/50`\n",
                "\n",
                "Cr\u00e9ez une fonction qui effectue le calcul.\n",
                "- Ecrire des doc-strings.\n",
                "- \u00c9crire des tests avec `assert`\n"
            ]
        },
        {
            "cell_type": "markdown",
            "id": "54a3e964",
            "metadata": {},
            "source": [
                "#### Double-cliquez ici pour obtenir un indice sur la fa\u00e7on de v\u00e9rifier la casse de la cha\u00eene d'entr\u00e9e\n",
                "\n",
                "<!--\n",
                "\n",
                "s = '1+4'\n",
                "\n",
                "si '+' dans s :\n",
                "# Ne se produira que si s contient '+'\n",
                "\n",
                "-->\n"
            ]
        },
        {
            "cell_type": "markdown",
            "id": "b80c47f0",
            "metadata": {},
            "source": [
                "#### Double-cliquez ici pour obtenir un indice sur la fa\u00e7on de d\u00e9composer la cha\u00eene en nombre op\u00e9rateur num\u00e9ro\n",
                "\n",
                "<!--\n",
                "\n",
                "s = '1+4'\n",
                "\n",
                "Alors s.split('+') retournera ['1', '4']\n",
                "\n",
                "-->\n"
            ]
        },
        {
            "cell_type": "markdown",
            "id": "7fb08a61",
            "metadata": {},
            "source": [
                "#### Double-cliquez ici pour obtenir un indice convertir la cha\u00eene en int\n",
                "\n",
                "<!--\n",
                "\n",
                "s = '4'\n",
                "\n",
                "a = int(s) # renvoie 4 comme entier\n",
                "\n",
                "-->\n"
            ]
        },
        {
            "cell_type": "code",
            "execution_count": null,
            "id": "d3433f18",
            "metadata": {},
            "outputs": [],
            "source": []
        },
        {
            "cell_type": "code",
            "execution_count": null,
            "id": "62adba31",
            "metadata": {},
            "outputs": [],
            "source": []
        },
        {
            "cell_type": "code",
            "execution_count": null,
            "id": "b13de6ab",
            "metadata": {},
            "outputs": [],
            "source": []
        },
        {
            "cell_type": "markdown",
            "id": "d4502703",
            "metadata": {},
            "source": [
                "### \u00c9tape\u00a08\u00a0: Affichez le r\u00e9sultat\n",
                "\n",
                "Cr\u00e9ez une fonction qui affiche le r\u00e9sultat dans le format correct.\n",
                "- `Le r\u00e9sultat de [calcul] est [r\u00e9sultat]`\n",
                "\n",
                "La fonction prendra le \"calcul\" et le \"r\u00e9sultat\" comme arguments d'entr\u00e9e.\n",
                "- \u00c9crire une cha\u00eene de documentation.\n",
                "- Testez-le manuellement.\n"
            ]
        },
        {
            "cell_type": "code",
            "execution_count": null,
            "id": "cb236aa8",
            "metadata": {},
            "outputs": [],
            "source": []
        },
        {
            "cell_type": "code",
            "execution_count": null,
            "id": "b5a2545f",
            "metadata": {},
            "outputs": [],
            "source": []
        },
        {
            "cell_type": "code",
            "execution_count": null,
            "id": "f890dddf",
            "metadata": {},
            "outputs": [],
            "source": []
        },
        {
            "cell_type": "markdown",
            "id": "4a59eb94",
            "metadata": {},
            "source": [
                "###\u00a0\u00c9tape\u00a09\u00a0: Combinez le tout\n",
                "\n",
                "Combinez toutes les fonctions ensemble de la bonne mani\u00e8re.\n"
            ]
        },
        {
            "cell_type": "code",
            "execution_count": null,
            "id": "9b4cf45d",
            "metadata": {},
            "outputs": [],
            "source": []
        },
        {
            "cell_type": "code",
            "execution_count": null,
            "id": "0a30b49f",
            "metadata": {},
            "outputs": [],
            "source": []
        },
        {
            "cell_type": "code",
            "execution_count": null,
            "id": "dbb90a2f",
            "metadata": {},
            "outputs": [],
            "source": []
        },
        {
            "cell_type": "code",
            "execution_count": null,
            "id": "7cfa8925",
            "metadata": {},
            "outputs": [],
            "source": []
        }
    ],
    "metadata": {
        "kernelspec": {
            "display_name": "Python 3",
            "language": "python",
            "name": "python3"
        },
        "language_info": {
            "codemirror_mode": {
                "name": "ipython",
                "version": 3
            },
            "file_extension": ".py",
            "mimetype": "text/x-python",
            "name": "python",
            "nbconvert_exporter": "python",
            "pygments_lexer": "ipython3",
            "version": "3.11.0"
        },
        "vscode": {
            "interpreter": {
                "hash": "9fedf123aa532497912d939029aac71791b23fba076af1a3c1eebd0e739bf47a"
            }
        }
    },
    "nbformat": 4,
    "nbformat_minor": 5
}