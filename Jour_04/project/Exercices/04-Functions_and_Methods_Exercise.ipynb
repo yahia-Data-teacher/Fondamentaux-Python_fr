{
    "cells": [
        {
            "cell_type": "markdown",
            "metadata": {
                "id": "view-in-github",
                "colab_type": "text"
            },
            "source": [
                "<a href=\"https://colab.research.google.com/github/yahia-kplr/Fondamentaux-Python_fr/blob/main/Jour_04/project/Exercices/04-Functions_and_Methods_Exercise.ipynb\" target=\"_blank\"><img src=\"https://colab.research.google.com/assets/colab-badge.svg\" alt=\"Open In Colab\"/></a>"
            ]
        },
        {
            "cell_type": "markdown",
            "metadata": {
                "id": "BQ38PjXtVK8w"
            },
            "source": [
                "# Functions and Methods Homework \n",
                "\n",
                "Complete the following questions:\n",
                "____\n",
                "**Write a function that computes the volume of a sphere given its radius.**\n",
                "<p>The volume of a sphere is given as $$\\frac{4}{3} \u03c0r^3$$</p>"
            ]
        },
        {
            "cell_type": "code",
            "execution_count": null,
            "metadata": {
                "collapsed": true,
                "id": "VQQnjjqOVK8x"
            },
            "outputs": [],
            "source": [
                "def vol(rad):\n",
                "    pass"
            ]
        },
        {
            "cell_type": "code",
            "execution_count": null,
            "metadata": {
                "id": "CjVSDDSGVK8z",
                "outputId": "5d7579e8-2929-4a1c-f57e-a0d80f770d59"
            },
            "outputs": [
                {
                    "data": {
                        "text/plain": [
                            "33.49333333333333"
                        ]
                    },
                    "execution_count": 2,
                    "metadata": {},
                    "output_type": "execute_result"
                }
            ],
            "source": [
                "# Check\n",
                "vol(2)"
            ]
        },
        {
            "cell_type": "markdown",
            "metadata": {
                "id": "YtYG3N9aVK8z"
            },
            "source": [
                "___\n",
                "**\u00c9crivez une fonction qui v\u00e9rifie si un nombre se trouve dans une plage donn\u00e9e (y compris haut et bas)**\n"
            ]
        },
        {
            "cell_type": "code",
            "execution_count": null,
            "metadata": {
                "collapsed": true,
                "id": "Mq6f2OAcVK80"
            },
            "outputs": [],
            "source": [
                "def ran_check(num,low,high):\n",
                "    pass"
            ]
        },
        {
            "cell_type": "code",
            "execution_count": null,
            "metadata": {
                "id": "udeoDKW1VK81",
                "outputId": "5a328c1a-5b17-42f3-80c6-0e3ec512929d"
            },
            "outputs": [
                {
                    "name": "stdout",
                    "output_type": "stream",
                    "text": [
                        "5 is in the range between 2 and 7\n"
                    ]
                }
            ],
            "source": [
                "# Check\n",
                "ran_check(5,2,7)"
            ]
        },
        {
            "cell_type": "markdown",
            "metadata": {
                "id": "m8lfhptXVK81"
            },
            "source": [
                "Si vous vouliez seulement retourner un bool\u00e9en :\n"
            ]
        },
        {
            "cell_type": "code",
            "execution_count": null,
            "metadata": {
                "collapsed": true,
                "id": "9crESZmMVK82"
            },
            "outputs": [],
            "source": [
                "def ran_bool(num,low,high):\n",
                "    pass"
            ]
        },
        {
            "cell_type": "code",
            "execution_count": null,
            "metadata": {
                "id": "bcwuGiXRVK83",
                "outputId": "6a9977b9-25f0-48fa-845d-156b97a1c59f"
            },
            "outputs": [
                {
                    "data": {
                        "text/plain": [
                            "True"
                        ]
                    },
                    "execution_count": 6,
                    "metadata": {},
                    "output_type": "execute_result"
                }
            ],
            "source": [
                "ran_bool(3,1,10)"
            ]
        },
        {
            "cell_type": "markdown",
            "metadata": {
                "id": "AJ8LhonnVK83"
            },
            "source": [
                "____\n",
                "**\u00c9crivez une fonction Python qui accepte une cha\u00eene et calcule le nombre de lettres majuscules et minuscules.**\n",
                "\n",
                "Exemple de cha\u00eene\u00a0: 'Bonjour M. Rogers, comment allez-vous ce beau mardi\u00a0?'\n",
                "Production attendue :\n",
                "Nombre de caract\u00e8res majuscules : 4\n",
                "Nombre de caract\u00e8res minuscules : 33\n",
                "\n",
                "ASTUCE\u00a0: deux m\u00e9thodes de cha\u00eene qui pourraient s'av\u00e9rer utiles\u00a0: **.isupper()** et **.islower()**\n",
                "\n",
                "Si vous vous sentez ambitieux, explorez le module Collections pour r\u00e9soudre ce probl\u00e8me !\n"
            ]
        },
        {
            "cell_type": "code",
            "execution_count": null,
            "metadata": {
                "collapsed": true,
                "id": "b9XghvRXVK84"
            },
            "outputs": [],
            "source": [
                "def up_low(s):\n",
                "    pass"
            ]
        },
        {
            "cell_type": "code",
            "execution_count": null,
            "metadata": {
                "id": "ob25PiKZVK85",
                "outputId": "1acd3777-fe21-4351-a331-7a31f06b6876"
            },
            "outputs": [
                {
                    "name": "stdout",
                    "output_type": "stream",
                    "text": [
                        "Original String :  Hello Mr. Rogers, how are you this fine Tuesday?\n",
                        "No. of Upper case characters :  4\n",
                        "No. of Lower case Characters :  33\n"
                    ]
                }
            ],
            "source": [
                "s = 'Hello Mr. Rogers, how are you this fine Tuesday?'\n",
                "up_low(s)"
            ]
        },
        {
            "cell_type": "markdown",
            "metadata": {
                "id": "qGCG2N21VK85"
            },
            "source": [
                "____\n",
                "**\u00c9crivez une fonction Python qui prend une liste et renvoie une nouvelle liste avec des \u00e9l\u00e9ments uniques de la premi\u00e8re liste.**\n",
                "\n",
                "Liste d'\u00e9chantillons\u00a0: [1,1,1,1,2,2,3,3,3,3,4,5]\n",
                "Liste unique : [1, 2, 3, 4, 5]\n"
            ]
        },
        {
            "cell_type": "code",
            "execution_count": null,
            "metadata": {
                "collapsed": true,
                "id": "u-lfUpMWVK86"
            },
            "outputs": [],
            "source": [
                "def unique_list(lst):\n",
                "    pass"
            ]
        },
        {
            "cell_type": "code",
            "execution_count": null,
            "metadata": {
                "id": "zRTwK5MWVK86",
                "outputId": "6c37e6fa-b80b-4a4e-8b3f-fee3a28db228"
            },
            "outputs": [
                {
                    "data": {
                        "text/plain": [
                            "[1, 2, 3, 4, 5]"
                        ]
                    },
                    "execution_count": 10,
                    "metadata": {},
                    "output_type": "execute_result"
                }
            ],
            "source": [
                "unique_list([1,1,1,1,2,2,3,3,3,3,4,5])"
            ]
        },
        {
            "cell_type": "markdown",
            "metadata": {
                "id": "f-j0TI-NVK87"
            },
            "source": [
                "____\n",
                "**\u00c9crivez une fonction Python pour multiplier tous les nombres d'une liste.**\n",
                "\n",
                "Liste d'\u00e9chantillons\u00a0: [1, 2, 3, -4]\n",
                "Sortie pr\u00e9vue : -24\n"
            ]
        },
        {
            "cell_type": "code",
            "execution_count": null,
            "metadata": {
                "collapsed": true,
                "id": "jSbGuNv5VK87"
            },
            "outputs": [],
            "source": [
                "def multiply(numbers):  \n",
                "    pass"
            ]
        },
        {
            "cell_type": "code",
            "execution_count": null,
            "metadata": {
                "id": "a-tVCSQeVK87",
                "outputId": "63c367ee-e2b0-4dac-8fdf-278925158830"
            },
            "outputs": [
                {
                    "data": {
                        "text/plain": [
                            "-24"
                        ]
                    },
                    "execution_count": 12,
                    "metadata": {},
                    "output_type": "execute_result"
                }
            ],
            "source": [
                "multiply([1,2,3,-4])"
            ]
        },
        {
            "cell_type": "markdown",
            "metadata": {
                "id": "Aw2OI3ugVK88"
            },
            "source": [
                "____\n",
                "**\u00c9crivez une fonction Python qui v\u00e9rifie si un mot ou une phrase est palindrome ou non.**\n",
                "\n",
                "Remarque\u00a0: Un palindrome est un mot, une phrase ou une s\u00e9quence qui se lit de la m\u00eame mani\u00e8re vers l'arri\u00e8re que vers l'avant, par exemple, madame, kayak, voiture de course ou une phrase \"les infirmi\u00e8res courent\". Astuce\u00a0: Vous pouvez consulter la m\u00e9thode .replace() dans une cha\u00eene pour vous aider \u00e0 g\u00e9rer les espaces. Google recherche \u00e9galement comment inverser une cha\u00eene en Python, il existe des moyens astucieux de le faire avec la notation de d\u00e9coupage.\n"
            ]
        },
        {
            "cell_type": "code",
            "execution_count": null,
            "metadata": {
                "collapsed": true,
                "id": "NvoG_XblVK88"
            },
            "outputs": [],
            "source": [
                "def palindrome(s):\n",
                "    pass"
            ]
        },
        {
            "cell_type": "code",
            "execution_count": null,
            "metadata": {
                "id": "vNUEKSEcVK88",
                "outputId": "278c1e43-e56c-4571-b52d-02a65d468d92"
            },
            "outputs": [
                {
                    "data": {
                        "text/plain": [
                            "True"
                        ]
                    },
                    "execution_count": 14,
                    "metadata": {},
                    "output_type": "execute_result"
                }
            ],
            "source": [
                "palindrome('helleh')"
            ]
        },
        {
            "cell_type": "markdown",
            "metadata": {
                "id": "s06xi77WVK88"
            },
            "source": [
                "____\n",
                "#### Dur:\n",
                "\n",
                "** \u00c9crivez une fonction Python pour v\u00e9rifier si une cha\u00eene est pangram ou non. (Supposons que la cha\u00eene transmise ne comporte aucune ponctuation) **\n",
                "\n",
                "Remarque : Les pangrammes sont des mots ou des phrases contenant au moins une fois chaque lettre de l'alphabet.\n",
                "Par exemple : \"Le renard brun rapide saute par-dessus le chien paresseux\"\n",
                "\n",
                "Astuce\u00a0: Vous pouvez utiliser la m\u00e9thode .replace() pour supprimer les espaces.\n",
                "\n",
                "Astuce\u00a0: Regardez le [module de cha\u00eene] (https://stackoverflow.com/questions/16060899/alphabet-range-in-python)\n",
                "\n",
                "Astuce\u00a0: Si vous souhaitez utiliser [set comparisons](https://medium.com/better-programming/a-visual-guide-to-set-comparisons-in-python-6ab7edb9ec41)\n"
            ]
        },
        {
            "cell_type": "code",
            "execution_count": null,
            "metadata": {
                "collapsed": true,
                "id": "S5Y7Y619VK88"
            },
            "outputs": [],
            "source": [
                "import string\n",
                "\n",
                "def ispangram(str1, alphabet=string.ascii_lowercase):\n",
                "    pass"
            ]
        },
        {
            "cell_type": "code",
            "execution_count": null,
            "metadata": {
                "id": "i1HcPpGeVK88",
                "outputId": "ad506613-8e11-4e47-9996-066d3d90c3a2"
            },
            "outputs": [
                {
                    "data": {
                        "text/plain": [
                            "True"
                        ]
                    },
                    "execution_count": 16,
                    "metadata": {},
                    "output_type": "execute_result"
                }
            ],
            "source": [
                "ispangram(\"The quick brown fox jumps over the lazy dog\")"
            ]
        },
        {
            "cell_type": "code",
            "execution_count": null,
            "metadata": {
                "id": "eaGMPgZKVK88",
                "outputId": "cbeb9058-e407-40be-dcd1-4510f898e8bb"
            },
            "outputs": [
                {
                    "data": {
                        "text/plain": [
                            "'abcdefghijklmnopqrstuvwxyz'"
                        ]
                    },
                    "execution_count": 17,
                    "metadata": {},
                    "output_type": "execute_result"
                }
            ],
            "source": [
                "string.ascii_lowercase"
            ]
        },
        {
            "cell_type": "markdown",
            "metadata": {
                "collapsed": true,
                "id": "KmcQdHQmVK89"
            },
            "source": [
                "#### Bon travail!\n"
            ]
        }
    ],
    "metadata": {
        "kernelspec": {
            "display_name": "Python 3",
            "language": "python",
            "name": "python3"
        },
        "language_info": {
            "codemirror_mode": {
                "name": "ipython",
                "version": 3
            },
            "file_extension": ".py",
            "mimetype": "text/x-python",
            "name": "python",
            "nbconvert_exporter": "python",
            "pygments_lexer": "ipython3",
            "version": "3.11.0"
        },
        "vscode": {
            "interpreter": {
                "hash": "9fedf123aa532497912d939029aac71791b23fba076af1a3c1eebd0e739bf47a"
            }
        }
    },
    "nbformat": 4,
    "nbformat_minor": 0
}