{
    "cells": [
        {
            "cell_type": "markdown",
            "metadata": {
                "id": "view-in-github",
                "colab_type": "text"
            },
            "source": [
                "<a href=\"https://colab.research.google.com/github/yahia-kplr/Fondamentaux-Python_fr/blob/main/Jour_04/project/Exercices/03-Project-Tower_of_Hanoi.ipynb\" target=\"_blank\"><img src=\"https://colab.research.google.com/assets/colab-badge.svg\" alt=\"Open In Colab\"/></a>"
            ]
        },
        {
            "cell_type": "markdown",
            "metadata": {},
            "source": [
                "# Projet - Tour de Hano\u00ef\n",
                "### Mais\n",
                "- R\u00e9soudre [Tour de Hanoi](https://en.wikipedia.org/wiki/Tower_of_Hanoi) r\u00e9cursif\n"
            ]
        },
        {
            "attachments": {},
            "cell_type": "markdown",
            "metadata": {},
            "source": [
                "### Description de Tour de Hano\u00ef\n",
                "- Tour de Hano\u00ef est un jeu math\u00e9matique, qui a trois r\u00e8gles. Avant de d\u00e9finir les r\u00e8gles, voyons \u00e0 quoi ressemble notre univers.\n",
                "\n",
                "![Tour de Hano\u00ef](img/TowerOfHanoi-01.png)\n",
                "\n",
                "- Tous les disques ont des tailles diff\u00e9rentes.\n",
                "- Le but est de d\u00e9placer tous les disques d'une tour (tige) \u00e0 une autre avec les 3 r\u00e8gles suivantes.\n",
                "1. Vous ne pouvez d\u00e9placer qu'un seul disque \u00e0 la fois.\n",
                "2. Vous ne pouvez prendre que le disque sup\u00e9rieur et le placer au sommet d'une autre tour (tige).\n",
                "3. Vous ne pouvez pas placer un disque plus gros sur un disque plus petit.\n",
                "\n",
                "- Les deux premi\u00e8res r\u00e8gles combin\u00e9es signifient que vous ne pouvez prendre qu'un seul disque sup\u00e9rieur et le d\u00e9placer.\n",
                "\n",
                "![Tour de Hano\u00ef](../img/TowerOfHanoi-02.png)\n",
                "\n",
                "- La troisi\u00e8me r\u00e8gle dit que nous ne pouvons pas d\u00e9placer le disque 2 sur le disque 1.\n",
                "\n",
                "![Tour de Hano\u00ef](../img/TowerOfHanoi-03.png)\n",
                "\n",
                "- Jeu\u00a0: Comment obtenez-vous d'ici.\n",
                "\n",
                "![Tour de Hano\u00ef](../img/TowerOfHanoi-01.png)\n",
                "\n",
                "- Pour ici - en suivant les 3 r\u00e8gles.\n",
                "\n",
                "![Tour de Hano\u00ef](../img/TowerOfHanoi-04.png)\n"
            ]
        },
        {
            "attachments": {},
            "cell_type": "markdown",
            "metadata": {},
            "source": [
                "### Comment r\u00e9soudre la tour de Hano\u00ef\n",
                "- Supposons que vous puissiez r\u00e9soudre le plus petit probl\u00e8me de 2 disques.\n",
                "- Ensuite, nous pouvons d\u00e9placer 2 disques en m\u00eame temps\n",
                "\n",
                "![Tour de Hano\u00ef](../img/TowerOfHanoi-05.png)\n",
                "\n",
                "- Ensuite, nous pouvons d\u00e9placer le disque 3 sur place.\n",
                "\n",
                "![Tour de Hano\u00ef](../img/TowerOfHanoi-06.png)\n",
                "\n",
                "- Et nous pouvons d\u00e9placer le sous-probl\u00e8me de 2 disque sur place.\n",
                "\n",
                "![Tour de Hano\u00ef](../img/TowerOfHanoi-04.png)\n"
            ]
        },
        {
            "cell_type": "markdown",
            "metadata": {},
            "source": [
                "### R\u00e9cursivit\u00e9\n",
                "- C'est la formule. C'est tout ce que vous devez savoir.\n",
                "1. D\u00e9placez le plus petit probl\u00e8me de 2 disques de la premi\u00e8re tour (tige) \u00e0 la deuxi\u00e8me tour (tige).\n",
                "2. D\u00e9placez le grand disque de la premi\u00e8re tour (tige) \u00e0 la derni\u00e8re tour (tige).\n",
                "3. D\u00e9placez le plus petit probl\u00e8me de 2 disques de la deuxi\u00e8me tour (tige) \u00e0 la derni\u00e8re tour (tige).\n"
            ]
        },
        {
            "cell_type": "markdown",
            "metadata": {},
            "source": [
                "### Pas\n",
                "- \u00c9tape 1 : Repr\u00e9sentez les tours comme [[3, 2, 1], [], []]\n",
                "- Etape 2 : Cr\u00e9er une fonction de d\u00e9placement, qui prend les tours et peut d\u00e9placer un disque d'une tour \u00e0 l'autre.\n",
                "- ASTUCE\u00a0: utilisez **.pop()** et **.append(.)**\n",
                "- \u00c9tape 3 : Cr\u00e9er une fonction d'assistance pour imprimer les tours\n",
                "- CONSEIL\u00a0: Supposons que nous ayons 3\u00a0tours et 3\u00a0disques\n",
                "- Etape 4 : La fonction r\u00e9cursive\n",
                "- **solve_tower_of_hanoi(tours, n, start_tower, dest_tower, aux_tower)**\n",
                "- **n** est le nombre de disques que nous d\u00e9pla\u00e7ons, en commen\u00e7ant par 3, puis nous appelons r\u00e9cursif vers le bas avec 2, 1 et 0.\n",
                "- Le cas de base est **n = 0**, il suffit de revenir dans ce cas\n",
                "- D\u00e9placer le sous-probl\u00e8me de n - 1 disques de start_tower vers aux_tower.\n",
                "- D\u00e9placez le disque n vers dest_tower. (vous pouvez imprimer la tour ici si vous le souhaitez)\n",
                "- D\u00e9placer le sous-probl\u00e8me de n - 1 disque de aux_tower vers dest_tower.\n"
            ]
        },
        {
            "cell_type": "code",
            "execution_count": null,
            "id": "e5830d6f",
            "metadata": {},
            "outputs": [],
            "source": []
        },
        {
            "cell_type": "code",
            "execution_count": null,
            "id": "4de1f057",
            "metadata": {},
            "outputs": [],
            "source": []
        },
        {
            "cell_type": "code",
            "execution_count": null,
            "id": "4783bc3f",
            "metadata": {},
            "outputs": [],
            "source": []
        },
        {
            "cell_type": "code",
            "execution_count": null,
            "id": "759349b3",
            "metadata": {},
            "outputs": [],
            "source": []
        },
        {
            "cell_type": "code",
            "execution_count": null,
            "id": "643685a9",
            "metadata": {},
            "outputs": [],
            "source": []
        },
        {
            "cell_type": "code",
            "execution_count": null,
            "id": "8b14a251",
            "metadata": {},
            "outputs": [],
            "source": []
        },
        {
            "cell_type": "code",
            "execution_count": null,
            "id": "0c8de4d5",
            "metadata": {},
            "outputs": [],
            "source": []
        }
    ],
    "metadata": {
        "kernelspec": {
            "display_name": "Python 3",
            "language": "python",
            "name": "python3"
        },
        "language_info": {
            "codemirror_mode": {
                "name": "ipython",
                "version": 3
            },
            "file_extension": ".py",
            "mimetype": "text/x-python",
            "name": "python",
            "nbconvert_exporter": "python",
            "pygments_lexer": "ipython3",
            "version": "3.11.0 (main, Oct 24 2022, 18:26:48) [MSC v.1933 64 bit (AMD64)]"
        },
        "vscode": {
            "interpreter": {
                "hash": "9fedf123aa532497912d939029aac71791b23fba076af1a3c1eebd0e739bf47a"
            }
        }
    },
    "nbformat": 4,
    "nbformat_minor": 5
}