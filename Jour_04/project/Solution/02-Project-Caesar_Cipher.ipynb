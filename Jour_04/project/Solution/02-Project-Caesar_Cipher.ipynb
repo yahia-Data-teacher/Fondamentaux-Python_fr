{
    "cells": [
        {
            "cell_type": "markdown",
            "metadata": {
                "id": "view-in-github",
                "colab_type": "text"
            },
            "source": [
                "<a href=\"https://colab.research.google.com/github/yahia-kplr/Fondamentaux-Python_fr/blob/main/Jour_04/project/Solution/02-Project-Caesar_Cipher.ipynb\" target=\"_blank\"><img src=\"https://colab.research.google.com/assets/colab-badge.svg\" alt=\"Open In Colab\"/></a>"
            ]
        },
        {
            "cell_type": "markdown",
            "metadata": {},
            "source": [
                "# Projet - Chiffre de C\u00e9sar\n",
                "### But\n",
                "- Cr\u00e9er [Caesar Cipher] (https://en.wikipedia.org/wiki/Caesar_cipher) fonctionnalit\u00e9 de cryptage et de d\u00e9cryptage\n"
            ]
        },
        {
            "cell_type": "markdown",
            "metadata": {},
            "source": [
                "### Description\n",
                "- Le chiffrement de C\u00e9sar est un chiffrement de substitution simple, qui se limite \u00e0 d\u00e9caler les caract\u00e8res d'un nombre fixe.\n",
                "- Prenons un exemple\n",
                "- Imaginez que vous ayez re\u00e7u le message : BRX DUH DZHVRPH. Qu'en faire. \u00c7a n'a aucun sens.\n",
                "- Mais que se passe-t-il si nous obtenons l'aide de ce diagramme\n",
                "\n",
                "![Chiffre C\u00e9sar](../img/CaesarCipher.png)\n"
            ]
        },
        {
            "cell_type": "markdown",
            "metadata": {},
            "source": [
                "### Projet\n",
                "- Impl\u00e9menter la fonction d'assistance **encrypt_char(char, key)** pour chiffrer un seul caract\u00e8re, **char**, avec **key**.\n",
                "- Il peut \u00eatre utile d'utiliser **ord()**, **chr()** et **%**.\n",
                "- Le calcul peut \u00eatre un peu d\u00e9licat.\n",
                "- Impl\u00e9mentez **encrypt_message(message, key)**, il doit utiliser la fonction d'assistance.\n",
                "- Impl\u00e9menter des fonctions similaires pour d\u00e9crypter.\n"
            ]
        },
        {
            "cell_type": "code",
            "execution_count": 3,
            "metadata": {},
            "outputs": [],
            "source": [
                "def encrypt_char(char, key):\n",
                "    return chr(ord('A') + (ord(char) - ord('A') + key) % 26)"
            ]
        },
        {
            "cell_type": "code",
            "execution_count": 4,
            "metadata": {},
            "outputs": [],
            "source": [
                "def encrypt_message(message, key):\n",
                "    message = message.upper()\n",
                "    cipher = ''\n",
                "    for c in message:\n",
                "        if c in ' .,':\n",
                "            cipher = cipher + c\n",
                "        else:\n",
                "            cipher = cipher + encrypt_char(c, key)\n",
                "    return cipher"
            ]
        },
        {
            "cell_type": "code",
            "execution_count": 5,
            "metadata": {},
            "outputs": [
                {
                    "data": {
                        "text/plain": [
                            "'BRX DUH DZHVRPH'"
                        ]
                    },
                    "execution_count": 5,
                    "metadata": {},
                    "output_type": "execute_result"
                }
            ],
            "source": [
                "encrypt_message(\"You are awesome\", 3)"
            ]
        },
        {
            "cell_type": "code",
            "execution_count": 6,
            "metadata": {},
            "outputs": [],
            "source": [
                "def decrypt_char(char, key):\n",
                "    return chr(ord('A') + (ord(char) - ord('A') + 26 - key) % 26)"
            ]
        },
        {
            "cell_type": "code",
            "execution_count": 7,
            "metadata": {},
            "outputs": [],
            "source": [
                "def decrypt_message(cipher, key):\n",
                "    message = ''\n",
                "    for c in cipher:\n",
                "        if c in ' ,.':\n",
                "            message = message + c\n",
                "        else:\n",
                "            message = message + decrypt_char(c, key)\n",
                "    return message"
            ]
        },
        {
            "cell_type": "code",
            "execution_count": 8,
            "metadata": {},
            "outputs": [
                {
                    "data": {
                        "text/plain": [
                            "'YOU ARE AWESOME'"
                        ]
                    },
                    "execution_count": 8,
                    "metadata": {},
                    "output_type": "execute_result"
                }
            ],
            "source": [
                "decrypt_message('BRX DUH DZHVRPH', 3)"
            ]
        },
        {
            "cell_type": "code",
            "execution_count": 9,
            "metadata": {},
            "outputs": [],
            "source": [
                "def decrypt_message2(cipher, key):\n",
                "    return encrypt_message(cipher, 26 - key)"
            ]
        },
        {
            "cell_type": "code",
            "execution_count": 10,
            "metadata": {},
            "outputs": [
                {
                    "data": {
                        "text/plain": [
                            "'YOU ARE AWESOME'"
                        ]
                    },
                    "execution_count": 10,
                    "metadata": {},
                    "output_type": "execute_result"
                }
            ],
            "source": [
                "decrypt_message2('BRX DUH DZHVRPH', 3)"
            ]
        }
    ],
    "metadata": {
        "kernelspec": {
            "display_name": "Python 3",
            "language": "python",
            "name": "python3"
        },
        "language_info": {
            "codemirror_mode": {
                "name": "ipython",
                "version": 3
            },
            "file_extension": ".py",
            "mimetype": "text/x-python",
            "name": "python",
            "nbconvert_exporter": "python",
            "pygments_lexer": "ipython3",
            "version": "3.11.0"
        },
        "vscode": {
            "interpreter": {
                "hash": "9fedf123aa532497912d939029aac71791b23fba076af1a3c1eebd0e739bf47a"
            }
        }
    },
    "nbformat": 4,
    "nbformat_minor": 5
}