{
    "cells": [
        {
            "cell_type": "markdown",
            "metadata": {
                "id": "view-in-github",
                "colab_type": "text"
            },
            "source": [
                "<a href=\"https://colab.research.google.com/github/yahia-kplr/Fondamentaux-Python_fr/blob/main/Jour_04/05-Functions_and_Testing.ipynb\" target=\"_blank\"><img src=\"https://colab.research.google.com/assets/colab-badge.svg\" alt=\"Open In Colab\"/></a>"
            ]
        },
        {
            "cell_type": "markdown",
            "id": "e3dc99be",
            "metadata": {},
            "source": [
                "# Fonctions et tests / BESOIN DE SAVOIR\n"
            ]
        },
        {
            "cell_type": "markdown",
            "id": "590551de",
            "metadata": {},
            "source": [
                "### Comment v\u00e9rifier si une fonction fonctionne comme pr\u00e9vu\u00a0?\n",
                "\n",
                "Consid\u00e9rez l'impl\u00e9mentation suivante de [pow()](https://docs.python.org/3/library/functions.html#pow)\n",
                "\n",
                "``` Python\n",
                "def my_pow(x, y):\n",
                "\"\"\"\n",
                "Pour les entiers x et y.\n",
                "Ram\u00e8ne x \u00e0 la puissance y (x^y)\n",
                "\"\"\"\n",
                "r\u00e9sultat = 1\n",
                "pour _ dans la plage (y):\n",
                "r\u00e9sultat *= x\n",
                "\n",
                "r\u00e9sultat de retour\n",
                "```\n",
                "\n",
                "Vous pouvez utiliser assert.\n",
                "``` Python\n",
                "affirmer mon_pow(2, 3) == 8\n",
                "assert my_pow(2, -1) == 0.5\n",
                "```\n"
            ]
        },
        {
            "cell_type": "code",
            "execution_count": 22,
            "id": "b2e7d6be",
            "metadata": {},
            "outputs": [],
            "source": [
                "def my_pow(x, y):\n",
                "    \"\"\"\n",
                "    For integers x and y.\n",
                "    Return x to the power of y (x^y)\n",
                "    \"\"\"\n",
                "    result = 1\n",
                "    if y >= 0:\n",
                "        for _ in range(y):\n",
                "            result *= x\n",
                "    else:\n",
                "        for _ in range(-y):\n",
                "            result /= x\n",
                "            \n",
                "    return result"
            ]
        },
        {
            "cell_type": "code",
            "execution_count": 24,
            "id": "424f002f",
            "metadata": {},
            "outputs": [],
            "source": [
                "assert my_pow(2, 0) == 1\n",
                "assert my_pow(2, 1) == 2\n",
                "assert my_pow(2, 2) == 4\n",
                "assert my_pow(2, 3) == 8\n",
                "assert my_pow(2, 4) == 16\n",
                "assert my_pow(2, -1) == 0.5\n",
                "assert my_pow(2, -2) == 0.25\n",
                "assert my_pow(2, -3) == 0.125"
            ]
        },
        {
            "cell_type": "code",
            "execution_count": null,
            "id": "03a7d7bf",
            "metadata": {},
            "outputs": [],
            "source": []
        },
        {
            "cell_type": "markdown",
            "id": "b9d7f83e",
            "metadata": {},
            "source": [
                "### Effets secondaires\n",
                "\n",
                "- Les fonctions sans effets secondaires sont faciles \u00e0 tester avec `assert`.\n",
                "- Les fonctions avec des effets secondaires (comme print, input, read et write to storage) ne sont pas faciles \u00e0 tester avec `assert`\n"
            ]
        },
        {
            "cell_type": "code",
            "execution_count": null,
            "id": "f39d104e",
            "metadata": {},
            "outputs": [],
            "source": []
        }
    ],
    "metadata": {
        "kernelspec": {
            "display_name": "Python 3",
            "language": "python",
            "name": "python3"
        },
        "language_info": {
            "codemirror_mode": {
                "name": "ipython",
                "version": 3
            },
            "file_extension": ".py",
            "mimetype": "text/x-python",
            "name": "python",
            "nbconvert_exporter": "python",
            "pygments_lexer": "ipython3",
            "version": "3.11.0 (main, Oct 24 2022, 18:26:48) [MSC v.1933 64 bit (AMD64)]"
        },
        "vscode": {
            "interpreter": {
                "hash": "9fedf123aa532497912d939029aac71791b23fba076af1a3c1eebd0e739bf47a"
            }
        }
    },
    "nbformat": 4,
    "nbformat_minor": 5
}