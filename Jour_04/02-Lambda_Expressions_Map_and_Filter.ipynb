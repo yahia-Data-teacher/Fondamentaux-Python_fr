{
    "cells": [
        {
            "cell_type": "markdown",
            "metadata": {
                "id": "view-in-github",
                "colab_type": "text"
            },
            "source": [
                "<a href=\"https://colab.research.google.com/github/yahia-kplr/Fondamentaux-Python_fr/blob/main/Jour_04/02-Lambda_Expressions_Map_and_Filter.ipynb\" target=\"_blank\"><img src=\"https://colab.research.google.com/assets/colab-badge.svg\" alt=\"Open In Colab\"/></a>"
            ]
        },
        {
            "cell_type": "markdown",
            "metadata": {
                "id": "eT-QxKjQj5Cr"
            },
            "source": [
                "# Expressions Lambda, carte et filtre\n",
                "\n",
                "Il est maintenant temps de d\u00e9couvrir rapidement deux fonctions int\u00e9gr\u00e9es, le filtre et la carte. Une fois que nous aurons appris leur fonctionnement, nous pourrons en apprendre davantage sur l'expression lambda, qui vous sera utile lorsque vous commencerez \u00e0 d\u00e9velopper davantage vos comp\u00e9tences\u00a0!\n"
            ]
        },
        {
            "cell_type": "markdown",
            "metadata": {
                "id": "yqmyJe3Mj5Cs"
            },
            "source": [
                "## fonction de carte\n",
                "\n",
                "La fonction **map** vous permet de \"mapper\" une fonction sur un objet it\u00e9rable. C'est-\u00e0-dire que vous pouvez appeler rapidement la m\u00eame fonction pour chaque \u00e9l\u00e9ment d'un it\u00e9rable, comme une liste. Par exemple:\n"
            ]
        },
        {
            "cell_type": "code",
            "execution_count": null,
            "metadata": {
                "collapsed": true,
                "id": "6N4NSX7Hj5Cu"
            },
            "outputs": [],
            "source": [
                "def square(num):\n",
                "    return num**2"
            ]
        },
        {
            "cell_type": "code",
            "execution_count": null,
            "metadata": {
                "collapsed": true,
                "id": "YN-RIpIYj5Cw"
            },
            "outputs": [],
            "source": [
                "my_nums = [1,2,3,4,5]"
            ]
        },
        {
            "cell_type": "code",
            "execution_count": null,
            "metadata": {
                "id": "0rHEwRWYj5Cx",
                "outputId": "051e5ea4-2733-4a6e-906f-83ac34f50e95"
            },
            "outputs": [
                {
                    "data": {
                        "text/plain": [
                            "<map at 0x205baec21d0>"
                        ]
                    },
                    "execution_count": 5,
                    "metadata": {},
                    "output_type": "execute_result"
                }
            ],
            "source": [
                "map(square,my_nums)"
            ]
        },
        {
            "cell_type": "code",
            "execution_count": null,
            "metadata": {
                "id": "ETGV2d5Nj5Cx",
                "outputId": "7fe8a6ce-3376-41e2-9425-e08f068436e8"
            },
            "outputs": [
                {
                    "data": {
                        "text/plain": [
                            "[1, 4, 9, 16, 25]"
                        ]
                    },
                    "execution_count": 7,
                    "metadata": {},
                    "output_type": "execute_result"
                }
            ],
            "source": [
                "# To get the results, either iterate through map() \n",
                "# or just cast to a list\n",
                "list(map(square,my_nums))"
            ]
        },
        {
            "cell_type": "markdown",
            "metadata": {
                "id": "3Sw8vQnij5Cz"
            },
            "source": [
                "Les fonctions peuvent aussi \u00eatre plus complexes\n"
            ]
        },
        {
            "cell_type": "code",
            "execution_count": null,
            "metadata": {
                "collapsed": true,
                "id": "6vEfxnK7j5C0"
            },
            "outputs": [],
            "source": [
                "def splicer(mystring):\n",
                "    if len(mystring) % 2 == 0:\n",
                "        return 'even'\n",
                "    else:\n",
                "        return mystring[0]"
            ]
        },
        {
            "cell_type": "code",
            "execution_count": null,
            "metadata": {
                "collapsed": true,
                "id": "6iqq7F_nj5C1"
            },
            "outputs": [],
            "source": [
                "mynames = ['John','Cindy','Sarah','Kelly','Mike']"
            ]
        },
        {
            "cell_type": "code",
            "execution_count": null,
            "metadata": {
                "id": "yDEF7tF_j5C2",
                "outputId": "5677b1d3-8743-4771-f3a7-f39bc498b7d1"
            },
            "outputs": [
                {
                    "data": {
                        "text/plain": [
                            "['even', 'C', 'S', 'K', 'even']"
                        ]
                    },
                    "execution_count": 10,
                    "metadata": {},
                    "output_type": "execute_result"
                }
            ],
            "source": [
                "list(map(splicer,mynames))"
            ]
        },
        {
            "cell_type": "markdown",
            "metadata": {
                "id": "lmxR6T9rj5C2"
            },
            "source": [
                "## fonction de filtrage\n",
                "\n",
                "La fonction de filtre renvoie un it\u00e9rateur produisant les \u00e9l\u00e9ments de iterable pour quelle fonction (\u00e9l\u00e9ment)\n",
                "est vrai. Cela signifie que vous devez filtrer par une fonction qui renvoie True ou False. Ensuite, passez cela dans le filtre (avec votre it\u00e9rable) et vous ne r\u00e9cup\u00e9rerez que les r\u00e9sultats qui renverraient True lorsqu'ils sont pass\u00e9s \u00e0 la fonction.\n"
            ]
        },
        {
            "cell_type": "code",
            "execution_count": null,
            "metadata": {
                "collapsed": true,
                "id": "w8NLs-Muj5C2"
            },
            "outputs": [],
            "source": [
                "def check_even(num):\n",
                "    return num % 2 == 0 "
            ]
        },
        {
            "cell_type": "code",
            "execution_count": null,
            "metadata": {
                "collapsed": true,
                "id": "oYSbbJcwj5C3"
            },
            "outputs": [],
            "source": [
                "nums = [0,1,2,3,4,5,6,7,8,9,10]"
            ]
        },
        {
            "cell_type": "code",
            "execution_count": null,
            "metadata": {
                "id": "51vvNCvIj5C3",
                "outputId": "4a737286-2ce2-4e56-f01f-eb4ef3c2d740"
            },
            "outputs": [
                {
                    "data": {
                        "text/plain": [
                            "<filter at 0x205baed4710>"
                        ]
                    },
                    "execution_count": 15,
                    "metadata": {},
                    "output_type": "execute_result"
                }
            ],
            "source": [
                "filter(check_even,nums)"
            ]
        },
        {
            "cell_type": "code",
            "execution_count": null,
            "metadata": {
                "id": "iH43f69ij5C4",
                "outputId": "5027e7e7-4fb9-404a-c82b-a46b294dea26"
            },
            "outputs": [
                {
                    "data": {
                        "text/plain": [
                            "[0, 2, 4, 6, 8, 10]"
                        ]
                    },
                    "execution_count": 16,
                    "metadata": {},
                    "output_type": "execute_result"
                }
            ],
            "source": [
                "list(filter(check_even,nums))"
            ]
        },
        {
            "cell_type": "markdown",
            "metadata": {
                "collapsed": true,
                "id": "Wuoq7C2Uj5C5"
            },
            "source": [
                "## expression lambda\n",
                "\n",
                "L'un des outils Python les plus utiles (et pour les d\u00e9butants, d\u00e9routant) est l'expression lambda. Les expressions lambda nous permettent de cr\u00e9er des fonctions \"anonymes\". Cela signifie essentiellement que nous pouvons cr\u00e9er rapidement des fonctions ad hoc sans avoir besoin de d\u00e9finir correctement une fonction \u00e0 l'aide de def.\n",
                "\n",
                "Les objets de fonction renvoy\u00e9s par l'ex\u00e9cution d'expressions lambda fonctionnent exactement de la m\u00eame mani\u00e8re que ceux cr\u00e9\u00e9s et affect\u00e9s par defs. Il existe une diff\u00e9rence cl\u00e9 qui rend lambda utile dans des r\u00f4les sp\u00e9cialis\u00e9s\u00a0:\n",
                "\n",
                "**Le corps de lambda est une expression unique, pas un bloc d'instructions.**\n",
                "\n",
                "* Le corps du lambda est similaire \u00e0 ce que nous mettrions dans l'instruction return d'un corps def. Nous tapons simplement le r\u00e9sultat sous forme d'expression au lieu de le renvoyer explicitement. Parce qu'il est limit\u00e9 \u00e0 une expression, un lambda est moins g\u00e9n\u00e9ral qu'un def. Nous ne pouvons que presser la conception, pour limiter l'imbrication des programmes. lambda est con\u00e7u pour coder des fonctions simples et def g\u00e8re les t\u00e2ches plus importantes.\n"
            ]
        },
        {
            "cell_type": "markdown",
            "metadata": {
                "id": "33_ToVNFj5C6"
            },
            "source": [
                "D\u00e9composons lentement une expression lambda en d\u00e9construisant une fonction\u00a0:\n"
            ]
        },
        {
            "cell_type": "code",
            "execution_count": null,
            "metadata": {
                "collapsed": true,
                "id": "JNED4DjNj5C6"
            },
            "outputs": [],
            "source": [
                "def square(num):\n",
                "    result = num**2\n",
                "    return result"
            ]
        },
        {
            "cell_type": "code",
            "execution_count": null,
            "metadata": {
                "id": "3qgGHPU8j5C7",
                "outputId": "d8499d08-e6ee-4491-a340-1c6810eefb13"
            },
            "outputs": [
                {
                    "data": {
                        "text/plain": [
                            "4"
                        ]
                    },
                    "execution_count": 18,
                    "metadata": {},
                    "output_type": "execute_result"
                }
            ],
            "source": [
                "square(2)"
            ]
        },
        {
            "cell_type": "markdown",
            "metadata": {
                "id": "HdNZSv6Ej5C7"
            },
            "source": [
                "On pourrait simplifier :\n"
            ]
        },
        {
            "cell_type": "code",
            "execution_count": null,
            "metadata": {
                "collapsed": true,
                "id": "c_txCtNrj5C7"
            },
            "outputs": [],
            "source": [
                "def square(num):\n",
                "    return num**2"
            ]
        },
        {
            "cell_type": "code",
            "execution_count": null,
            "metadata": {
                "id": "busuQ7atj5C7",
                "outputId": "65f5a45a-221f-4a30-eabb-da1002a87687"
            },
            "outputs": [
                {
                    "data": {
                        "text/plain": [
                            "4"
                        ]
                    },
                    "execution_count": 20,
                    "metadata": {},
                    "output_type": "execute_result"
                }
            ],
            "source": [
                "square(2)"
            ]
        },
        {
            "cell_type": "markdown",
            "metadata": {
                "id": "VoyR2WW0j5C8"
            },
            "source": [
                "Nous pourrions m\u00eame \u00e9crire tout cela sur une seule ligne.\n"
            ]
        },
        {
            "cell_type": "code",
            "execution_count": null,
            "metadata": {
                "collapsed": true,
                "id": "EIhY82b6j5C8"
            },
            "outputs": [],
            "source": [
                "def square(num): return num**2"
            ]
        },
        {
            "cell_type": "code",
            "execution_count": null,
            "metadata": {
                "id": "vU4t0A7Uj5C8",
                "outputId": "680892b9-39f1-422d-92c4-6ce854407dcd"
            },
            "outputs": [
                {
                    "data": {
                        "text/plain": [
                            "4"
                        ]
                    },
                    "execution_count": 22,
                    "metadata": {},
                    "output_type": "execute_result"
                }
            ],
            "source": [
                "square(2)"
            ]
        },
        {
            "cell_type": "markdown",
            "metadata": {
                "id": "y4Pxl8Pqj5C9"
            },
            "source": [
                "Il s'agit de la forme d'une fonction qu'une expression lambda a l'intention de r\u00e9pliquer. Une expression lambda peut alors s'\u00e9crire :\n"
            ]
        },
        {
            "cell_type": "code",
            "execution_count": null,
            "metadata": {
                "id": "y4LbKRQ-j5C9",
                "outputId": "8fc0a1c1-746e-479c-ae6f-23a8a3dcefc5"
            },
            "outputs": [
                {
                    "data": {
                        "text/plain": [
                            "<function __main__.<lambda>>"
                        ]
                    },
                    "execution_count": 23,
                    "metadata": {},
                    "output_type": "execute_result"
                }
            ],
            "source": [
                "lambda num: num ** 2"
            ]
        },
        {
            "cell_type": "code",
            "execution_count": null,
            "metadata": {
                "collapsed": true,
                "id": "dFUWvyGBj5C9"
            },
            "outputs": [],
            "source": [
                "# You wouldn't usually assign a name to a lambda expression, this is just for demonstration!\n",
                "square = lambda num: num **2"
            ]
        },
        {
            "cell_type": "code",
            "execution_count": null,
            "metadata": {
                "id": "TA1AahJcj5C9",
                "outputId": "37befe8b-3c08-4c5b-8abd-adf6a1645a9c"
            },
            "outputs": [
                {
                    "data": {
                        "text/plain": [
                            "4"
                        ]
                    },
                    "execution_count": 26,
                    "metadata": {},
                    "output_type": "execute_result"
                }
            ],
            "source": [
                "square(2)"
            ]
        },
        {
            "cell_type": "markdown",
            "metadata": {
                "id": "YNx4IoWhj5C9"
            },
            "source": [
                "Alors pourquoi utiliser cela? De nombreux appels de fonction n\u00e9cessitent une fonction transmise, telle que map et filter. Souvent, vous n'avez besoin d'utiliser la fonction que vous transmettez qu'une seule fois, donc au lieu de la d\u00e9finir formellement, vous utilisez simplement l'expression lambda. R\u00e9p\u00e9tons certains des exemples ci-dessus avec une expression lambda\n"
            ]
        },
        {
            "cell_type": "code",
            "execution_count": null,
            "metadata": {
                "id": "orIca2vXj5C-",
                "outputId": "c41597d3-5e3b-4fcb-f73e-388adcad93c1"
            },
            "outputs": [
                {
                    "data": {
                        "text/plain": [
                            "[1, 4, 9, 16, 25]"
                        ]
                    },
                    "execution_count": 29,
                    "metadata": {},
                    "output_type": "execute_result"
                }
            ],
            "source": [
                "list(map(lambda num: num ** 2, my_nums))"
            ]
        },
        {
            "cell_type": "code",
            "execution_count": null,
            "metadata": {
                "id": "cUGvoacJj5C-",
                "outputId": "63e201da-504a-4cd5-c1c5-98414b82cc24"
            },
            "outputs": [
                {
                    "data": {
                        "text/plain": [
                            "[0, 2, 4, 6, 8, 10]"
                        ]
                    },
                    "execution_count": 30,
                    "metadata": {},
                    "output_type": "execute_result"
                }
            ],
            "source": [
                "list(filter(lambda n: n % 2 == 0,nums))"
            ]
        },
        {
            "cell_type": "markdown",
            "metadata": {
                "id": "ufAcmhhnj5C_"
            },
            "source": [
                "Voici quelques exemples suppl\u00e9mentaires, gardez \u00e0 l'esprit que plus une fonction est complexe, plus il est difficile de la traduire en une expression lambda, ce qui signifie parfois qu'il est simplement plus facile (et souvent le seul moyen) de cr\u00e9er la fonction de mot-cl\u00e9 def.\n"
            ]
        },
        {
            "cell_type": "markdown",
            "metadata": {
                "id": "-_jjpCVoj5C_"
            },
            "source": [
                "** Expression lambda pour saisir le premier caract\u00e8re d'une cha\u00eene\u00a0: **\n"
            ]
        },
        {
            "cell_type": "code",
            "execution_count": null,
            "metadata": {
                "id": "BU89n717j5DA",
                "outputId": "a6afa31d-cfd2-48ca-8c40-267fd638e316"
            },
            "outputs": [
                {
                    "data": {
                        "text/plain": [
                            "<function __main__.<lambda>>"
                        ]
                    },
                    "execution_count": 31,
                    "metadata": {},
                    "output_type": "execute_result"
                }
            ],
            "source": [
                "lambda s: s[0]"
            ]
        },
        {
            "cell_type": "markdown",
            "metadata": {
                "id": "QM5dzLuBj5DA"
            },
            "source": [
                "** Expression lambda pour inverser une cha\u00eene\u00a0: **\n"
            ]
        },
        {
            "cell_type": "code",
            "execution_count": null,
            "metadata": {
                "id": "PqHm7890j5DB",
                "outputId": "7c4c060c-fa63-43a9-b625-24cd2ebb84ff"
            },
            "outputs": [
                {
                    "data": {
                        "text/plain": [
                            "<function __main__.<lambda>>"
                        ]
                    },
                    "execution_count": 32,
                    "metadata": {},
                    "output_type": "execute_result"
                }
            ],
            "source": [
                "lambda s: s[::-1]"
            ]
        },
        {
            "cell_type": "markdown",
            "metadata": {
                "id": "zV94TEdrj5DH"
            },
            "source": [
                "Vous pouvez m\u00eame transmettre plusieurs arguments dans une expression lambda. Encore une fois, gardez \u00e0 l'esprit que toutes les fonctions ne peuvent pas \u00eatre traduites en une expression lambda.\n"
            ]
        },
        {
            "cell_type": "code",
            "execution_count": null,
            "metadata": {
                "id": "fzAniobBj5DI",
                "outputId": "8ca37d76-f01b-4b31-e759-dec80429f41d"
            },
            "outputs": [
                {
                    "data": {
                        "text/plain": [
                            "<function __main__.<lambda>>"
                        ]
                    },
                    "execution_count": 34,
                    "metadata": {},
                    "output_type": "execute_result"
                }
            ],
            "source": [
                "lambda x,y : x + y"
            ]
        }
    ],
    "metadata": {
        "kernelspec": {
            "display_name": "Python 3",
            "language": "python",
            "name": "python3"
        },
        "language_info": {
            "codemirror_mode": {
                "name": "ipython",
                "version": 3
            },
            "file_extension": ".py",
            "mimetype": "text/x-python",
            "name": "python",
            "nbconvert_exporter": "python",
            "pygments_lexer": "ipython3",
            "version": "3.11.0"
        },
        "vscode": {
            "interpreter": {
                "hash": "9fedf123aa532497912d939029aac71791b23fba076af1a3c1eebd0e739bf47a"
            }
        }
    },
    "nbformat": 4,
    "nbformat_minor": 0
}