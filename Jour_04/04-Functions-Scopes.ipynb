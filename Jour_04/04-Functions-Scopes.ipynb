{
    "cells": [
        {
            "cell_type": "markdown",
            "metadata": {
                "id": "view-in-github",
                "colab_type": "text"
            },
            "source": [
                "<a href=\"https://colab.research.google.com/github/yahia-kplr/Fondamentaux-Python_fr/blob/main/Jour_04/04-Functions-Scopes.ipynb\" target=\"_blank\"><img src=\"https://colab.research.google.com/assets/colab-badge.svg\" alt=\"Open In Colab\"/></a>"
            ]
        },
        {
            "cell_type": "markdown",
            "id": "dce6e43e",
            "metadata": {},
            "source": [
                "# Python Functions and Scopes / NEED-TO-KNOW"
            ]
        },
        {
            "cell_type": "markdown",
            "id": "c28c2b11",
            "metadata": {},
            "source": [
                "### \u00c9tendues des fonctions\n",
                "\n",
                "Consid\u00e9rez le code suivant\n",
                "\n",
                "``` Python\n",
                "un = 25\n",
                "\n",
                "def return_value()\u00a0:\n",
                "un = 50\n",
                "retourner un\n",
                "\n",
                "imprimer(a)\n",
                "```\n"
            ]
        },
        {
            "cell_type": "code",
            "execution_count": 1,
            "id": "9cc13ff4",
            "metadata": {},
            "outputs": [
                {
                    "name": "stdout",
                    "output_type": "stream",
                    "text": [
                        "25\n"
                    ]
                }
            ],
            "source": [
                "a = 25\n",
                "\n",
                "def return_value():\n",
                "    a = 50\n",
                "    return a\n",
                "\n",
                "print(a)"
            ]
        },
        {
            "cell_type": "code",
            "execution_count": 2,
            "id": "5100071b",
            "metadata": {},
            "outputs": [
                {
                    "name": "stdout",
                    "output_type": "stream",
                    "text": [
                        "50\n"
                    ]
                }
            ],
            "source": [
                "print(return_value())"
            ]
        },
        {
            "cell_type": "code",
            "execution_count": null,
            "id": "93febbc8",
            "metadata": {},
            "outputs": [],
            "source": []
        },
        {
            "cell_type": "markdown",
            "id": "5f1f344d",
            "metadata": {},
            "source": [
                "### R\u00e8gle LEGB\n",
                "\n",
                "- **Local** est le bloc de code ou le corps de toute fonction Python.\n",
                "- **Enclosing** est une \u00e9tendue sp\u00e9ciale qui n'existe que pour les fonctions imbriqu\u00e9es.\n",
                "- **Global** est la port\u00e9e la plus \u00e9lev\u00e9e dans un programme, un script ou un module Python.\n",
                "- **\u00a0Int\u00e9gr\u00e9 ** est une \u00e9tendue Python sp\u00e9ciale qui est cr\u00e9\u00e9e ou charg\u00e9e chaque fois que vous ex\u00e9cutez un script ou ouvrez une session interactive.\n",
                "\n",
                "### La SEULE r\u00e8gle \u00e0 suivre\n",
                "- N'utilisez pas les m\u00eames noms dans des port\u00e9es diff\u00e9rentes.\n",
                "\n",
                "Exemple\u00a0: NE FAITES PAS CELA\n",
                "\n",
                "``` Python\n",
                "# Erreur\u00a0: \u00e9craser les \u00e9l\u00e9ments int\u00e9gr\u00e9s\n",
                "liste = 10\n",
                "\n",
                "# Erreur\u00a0: Utiliser des noms de variables globales dans la fonction\n",
                "x = 10\n",
                "\n",
                "def my_func()\u00a0:\n",
                "x = 30\n",
                "\n",
                "# Erreur\u00a0: Utiliser des noms de variables locales dans une fonction imbriqu\u00e9e\n",
                "\n",
                "def fonction_externe()\u00a0:\n",
                "x = 10\n",
                "\n",
                "def fonction_int\u00e9rieure()\u00a0:\n",
                "x = 20\n",
                "```\n"
            ]
        },
        {
            "cell_type": "code",
            "execution_count": 3,
            "id": "96618907",
            "metadata": {},
            "outputs": [
                {
                    "data": {
                        "text/plain": [
                            "[1, 2, 3]"
                        ]
                    },
                    "execution_count": 3,
                    "metadata": {},
                    "output_type": "execute_result"
                }
            ],
            "source": [
                "list((1, 2, 3))"
            ]
        },
        {
            "cell_type": "code",
            "execution_count": 4,
            "id": "6ebc5413",
            "metadata": {},
            "outputs": [],
            "source": [
                "list = 10"
            ]
        },
        {
            "cell_type": "code",
            "execution_count": 5,
            "id": "56634241",
            "metadata": {},
            "outputs": [
                {
                    "ename": "TypeError",
                    "evalue": "'int' object is not callable",
                    "output_type": "error",
                    "traceback": [
                        "\u001b[0;31m---------------------------------------------------------------------------\u001b[0m",
                        "\u001b[0;31mTypeError\u001b[0m                                 Traceback (most recent call last)",
                        "\u001b[0;32m/var/folders/5f/vgbh9pkd4wzf4ysrpf9wsr800000gn/T/ipykernel_20687/2918855310.py\u001b[0m in \u001b[0;36m<module>\u001b[0;34m\u001b[0m\n\u001b[0;32m----> 1\u001b[0;31m \u001b[0mlist\u001b[0m\u001b[0;34m(\u001b[0m\u001b[0;34m(\u001b[0m\u001b[0;36m10\u001b[0m\u001b[0;34m,\u001b[0m \u001b[0;36m20\u001b[0m\u001b[0;34m,\u001b[0m \u001b[0;36m30\u001b[0m\u001b[0;34m)\u001b[0m\u001b[0;34m)\u001b[0m\u001b[0;34m\u001b[0m\u001b[0;34m\u001b[0m\u001b[0m\n\u001b[0m",
                        "\u001b[0;31mTypeError\u001b[0m: 'int' object is not callable"
                    ]
                }
            ],
            "source": [
                "list((10, 20, 30))"
            ]
        },
        {
            "cell_type": "markdown",
            "id": "b7a67ad5",
            "metadata": {},
            "source": [
                "### Port\u00e9e locale\n",
                "\n",
                "Consid\u00e9rez ce code.\n",
                "\n",
                "``` Python\n",
                "def ma_fonction(a, b):\n",
                "r\u00e9sultat = a + b\n",
                "r\u00e9sultat de retour\n",
                "\n",
                "imprimer (r\u00e9sultat)\n",
                "imprimer(a)\n",
                "```\n"
            ]
        },
        {
            "cell_type": "code",
            "execution_count": 6,
            "id": "38a233f4",
            "metadata": {},
            "outputs": [
                {
                    "ename": "NameError",
                    "evalue": "name 'result' is not defined",
                    "output_type": "error",
                    "traceback": [
                        "\u001b[0;31m---------------------------------------------------------------------------\u001b[0m",
                        "\u001b[0;31mNameError\u001b[0m                                 Traceback (most recent call last)",
                        "\u001b[0;32m/var/folders/5f/vgbh9pkd4wzf4ysrpf9wsr800000gn/T/ipykernel_20687/3197235460.py\u001b[0m in \u001b[0;36m<module>\u001b[0;34m\u001b[0m\n\u001b[1;32m      3\u001b[0m     \u001b[0;32mreturn\u001b[0m \u001b[0mresult\u001b[0m\u001b[0;34m\u001b[0m\u001b[0;34m\u001b[0m\u001b[0m\n\u001b[1;32m      4\u001b[0m \u001b[0;34m\u001b[0m\u001b[0m\n\u001b[0;32m----> 5\u001b[0;31m \u001b[0mprint\u001b[0m\u001b[0;34m(\u001b[0m\u001b[0mresult\u001b[0m\u001b[0;34m)\u001b[0m\u001b[0;34m\u001b[0m\u001b[0;34m\u001b[0m\u001b[0m\n\u001b[0m\u001b[1;32m      6\u001b[0m \u001b[0mprint\u001b[0m\u001b[0;34m(\u001b[0m\u001b[0ma\u001b[0m\u001b[0;34m)\u001b[0m\u001b[0;34m\u001b[0m\u001b[0;34m\u001b[0m\u001b[0m\n",
                        "\u001b[0;31mNameError\u001b[0m: name 'result' is not defined"
                    ]
                }
            ],
            "source": [
                "def my_function(a, b):\n",
                "    result = a + b\n",
                "    return result\n",
                "\n",
                "print(result)\n",
                "print(a)"
            ]
        },
        {
            "cell_type": "code",
            "execution_count": null,
            "id": "0758fe99",
            "metadata": {},
            "outputs": [],
            "source": []
        },
        {
            "cell_type": "code",
            "execution_count": null,
            "id": "ec1e52eb",
            "metadata": {},
            "outputs": [],
            "source": []
        },
        {
            "cell_type": "markdown",
            "id": "d7449a11",
            "metadata": {},
            "source": [
                "### Enveloppant\n",
                "\n",
                "Consid\u00e9rez le code suivant.\n",
                "\n",
                "``` Python\n",
                "def fonction_externe()\u00a0:\n",
                "un = 10\n",
                "\n",
                "def fonction_int\u00e9rieure()\u00a0:\n",
                "b = 20\n",
                "imprimer(a + b)\n",
                "\n",
                "imprimer(a)\n",
                "impression(b)\n",
                "\n",
                "fonction_ext\u00e9rieure()\n",
                "fonction_int\u00e9rieure()\n",
                "```\n"
            ]
        },
        {
            "cell_type": "code",
            "execution_count": 10,
            "id": "4f5b408c",
            "metadata": {},
            "outputs": [
                {
                    "name": "stdout",
                    "output_type": "stream",
                    "text": [
                        "10\n",
                        "30\n"
                    ]
                }
            ],
            "source": [
                "def outer_function():\n",
                "    a = 10\n",
                "\n",
                "    def inner_function():\n",
                "        b = 20\n",
                "        print(a + b)\n",
                "\n",
                "    print(a)\n",
                "    # print(b)\n",
                "    inner_function()\n",
                "    \n",
                "outer_function()\n"
            ]
        },
        {
            "cell_type": "code",
            "execution_count": null,
            "id": "41e83fa6",
            "metadata": {},
            "outputs": [],
            "source": []
        },
        {
            "cell_type": "code",
            "execution_count": null,
            "id": "90524fd9",
            "metadata": {},
            "outputs": [],
            "source": []
        },
        {
            "cell_type": "markdown",
            "id": "60469ae5",
            "metadata": {},
            "source": [
                "### Mondial\n",
                "\n",
                "Consid\u00e9rez le code suivant.\n",
                "\n",
                "``` Python\n",
                "un = 10\n",
                "\n",
                "def update_a()\u00a0:\n",
                "un += 10\n",
                "\n",
                "update_a()\n",
                "```\n"
            ]
        },
        {
            "cell_type": "code",
            "execution_count": 12,
            "id": "87ed01dc",
            "metadata": {},
            "outputs": [],
            "source": [
                "a = 10\n",
                "\n",
                "def update_a():\n",
                "    global a\n",
                "    a += 10\n",
                "\n",
                "update_a()"
            ]
        },
        {
            "cell_type": "code",
            "execution_count": 13,
            "id": "0f4170e5",
            "metadata": {},
            "outputs": [
                {
                    "data": {
                        "text/plain": [
                            "20"
                        ]
                    },
                    "execution_count": 13,
                    "metadata": {},
                    "output_type": "execute_result"
                }
            ],
            "source": [
                "a"
            ]
        },
        {
            "cell_type": "code",
            "execution_count": null,
            "id": "0a49147c",
            "metadata": {},
            "outputs": [],
            "source": []
        },
        {
            "cell_type": "markdown",
            "id": "1855e03b",
            "metadata": {},
            "source": [
                "### Int\u00e9gr\u00e9\n",
                "\n",
                "``` Python\n",
                "vous (__builtins__)\n",
                "```\n"
            ]
        },
        {
            "cell_type": "code",
            "execution_count": 14,
            "id": "49faec11",
            "metadata": {},
            "outputs": [
                {
                    "data": {
                        "text/plain": [
                            "['ArithmeticError',\n",
                            " 'AssertionError',\n",
                            " 'AttributeError',\n",
                            " 'BaseException',\n",
                            " 'BlockingIOError',\n",
                            " 'BrokenPipeError',\n",
                            " 'BufferError',\n",
                            " 'BytesWarning',\n",
                            " 'ChildProcessError',\n",
                            " 'ConnectionAbortedError',\n",
                            " 'ConnectionError',\n",
                            " 'ConnectionRefusedError',\n",
                            " 'ConnectionResetError',\n",
                            " 'DeprecationWarning',\n",
                            " 'EOFError',\n",
                            " 'Ellipsis',\n",
                            " 'EnvironmentError',\n",
                            " 'Exception',\n",
                            " 'False',\n",
                            " 'FileExistsError',\n",
                            " 'FileNotFoundError',\n",
                            " 'FloatingPointError',\n",
                            " 'FutureWarning',\n",
                            " 'GeneratorExit',\n",
                            " 'IOError',\n",
                            " 'ImportError',\n",
                            " 'ImportWarning',\n",
                            " 'IndentationError',\n",
                            " 'IndexError',\n",
                            " 'InterruptedError',\n",
                            " 'IsADirectoryError',\n",
                            " 'KeyError',\n",
                            " 'KeyboardInterrupt',\n",
                            " 'LookupError',\n",
                            " 'MemoryError',\n",
                            " 'ModuleNotFoundError',\n",
                            " 'NameError',\n",
                            " 'None',\n",
                            " 'NotADirectoryError',\n",
                            " 'NotImplemented',\n",
                            " 'NotImplementedError',\n",
                            " 'OSError',\n",
                            " 'OverflowError',\n",
                            " 'PendingDeprecationWarning',\n",
                            " 'PermissionError',\n",
                            " 'ProcessLookupError',\n",
                            " 'RecursionError',\n",
                            " 'ReferenceError',\n",
                            " 'ResourceWarning',\n",
                            " 'RuntimeError',\n",
                            " 'RuntimeWarning',\n",
                            " 'StopAsyncIteration',\n",
                            " 'StopIteration',\n",
                            " 'SyntaxError',\n",
                            " 'SyntaxWarning',\n",
                            " 'SystemError',\n",
                            " 'SystemExit',\n",
                            " 'TabError',\n",
                            " 'TimeoutError',\n",
                            " 'True',\n",
                            " 'TypeError',\n",
                            " 'UnboundLocalError',\n",
                            " 'UnicodeDecodeError',\n",
                            " 'UnicodeEncodeError',\n",
                            " 'UnicodeError',\n",
                            " 'UnicodeTranslateError',\n",
                            " 'UnicodeWarning',\n",
                            " 'UserWarning',\n",
                            " 'ValueError',\n",
                            " 'Warning',\n",
                            " 'ZeroDivisionError',\n",
                            " '__IPYTHON__',\n",
                            " '__build_class__',\n",
                            " '__debug__',\n",
                            " '__doc__',\n",
                            " '__import__',\n",
                            " '__loader__',\n",
                            " '__name__',\n",
                            " '__package__',\n",
                            " '__spec__',\n",
                            " 'abs',\n",
                            " 'all',\n",
                            " 'any',\n",
                            " 'ascii',\n",
                            " 'bin',\n",
                            " 'bool',\n",
                            " 'breakpoint',\n",
                            " 'bytearray',\n",
                            " 'bytes',\n",
                            " 'callable',\n",
                            " 'chr',\n",
                            " 'classmethod',\n",
                            " 'compile',\n",
                            " 'complex',\n",
                            " 'copyright',\n",
                            " 'credits',\n",
                            " 'delattr',\n",
                            " 'dict',\n",
                            " 'dir',\n",
                            " 'display',\n",
                            " 'divmod',\n",
                            " 'enumerate',\n",
                            " 'eval',\n",
                            " 'exec',\n",
                            " 'execfile',\n",
                            " 'filter',\n",
                            " 'float',\n",
                            " 'format',\n",
                            " 'frozenset',\n",
                            " 'get_ipython',\n",
                            " 'getattr',\n",
                            " 'globals',\n",
                            " 'hasattr',\n",
                            " 'hash',\n",
                            " 'help',\n",
                            " 'hex',\n",
                            " 'id',\n",
                            " 'input',\n",
                            " 'int',\n",
                            " 'isinstance',\n",
                            " 'issubclass',\n",
                            " 'iter',\n",
                            " 'len',\n",
                            " 'license',\n",
                            " 'list',\n",
                            " 'locals',\n",
                            " 'map',\n",
                            " 'max',\n",
                            " 'memoryview',\n",
                            " 'min',\n",
                            " 'next',\n",
                            " 'object',\n",
                            " 'oct',\n",
                            " 'open',\n",
                            " 'ord',\n",
                            " 'pow',\n",
                            " 'print',\n",
                            " 'property',\n",
                            " 'range',\n",
                            " 'repr',\n",
                            " 'reversed',\n",
                            " 'round',\n",
                            " 'runfile',\n",
                            " 'set',\n",
                            " 'setattr',\n",
                            " 'slice',\n",
                            " 'sorted',\n",
                            " 'staticmethod',\n",
                            " 'str',\n",
                            " 'sum',\n",
                            " 'super',\n",
                            " 'tuple',\n",
                            " 'type',\n",
                            " 'vars',\n",
                            " 'zip']"
                        ]
                    },
                    "execution_count": 14,
                    "metadata": {},
                    "output_type": "execute_result"
                }
            ],
            "source": [
                "dir(__builtins__)"
            ]
        },
        {
            "cell_type": "code",
            "execution_count": null,
            "id": "cca55fdf",
            "metadata": {},
            "outputs": [],
            "source": []
        },
        {
            "cell_type": "code",
            "execution_count": null,
            "id": "48319aac",
            "metadata": {},
            "outputs": [],
            "source": []
        }
    ],
    "metadata": {
        "kernelspec": {
            "display_name": "Python 3",
            "language": "python",
            "name": "python3"
        },
        "language_info": {
            "codemirror_mode": {
                "name": "ipython",
                "version": 3
            },
            "file_extension": ".py",
            "mimetype": "text/x-python",
            "name": "python",
            "nbconvert_exporter": "python",
            "pygments_lexer": "ipython3",
            "version": "3.11.0"
        },
        "vscode": {
            "interpreter": {
                "hash": "9fedf123aa532497912d939029aac71791b23fba076af1a3c1eebd0e739bf47a"
            }
        }
    },
    "nbformat": 4,
    "nbformat_minor": 5
}