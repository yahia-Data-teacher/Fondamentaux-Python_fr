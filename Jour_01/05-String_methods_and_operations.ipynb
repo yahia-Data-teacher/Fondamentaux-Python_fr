{
    "cells": [
        {
            "cell_type": "markdown",
            "metadata": {
                "id": "view-in-github",
                "colab_type": "text"
            },
            "source": [
                "<a href=\"https://colab.research.google.com/github/yahia-kplr/Fondamentaux-Python_fr/blob/main/Jour_01/05-String_methods_and_operations.ipynb\" target=\"_blank\"><img src=\"https://colab.research.google.com/assets/colab-badge.svg\" alt=\"Open In Colab\"/></a>"
            ]
        },
        {
            "cell_type": "markdown",
            "id": "e7fd8d20",
            "metadata": {},
            "source": [
                "# String Methods and Operations in Python / NEED-TO-KNOW"
            ]
        },
        {
            "cell_type": "markdown",
            "id": "424750a3",
            "metadata": {},
            "source": [
                "### M\u00e9thodes de cha\u00eene Python\n",
                "\n",
                "Voici quelques m\u00e9thodes String qu'il est bon de conna\u00eetre ([docs](https://docs.python.org/3/library/stdtypes.html#string-methods))\n",
                "- `lower()` - Minuscule une cha\u00eene\n",
                "- `upper()` - Majuscule une cha\u00eene\n",
                "- `split()` - Divise une cha\u00eene en \u00e9l\u00e9ments (liste)\n",
                "- `replace('a', 'b')` - Remplace les occurrences de `a` par `b`\n"
            ]
        },
        {
            "cell_type": "code",
            "execution_count": 1,
            "id": "45149af3",
            "metadata": {},
            "outputs": [],
            "source": [
                "s = 'Hello, World!'"
            ]
        },
        {
            "cell_type": "code",
            "execution_count": 2,
            "id": "a942fb1e",
            "metadata": {},
            "outputs": [
                {
                    "data": {
                        "text/plain": [
                            "'hello, world!'"
                        ]
                    },
                    "execution_count": 2,
                    "metadata": {},
                    "output_type": "execute_result"
                }
            ],
            "source": [
                "s.lower()"
            ]
        },
        {
            "cell_type": "code",
            "execution_count": 3,
            "id": "9cd3c1e8",
            "metadata": {},
            "outputs": [
                {
                    "data": {
                        "text/plain": [
                            "'HELLO, WORLD!'"
                        ]
                    },
                    "execution_count": 3,
                    "metadata": {},
                    "output_type": "execute_result"
                }
            ],
            "source": [
                "s.upper()"
            ]
        },
        {
            "cell_type": "code",
            "execution_count": 4,
            "id": "f4a4a278",
            "metadata": {},
            "outputs": [
                {
                    "data": {
                        "text/plain": [
                            "['Hello,', 'World!']"
                        ]
                    },
                    "execution_count": 4,
                    "metadata": {},
                    "output_type": "execute_result"
                }
            ],
            "source": [
                "s.split()"
            ]
        },
        {
            "cell_type": "code",
            "execution_count": 6,
            "id": "fba5fe26",
            "metadata": {},
            "outputs": [
                {
                    "data": {
                        "text/plain": [
                            "['H', ' my fr', 'end']"
                        ]
                    },
                    "execution_count": 6,
                    "metadata": {},
                    "output_type": "execute_result"
                }
            ],
            "source": [
                "\"Hi my friend\".split('i')"
            ]
        },
        {
            "cell_type": "code",
            "execution_count": 7,
            "id": "be32e813",
            "metadata": {},
            "outputs": [],
            "source": [
                "s = 'Hello Natashja!'"
            ]
        },
        {
            "cell_type": "code",
            "execution_count": 8,
            "id": "b30c579b",
            "metadata": {},
            "outputs": [
                {
                    "data": {
                        "text/plain": [
                            "'Hello Anna!'"
                        ]
                    },
                    "execution_count": 8,
                    "metadata": {},
                    "output_type": "execute_result"
                }
            ],
            "source": [
                "s.replace('Natashja', 'Anna')"
            ]
        },
        {
            "cell_type": "code",
            "execution_count": 9,
            "id": "94a9ca12",
            "metadata": {},
            "outputs": [
                {
                    "data": {
                        "text/plain": [
                            "'acccaaacccacacacac'"
                        ]
                    },
                    "execution_count": 9,
                    "metadata": {},
                    "output_type": "execute_result"
                }
            ],
            "source": [
                "'abbbaaabbbabababab'.replace('b', 'c')"
            ]
        },
        {
            "cell_type": "code",
            "execution_count": null,
            "id": "6ebfb8ec",
            "metadata": {},
            "outputs": [],
            "source": []
        },
        {
            "cell_type": "markdown",
            "id": "8f95ca6a",
            "metadata": {},
            "source": [
                "### Op\u00e9rations sur les cha\u00eenes Python\n",
                "\n",
                "Quelques astuces\n",
                "```Python\n",
                "'avec'*20\n",
                "'Un' + 'Deux' + 'Trois'\n",
                "```\n"
            ]
        },
        {
            "cell_type": "code",
            "execution_count": 10,
            "id": "474cf8da",
            "metadata": {},
            "outputs": [
                {
                    "data": {
                        "text/plain": [
                            "'zzzzzzzzzzzzzzzzzzzz'"
                        ]
                    },
                    "execution_count": 10,
                    "metadata": {},
                    "output_type": "execute_result"
                }
            ],
            "source": [
                "'z'*20"
            ]
        },
        {
            "cell_type": "code",
            "execution_count": 11,
            "id": "6a9673ee",
            "metadata": {},
            "outputs": [
                {
                    "data": {
                        "text/plain": [
                            "'-.-.-.-.-.-.-.-.-.-.'"
                        ]
                    },
                    "execution_count": 11,
                    "metadata": {},
                    "output_type": "execute_result"
                }
            ],
            "source": [
                "'-.'*10"
            ]
        },
        {
            "cell_type": "code",
            "execution_count": 12,
            "id": "68bc83ec",
            "metadata": {},
            "outputs": [
                {
                    "data": {
                        "text/plain": [
                            "'OneTwoThree'"
                        ]
                    },
                    "execution_count": 12,
                    "metadata": {},
                    "output_type": "execute_result"
                }
            ],
            "source": [
                "'One' + 'Two' + 'Three'"
            ]
        },
        {
            "cell_type": "code",
            "execution_count": 13,
            "id": "904482b9",
            "metadata": {},
            "outputs": [
                {
                    "data": {
                        "text/plain": [
                            "8"
                        ]
                    },
                    "execution_count": 13,
                    "metadata": {},
                    "output_type": "execute_result"
                }
            ],
            "source": [
                "3 + 5"
            ]
        },
        {
            "cell_type": "code",
            "execution_count": 14,
            "id": "265ff2be",
            "metadata": {},
            "outputs": [
                {
                    "data": {
                        "text/plain": [
                            "'35'"
                        ]
                    },
                    "execution_count": 14,
                    "metadata": {},
                    "output_type": "execute_result"
                }
            ],
            "source": [
                "'3' + '5'"
            ]
        },
        {
            "cell_type": "code",
            "execution_count": null,
            "id": "ec7eb33d",
            "metadata": {},
            "outputs": [],
            "source": []
        }
    ],
    "metadata": {
        "kernelspec": {
            "display_name": "Python 3 (ipykernel)",
            "language": "python",
            "name": "python3"
        },
        "language_info": {
            "codemirror_mode": {
                "name": "ipython",
                "version": 3
            },
            "file_extension": ".py",
            "mimetype": "text/x-python",
            "name": "python",
            "nbconvert_exporter": "python",
            "pygments_lexer": "ipython3",
            "version": "3.9.13"
        }
    },
    "nbformat": 4,
    "nbformat_minor": 5
}