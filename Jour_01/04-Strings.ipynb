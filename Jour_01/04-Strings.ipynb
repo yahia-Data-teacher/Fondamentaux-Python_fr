{
    "cells": [
        {
            "cell_type": "markdown",
            "metadata": {
                "id": "view-in-github",
                "colab_type": "text"
            },
            "source": [
                "<a href=\"https://colab.research.google.com/github/yahia-kplr/Fondamentaux-Python_fr/blob/main/Jour_01/04-Strings.ipynb\" target=\"_blank\"><img src=\"https://colab.research.google.com/assets/colab-badge.svg\" alt=\"Open In Colab\"/></a>"
            ]
        },
        {
            "cell_type": "markdown",
            "metadata": {
                "id": "xywGwVLhL8Pq"
            },
            "source": [
                "# Cha\u00eenes\n"
            ]
        },
        {
            "cell_type": "markdown",
            "metadata": {
                "id": "nG-3OcjJL8Pr"
            },
            "source": [
                "Les cha\u00eenes sont utilis\u00e9es en Python pour enregistrer des informations textuelles, telles que des noms. Les cha\u00eenes en Python sont en fait une *s\u00e9quence*, ce qui signifie essentiellement que Python garde une trace de chaque \u00e9l\u00e9ment de la cha\u00eene en tant que s\u00e9quence. Par exemple, Python comprend la cha\u00eene \"bonjour\" comme une s\u00e9quence de lettres dans un ordre sp\u00e9cifique. Cela signifie que nous pourrons utiliser l'indexation pour saisir des lettres particuli\u00e8res (comme la premi\u00e8re lettre ou la derni\u00e8re lettre).\n",
                "\n",
                "Cette id\u00e9e de s\u00e9quence est importante en Python et nous y reviendrons plus tard dans le futur.\n",
                "\n",
                "Dans cette conf\u00e9rence, nous apprendrons ce qui suit\u00a0:\n",
                "\n",
                "1.) Cr\u00e9ation de cha\u00eenes\n",
                "2.) Cha\u00eenes d'impression\n",
                "3.) Indexation et d\u00e9coupage des cha\u00eenes\n",
                "4.) Propri\u00e9t\u00e9s de cha\u00eene\n",
                "5.) M\u00e9thodes de cha\u00eene\n",
                "6.) Formatage d'impression\n"
            ]
        },
        {
            "cell_type": "markdown",
            "metadata": {
                "id": "c3GuRUltL8Ps"
            },
            "source": [
                "## Cr\u00e9ation d'une cha\u00eene\n",
                "Pour cr\u00e9er une cha\u00eene en Python, vous devez utiliser des guillemets simples ou des guillemets doubles. Par exemple:\n"
            ]
        },
        {
            "cell_type": "code",
            "execution_count": null,
            "metadata": {
                "id": "A0lpH5tXL8Pt",
                "outputId": "bcd101d1-2961-4903-fc94-57e99a44a21c"
            },
            "outputs": [
                {
                    "data": {
                        "text/plain": [
                            "'hello'"
                        ]
                    },
                    "execution_count": 1,
                    "metadata": {},
                    "output_type": "execute_result"
                }
            ],
            "source": [
                "# Single word\n",
                "'hello'"
            ]
        },
        {
            "cell_type": "code",
            "execution_count": null,
            "metadata": {
                "id": "sXMXjQgyL8Pu",
                "outputId": "b655e0c4-b68a-4f1e-f6e7-db06b84137e7"
            },
            "outputs": [
                {
                    "data": {
                        "text/plain": [
                            "'This is also a string'"
                        ]
                    },
                    "execution_count": 2,
                    "metadata": {},
                    "output_type": "execute_result"
                }
            ],
            "source": [
                "# Entire phrase \n",
                "'This is also a string'"
            ]
        },
        {
            "cell_type": "code",
            "execution_count": null,
            "metadata": {
                "id": "pz3z-2LmL8Pv",
                "outputId": "1449578e-f14b-4101-e4fe-95f673d1119f"
            },
            "outputs": [
                {
                    "data": {
                        "text/plain": [
                            "'String built with double quotes'"
                        ]
                    },
                    "execution_count": 3,
                    "metadata": {},
                    "output_type": "execute_result"
                }
            ],
            "source": [
                "# We can also use double quote\n",
                "\"String built with double quotes\""
            ]
        },
        {
            "cell_type": "code",
            "execution_count": null,
            "metadata": {
                "id": "Y9m_QxwGL8Pv",
                "outputId": "fe3fc015-27e6-4ca3-e147-23ee1b83298c"
            },
            "outputs": [
                {
                    "ename": "SyntaxError",
                    "evalue": "invalid syntax (<ipython-input-4-da9a34b3dc31>, line 2)",
                    "output_type": "error",
                    "traceback": [
                        "\u001b[1;36m  File \u001b[1;32m\"<ipython-input-4-da9a34b3dc31>\"\u001b[1;36m, line \u001b[1;32m2\u001b[0m\n\u001b[1;33m    ' I'm using single quotes, but this will create an error'\u001b[0m\n\u001b[1;37m        ^\u001b[0m\n\u001b[1;31mSyntaxError\u001b[0m\u001b[1;31m:\u001b[0m invalid syntax\n"
                    ]
                }
            ],
            "source": [
                "# Be careful with quotes!\n",
                "' I'm using single quotes, but this will create an error'"
            ]
        },
        {
            "cell_type": "markdown",
            "metadata": {
                "id": "_3TDVTSdL8Pw"
            },
            "source": [
                "La raison de l'erreur ci-dessus est que le guillemet simple dans <code>Je suis</code> a arr\u00eat\u00e9 la cha\u00eene. Vous pouvez utiliser des combinaisons de guillemets doubles et simples pour obtenir l'instruction compl\u00e8te.\n"
            ]
        },
        {
            "cell_type": "code",
            "execution_count": null,
            "metadata": {
                "id": "uvsm43e3L8Pw",
                "outputId": "22e89de4-7e06-4da3-e27e-edc635eaab74"
            },
            "outputs": [
                {
                    "data": {
                        "text/plain": [
                            "\"Now I'm ready to use the single quotes inside a string!\""
                        ]
                    },
                    "execution_count": 5,
                    "metadata": {},
                    "output_type": "execute_result"
                }
            ],
            "source": [
                "\"Now I'm ready to use the single quotes inside a string!\""
            ]
        },
        {
            "cell_type": "markdown",
            "metadata": {
                "id": "-hqUTwszL8Pz"
            },
            "source": [
                "Apprenons maintenant \u00e0 imprimer des cha\u00eenes\u00a0!\n"
            ]
        },
        {
            "cell_type": "markdown",
            "metadata": {
                "id": "M1YQS7YuL8P0"
            },
            "source": [
                "## Impression d'une cha\u00eene\n",
                "\n",
                "L'utilisation du bloc-notes Jupyter avec juste une cha\u00eene dans une cellule g\u00e9n\u00e9rera automatiquement des cha\u00eenes, mais la bonne fa\u00e7on d'afficher les cha\u00eenes dans votre sortie consiste \u00e0 utiliser une fonction d'impression.\n"
            ]
        },
        {
            "cell_type": "code",
            "execution_count": null,
            "metadata": {
                "id": "ptnSxdhRL8P0",
                "outputId": "92c7dd07-7446-483d-fb00-e5eafb06763c"
            },
            "outputs": [
                {
                    "data": {
                        "text/plain": [
                            "'Hello World'"
                        ]
                    },
                    "execution_count": 6,
                    "metadata": {},
                    "output_type": "execute_result"
                }
            ],
            "source": [
                "# We can simply declare a string\n",
                "'Hello World'"
            ]
        },
        {
            "cell_type": "code",
            "execution_count": null,
            "metadata": {
                "id": "66xRthNQL8P1",
                "outputId": "0614b149-68d4-4c43-f7bc-a30aa6d5151e"
            },
            "outputs": [
                {
                    "data": {
                        "text/plain": [
                            "'Hello World 2'"
                        ]
                    },
                    "execution_count": 7,
                    "metadata": {},
                    "output_type": "execute_result"
                }
            ],
            "source": [
                "# Note that we can't output multiple strings this way\n",
                "'Hello World 1'\n",
                "'Hello World 2'"
            ]
        },
        {
            "cell_type": "markdown",
            "metadata": {
                "id": "ztXpVA5_L8P1"
            },
            "source": [
                "Nous pouvons utiliser une instruction print pour imprimer une cha\u00eene.\n"
            ]
        },
        {
            "cell_type": "code",
            "execution_count": null,
            "metadata": {
                "id": "-ddRoZ0qL8P1",
                "outputId": "5c84cb9a-1e0e-4a4d-b982-636fc4b72acc"
            },
            "outputs": [
                {
                    "name": "stdout",
                    "output_type": "stream",
                    "text": [
                        "Hello World 1\n",
                        "Hello World 2\n",
                        "Use \n",
                        " to print a new line\n",
                        "\n",
                        "\n",
                        "See what I mean?\n"
                    ]
                }
            ],
            "source": [
                "print('Hello World 1')\n",
                "print('Hello World 2')\n",
                "print('Use \\n to print a new line')\n",
                "print('\\n')\n",
                "print('See what I mean?')"
            ]
        },
        {
            "cell_type": "markdown",
            "metadata": {
                "id": "h74351BQL8P2"
            },
            "source": [
                "## Notions de base sur les cha\u00eenes\n"
            ]
        },
        {
            "cell_type": "markdown",
            "metadata": {
                "id": "KLCoyC0oL8P2"
            },
            "source": [
                "Nous pouvons \u00e9galement utiliser une fonction appel\u00e9e len() pour v\u00e9rifier la longueur d'une cha\u00eene !\n"
            ]
        },
        {
            "cell_type": "code",
            "execution_count": null,
            "metadata": {
                "id": "wSSOCXkpL8P2",
                "outputId": "9eea412c-4117-483c-a8f7-536741239ca2"
            },
            "outputs": [
                {
                    "data": {
                        "text/plain": [
                            "11"
                        ]
                    },
                    "execution_count": 9,
                    "metadata": {},
                    "output_type": "execute_result"
                }
            ],
            "source": [
                "len('Hello World')"
            ]
        },
        {
            "cell_type": "markdown",
            "metadata": {
                "id": "RndPXo_rL8P2"
            },
            "source": [
                "La fonction int\u00e9gr\u00e9e len() de Python compte tous les caract\u00e8res de la cha\u00eene, y compris les espaces et la ponctuation.\n"
            ]
        },
        {
            "cell_type": "markdown",
            "metadata": {
                "id": "X2j2CzynL8P3"
            },
            "source": [
                "## Indexation des cha\u00eenes\n",
                "Nous savons que les cha\u00eenes sont une s\u00e9quence, ce qui signifie que Python peut utiliser des index pour appeler des parties de la s\u00e9quence. Apprenons comment cela fonctionne.\n",
                "\n",
                "En Python, nous utilisons des crochets <code>[]</code> apr\u00e8s un objet pour appeler son index. Il convient \u00e9galement de noter que l'indexation commence \u00e0 0 pour Python. Cr\u00e9ons un nouvel objet appel\u00e9 <code>s</code> puis passons en revue quelques exemples d'indexation.\n"
            ]
        },
        {
            "cell_type": "code",
            "execution_count": null,
            "metadata": {
                "collapsed": true,
                "id": "ULyA_6oRL8P3"
            },
            "outputs": [],
            "source": [
                "# Assign s as a string\n",
                "s = 'Hello World'"
            ]
        },
        {
            "cell_type": "code",
            "execution_count": null,
            "metadata": {
                "id": "WndVFviML8P3",
                "outputId": "2c565168-e78e-4f9d-95e5-2444f66abbdb"
            },
            "outputs": [
                {
                    "data": {
                        "text/plain": [
                            "'Hello World'"
                        ]
                    },
                    "execution_count": 11,
                    "metadata": {},
                    "output_type": "execute_result"
                }
            ],
            "source": [
                "#Check\n",
                "s"
            ]
        },
        {
            "cell_type": "code",
            "execution_count": null,
            "metadata": {
                "id": "RCEx6ZjKL8P3",
                "outputId": "c812e88e-319c-4be8-b4c1-46f9fba069fe"
            },
            "outputs": [
                {
                    "name": "stdout",
                    "output_type": "stream",
                    "text": [
                        "Hello World\n"
                    ]
                }
            ],
            "source": [
                "# Print the object\n",
                "print(s) "
            ]
        },
        {
            "cell_type": "markdown",
            "metadata": {
                "id": "nBKVBidYL8P5"
            },
            "source": [
                "Commen\u00e7ons l'indexation\u00a0!\n"
            ]
        },
        {
            "cell_type": "code",
            "execution_count": null,
            "metadata": {
                "id": "4kj11s1dL8P5",
                "outputId": "b41e9612-b876-46c3-803d-95bdebe41288"
            },
            "outputs": [
                {
                    "data": {
                        "text/plain": [
                            "'H'"
                        ]
                    },
                    "execution_count": 13,
                    "metadata": {},
                    "output_type": "execute_result"
                }
            ],
            "source": [
                "# Show first element (in this case a letter)\n",
                "s[0]"
            ]
        },
        {
            "cell_type": "code",
            "execution_count": null,
            "metadata": {
                "id": "vPC_X7e0L8P5",
                "outputId": "18d2f485-3cc2-47b4-f757-cee506078a23"
            },
            "outputs": [
                {
                    "data": {
                        "text/plain": [
                            "'e'"
                        ]
                    },
                    "execution_count": 14,
                    "metadata": {},
                    "output_type": "execute_result"
                }
            ],
            "source": [
                "s[1]"
            ]
        },
        {
            "cell_type": "code",
            "execution_count": null,
            "metadata": {
                "id": "l4OC2DloL8P5",
                "outputId": "59b6a7f6-cda0-4dc7-9147-76ae9161a982"
            },
            "outputs": [
                {
                    "data": {
                        "text/plain": [
                            "'l'"
                        ]
                    },
                    "execution_count": 15,
                    "metadata": {},
                    "output_type": "execute_result"
                }
            ],
            "source": [
                "s[2]"
            ]
        },
        {
            "cell_type": "markdown",
            "metadata": {
                "id": "Q-8ABaXzL8P5"
            },
            "source": [
                "Nous pouvons utiliser un <code>:</code> pour effectuer un * d\u00e9coupage * qui saisit tout jusqu'\u00e0 un point d\u00e9sign\u00e9. Par exemple:\n"
            ]
        },
        {
            "cell_type": "code",
            "execution_count": null,
            "metadata": {
                "id": "KjrvxWVfL8P6",
                "outputId": "6285c328-ad43-4ba3-b441-f8b5a4ab6bd8"
            },
            "outputs": [
                {
                    "data": {
                        "text/plain": [
                            "'ello World'"
                        ]
                    },
                    "execution_count": 16,
                    "metadata": {},
                    "output_type": "execute_result"
                }
            ],
            "source": [
                "# Grab everything past the first term all the way to the length of s which is len(s)\n",
                "s[1:]"
            ]
        },
        {
            "cell_type": "code",
            "execution_count": null,
            "metadata": {
                "id": "l7uAW7BJL8P6",
                "outputId": "84d56ffa-643e-4bc8-fdf0-298edf61f636"
            },
            "outputs": [
                {
                    "data": {
                        "text/plain": [
                            "'Hello World'"
                        ]
                    },
                    "execution_count": 17,
                    "metadata": {},
                    "output_type": "execute_result"
                }
            ],
            "source": [
                "# Note that there is no change to the original s\n",
                "s"
            ]
        },
        {
            "cell_type": "code",
            "execution_count": null,
            "metadata": {
                "id": "pS00NDtCL8P6",
                "outputId": "53d76a85-a381-4261-ed4d-194d72aa3a9f"
            },
            "outputs": [
                {
                    "data": {
                        "text/plain": [
                            "'Hel'"
                        ]
                    },
                    "execution_count": 18,
                    "metadata": {},
                    "output_type": "execute_result"
                }
            ],
            "source": [
                "# Grab everything UP TO the 3rd index\n",
                "s[:3]"
            ]
        },
        {
            "cell_type": "markdown",
            "metadata": {
                "id": "qGmDvFprL8P6"
            },
            "source": [
                "Notez le d\u00e9coupage ci-dessus. Ici, nous disons \u00e0 Python de tout saisir de 0 \u00e0 3. Il n'inclut pas le 3\u00e8me index. Vous le remarquerez souvent en Python, o\u00f9 les d\u00e9clarations et sont g\u00e9n\u00e9ralement dans le contexte de \"jusqu'\u00e0, mais non compris\".\n"
            ]
        },
        {
            "cell_type": "code",
            "execution_count": null,
            "metadata": {
                "id": "5UrVeHkDL8P6",
                "outputId": "4f001da6-03d0-48ed-dde6-00f4dcd6a2c0"
            },
            "outputs": [
                {
                    "data": {
                        "text/plain": [
                            "'Hello World'"
                        ]
                    },
                    "execution_count": 19,
                    "metadata": {},
                    "output_type": "execute_result"
                }
            ],
            "source": [
                "#Everything\n",
                "s[:]"
            ]
        },
        {
            "cell_type": "markdown",
            "metadata": {
                "id": "rTyOvgPkL8P6"
            },
            "source": [
                "On peut aussi utiliser une indexation n\u00e9gative pour revenir en arri\u00e8re.\n"
            ]
        },
        {
            "cell_type": "code",
            "execution_count": null,
            "metadata": {
                "id": "_U5tx1LjL8P7",
                "outputId": "9a8327b6-15e2-4fb2-be85-5c8f7f41f7b8"
            },
            "outputs": [
                {
                    "data": {
                        "text/plain": [
                            "'d'"
                        ]
                    },
                    "execution_count": 20,
                    "metadata": {},
                    "output_type": "execute_result"
                }
            ],
            "source": [
                "# Last letter (one index behind 0 so it loops back around)\n",
                "s[-1]"
            ]
        },
        {
            "cell_type": "code",
            "execution_count": null,
            "metadata": {
                "id": "T51pgPnML8P7",
                "outputId": "edde19a6-4e30-4de3-e317-c965cd2d408e"
            },
            "outputs": [
                {
                    "data": {
                        "text/plain": [
                            "'Hello Worl'"
                        ]
                    },
                    "execution_count": 21,
                    "metadata": {},
                    "output_type": "execute_result"
                }
            ],
            "source": [
                "# Grab everything but the last letter\n",
                "s[:-1]"
            ]
        },
        {
            "cell_type": "markdown",
            "metadata": {
                "id": "5jwnETfCL8P7"
            },
            "source": [
                "Nous pouvons \u00e9galement utiliser la notation d'index et de tranche pour saisir les \u00e9l\u00e9ments d'une s\u00e9quence par une taille de pas sp\u00e9cifi\u00e9e (la valeur par d\u00e9faut est 1). Par exemple, nous pouvons utiliser deux deux-points \u00e0 la suite, puis un nombre sp\u00e9cifiant la fr\u00e9quence de saisie des \u00e9l\u00e9ments. Par exemple:\n"
            ]
        },
        {
            "cell_type": "code",
            "execution_count": null,
            "metadata": {
                "id": "sHbxdtstL8P8",
                "outputId": "86ef2415-80c5-4e4e-d3b8-380bf0f27234"
            },
            "outputs": [
                {
                    "data": {
                        "text/plain": [
                            "'Hello World'"
                        ]
                    },
                    "execution_count": 22,
                    "metadata": {},
                    "output_type": "execute_result"
                }
            ],
            "source": [
                "# Grab everything, but go in steps size of 1\n",
                "s[::1]"
            ]
        },
        {
            "cell_type": "code",
            "execution_count": null,
            "metadata": {
                "id": "6vwowFl6L8P8",
                "outputId": "4718f9c8-9f41-4030-d47f-d2916f8e35e7"
            },
            "outputs": [
                {
                    "data": {
                        "text/plain": [
                            "'HloWrd'"
                        ]
                    },
                    "execution_count": 23,
                    "metadata": {},
                    "output_type": "execute_result"
                }
            ],
            "source": [
                "# Grab everything, but go in step sizes of 2\n",
                "s[::2]"
            ]
        },
        {
            "cell_type": "code",
            "execution_count": null,
            "metadata": {
                "id": "7g_tq7CmL8P8",
                "outputId": "3348b1a8-f035-42b4-875f-2cf4a57a584b"
            },
            "outputs": [
                {
                    "data": {
                        "text/plain": [
                            "'dlroW olleH'"
                        ]
                    },
                    "execution_count": 24,
                    "metadata": {},
                    "output_type": "execute_result"
                }
            ],
            "source": [
                "# We can use this to print a string backwards\n",
                "s[::-1]"
            ]
        },
        {
            "cell_type": "markdown",
            "metadata": {
                "collapsed": true,
                "id": "jseF5BPwL8P8"
            },
            "source": [
                "## Propri\u00e9t\u00e9s de la cha\u00eene\n",
                "Il est important de noter que les cha\u00eenes ont une propri\u00e9t\u00e9 importante appel\u00e9e *immuabilit\u00e9*. Cela signifie qu'une fois qu'une cha\u00eene est cr\u00e9\u00e9e, les \u00e9l\u00e9ments qu'elle contient ne peuvent pas \u00eatre modifi\u00e9s ou remplac\u00e9s. Par exemple:\n"
            ]
        },
        {
            "cell_type": "code",
            "execution_count": null,
            "metadata": {
                "id": "LggSXpn8L8P9",
                "outputId": "75708b6a-af0f-4bd0-fa4b-719203729d0e"
            },
            "outputs": [
                {
                    "data": {
                        "text/plain": [
                            "'Hello World'"
                        ]
                    },
                    "execution_count": 25,
                    "metadata": {},
                    "output_type": "execute_result"
                }
            ],
            "source": [
                "s"
            ]
        },
        {
            "cell_type": "code",
            "execution_count": null,
            "metadata": {
                "id": "g5Jj4V4hL8P9",
                "outputId": "b9c058f6-1204-4f11-d1c6-a73a36cf4144"
            },
            "outputs": [
                {
                    "ename": "TypeError",
                    "evalue": "'str' object does not support item assignment",
                    "output_type": "error",
                    "traceback": [
                        "\u001b[1;31m---------------------------------------------------------------------------\u001b[0m",
                        "\u001b[1;31mTypeError\u001b[0m                                 Traceback (most recent call last)",
                        "\u001b[1;32m<ipython-input-26-976942677f11>\u001b[0m in \u001b[0;36m<module>\u001b[1;34m()\u001b[0m\n\u001b[0;32m      1\u001b[0m \u001b[1;31m# Let's try to change the first letter to 'x'\u001b[0m\u001b[1;33m\u001b[0m\u001b[1;33m\u001b[0m\u001b[0m\n\u001b[1;32m----> 2\u001b[1;33m \u001b[0ms\u001b[0m\u001b[1;33m[\u001b[0m\u001b[1;36m0\u001b[0m\u001b[1;33m]\u001b[0m \u001b[1;33m=\u001b[0m \u001b[1;34m'x'\u001b[0m\u001b[1;33m\u001b[0m\u001b[0m\n\u001b[0m",
                        "\u001b[1;31mTypeError\u001b[0m: 'str' object does not support item assignment"
                    ]
                }
            ],
            "source": [
                "# Let's try to change the first letter to 'x'\n",
                "s[0] = 'x'"
            ]
        },
        {
            "cell_type": "markdown",
            "metadata": {
                "id": "Yf8p8MY-L8P9"
            },
            "source": [
                "Remarquez comment l'erreur nous dit directement ce que nous ne pouvons pas faire, changer l'affectation de l'\u00e9l\u00e9ment\u00a0!\n",
                "\n",
                "Quelque chose que nous *pouvons* faire est de concat\u00e9ner des cha\u00eenes\u00a0!\n"
            ]
        },
        {
            "cell_type": "code",
            "execution_count": null,
            "metadata": {
                "id": "NB3klCNTL8P9",
                "outputId": "94a0f9b5-f533-4850-b972-7f2e1ff3ba8c"
            },
            "outputs": [
                {
                    "data": {
                        "text/plain": [
                            "'Hello World'"
                        ]
                    },
                    "execution_count": 27,
                    "metadata": {},
                    "output_type": "execute_result"
                }
            ],
            "source": [
                "s"
            ]
        },
        {
            "cell_type": "code",
            "execution_count": null,
            "metadata": {
                "id": "4jgxuuwWL8P9",
                "outputId": "b75bf391-a0f3-4304-fcd1-2c5595c6dbb1"
            },
            "outputs": [
                {
                    "data": {
                        "text/plain": [
                            "'Hello World concatenate me!'"
                        ]
                    },
                    "execution_count": 28,
                    "metadata": {},
                    "output_type": "execute_result"
                }
            ],
            "source": [
                "# Concatenate strings!\n",
                "s + ' concatenate me!'"
            ]
        },
        {
            "cell_type": "code",
            "execution_count": null,
            "metadata": {
                "collapsed": true,
                "id": "KgKvASwWL8P9"
            },
            "outputs": [],
            "source": [
                "# We can reassign s completely though!\n",
                "s = s + ' concatenate me!'"
            ]
        },
        {
            "cell_type": "code",
            "execution_count": null,
            "metadata": {
                "id": "P9GxEtRsL8P-",
                "outputId": "39101709-0798-4679-f224-49317c853bb3"
            },
            "outputs": [
                {
                    "name": "stdout",
                    "output_type": "stream",
                    "text": [
                        "Hello World concatenate me!\n"
                    ]
                }
            ],
            "source": [
                "print(s)"
            ]
        },
        {
            "cell_type": "code",
            "execution_count": null,
            "metadata": {
                "id": "m7tXGGfgL8P-",
                "outputId": "105e6ca9-347d-491f-8a16-d55edabd82fa"
            },
            "outputs": [
                {
                    "data": {
                        "text/plain": [
                            "'Hello World concatenate me!'"
                        ]
                    },
                    "execution_count": 31,
                    "metadata": {},
                    "output_type": "execute_result"
                }
            ],
            "source": [
                "s"
            ]
        },
        {
            "cell_type": "markdown",
            "metadata": {
                "id": "g3VapNDBL8P-"
            },
            "source": [
                "Nous pouvons utiliser le symbole de multiplication pour cr\u00e9er une r\u00e9p\u00e9tition\u00a0!\n"
            ]
        },
        {
            "cell_type": "code",
            "execution_count": null,
            "metadata": {
                "collapsed": true,
                "id": "SnU6RL8KL8P_"
            },
            "outputs": [],
            "source": [
                "letter = 'z'"
            ]
        },
        {
            "cell_type": "code",
            "execution_count": null,
            "metadata": {
                "id": "TcAx5sQXL8P_",
                "outputId": "ae82a1fd-fa66-4119-f142-e3df3d3e95b8"
            },
            "outputs": [
                {
                    "data": {
                        "text/plain": [
                            "'zzzzzzzzzz'"
                        ]
                    },
                    "execution_count": 33,
                    "metadata": {},
                    "output_type": "execute_result"
                }
            ],
            "source": [
                "letter*10"
            ]
        },
        {
            "cell_type": "markdown",
            "metadata": {
                "id": "WhKwBCUpL8P_"
            },
            "source": [
                "## M\u00e9thodes de cha\u00eene int\u00e9gr\u00e9es de base\n",
                "\n",
                "Les objets en Python ont g\u00e9n\u00e9ralement des m\u00e9thodes int\u00e9gr\u00e9es. Ces m\u00e9thodes sont des fonctions \u00e0 l'int\u00e9rieur de l'objet (nous en apprendrons plus en d\u00e9tail plus tard) qui peuvent effectuer des actions ou des commandes sur l'objet lui-m\u00eame.\n",
                "\n",
                "Nous appelons les m\u00e9thodes avec un point puis le nom de la m\u00e9thode. Les m\u00e9thodes sont sous la forme :\n",
                "\n",
                "object.method(param\u00e8tres)\n",
                "\n",
                "O\u00f9 les param\u00e8tres sont des arguments suppl\u00e9mentaires que nous pouvons passer dans la m\u00e9thode. Ne vous inqui\u00e9tez pas si les d\u00e9tails n'ont pas de sens \u00e0 100% en ce moment. Plus tard, nous cr\u00e9erons nos propres objets et fonctions\u00a0!\n",
                "\n",
                "Voici quelques exemples de m\u00e9thodes int\u00e9gr\u00e9es dans les cha\u00eenes\u00a0:\n"
            ]
        },
        {
            "cell_type": "code",
            "execution_count": null,
            "metadata": {
                "id": "Us4KZnWPL8P_",
                "outputId": "2b22f9b7-a7e3-461f-bf4c-6849df07d106"
            },
            "outputs": [
                {
                    "data": {
                        "text/plain": [
                            "'Hello World concatenate me!'"
                        ]
                    },
                    "execution_count": 34,
                    "metadata": {},
                    "output_type": "execute_result"
                }
            ],
            "source": [
                "s"
            ]
        },
        {
            "cell_type": "code",
            "execution_count": null,
            "metadata": {
                "id": "LESVeqmbL8P_",
                "outputId": "9c512877-8308-46db-ff84-bb78b0eb7148"
            },
            "outputs": [
                {
                    "data": {
                        "text/plain": [
                            "'HELLO WORLD CONCATENATE ME!'"
                        ]
                    },
                    "execution_count": 35,
                    "metadata": {},
                    "output_type": "execute_result"
                }
            ],
            "source": [
                "# Upper Case a string\n",
                "s.upper()"
            ]
        },
        {
            "cell_type": "code",
            "execution_count": null,
            "metadata": {
                "id": "0UmcefV_L8QA",
                "outputId": "f7ea5449-6a85-4616-82b2-40c719d9ac98"
            },
            "outputs": [
                {
                    "data": {
                        "text/plain": [
                            "'hello world concatenate me!'"
                        ]
                    },
                    "execution_count": 36,
                    "metadata": {},
                    "output_type": "execute_result"
                }
            ],
            "source": [
                "# Lower case\n",
                "s.lower()"
            ]
        },
        {
            "cell_type": "code",
            "execution_count": null,
            "metadata": {
                "id": "uguG94ZHL8QA",
                "outputId": "cca1ce20-2fa1-4955-e2c9-9f5e2a2ea84a"
            },
            "outputs": [
                {
                    "data": {
                        "text/plain": [
                            "['Hello', 'World', 'concatenate', 'me!']"
                        ]
                    },
                    "execution_count": 37,
                    "metadata": {},
                    "output_type": "execute_result"
                }
            ],
            "source": [
                "# Split a string by blank space (this is the default)\n",
                "s.split()"
            ]
        },
        {
            "cell_type": "code",
            "execution_count": null,
            "metadata": {
                "id": "dqn262kQL8QB",
                "outputId": "c13ff1b0-1565-4280-d4dd-c541ece65192"
            },
            "outputs": [
                {
                    "data": {
                        "text/plain": [
                            "['Hello ', 'orld concatenate me!']"
                        ]
                    },
                    "execution_count": 38,
                    "metadata": {},
                    "output_type": "execute_result"
                }
            ],
            "source": [
                "# Split by a specific element (doesn't include the element that was split on)\n",
                "s.split('W')"
            ]
        },
        {
            "cell_type": "markdown",
            "metadata": {
                "id": "oIT81MHqL8QB"
            },
            "source": [
                "Il existe de nombreuses autres m\u00e9thodes que celles d\u00e9crites ici. Visitez la section Advanced String pour en savoir plus !\n"
            ]
        },
        {
            "cell_type": "markdown",
            "metadata": {
                "id": "uBBhs5FtWg67"
            },
            "source": [
                "# Op\u00e9rations sur les cha\u00eenes en Python\n"
            ]
        },
        {
            "cell_type": "markdown",
            "metadata": {
                "id": "jE5XkrLxWg67"
            },
            "source": [
                "**Lecture de l'utilisateur d'entr\u00e9e**\n",
                "\n",
                "Utilisez la fonction input () pour lire les informations fournies par l'utilisateur\n"
            ]
        },
        {
            "cell_type": "code",
            "execution_count": null,
            "metadata": {
                "id": "7MUY7QdNWg68"
            },
            "outputs": [],
            "source": [
                "name = input('Enter your name: ')"
            ]
        },
        {
            "cell_type": "code",
            "execution_count": null,
            "metadata": {
                "scrolled": true,
                "id": "qRqmSnRWWg68"
            },
            "outputs": [],
            "source": [
                "#Print the given name\n"
            ]
        },
        {
            "cell_type": "markdown",
            "metadata": {
                "id": "gP8aCMeDWg68"
            },
            "source": [
                "**Concat\u00e9nation de cha\u00eenes**\n"
            ]
        },
        {
            "cell_type": "code",
            "execution_count": null,
            "metadata": {
                "id": "tfYtIc6uWg68"
            },
            "outputs": [],
            "source": [
                "# Concatenation\n",
                "str1 = \"Hello\"\n",
                "str2 = 'there'\n",
                "bob = str1 + str2\n",
                "print (bob)"
            ]
        },
        {
            "cell_type": "code",
            "execution_count": null,
            "metadata": {
                "id": "2urVFwHpWg69"
            },
            "outputs": [],
            "source": [
                "# Concatenation\n",
                "str3 = '123'\n",
                "str3 = str3 + 1"
            ]
        },
        {
            "cell_type": "code",
            "execution_count": null,
            "metadata": {
                "id": "bfY77egFWg69"
            },
            "outputs": [],
            "source": [
                "word=\"Hello world\""
            ]
        },
        {
            "cell_type": "markdown",
            "metadata": {
                "id": "8GMcHSvJWg69"
            },
            "source": [
                "**Propri\u00e9t\u00e9s de la cha\u00eene**\n"
            ]
        },
        {
            "cell_type": "code",
            "execution_count": null,
            "metadata": {
                "id": "gy08ZkLCWg69"
            },
            "outputs": [],
            "source": [
                "#what's the first caracter of the word"
            ]
        },
        {
            "cell_type": "code",
            "execution_count": null,
            "metadata": {
                "id": "8lgUQECRWg69"
            },
            "outputs": [],
            "source": [
                "#what's the third caracter of the word"
            ]
        },
        {
            "cell_type": "code",
            "execution_count": null,
            "metadata": {
                "id": "zb28TEUFWg6-"
            },
            "outputs": [],
            "source": [
                "#what's the last caracter of the word"
            ]
        },
        {
            "cell_type": "code",
            "execution_count": null,
            "metadata": {
                "id": "tN0V_tAIWg6-"
            },
            "outputs": [],
            "source": [
                "#what's the length of the word"
            ]
        },
        {
            "cell_type": "code",
            "execution_count": null,
            "metadata": {
                "id": "6zHfpr6NWg6-"
            },
            "outputs": [],
            "source": [
                "#print each caracter of the word"
            ]
        },
        {
            "cell_type": "markdown",
            "metadata": {
                "id": "umel6cxnWg6-"
            },
            "source": [
                "**Op\u00e9rateurs logiques**\n"
            ]
        },
        {
            "cell_type": "code",
            "execution_count": null,
            "metadata": {
                "id": "OilulwqMWg6-"
            },
            "outputs": [],
            "source": [
                "#test if the word contains the letter \"a\""
            ]
        },
        {
            "cell_type": "code",
            "execution_count": null,
            "metadata": {
                "id": "kH-a-PBGWg6_"
            },
            "outputs": [],
            "source": [
                "#test if the word contains the letter \"l\""
            ]
        },
        {
            "cell_type": "code",
            "execution_count": null,
            "metadata": {
                "id": "ub0PfONTWg6_"
            },
            "outputs": [],
            "source": [
                "#test if the word contains the string \"lo\""
            ]
        },
        {
            "cell_type": "markdown",
            "metadata": {
                "id": "jTYoF96WWg6_"
            },
            "source": [
                "**Op\u00e9rations sur les cha\u00eenes**\n"
            ]
        },
        {
            "cell_type": "code",
            "execution_count": null,
            "metadata": {
                "id": "BqHRD87eWg6_"
            },
            "outputs": [],
            "source": [
                "#test if the word starts with the letter \"h\""
            ]
        },
        {
            "cell_type": "code",
            "execution_count": null,
            "metadata": {
                "id": "JwYgVU-_Wg6_"
            },
            "outputs": [],
            "source": [
                "#test if the word ends with the letter \"d\""
            ]
        },
        {
            "cell_type": "code",
            "execution_count": null,
            "metadata": {
                "id": "MF5IvbKsWg7A"
            },
            "outputs": [],
            "source": [
                "#test if the word is upper case"
            ]
        },
        {
            "cell_type": "code",
            "execution_count": null,
            "metadata": {
                "id": "6gKcDRebWg7A"
            },
            "outputs": [],
            "source": [
                "#put the word in upper case"
            ]
        },
        {
            "cell_type": "code",
            "execution_count": null,
            "metadata": {
                "id": "rRlRphyzWg7A"
            },
            "outputs": [],
            "source": [
                "#find the position of string \"World\" in the word"
            ]
        },
        {
            "cell_type": "markdown",
            "metadata": {
                "id": "kU1KS_YsL8QB"
            },
            "source": [
                "# Formatage d'impression\n",
                "\n",
                "Nous pouvons utiliser la m\u00e9thode .format() pour ajouter des objets format\u00e9s aux instructions de cha\u00eene imprim\u00e9es.\n",
                "\n",
                "Le moyen le plus simple de le montrer est \u00e0 travers un exemple :\n"
            ]
        },
        {
            "cell_type": "code",
            "execution_count": null,
            "metadata": {
                "id": "oUai9_4ZL8QB",
                "outputId": "7aa710c0-fb7b-4279-af5c-9f0dd8b5ab25"
            },
            "outputs": [
                {
                    "data": {
                        "text/plain": [
                            "'Insert another string with curly brackets: The inserted string'"
                        ]
                    },
                    "execution_count": 39,
                    "metadata": {},
                    "output_type": "execute_result"
                }
            ],
            "source": [
                "'Insert another string with curly brackets: {}'.format('The inserted string')"
            ]
        },
        {
            "cell_type": "markdown",
            "metadata": {
                "id": "CKXy8DAML8QB"
            },
            "source": [
                "Nous reviendrons sur ce sujet de formatage de cha\u00eene dans les sections ult\u00e9rieures lorsque nous construirons nos projets\u00a0!\n"
            ]
        }
    ],
    "metadata": {
        "kernelspec": {
            "display_name": "Python 3",
            "language": "python",
            "name": "python3"
        },
        "language_info": {
            "codemirror_mode": {
                "name": "ipython",
                "version": 3
            },
            "file_extension": ".py",
            "mimetype": "text/x-python",
            "name": "python",
            "nbconvert_exporter": "python",
            "pygments_lexer": "ipython3",
            "version": "3.6.6"
        }
    },
    "nbformat": 4,
    "nbformat_minor": 0
}