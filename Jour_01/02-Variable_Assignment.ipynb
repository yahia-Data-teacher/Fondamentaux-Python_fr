{
    "cells": [
        {
            "cell_type": "markdown",
            "metadata": {
                "id": "view-in-github",
                "colab_type": "text"
            },
            "source": [
                "<a href=\"https://colab.research.google.com/github/yahia-kplr/Fondamentaux-Python_fr/blob/main/Jour_01/02-Variable_Assignment.ipynb\" target=\"_blank\"><img src=\"https://colab.research.google.com/assets/colab-badge.svg\" alt=\"Open In Colab\"/></a>"
            ]
        },
        {
            "cell_type": "markdown",
            "metadata": {
                "id": "aDoBclfCHb3J"
            },
            "source": [
                "# Variable Assignment\n",
                "\n",
                "## Rules for variable names\n",
                "* names can not start with a number\n",
                "* names can not contain spaces, use _ intead\n",
                "* names can not contain any of these symbols:\n",
                "\n",
                "      :'\",<>/?|\\!@#%^&*~-+\n",
                "       \n",
                "* it's considered best practice ([PEP8](https://www.python.org/dev/peps/pep-0008/#function-and-variable-names)) that names are lowercase with underscores\n",
                "* avoid using Python built-in keywords like `list` and `str`\n",
                "* avoid using the single characters `l` (lowercase letter el), `O` (uppercase letter oh) and `I` (uppercase letter eye) as they can be confused with `1` and `0`"
            ]
        },
        {
            "cell_type": "markdown",
            "metadata": {
                "id": "FyLG6fz9Hb3L"
            },
            "source": [
                "## Saisie dynamique\n",
                "\n",
                "Python utilise le *typage dynamique*, ce qui signifie que vous pouvez r\u00e9affecter des variables \u00e0 diff\u00e9rents types de donn\u00e9es. Cela rend Python tr\u00e8s flexible dans l'attribution des types de donn\u00e9es ; il diff\u00e8re des autres langages qui sont *typ\u00e9s statiquement*.\n"
            ]
        },
        {
            "cell_type": "code",
            "execution_count": null,
            "metadata": {
                "collapsed": true,
                "id": "m85oXFQgHb3L"
            },
            "outputs": [],
            "source": [
                "my_dogs = 2"
            ]
        },
        {
            "cell_type": "code",
            "execution_count": null,
            "metadata": {
                "id": "irn54nYLHb3M",
                "outputId": "40339cde-c625-4f4d-ed85-554e0427c2ce"
            },
            "outputs": [
                {
                    "data": {
                        "text/plain": [
                            "2"
                        ]
                    },
                    "execution_count": 2,
                    "metadata": {},
                    "output_type": "execute_result"
                }
            ],
            "source": [
                "my_dogs"
            ]
        },
        {
            "cell_type": "code",
            "execution_count": null,
            "metadata": {
                "collapsed": true,
                "id": "dCW7VRewHb3N"
            },
            "outputs": [],
            "source": [
                "my_dogs = ['Sammy', 'Frankie']"
            ]
        },
        {
            "cell_type": "code",
            "execution_count": null,
            "metadata": {
                "id": "Y-wKtIVxHb3O",
                "outputId": "5a337c7d-cabd-4ff8-a0d0-cfd5b811aa7e"
            },
            "outputs": [
                {
                    "data": {
                        "text/plain": [
                            "['Sammy', 'Frankie']"
                        ]
                    },
                    "execution_count": 4,
                    "metadata": {},
                    "output_type": "execute_result"
                }
            ],
            "source": [
                "my_dogs"
            ]
        },
        {
            "cell_type": "markdown",
            "metadata": {
                "id": "n6DEJdeiHb3P"
            },
            "source": [
                "## Affectation de variables\n",
                "L'affectation de variable suit `name = object`, o\u00f9 un seul signe \u00e9gal `=` est un * op\u00e9rateur d'affectation *\n"
            ]
        },
        {
            "cell_type": "code",
            "execution_count": null,
            "metadata": {
                "collapsed": true,
                "id": "jd4wyz9PHb3Q"
            },
            "outputs": [],
            "source": [
                "a = 5"
            ]
        },
        {
            "cell_type": "code",
            "execution_count": null,
            "metadata": {
                "id": "4pzDBuofHb3Q",
                "outputId": "29055a0f-8023-49d8-d9ff-ede9657d0b4f"
            },
            "outputs": [
                {
                    "data": {
                        "text/plain": [
                            "5"
                        ]
                    },
                    "execution_count": 6,
                    "metadata": {},
                    "output_type": "execute_result"
                }
            ],
            "source": [
                "a"
            ]
        },
        {
            "cell_type": "markdown",
            "metadata": {
                "id": "jC1zku7zHb3R"
            },
            "source": [
                "Ici, nous avons assign\u00e9 l'objet entier `5` au nom de la variable `a`.<br>Attribuons `a` \u00e0 autre chose\u00a0:\n"
            ]
        },
        {
            "cell_type": "code",
            "execution_count": null,
            "metadata": {
                "collapsed": true,
                "id": "qMBM-zQmHb3S"
            },
            "outputs": [],
            "source": [
                "a = 10"
            ]
        },
        {
            "cell_type": "code",
            "execution_count": null,
            "metadata": {
                "id": "PKB129j_Hb3S",
                "outputId": "3a583c3d-bd9e-4767-d1ed-ed6e3a3c9379"
            },
            "outputs": [
                {
                    "data": {
                        "text/plain": [
                            "10"
                        ]
                    },
                    "execution_count": 8,
                    "metadata": {},
                    "output_type": "execute_result"
                }
            ],
            "source": [
                "a"
            ]
        },
        {
            "cell_type": "markdown",
            "metadata": {
                "id": "Be7Y5-b2Hb3T"
            },
            "source": [
                "Vous pouvez maintenant utiliser 'a' \u00e0 la place du nombre '10'\u00a0:\n"
            ]
        },
        {
            "cell_type": "code",
            "execution_count": null,
            "metadata": {
                "id": "nxwEDb4NHb3T",
                "outputId": "f611146f-0e4e-4044-b545-f371e79fe981"
            },
            "outputs": [
                {
                    "data": {
                        "text/plain": [
                            "20"
                        ]
                    },
                    "execution_count": 9,
                    "metadata": {},
                    "output_type": "execute_result"
                }
            ],
            "source": [
                "a + a"
            ]
        },
        {
            "cell_type": "markdown",
            "metadata": {
                "id": "LqN9w2hlHb3T"
            },
            "source": [
                "## R\u00e9affecter des variables\n",
                "Python vous permet de r\u00e9affecter des variables avec une r\u00e9f\u00e9rence au m\u00eame objet.\n"
            ]
        },
        {
            "cell_type": "code",
            "execution_count": null,
            "metadata": {
                "collapsed": true,
                "id": "WJEPO1z1Hb3T"
            },
            "outputs": [],
            "source": [
                "a = a + 10"
            ]
        },
        {
            "cell_type": "code",
            "execution_count": null,
            "metadata": {
                "id": "G0itmyBNHb3U",
                "outputId": "528304e4-615b-4430-fd2a-d48d28f0bf42"
            },
            "outputs": [
                {
                    "data": {
                        "text/plain": [
                            "20"
                        ]
                    },
                    "execution_count": 11,
                    "metadata": {},
                    "output_type": "execute_result"
                }
            ],
            "source": [
                "a"
            ]
        },
        {
            "cell_type": "markdown",
            "metadata": {
                "id": "WdiMiYGVHb3U"
            },
            "source": [
                "Il existe en fait un raccourci pour cela. Python vous permet d'ajouter, de soustraire, de multiplier et de diviser des nombres avec r\u00e9affectation en utilisant `+=`, `-=`, `*=` et `/=`.\n"
            ]
        },
        {
            "cell_type": "code",
            "execution_count": null,
            "metadata": {
                "collapsed": true,
                "id": "8B8yWkHZHb3U"
            },
            "outputs": [],
            "source": [
                "a += 10"
            ]
        },
        {
            "cell_type": "code",
            "execution_count": null,
            "metadata": {
                "id": "MtTT7L26Hb3U",
                "outputId": "3fbec23d-0f0d-458c-d29d-47cb85265462"
            },
            "outputs": [
                {
                    "data": {
                        "text/plain": [
                            "30"
                        ]
                    },
                    "execution_count": 13,
                    "metadata": {},
                    "output_type": "execute_result"
                }
            ],
            "source": [
                "a"
            ]
        },
        {
            "cell_type": "code",
            "execution_count": null,
            "metadata": {
                "collapsed": true,
                "id": "oT8EIrO1Hb3V"
            },
            "outputs": [],
            "source": [
                "a *= 2"
            ]
        },
        {
            "cell_type": "code",
            "execution_count": null,
            "metadata": {
                "id": "p58x7SwvHb3V",
                "outputId": "740552e3-75c5-4496-9c91-d4e3d0d68a20"
            },
            "outputs": [
                {
                    "data": {
                        "text/plain": [
                            "60"
                        ]
                    },
                    "execution_count": 15,
                    "metadata": {},
                    "output_type": "execute_result"
                }
            ],
            "source": [
                "a"
            ]
        },
        {
            "cell_type": "markdown",
            "metadata": {
                "id": "j9HKxvAZHb3W"
            },
            "source": [
                "## D\u00e9terminer le type de variable avec `type()`\n",
                "Vous pouvez v\u00e9rifier quel type d'objet est assign\u00e9 \u00e0 une variable en utilisant la fonction int\u00e9gr\u00e9e `type()` de Python. Les types de donn\u00e9es courants incluent\u00a0:\n",
                "* **entier** (pour entier)\n",
                "* **flotter**\n",
                "* **str** (pour cha\u00eene)\n",
                "* **liste**\n",
                "* **uplet**\n",
                "* **dict** (pour dictionnaire)\n",
                "* **ensemble**\n",
                "* **bool** (pour bool\u00e9en Vrai/Faux)\n"
            ]
        },
        {
            "cell_type": "code",
            "execution_count": null,
            "metadata": {
                "id": "EgLpeha5Hb3X",
                "outputId": "e2394aa5-ba4d-4e39-d234-4e92c550e8b4"
            },
            "outputs": [
                {
                    "data": {
                        "text/plain": [
                            "int"
                        ]
                    },
                    "execution_count": 16,
                    "metadata": {},
                    "output_type": "execute_result"
                }
            ],
            "source": [
                "type(a)"
            ]
        },
        {
            "cell_type": "code",
            "execution_count": null,
            "metadata": {
                "collapsed": true,
                "id": "njABvKXMHb3a"
            },
            "outputs": [],
            "source": [
                "a = (1,2)"
            ]
        },
        {
            "cell_type": "code",
            "execution_count": null,
            "metadata": {
                "id": "2NfGCtScHb3a",
                "outputId": "9141b41c-5556-405c-8f1e-5b9fa5be74ca"
            },
            "outputs": [
                {
                    "data": {
                        "text/plain": [
                            "tuple"
                        ]
                    },
                    "execution_count": 18,
                    "metadata": {},
                    "output_type": "execute_result"
                }
            ],
            "source": [
                "type(a)"
            ]
        },
        {
            "cell_type": "markdown",
            "metadata": {
                "id": "HytNu-Ejmwal"
            },
            "source": [
                "## Entiers\n"
            ]
        },
        {
            "cell_type": "markdown",
            "metadata": {
                "id": "KnAw2D3umwal"
            },
            "source": [
                "<p>Voici quelques exemples d'entiers. Les nombres entiers peuvent \u00eatre des nombres n\u00e9gatifs ou positifs\u00a0:</p>\n"
            ]
        },
        {
            "cell_type": "markdown",
            "metadata": {
                "id": "zlhnMDUUmwal"
            },
            "source": [
                "<a align=\"center\">\n",
                "<img src=\"https://s3-api.us-geo.objectstorage.softlayer.net/cf-courses-data/CognitiveClass/PY0101EN/Chapter%201/Images/TypesInt.png\" width=\"600\">\n",
                "</a>\n"
            ]
        },
        {
            "cell_type": "markdown",
            "metadata": {
                "id": "sxM2JwoFmwam"
            },
            "source": [
                "<p>Nous pouvons v\u00e9rifier que c'est le cas en utilisant, vous l'aurez devin\u00e9, la fonction <code>type()</code>\u00a0:\n"
            ]
        },
        {
            "cell_type": "code",
            "execution_count": null,
            "metadata": {
                "colab": {
                    "base_uri": "https://localhost:8080/"
                },
                "executionInfo": {
                    "elapsed": 11,
                    "status": "ok",
                    "timestamp": 1673982272013,
                    "user": {
                        "displayName": "yahia Prof",
                        "userId": "17482294505606711783"
                    },
                    "user_tz": -60
                },
                "id": "OxCp1wJHmwam",
                "outputId": "7010439f-0336-4ec5-cb99-e7307a57c14d"
            },
            "outputs": [
                {
                    "data": {
                        "text/plain": [
                            "int"
                        ]
                    },
                    "execution_count": 1,
                    "metadata": {},
                    "output_type": "execute_result"
                }
            ],
            "source": [
                "# Print the type of -1\n",
                "\n",
                "type(-1)"
            ]
        },
        {
            "cell_type": "code",
            "execution_count": null,
            "metadata": {
                "colab": {
                    "base_uri": "https://localhost:8080/"
                },
                "executionInfo": {
                    "elapsed": 9,
                    "status": "ok",
                    "timestamp": 1673982272014,
                    "user": {
                        "displayName": "yahia Prof",
                        "userId": "17482294505606711783"
                    },
                    "user_tz": -60
                },
                "id": "7lLQ001qmwam",
                "outputId": "0bdc2127-72c4-4ccd-e701-547cee2c2137"
            },
            "outputs": [
                {
                    "data": {
                        "text/plain": [
                            "int"
                        ]
                    },
                    "execution_count": 2,
                    "metadata": {},
                    "output_type": "execute_result"
                }
            ],
            "source": [
                "# Print the type of 4\n",
                "\n",
                "type(4)"
            ]
        },
        {
            "cell_type": "code",
            "execution_count": null,
            "metadata": {
                "colab": {
                    "base_uri": "https://localhost:8080/"
                },
                "executionInfo": {
                    "elapsed": 7,
                    "status": "ok",
                    "timestamp": 1673982272014,
                    "user": {
                        "displayName": "yahia Prof",
                        "userId": "17482294505606711783"
                    },
                    "user_tz": -60
                },
                "id": "80xceP3gmwam",
                "outputId": "58853d0f-8dd0-4cae-9eda-b6551bcf4cdd"
            },
            "outputs": [
                {
                    "data": {
                        "text/plain": [
                            "int"
                        ]
                    },
                    "execution_count": 3,
                    "metadata": {},
                    "output_type": "execute_result"
                }
            ],
            "source": [
                "# Print the type of 0\n",
                "\n",
                "type(0)"
            ]
        },
        {
            "cell_type": "markdown",
            "metadata": {
                "id": "KKEnHmLrmwam"
            },
            "source": [
                "<h3 id=\"float\">Flottants</h3>\n"
            ]
        },
        {
            "cell_type": "markdown",
            "metadata": {
                "id": "-QnNvbH4mwan"
            },
            "source": [
                "<p>Les flottants repr\u00e9sentent des nombres r\u00e9els\u00a0; ils sont un sur-ensemble de nombres entiers mais incluent \u00e9galement des \"nombres avec d\u00e9cimales\". Il existe certaines limitations en ce qui concerne les machines repr\u00e9sentant des nombres r\u00e9els, mais les nombres \u00e0 virgule flottante sont une bonne repr\u00e9sentation dans la plupart des cas. Vous pouvez en savoir plus sur les sp\u00e9cificit\u00e9s des flottants pour votre environnement d'ex\u00e9cution en v\u00e9rifiant la valeur de <code>sys.float_info</code>. Cela vous indiquera \u00e9galement quel est le plus grand et le plus petit nombre pouvant \u00eatre repr\u00e9sent\u00e9 avec eux.</p>\n",
                "\n",
                "<p>Encore une fois, peut tester quelques exemples avec la fonction <code>type()</code>\u00a0:\n"
            ]
        },
        {
            "cell_type": "code",
            "execution_count": null,
            "metadata": {
                "colab": {
                    "base_uri": "https://localhost:8080/"
                },
                "executionInfo": {
                    "elapsed": 7,
                    "status": "ok",
                    "timestamp": 1673982272015,
                    "user": {
                        "displayName": "yahia Prof",
                        "userId": "17482294505606711783"
                    },
                    "user_tz": -60
                },
                "id": "YsJswycJmwan",
                "outputId": "e958425d-cbc4-4853-9769-396c66a40328"
            },
            "outputs": [
                {
                    "data": {
                        "text/plain": [
                            "float"
                        ]
                    },
                    "execution_count": 4,
                    "metadata": {},
                    "output_type": "execute_result"
                }
            ],
            "source": [
                "# Print the type of 1.0\n",
                "\n",
                "type(1.0) # Notice that 1 is an int, and 1.0 is a float"
            ]
        },
        {
            "cell_type": "code",
            "execution_count": null,
            "metadata": {
                "colab": {
                    "base_uri": "https://localhost:8080/"
                },
                "executionInfo": {
                    "elapsed": 6,
                    "status": "ok",
                    "timestamp": 1673982272015,
                    "user": {
                        "displayName": "yahia Prof",
                        "userId": "17482294505606711783"
                    },
                    "user_tz": -60
                },
                "id": "xmIuay7Qmwan",
                "outputId": "028df862-914a-4dcb-fbcc-62406c414f49"
            },
            "outputs": [
                {
                    "data": {
                        "text/plain": [
                            "float"
                        ]
                    },
                    "execution_count": 5,
                    "metadata": {},
                    "output_type": "execute_result"
                }
            ],
            "source": [
                "# Print the type of 0.5\n",
                "\n",
                "type(0.5)"
            ]
        },
        {
            "cell_type": "code",
            "execution_count": null,
            "metadata": {
                "colab": {
                    "base_uri": "https://localhost:8080/"
                },
                "executionInfo": {
                    "elapsed": 6,
                    "status": "ok",
                    "timestamp": 1673982272015,
                    "user": {
                        "displayName": "yahia Prof",
                        "userId": "17482294505606711783"
                    },
                    "user_tz": -60
                },
                "id": "rWAfHzedmwan",
                "outputId": "07c2b318-9228-43d5-b46c-8519a998839f"
            },
            "outputs": [
                {
                    "data": {
                        "text/plain": [
                            "float"
                        ]
                    },
                    "execution_count": 6,
                    "metadata": {},
                    "output_type": "execute_result"
                }
            ],
            "source": [
                "# Print the type of 0.56\n",
                "\n",
                "type(0.56)"
            ]
        },
        {
            "cell_type": "code",
            "execution_count": 1,
            "metadata": {
                "colab": {
                    "base_uri": "https://localhost:8080/"
                },
                "executionInfo": {
                    "elapsed": 6,
                    "status": "ok",
                    "timestamp": 1674719077042,
                    "user": {
                        "displayName": "kplr sylace",
                        "userId": "17308166439049184532"
                    },
                    "user_tz": -60
                },
                "id": "9vlhiTjOmwan",
                "outputId": "a9f64f3d-3f6c-4582-d99f-792334051255"
            },
            "outputs": [
                {
                    "data": {
                        "text/plain": [
                            "sys.float_info(max=1.7976931348623157e+308, max_exp=1024, max_10_exp=308, min=2.2250738585072014e-308, min_exp=-1021, min_10_exp=-307, dig=15, mant_dig=53, epsilon=2.220446049250313e-16, radix=2, rounds=1)"
                        ]
                    },
                    "execution_count": 1,
                    "metadata": {},
                    "output_type": "execute_result"
                }
            ],
            "source": [
                "# System settings about float type\n",
                "import sys\n",
                "sys.float_info"
            ]
        },
        {
            "cell_type": "markdown",
            "metadata": {
                "id": "6A1qQruTmwao"
            },
            "source": [
                "<h3 id=\"convert\">Conversion d'un type d'objet vers un autre type d'objet</h3>\n"
            ]
        },
        {
            "cell_type": "markdown",
            "metadata": {
                "id": "kzmkwU-rmwao"
            },
            "source": [
                "<p>Vous pouvez modifier le type de l'objet en Python\u00a0; c'est ce qu'on appelle le typage. Par exemple, vous pouvez convertir un <i>entier</i> en un <i>flottant</i> (par exemple, 2 \u00e0 2.0).</p>\n",
                "<p>Essayons\u00a0:</p>\n"
            ]
        },
        {
            "cell_type": "code",
            "execution_count": null,
            "metadata": {
                "id": "CZFKnuxHmwao"
            },
            "outputs": [],
            "source": [
                "# Verify that this is an integer\n",
                "\n",
                "type(2)"
            ]
        },
        {
            "cell_type": "markdown",
            "metadata": {
                "id": "4EpPr2Y1mwao"
            },
            "source": [
                "<h4>Convertir des nombres entiers en flottants</h4>\n",
                "<p>Convertissons l'entier 2 en flottant\u00a0:</p>\n"
            ]
        },
        {
            "cell_type": "code",
            "execution_count": null,
            "metadata": {
                "id": "tNpHJXsvmwao"
            },
            "outputs": [],
            "source": [
                "# Convert 2 to a float\n",
                "\n",
                "float(2)"
            ]
        },
        {
            "cell_type": "code",
            "execution_count": null,
            "metadata": {
                "id": "X3nT-vKymwao"
            },
            "outputs": [],
            "source": [
                "# Convert integer 2 to a float and check its type\n",
                "\n",
                "type(float(2))"
            ]
        },
        {
            "cell_type": "markdown",
            "metadata": {
                "id": "DXLiWCvzmwap"
            },
            "source": [
                "<p>Lorsque nous convertissons un entier en flottant, nous ne modifions pas vraiment la valeur (c'est-\u00e0-dire le signifiant) du nombre. Cependant, si nous transformons un flottant en entier, nous pourrions potentiellement perdre certaines informations. Par exemple, si nous convertissons le flottant 1.1 en nombre entier, nous obtiendrons 1 et perdrons les informations d\u00e9cimales (c'est-\u00e0-dire 0,1)\u00a0:</p>\n"
            ]
        },
        {
            "cell_type": "code",
            "execution_count": null,
            "metadata": {
                "id": "C5gptspmmwap"
            },
            "outputs": [],
            "source": [
                "# Casting 1.1 to integer will result in loss of information\n",
                "\n",
                "int(1.1)"
            ]
        },
        {
            "cell_type": "markdown",
            "metadata": {
                "id": "gn7QwZCKmwap"
            },
            "source": [
                "<h4>Conversion de cha\u00eenes en nombres entiers ou flottants</h4>\n"
            ]
        },
        {
            "cell_type": "markdown",
            "metadata": {
                "id": "tKxabMZ9mwaq"
            },
            "source": [
                "<p>Parfois, nous pouvons avoir une cha\u00eene contenant un nombre. Si tel est le cas, nous pouvons convertir cette cha\u00eene qui repr\u00e9sente un nombre en un entier en utilisant <code>int()</code>\u00a0:</p>\n"
            ]
        },
        {
            "cell_type": "code",
            "execution_count": null,
            "metadata": {
                "id": "IPsnjabNmwaq"
            },
            "outputs": [],
            "source": [
                "# Convert a string into an integer\n",
                "\n",
                "int('1')"
            ]
        },
        {
            "cell_type": "markdown",
            "metadata": {
                "id": "ND1ofvWomwaq"
            },
            "source": [
                "<p>Mais si vous essayez de le faire avec une cha\u00eene qui ne correspond pas parfaitement \u00e0 un nombre, vous obtiendrez une erreur. Essayez ce qui suit\u00a0:</p>\n"
            ]
        },
        {
            "cell_type": "code",
            "execution_count": null,
            "metadata": {
                "id": "nbOtnPGumwaq"
            },
            "outputs": [],
            "source": [
                "# Convert a string into an integer with error\n",
                "\n",
                "int('1 or 2 people')"
            ]
        },
        {
            "cell_type": "markdown",
            "metadata": {
                "id": "8zpBHZ7Umwar"
            },
            "source": [
                "<p>Vous pouvez \u00e9galement convertir des cha\u00eenes contenant des nombres \u00e0 virgule flottante en objets <i>float</i>\u00a0:</p>\n"
            ]
        },
        {
            "cell_type": "code",
            "execution_count": null,
            "metadata": {
                "id": "9bYaa5zFmwar"
            },
            "outputs": [],
            "source": [
                "# Convert the string \"1.2\" into a float\n",
                "\n",
                "float('1.2')"
            ]
        },
        {
            "cell_type": "markdown",
            "metadata": {
                "id": "S-mBUMeGmwar"
            },
            "source": [
                "<hr/>\n",
                "<div class=\"alert alert-success alert success\" style=\"margin-top\u00a0: 20px\">\n",
                "[Astuce\u00a0:] Notez que les cha\u00eenes peuvent \u00eatre repr\u00e9sent\u00e9es par des guillemets simples (<code>'1.2'</code>) ou des guillemets doubles (<code>\"1.2\"</code>), mais vous ne pouvez pas m\u00e9langer les deux (par exemple, , <code>\"1.2'</code>).\n",
                "</div>\n",
                "<hr/>\n"
            ]
        },
        {
            "cell_type": "markdown",
            "metadata": {
                "id": "0QtCzmS_mwar"
            },
            "source": [
                "<h4>Convertir des nombres en cha\u00eenes</h4>\n"
            ]
        },
        {
            "cell_type": "markdown",
            "metadata": {
                "id": "gtjjLeh5mwar"
            },
            "source": [
                "<p>Si nous pouvons convertir des cha\u00eenes en nombres, il est naturel de supposer que nous pouvons convertir des nombres en cha\u00eenes, n'est-ce pas\u00a0?</p>\n"
            ]
        },
        {
            "cell_type": "code",
            "execution_count": null,
            "metadata": {
                "id": "tnfGnhjrmwar"
            },
            "outputs": [],
            "source": [
                "# Convert an integer to a string\n",
                "\n",
                "str(1)"
            ]
        },
        {
            "cell_type": "markdown",
            "metadata": {
                "id": "f2-xaCI-mwar"
            },
            "source": [
                "<p>Et il n'y a aucune raison pour que nous ne puissions pas transformer des flottants en cha\u00eenes \u00e9galement\u00a0:</p>\n"
            ]
        },
        {
            "cell_type": "code",
            "execution_count": null,
            "metadata": {
                "id": "BJGCgdvjmwar"
            },
            "outputs": [],
            "source": [
                "# Convert a float to a string\n",
                "\n",
                "str(1.2)"
            ]
        },
        {
            "cell_type": "markdown",
            "metadata": {
                "id": "sf86AN-Vmwas"
            },
            "source": [
                "## Type de donn\u00e9es bool\u00e9en\n"
            ]
        },
        {
            "cell_type": "markdown",
            "metadata": {
                "id": "uzwKeJQomwas"
            },
            "source": [
                "<p><i>Bool\u00e9en</i> est un autre type important en Python. Un objet de type <i>Bool\u00e9en</i> peut prendre l'une des deux valeurs\u00a0: <code>True</code> ou <code>False</code>\u00a0:</p>\n"
            ]
        },
        {
            "cell_type": "code",
            "execution_count": null,
            "metadata": {
                "id": "2SfGZflKmwas"
            },
            "outputs": [],
            "source": [
                "# Value true\n",
                "\n",
                "True"
            ]
        },
        {
            "cell_type": "markdown",
            "metadata": {
                "id": "NeQf9O5fmwas"
            },
            "source": [
                "<p>Remarquez que la valeur <code>True</code> a un \"T\" majuscule. Il en va de m\u00eame pour <code>False</code> (c'est-\u00e0-dire que vous devez utiliser le \"F\" majuscule).</p>\n"
            ]
        },
        {
            "cell_type": "code",
            "execution_count": null,
            "metadata": {
                "id": "-tb33j3emwas"
            },
            "outputs": [],
            "source": [
                "# Value false\n",
                "\n",
                "False"
            ]
        },
        {
            "cell_type": "markdown",
            "metadata": {
                "id": "SW1gl5T0mwat"
            },
            "source": [
                "<p>Lorsque vous demandez \u00e0 Python d'afficher le type d'un objet bool\u00e9en, il affichera <code>bool</code> qui signifie <i>bool\u00e9en</i>\u00a0:</p>\n"
            ]
        },
        {
            "cell_type": "code",
            "execution_count": null,
            "metadata": {
                "id": "weDdQPdSmwat"
            },
            "outputs": [],
            "source": [
                "# Type of True\n",
                "\n",
                "type(True)"
            ]
        },
        {
            "cell_type": "code",
            "execution_count": null,
            "metadata": {
                "id": "G9BNUuIImwat"
            },
            "outputs": [],
            "source": [
                "# Type of False\n",
                "\n",
                "type(False)"
            ]
        },
        {
            "cell_type": "markdown",
            "metadata": {
                "id": "hNBRNskkmwau"
            },
            "source": [
                "<p>Nous pouvons convertir des objets bool\u00e9ens en d'autres types de donn\u00e9es. Si nous transformons un bool\u00e9en avec une valeur de <code>True</code> en un entier ou un flottant, nous en aurons un. Si nous transformons un bool\u00e9en avec une valeur de <code>False</code> en un entier ou un flottant, nous obtiendrons un z\u00e9ro. De m\u00eame, si nous transformons un 1 en bool\u00e9en, vous obtenez un <code>True</code>. Et si nous transformons un 0 en bool\u00e9en, nous obtiendrons un <code>False</code>. Essayons\u00a0:</p>\n"
            ]
        },
        {
            "cell_type": "code",
            "execution_count": null,
            "metadata": {
                "id": "lK1htWfCmwau"
            },
            "outputs": [],
            "source": [
                "# Convert True to int\n",
                "\n",
                "int(True)"
            ]
        },
        {
            "cell_type": "code",
            "execution_count": null,
            "metadata": {
                "id": "w8milpmlmwau"
            },
            "outputs": [],
            "source": [
                "# Convert 1 to boolean\n",
                "\n",
                "bool(1)"
            ]
        },
        {
            "cell_type": "code",
            "execution_count": null,
            "metadata": {
                "id": "zPeIE75wmwau"
            },
            "outputs": [],
            "source": [
                "# Convert 0 to boolean\n",
                "\n",
                "bool(0)"
            ]
        },
        {
            "cell_type": "code",
            "execution_count": null,
            "metadata": {
                "id": "OmGMmmrfmwav"
            },
            "outputs": [],
            "source": [
                "# Convert True to float\n",
                "\n",
                "float(True)"
            ]
        },
        {
            "cell_type": "markdown",
            "metadata": {
                "id": "YH0qQKO4mwaw"
            },
            "source": [
                "<h3 id=\"exer_type\">Exercices\u00a0: types</h3>\n"
            ]
        },
        {
            "cell_type": "markdown",
            "metadata": {
                "id": "LAjgf14Vmwaw"
            },
            "source": [
                "<p>Quel est le type de donn\u00e9es du r\u00e9sultat de\u00a0: <code>6 / 2</code>\u00a0?</p>\n"
            ]
        },
        {
            "cell_type": "code",
            "execution_count": null,
            "metadata": {
                "id": "Gvn-ApwJmwax"
            },
            "outputs": [],
            "source": [
                "# Write your code below. Don't forget to press Shift+Enter to execute the cell"
            ]
        },
        {
            "cell_type": "code",
            "execution_count": null,
            "metadata": {
                "cellView": "form",
                "id": "hiGYeYbg9aYE"
            },
            "outputs": [],
            "source": [
                "#@title Solution\n",
                "type(6/2) # float"
            ]
        },
        {
            "cell_type": "markdown",
            "metadata": {
                "id": "EgJviQZ-mwax"
            },
            "source": [
                "<p>Quel est le type du r\u00e9sultat de\u00a0: <code>6 // 2</code>\u00a0? (Notez la double barre oblique <code>//</code>.)</p>\n"
            ]
        },
        {
            "cell_type": "code",
            "execution_count": null,
            "metadata": {
                "id": "hOCghpu_mwax"
            },
            "outputs": [],
            "source": [
                "# Write your code below. Don't forget to press Shift+Enter to execute the cell"
            ]
        },
        {
            "cell_type": "code",
            "execution_count": null,
            "metadata": {
                "cellView": "form",
                "colab": {
                    "base_uri": "https://localhost:8080/"
                },
                "executionInfo": {
                    "elapsed": 4,
                    "status": "ok",
                    "timestamp": 1674678640169,
                    "user": {
                        "displayName": "yahia Prof",
                        "userId": "17482294505606711783"
                    },
                    "user_tz": -60
                },
                "id": "UnXS5UzN91R2",
                "outputId": "9af72a5e-3575-4d7a-c9c7-5b3f5ca325c0"
            },
            "outputs": [
                {
                    "data": {
                        "text/plain": [
                            "int"
                        ]
                    },
                    "execution_count": 1,
                    "metadata": {},
                    "output_type": "execute_result"
                }
            ],
            "source": [
                "#@title Solution\n",
                "type(6//2) # int, as the double slashes stand for integer division "
            ]
        },
        {
            "cell_type": "markdown",
            "metadata": {
                "id": "Grwx2Rujmway"
            },
            "source": [
                "<h>\n"
            ]
        },
        {
            "cell_type": "markdown",
            "metadata": {
                "id": "XEwFoowUHb3b"
            },
            "source": [
                "## Exercice simple\n",
                "Cela montre comment les variables rendent les calculs plus lisibles et plus faciles \u00e0 suivre.\n"
            ]
        },
        {
            "cell_type": "code",
            "execution_count": null,
            "metadata": {
                "collapsed": true,
                "id": "p0Ox-mLgHb3b"
            },
            "outputs": [],
            "source": [
                "my_income = 100\n",
                "tax_rate = 0.1\n",
                "my_taxes = my_income * tax_rate"
            ]
        },
        {
            "cell_type": "code",
            "execution_count": null,
            "metadata": {
                "id": "GarFcGMKHb3b",
                "outputId": "b345b3ba-bcaa-45e0-96f0-6befd721b6b2"
            },
            "outputs": [
                {
                    "data": {
                        "text/plain": [
                            "10.0"
                        ]
                    },
                    "execution_count": 20,
                    "metadata": {},
                    "output_type": "execute_result"
                }
            ],
            "source": [
                "my_taxes"
            ]
        }
    ],
    "metadata": {
        "kernelspec": {
            "display_name": "Python 3",
            "language": "python",
            "name": "python3"
        },
        "language_info": {
            "codemirror_mode": {
                "name": "ipython",
                "version": 3
            },
            "file_extension": ".py",
            "mimetype": "text/x-python",
            "name": "python",
            "nbconvert_exporter": "python",
            "pygments_lexer": "ipython3",
            "version": "3.11.0"
        },
        "vscode": {
            "interpreter": {
                "hash": "9fedf123aa532497912d939029aac71791b23fba076af1a3c1eebd0e739bf47a"
            }
        }
    },
    "nbformat": 4,
    "nbformat_minor": 0
}