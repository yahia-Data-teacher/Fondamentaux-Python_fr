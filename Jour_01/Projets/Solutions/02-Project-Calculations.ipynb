{
    "cells": [
        {
            "cell_type": "markdown",
            "metadata": {
                "id": "view-in-github",
                "colab_type": "text"
            },
            "source": [
                "<a href=\"https://colab.research.google.com/github/yahia-kplr/Fondamentaux-Python_fr/blob/main/Jour_01/Projets/Solutions/02-Project-Calculations.ipynb\" target=\"_blank\"><img src=\"https://colab.research.google.com/assets/colab-badge.svg\" alt=\"Open In Colab\"/></a>"
            ]
        },
        {
            "cell_type": "markdown",
            "id": "2e0f60b1",
            "metadata": {},
            "source": [
                "# Project - Calculations\n",
                "## Goal\n",
                "- Using Jupyter Notebook as a Calculator\n",
                "- Understand how cells keeps track of calcualtions"
            ]
        },
        {
            "cell_type": "markdown",
            "id": "84ce437f",
            "metadata": {},
            "source": [
                "### Description\n",
                "- Cr\u00e9er des formules\n",
                "- Amusez-vous avec les math\u00e9matiques de base\n"
            ]
        },
        {
            "cell_type": "markdown",
            "id": "340684bc",
            "metadata": {},
            "source": [
                "### \u00c9tape 1\n",
                "- Faire une conversion de **kg** \u00e0 **lbs**\n",
                "- Utilisez cette formule : $lbs = kg \\times 2.2046$\n",
                "- Faire en sorte que la cellule utilise des variables\n"
            ]
        },
        {
            "cell_type": "code",
            "execution_count": 1,
            "id": "62998b59",
            "metadata": {},
            "outputs": [
                {
                    "data": {
                        "text/plain": [
                            "4.4092"
                        ]
                    },
                    "execution_count": 1,
                    "metadata": {},
                    "output_type": "execute_result"
                }
            ],
            "source": [
                "kg = 2\n",
                "lbs = kg*2.2046\n",
                "lbs"
            ]
        },
        {
            "cell_type": "markdown",
            "id": "7e729d14",
            "metadata": {},
            "source": [
                "### \u00c9tape 2\n",
                "- Faire le calcul de la circonf\u00e9rence d'un cercle\n",
                "- La cellule doit d\u00e9finir le rayon\n",
                "- Calculer la circonf\u00e9rence par la formule : $c = 2 \\times \\pi \\times r$\n",
                "- D\u00e9finir $\\pi = 3,14$ (utiliser le nom de la variable **pi**)\n",
                "- Laisser la cellule retourner la circonf\u00e9rence\n"
            ]
        },
        {
            "cell_type": "code",
            "execution_count": 4,
            "id": "e7fd755b",
            "metadata": {},
            "outputs": [
                {
                    "data": {
                        "text/plain": [
                            "13.188"
                        ]
                    },
                    "execution_count": 4,
                    "metadata": {},
                    "output_type": "execute_result"
                }
            ],
            "source": [
                "r = 2.1\n",
                "pi = 3.14\n",
                "c = 2*pi*r\n",
                "c"
            ]
        },
        {
            "cell_type": "markdown",
            "id": "da20a390",
            "metadata": {},
            "source": [
                "### \u00c9tape 3\n",
                "1. Affectez une variable \u00e0 un nombre quelconque (entier).\n",
                "2. Multipliez le nombre par 3.\n",
                "3. Ajoutez 6 au r\u00e9sultat du point 2.\n",
                "4. Divisez ce nombre par 3.\n",
                "5. Soustrayez le nombre de la puce 1 de la r\u00e9ponse de la puce 4.\n",
                "6. La r\u00e9ponse est 2.\n"
            ]
        },
        {
            "cell_type": "code",
            "execution_count": 6,
            "id": "8d1c1a6e",
            "metadata": {},
            "outputs": [
                {
                    "data": {
                        "text/plain": [
                            "2.0"
                        ]
                    },
                    "execution_count": 6,
                    "metadata": {},
                    "output_type": "execute_result"
                }
            ],
            "source": [
                "number = 56\n",
                "number = number*3\n",
                "number = number + 6\n",
                "number = number/3\n",
                "number = number - 56\n",
                "number"
            ]
        }
    ],
    "metadata": {
        "kernelspec": {
            "display_name": "Python 3",
            "language": "python",
            "name": "python3"
        },
        "language_info": {
            "name": "python",
            "version": "3.11.0 (main, Oct 24 2022, 18:26:48) [MSC v.1933 64 bit (AMD64)]"
        },
        "vscode": {
            "interpreter": {
                "hash": "9fedf123aa532497912d939029aac71791b23fba076af1a3c1eebd0e739bf47a"
            }
        }
    },
    "nbformat": 4,
    "nbformat_minor": 5
}