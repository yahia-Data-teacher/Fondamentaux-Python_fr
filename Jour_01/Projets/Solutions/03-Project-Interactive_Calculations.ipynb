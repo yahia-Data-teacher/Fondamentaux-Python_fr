{
    "cells": [
        {
            "cell_type": "markdown",
            "metadata": {
                "id": "view-in-github",
                "colab_type": "text"
            },
            "source": [
                "<a href=\"https://colab.research.google.com/github/yahia-kplr/Fondamentaux-Python_fr/blob/main/Jour_01/Projets/Solutions/03-Project-Interactive_Calculations.ipynb\" target=\"_blank\"><img src=\"https://colab.research.google.com/assets/colab-badge.svg\" alt=\"Open In Colab\"/></a>"
            ]
        },
        {
            "cell_type": "markdown",
            "id": "170688f2",
            "metadata": {},
            "source": [
                "# Projet - Calculs interactifs\n",
                "### Mais\n",
                "- Multiplier deux nombres\n",
                "- Jours depuis votre naissance\n",
                "- Calculateur de pourboire\n"
            ]
        },
        {
            "cell_type": "markdown",
            "id": "75956007",
            "metadata": {},
            "source": [
                "### \u00c9tape 1\n",
                "- Saisissez une valeur de l'utilisateur et conservez-la dans la variable **a**.\n",
                "- Saisissez une autre valeur de l'utilisateur et conservez-la dans la variable **b**.\n",
                "- Imprimer le produit des deux valeurs (**a*b**).\n"
            ]
        },
        {
            "cell_type": "code",
            "execution_count": 2,
            "id": "d6119b7b",
            "metadata": {},
            "outputs": [
                {
                    "name": "stdout",
                    "output_type": "stream",
                    "text": [
                        "a*b is 15\n"
                    ]
                }
            ],
            "source": [
                "a = input(\"Input a: \")\n",
                "b = input(\"Input b: \")\n",
                "a = int(a)\n",
                "b = int(b)\n",
                "print(f\"a*b is {a*b}\")"
            ]
        },
        {
            "cell_type": "markdown",
            "id": "c244f06f",
            "metadata": {},
            "source": [
                "### \u00c9tape 2\n",
                "- Entrez combien d'ann\u00e9es l'utilisateur il.\n",
                "- Convertissez les ann\u00e9es en nombre entier.\n",
                "- Calculez le nombre de jours, d'heures, de minutes et de secondes depuis la naissance de l'utilisateur.\n"
            ]
        },
        {
            "cell_type": "code",
            "execution_count": 5,
            "id": "578169d7",
            "metadata": {},
            "outputs": [
                {
                    "name": "stdout",
                    "output_type": "stream",
                    "text": [
                        "You are 10950 days old\n",
                        "You are 262800 hours old\n",
                        "You are 15768000 minutes old\n",
                        "You are 946080000 seconds old\n"
                    ]
                }
            ],
            "source": [
                "age = input(\"How many years are you?\" )\n",
                "age = int(age)\n",
                "print(f\"You are {age*365} days old\")\n",
                "print(f\"You are {age*365*24} hours old\")\n",
                "print(f\"You are {age*365*24*60} minutes old\")\n",
                "print(f\"You are {age*365*24*60*60} seconds old\")"
            ]
        },
        {
            "cell_type": "markdown",
            "id": "0d74cde0",
            "metadata": {},
            "source": [
                "### \u00c9tape 3\n",
                "- Ici, nous allons faire un calculateur de pourboire.\n",
                "- Entrez le prix.\n",
                "- Convertir le prix en entier.\n",
                "- Saisissez le pourcentage que l'utilisateur souhaite donner.\n",
                "- Convertissez le pourcentage en nombre entier.\n",
                "- Calculez le pourboire \u00e0 l'aide de la formule suivante\u00a0: ** pourboire = prix $\\fois$ pourcentage_tip / 100**.\n",
                "- Arrondir la pointe \u00e0 deux chiffres.\n",
                "- Imprimez la pointe.\n",
                "- * BONUS\u00a0: * Ajustez le code pour prendre l'entr\u00e9e flottante du pourboire en pourcentage\n"
            ]
        },
        {
            "cell_type": "code",
            "execution_count": 6,
            "id": "3062a093",
            "metadata": {},
            "outputs": [
                {
                    "name": "stdout",
                    "output_type": "stream",
                    "text": [
                        "Tip 10.4\n"
                    ]
                }
            ],
            "source": [
                "price = input(\"Input price: \")\n",
                "price = int(price)\n",
                "percentage_tip = input(\"How much do you want to tip (%)? \")\n",
                "percentage_tip = float(percentage_tip)\n",
                "tip = price*percentage_tip/100\n",
                "tip = round(tip, 2)\n",
                "print(f\"Tip {tip}\")"
            ]
        }
    ],
    "metadata": {
        "kernelspec": {
            "display_name": "Python 3",
            "language": "python",
            "name": "python3"
        },
        "language_info": {
            "name": "python",
            "version": "3.11.0 (main, Oct 24 2022, 18:26:48) [MSC v.1933 64 bit (AMD64)]"
        },
        "vscode": {
            "interpreter": {
                "hash": "9fedf123aa532497912d939029aac71791b23fba076af1a3c1eebd0e739bf47a"
            }
        }
    },
    "nbformat": 4,
    "nbformat_minor": 5
}