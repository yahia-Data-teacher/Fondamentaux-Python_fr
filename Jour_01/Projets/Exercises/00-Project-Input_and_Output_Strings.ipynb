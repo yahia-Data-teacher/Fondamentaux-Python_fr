{
    "cells": [
        {
            "cell_type": "markdown",
            "metadata": {
                "id": "view-in-github",
                "colab_type": "text"
            },
            "source": [
                "<a href=\"https://colab.research.google.com/github/yahia-kplr/Fondamentaux-Python_fr/blob/main/Jour_01/Projets/Exercises/00-Project-Input_and_Output_Strings.ipynb\" target=\"_blank\"><img src=\"https://colab.research.google.com/assets/colab-badge.svg\" alt=\"Open In Colab\"/></a>"
            ]
        },
        {
            "cell_type": "markdown",
            "id": "cb5a5c6b",
            "metadata": {},
            "source": [
                "# Projet - Cha\u00eenes d'entr\u00e9e et de sortie\n",
                "### But\n",
                "- Apprenez \u00e0 conna\u00eetre Jupyter Notebook\n",
                "- Ex\u00e9cutez votre ou vos premier(s) programme(s)\n"
            ]
        },
        {
            "cell_type": "markdown",
            "id": "127a9492",
            "metadata": {},
            "source": [
                "### Description\n",
                "- Ce projet est en 3 \u00e9tapes\n",
                "- Le but est de se familiariser avec Jupyter Notebook\n"
            ]
        },
        {
            "cell_type": "markdown",
            "id": "10620900",
            "metadata": {},
            "source": [
                "### \u00c9tape 1\n",
                "- Faites votre premi\u00e8re impression \"Hello, World!\" programme\n",
                "- Ex\u00e9cuter la cellule\n"
            ]
        },
        {
            "cell_type": "code",
            "execution_count": null,
            "id": "edef461c",
            "metadata": {},
            "outputs": [],
            "source": []
        },
        {
            "cell_type": "markdown",
            "id": "e4cc3f8e",
            "metadata": {},
            "source": [
                "### \u00c9tape 2\n",
                "- Utilisez l'entr\u00e9e pour obtenir le nom de l'utilisateur.\n",
                "- \u00c9crivez *Bonjour* et le nom de l'utilisateur\n"
            ]
        },
        {
            "cell_type": "code",
            "execution_count": null,
            "id": "ac75093b",
            "metadata": {},
            "outputs": [],
            "source": []
        },
        {
            "cell_type": "markdown",
            "id": "25b844b1",
            "metadata": {},
            "source": [
                "### \u00c9tape 3\n",
                "- Utilisez l'entr\u00e9e pour obtenir le nom de l'utilisateur.\n",
                "- Imprimez \"I LIKE CAPITAL LETTER\" et le nom en majuscule en utilisant **.upper()**\n"
            ]
        },
        {
            "cell_type": "code",
            "execution_count": null,
            "id": "3fd33d0b",
            "metadata": {},
            "outputs": [],
            "source": []
        }
    ],
    "metadata": {
        "kernelspec": {
            "display_name": "Python 3",
            "language": "python",
            "name": "python3"
        },
        "language_info": {
            "name": "python",
            "version": "3.11.0"
        },
        "vscode": {
            "interpreter": {
                "hash": "9fedf123aa532497912d939029aac71791b23fba076af1a3c1eebd0e739bf47a"
            }
        }
    },
    "nbformat": 4,
    "nbformat_minor": 5
}