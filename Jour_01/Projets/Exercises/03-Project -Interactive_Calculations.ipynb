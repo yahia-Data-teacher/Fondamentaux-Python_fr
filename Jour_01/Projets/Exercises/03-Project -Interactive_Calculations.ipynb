{
    "cells": [
        {
            "cell_type": "markdown",
            "metadata": {
                "id": "view-in-github",
                "colab_type": "text"
            },
            "source": [
                "<a href=\"https://colab.research.google.com/github/yahia-kplr/Fondamentaux-Python_fr/blob/main/Jour_01/Projets/Exercises/03-Project%20-Interactive_Calculations.ipynb\" target=\"_blank\"><img src=\"https://colab.research.google.com/assets/colab-badge.svg\" alt=\"Open In Colab\"/></a>"
            ]
        },
        {
            "cell_type": "markdown",
            "id": "6df6fc32",
            "metadata": {},
            "source": [
                "# Projet - Calculs interactifs\n",
                "### Mais\n",
                "- Multiplier deux nombres\n",
                "- Jours depuis votre naissance\n",
                "- Calculateur de pourboire\n"
            ]
        },
        {
            "cell_type": "markdown",
            "id": "12118dd5",
            "metadata": {},
            "source": [
                "### \u00c9tape 1\n",
                "- Saisissez une valeur de l'utilisateur et conservez-la dans la variable **a**.\n",
                "- Saisissez une autre valeur de l'utilisateur et conservez-la dans la variable **b**.\n",
                "- Imprimer le produit des deux valeurs (**a*b**).\n"
            ]
        },
        {
            "cell_type": "code",
            "execution_count": null,
            "id": "28a97076",
            "metadata": {},
            "outputs": [],
            "source": []
        },
        {
            "cell_type": "markdown",
            "id": "33fab934",
            "metadata": {},
            "source": [
                "### \u00c9tape 2\n",
                "- Entrez combien d'ann\u00e9es l'utilisateur il.\n",
                "- Convertissez les ann\u00e9es en nombre entier.\n",
                "- Calculez le nombre de jours, d'heures, de minutes et de secondes depuis la naissance de l'utilisateur.\n"
            ]
        },
        {
            "cell_type": "code",
            "execution_count": null,
            "id": "55fe1429",
            "metadata": {},
            "outputs": [],
            "source": []
        },
        {
            "cell_type": "markdown",
            "id": "1d9518c9",
            "metadata": {},
            "source": [
                "### \u00c9tape 3\n",
                "- Ici, nous allons faire un calculateur de pourboire.\n",
                "- Entrez le prix.\n",
                "- Convertir le prix en entier.\n",
                "- Saisissez le pourcentage que l'utilisateur souhaite donner.\n",
                "- Convertissez le pourcentage en nombre entier.\n",
                "- Calculez le pourboire \u00e0 l'aide de la formule suivante\u00a0: ** pourboire = prix $\\fois$ pourcentage_tip / 100**.\n",
                "- Arrondir la pointe \u00e0 deux chiffres.\n",
                "- Imprimez la pointe.\n",
                "- * BONUS\u00a0: * Ajustez le code pour prendre l'entr\u00e9e flottante du pourboire en pourcentage\n"
            ]
        },
        {
            "cell_type": "code",
            "execution_count": null,
            "id": "d3b2df0d",
            "metadata": {},
            "outputs": [],
            "source": []
        }
    ],
    "metadata": {
        "kernelspec": {
            "display_name": "Python 3",
            "language": "python",
            "name": "python3"
        },
        "language_info": {
            "name": "python",
            "version": "3.11.0"
        },
        "vscode": {
            "interpreter": {
                "hash": "9fedf123aa532497912d939029aac71791b23fba076af1a3c1eebd0e739bf47a"
            }
        }
    },
    "nbformat": 4,
    "nbformat_minor": 5
}