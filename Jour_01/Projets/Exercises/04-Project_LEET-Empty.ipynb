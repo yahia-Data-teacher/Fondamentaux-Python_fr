{
    "cells": [
        {
            "cell_type": "markdown",
            "metadata": {
                "id": "view-in-github",
                "colab_type": "text"
            },
            "source": [
                "<a href=\"https://colab.research.google.com/github/yahia-kplr/Fondamentaux-Python_fr/blob/main/Jour_01/Projets/Exercises/04-Project_LEET-Empty.ipynb\" target=\"_blank\"><img src=\"https://colab.research.google.com/assets/colab-badge.svg\" alt=\"Open In Colab\"/></a>"
            ]
        },
        {
            "cell_type": "markdown",
            "id": "a574ac81",
            "metadata": {},
            "source": [
                "# Projet : LEET\n",
                "\n",
                "Leet (ou \"1337\"), \u00e9galement connu sous le nom d'eleet ou leetspeak, est un syst\u00e8me d'orthographe modifi\u00e9e utilis\u00e9 principalement sur Internet. ([wiki](https://en.wikipedia.org/wiki/Leet))\n"
            ]
        },
        {
            "cell_type": "markdown",
            "id": "7c8e214a",
            "metadata": {},
            "source": [
                "### Description du projet\n",
                "- Nous prenons une cha\u00eene d'entr\u00e9e de l'utilisateur et la convertissons en un leet simplifi\u00e9.\n"
            ]
        },
        {
            "cell_type": "markdown",
            "id": "1651814b",
            "metadata": {},
            "source": [
                "### Lettre simplifi\u00e9e\n",
                "- Nous ne convertirons que certaines lettres.\n",
                "\n",
                "#### Leet table\n",
                "\n",
                "| lettre | laisser |\n",
                "| --- |\u00a0--- |\n",
                "| Un | 4 |\n",
                "| Et | 3 |\n",
                "| est | 1 |\n",
                "| L |\u00a01 |\n",
                "| Le | 0 |\n",
                "| S | 5 |\n",
                "| T | 7 |\n"
            ]
        },
        {
            "cell_type": "markdown",
            "id": "f918b68f",
            "metadata": {},
            "source": [
                "###\u00a0\u00c9tape\u00a01\u00a0: Entr\u00e9e de l'utilisateur\n",
                "\n",
                "Demander \u00e0 l'utilisateur une phrase / un mot \u00e0 convertir en leet\n"
            ]
        },
        {
            "cell_type": "code",
            "execution_count": null,
            "id": "80c24f0e",
            "metadata": {},
            "outputs": [],
            "source": []
        },
        {
            "cell_type": "code",
            "execution_count": null,
            "id": "37ee9a9b",
            "metadata": {},
            "outputs": [],
            "source": []
        },
        {
            "cell_type": "markdown",
            "id": "073a4c90",
            "metadata": {},
            "source": [
                "### \u00c9tape\u00a02\u00a0: Convertir en majuscules\n",
                "\n",
                "Convertissez l'entr\u00e9e de l'utilisateur en majuscules.\n"
            ]
        },
        {
            "cell_type": "code",
            "execution_count": null,
            "id": "090a4a1d",
            "metadata": {},
            "outputs": [],
            "source": []
        },
        {
            "cell_type": "code",
            "execution_count": null,
            "id": "8d142e58",
            "metadata": {},
            "outputs": [],
            "source": []
        },
        {
            "cell_type": "markdown",
            "id": "00e1f018",
            "metadata": {},
            "source": [
                "### \u00c9tape 3 : Pour chaque lettre du tableau ci-dessus, remplacez-la par leet.\n"
            ]
        },
        {
            "cell_type": "code",
            "execution_count": null,
            "id": "54de3d79",
            "metadata": {},
            "outputs": [],
            "source": []
        },
        {
            "cell_type": "code",
            "execution_count": null,
            "id": "8d47a044",
            "metadata": {},
            "outputs": [],
            "source": []
        },
        {
            "cell_type": "code",
            "execution_count": null,
            "id": "a203ce60",
            "metadata": {},
            "outputs": [],
            "source": []
        }
    ],
    "metadata": {
        "kernelspec": {
            "display_name": "Python 3",
            "language": "python",
            "name": "python3"
        },
        "language_info": {
            "codemirror_mode": {
                "name": "ipython",
                "version": 3
            },
            "file_extension": ".py",
            "mimetype": "text/x-python",
            "name": "python",
            "nbconvert_exporter": "python",
            "pygments_lexer": "ipython3",
            "version": "3.11.0"
        },
        "vscode": {
            "interpreter": {
                "hash": "9fedf123aa532497912d939029aac71791b23fba076af1a3c1eebd0e739bf47a"
            }
        }
    },
    "nbformat": 4,
    "nbformat_minor": 5
}