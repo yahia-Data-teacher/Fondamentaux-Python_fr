{
    "cells": [
        {
            "cell_type": "markdown",
            "metadata": {
                "id": "view-in-github",
                "colab_type": "text"
            },
            "source": [
                "<a href=\"https://colab.research.google.com/github/yahia-kplr/Fondamentaux-Python_fr/blob/main/Jour_01/Projets/Exercises/01-Specialization_Exercises-Empty.ipynb\" target=\"_blank\"><img src=\"https://colab.research.google.com/assets/colab-badge.svg\" alt=\"Open In Colab\"/></a>"
            ]
        },
        {
            "cell_type": "markdown",
            "id": "e9b317c9",
            "metadata": {},
            "source": [
                "# Exercices de sp\u00e9cialisation / NICE-TO-HAVE\n",
                "\n",
                "Ces exercices sont pour vous si vous souhaitez en savoir plus sur l'utilisation des blocs-notes pour calculer des formules.\n",
                "\n",
                "Vous n'avez pas besoin de les faire \u00e0 moins que vous ne le vouliez.\n"
            ]
        },
        {
            "attachments": {},
            "cell_type": "markdown",
            "id": "66be020f",
            "metadata": {},
            "source": [
                "### Exercice 1\n",
                "<img src=\"../img/square.png\" alt=\"Aire du carr\u00e9\" width=\"200\"/>\n",
                "\n",
                "1. Faites une formule pour la zone\n",
                "2. Faites une formule pour le p\u00e9rim\u00e8tre\n"
            ]
        },
        {
            "cell_type": "code",
            "execution_count": null,
            "id": "abdd556f",
            "metadata": {},
            "outputs": [],
            "source": []
        },
        {
            "cell_type": "code",
            "execution_count": null,
            "id": "9b910b89",
            "metadata": {},
            "outputs": [],
            "source": []
        },
        {
            "attachments": {},
            "cell_type": "markdown",
            "id": "08d994d3",
            "metadata": {},
            "source": [
                "### Exercice 2\n",
                "<img src=\"../img/trapezoid.png\" alt=\"Aire du trap\u00e8ze\" width=\"200\"/>\n",
                "1. Faites une formule pour la zone\n"
            ]
        },
        {
            "cell_type": "code",
            "execution_count": null,
            "id": "78e69617",
            "metadata": {},
            "outputs": [],
            "source": []
        },
        {
            "cell_type": "code",
            "execution_count": null,
            "id": "db1be471",
            "metadata": {},
            "outputs": [],
            "source": []
        },
        {
            "attachments": {},
            "cell_type": "markdown",
            "id": "fd14bc2f",
            "metadata": {},
            "source": [
                "### Exercice 3\n",
                "<img src=\"../img/parallelogram.png\" alt=\"Aire du parall\u00e9logramme\" width=\"200\"/>\n",
                "Faire une formule pour la zone\n"
            ]
        },
        {
            "cell_type": "code",
            "execution_count": null,
            "id": "95d21a6c",
            "metadata": {},
            "outputs": [],
            "source": []
        },
        {
            "cell_type": "code",
            "execution_count": null,
            "id": "ec44dca2",
            "metadata": {},
            "outputs": [],
            "source": []
        }
    ],
    "metadata": {
        "kernelspec": {
            "display_name": "Python 3",
            "language": "python",
            "name": "python3"
        },
        "language_info": {
            "codemirror_mode": {
                "name": "ipython",
                "version": 3
            },
            "file_extension": ".py",
            "mimetype": "text/x-python",
            "name": "python",
            "nbconvert_exporter": "python",
            "pygments_lexer": "ipython3",
            "version": "3.11.0"
        },
        "vscode": {
            "interpreter": {
                "hash": "9fedf123aa532497912d939029aac71791b23fba076af1a3c1eebd0e739bf47a"
            }
        }
    },
    "nbformat": 4,
    "nbformat_minor": 5
}