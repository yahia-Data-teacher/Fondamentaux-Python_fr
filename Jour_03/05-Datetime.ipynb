{
    "cells": [
        {
            "cell_type": "markdown",
            "metadata": {
                "id": "view-in-github",
                "colab_type": "text"
            },
            "source": [
                "<a href=\"https://colab.research.google.com/github/yahia-kplr/Fondamentaux-Python_fr/blob/main/Jour_03/05-Datetime.ipynb\" target=\"_blank\"><img src=\"https://colab.research.google.com/assets/colab-badge.svg\" alt=\"Open In Colab\"/></a>"
            ]
        },
        {
            "cell_type": "markdown",
            "id": "e1a1b6b6",
            "metadata": {},
            "source": [
                "# Datetime / BON \u00c0 SAVOIR\n"
            ]
        },
        {
            "cell_type": "markdown",
            "id": "58021920",
            "metadata": {},
            "source": [
                "### Qu'est-ce que la date et l'heure en Python\u00a0?\n",
                "\n",
                "C'est une biblioth\u00e8que standard fonctionnant avec la date et l'heure.\n",
                "\n",
                "``` Python\n",
                "date et heure d'importation\n",
                "\n",
                "utc_now = dateheure.dateheure.utcnow()\n",
                "imprimer (utc_now)\n",
                "```\n"
            ]
        },
        {
            "cell_type": "code",
            "execution_count": 1,
            "id": "50acde8f",
            "metadata": {},
            "outputs": [],
            "source": [
                "import datetime"
            ]
        },
        {
            "cell_type": "code",
            "execution_count": 2,
            "id": "f5b7a07d",
            "metadata": {},
            "outputs": [
                {
                    "data": {
                        "text/plain": [
                            "datetime.datetime(2023, 1, 17, 8, 47, 33, 77678)"
                        ]
                    },
                    "execution_count": 2,
                    "metadata": {},
                    "output_type": "execute_result"
                }
            ],
            "source": [
                "datetime.datetime.utcnow()"
            ]
        },
        {
            "cell_type": "code",
            "execution_count": null,
            "id": "756fe825",
            "metadata": {},
            "outputs": [],
            "source": []
        },
        {
            "cell_type": "markdown",
            "id": "82d77373",
            "metadata": {},
            "source": [
                "### La diff\u00e9rence entre deux dates\n",
                "\n",
                "``` Python\n",
                "\u00e0 partir de la date et de l'heure d'importation de la date et de l'heure\n",
                "\n",
                "jour_0 = dateheure(2000, 1, 1)\n",
                "utc_now = dateheure.utcnow()\n",
                "\n",
                "imprimer(utc_maintenant - jour_0)\n",
                "```\n",
                "\n",
                "Une note sur la fa\u00e7on de rendre le code lisible.\n",
                "``` Python\n",
                "\u00e0 partir de la date et de l'heure d'importation de la date et de l'heure\n",
                "\n",
                "jour_0 = dateheure(ann\u00e9e=2000, mois=1, jour=1, heure=13, minute=56, seconde=35)\n",
                "utc_now = dateheure.utcnow()\n",
                "\n",
                "imprimer(utc_maintenant - jour_0)\n",
                "```\n"
            ]
        },
        {
            "cell_type": "code",
            "execution_count": 3,
            "id": "d43f6d5e",
            "metadata": {},
            "outputs": [
                {
                    "name": "stdout",
                    "output_type": "stream",
                    "text": [
                        "8417 days, 8:50:35.176589\n"
                    ]
                }
            ],
            "source": [
                "from datetime import datetime\n",
                "\n",
                "day_0 = datetime(2000, 1, 1)\n",
                "utc_now = datetime.utcnow()\n",
                "\n",
                "print(utc_now - day_0)"
            ]
        },
        {
            "cell_type": "code",
            "execution_count": 4,
            "id": "8e908d4a",
            "metadata": {},
            "outputs": [
                {
                    "name": "stdout",
                    "output_type": "stream",
                    "text": [
                        "8417 days, 8:52:37.264484\n"
                    ]
                }
            ],
            "source": [
                "day_0 = datetime(year=2000, month=1, day=1)\n",
                "utc_now = datetime.utcnow()\n",
                "\n",
                "print(utc_now - day_0)"
            ]
        },
        {
            "cell_type": "code",
            "execution_count": null,
            "id": "ae2c19ff",
            "metadata": {},
            "outputs": [],
            "source": []
        }
    ],
    "metadata": {
        "kernelspec": {
            "display_name": "Python 3 (ipykernel)",
            "language": "python",
            "name": "python3"
        },
        "language_info": {
            "codemirror_mode": {
                "name": "ipython",
                "version": 3
            },
            "file_extension": ".py",
            "mimetype": "text/x-python",
            "name": "python",
            "nbconvert_exporter": "python",
            "pygments_lexer": "ipython3",
            "version": "3.9.13"
        }
    },
    "nbformat": 4,
    "nbformat_minor": 5
}