{
    "cells": [
        {
            "cell_type": "markdown",
            "metadata": {
                "id": "view-in-github",
                "colab_type": "text"
            },
            "source": [
                "<a href=\"https://colab.research.google.com/github/yahia-kplr/Fondamentaux-Python_fr/blob/main/Jour_03/projet/solution/04-Project-Hangman_Game.ipynb\" target=\"_blank\"><img src=\"https://colab.research.google.com/assets/colab-badge.svg\" alt=\"Open In Colab\"/></a>"
            ]
        },
        {
            "cell_type": "markdown",
            "id": "66954589",
            "metadata": {},
            "source": [
                "# Projet - Jeu du Pendu\n",
                "### Mais\n",
                "- Cr\u00e9er un [jeu du pendu](https://en.wikipedia.org/wiki/Hangman_(game))\n"
            ]
        },
        {
            "cell_type": "markdown",
            "id": "268c1f42",
            "metadata": {},
            "source": [
                "### Description\n",
                "- Le jeu est le suivant.\n",
                "- L'ordinateur a une liste de mots.\n",
                "- L'ordinateur choisit un mot au hasard dans la liste.\n",
                "- Le joueur obtient 10 mauvaises suppositions (10 tours).\n",
                "- Le jeu suit cette boucle\n",
                "- L'ordinateur imprime le mot caract\u00e8re par caract\u00e8re en rempla\u00e7ant par un trait de soulignement ceux qui n'ont pas encore \u00e9t\u00e9 devin\u00e9s (aucun caract\u00e8re initial n'a \u00e9t\u00e9 devin\u00e9).\n",
                "- Le joueur devine un personnage.\n",
                "- Si le personnage n'est pas dans le mot, un tour est retir\u00e9\n",
                "- S'il ne reste plus de tours, l'ordinateur gagne.\n",
                "- Si le joueur a devin\u00e9 tous les personnages, le joueur gagne\n",
                "- Une premi\u00e8re liste de mots pourrait \u00eatre\u00a0: ['p\u00e8re', 'entreprise', 'science', 'programmation', 'r\u00e9sistance', 'fiction', 'condition', 'inverse', 'ordinateur', 'python']\n"
            ]
        },
        {
            "cell_type": "code",
            "execution_count": 1,
            "id": "df39d880",
            "metadata": {},
            "outputs": [],
            "source": [
                "import random"
            ]
        },
        {
            "cell_type": "code",
            "execution_count": 5,
            "id": "f7b4c248",
            "metadata": {},
            "outputs": [
                {
                    "name": "stdout",
                    "output_type": "stream",
                    "text": [
                        "You have 10 turns left\n",
                        "_ _ _ _ _ _ _ \n",
                        "You have 10 turns left\n",
                        "f\n",
                        "_ _ _ _ _ _ \n",
                        "You have 10 turns left\n",
                        "f\n",
                        "i\n",
                        "_ _ i\n",
                        "_ _ \n",
                        "You have 10 turns left\n",
                        "f\n",
                        "i\n",
                        "_ _ i\n",
                        "_ _ \n",
                        "You have 10 turns left\n",
                        "f\n",
                        "i\n",
                        "c\n",
                        "_ i\n",
                        "_ _ \n",
                        "You have 10 turns left\n",
                        "f\n",
                        "i\n",
                        "c\n",
                        "t\n",
                        "i\n",
                        "_ _ \n",
                        "You have 10 turns left\n",
                        "f\n",
                        "i\n",
                        "c\n",
                        "t\n",
                        "i\n",
                        "_ _ \n",
                        "You have 10 turns left\n",
                        "f\n",
                        "i\n",
                        "c\n",
                        "t\n",
                        "i\n",
                        "_ _ \n",
                        "You have 10 turns left\n",
                        "f\n",
                        "i\n",
                        "c\n",
                        "t\n",
                        "i\n",
                        "o\n",
                        "n\n",
                        "\n"
                    ]
                }
            ],
            "source": [
                "words = ['father', 'enterprise', 'science', 'programming', 'resistance', 'fiction', 'condition', 'reverse', 'computer', 'python']\n",
                "word = random.choice(words)\n",
                "\n",
                "guesses = ''\n",
                "\n",
                "turns = 10\n",
                "\n",
                "while turns > 0:\n",
                "    print(f\"You have {turns} turns left\")\n",
                "\n",
                "    guessed_all = True\n",
                "    for c in word:\n",
                "        if c in guesses:\n",
                "            print(c)\n",
                "        else:\n",
                "            print('_', end=' ')\n",
                "            guessed_all = False\n",
                "    print()\n",
                "\n",
                "    if not guessed_all:\n",
                "        guess = input(\"Guess a char: \")\n",
                "        guesses = guesses + guess\n",
                "        if guess not in word:\n",
                "            turns = turns - 1\n",
                "    else:\n",
                "        turns = 0"
            ]
        }
    ],
    "metadata": {
        "kernelspec": {
            "display_name": "Python 3",
            "language": "python",
            "name": "python3"
        },
        "language_info": {
            "name": "python",
            "version": "3.11.0 (main, Oct 24 2022, 18:26:48) [MSC v.1933 64 bit (AMD64)]"
        },
        "vscode": {
            "interpreter": {
                "hash": "9fedf123aa532497912d939029aac71791b23fba076af1a3c1eebd0e739bf47a"
            }
        }
    },
    "nbformat": 4,
    "nbformat_minor": 5
}