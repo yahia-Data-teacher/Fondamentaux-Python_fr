{
    "cells": [
        {
            "cell_type": "markdown",
            "metadata": {
                "id": "view-in-github",
                "colab_type": "text"
            },
            "source": [
                "<a href=\"https://colab.research.google.com/github/yahia-kplr/Fondamentaux-Python_fr/blob/main/Jour_03/projet/solution/02-Project-Math_Game_and_Rock-Paper-Scissor_Game.ipynb\" target=\"_blank\"><img src=\"https://colab.research.google.com/assets/colab-badge.svg\" alt=\"Open In Colab\"/></a>"
            ]
        },
        {
            "cell_type": "markdown",
            "id": "1d75bdc4",
            "metadata": {},
            "source": [
                "# Projet - Jeu Math et Jeu Pierre-Papier-Ciseaux\n",
                "### Mais\n",
                "- Cr\u00e9er un jeu math\u00e9matique\n",
                "- Cr\u00e9er un [jeu pierre-papier-ciseaux](https://en.wikipedia.org/wiki/Rock_paper_scissors)\n"
            ]
        },
        {
            "cell_type": "markdown",
            "id": "4ff2dda3",
            "metadata": {},
            "source": [
                "### Jeu de math\u00e9matiques\n",
                "- Tout d'abord, importez au hasard\n",
                "- Obtenez un nombre entier al\u00e9atoire de la plage 1 \u00e0 10 (les deux inclus)\n",
                "- Obtenez un autre entier al\u00e9atoire de la plage 1 \u00e0 10 (les deux inclus)\n",
                "- Demander \u00e0 l'utilisateur ce que sont les deux nombres entiers multipli\u00e9s\n",
                "- Imprimer si correct ou non. Si ce n'est pas correct, imprimez la bonne r\u00e9ponse.\n"
            ]
        },
        {
            "cell_type": "code",
            "execution_count": 1,
            "id": "392d1ad8",
            "metadata": {},
            "outputs": [],
            "source": [
                "import random"
            ]
        },
        {
            "attachments": {},
            "cell_type": "markdown",
            "id": "5b146391",
            "metadata": {},
            "source": [
                "### Jeu de pierre, papier et ciseaux\n",
                "\n",
                "![Rock Paper Scissor](../image/Rock Paper Scissors.png \"Rock-Paper-Scissor\")"
            ]
        },
        {
            "cell_type": "code",
            "execution_count": 2,
            "id": "07cb171b",
            "metadata": {},
            "outputs": [
                {
                    "name": "stdout",
                    "output_type": "stream",
                    "text": [
                        "Enter choice: 1: Rock, 2: Paper, 3: Scissor\n",
                        "Computer: 3\n",
                        "Computer wins\n"
                    ]
                }
            ],
            "source": [
                "print(\"Enter choice: 1: Rock, 2: Paper, 3: Scissor\")\n",
                "choice = input(\"Choice (1/2/3): \")\n",
                "choice = int(choice)\n",
                "\n",
                "computer_choice = random.randint(1, 3)\n",
                "print(f\"Computer: {computer_choice}\")\n",
                "\n",
                "if choice == computer_choice:\n",
                "    print(\"Draw\")\n",
                "elif choice == 1: # Rock\n",
                "    if computer_choice == 2: # Paper\n",
                "        print(\"Computer wins\")\n",
                "    else:\n",
                "        print(\"You win\")\n",
                "elif choice == 2: # Paper\n",
                "    if computer_choice == 1: # Rock\n",
                "        print(\"You win\")\n",
                "    else:\n",
                "        print(\"Computer wins\")\n",
                "elif choice == 3: # Scissor\n",
                "    if computer_choice == 1: # Rock\n",
                "        print(\"Computer wins\")\n",
                "    else:\n",
                "        print(\"You win\")"
            ]
        }
    ],
    "metadata": {
        "kernelspec": {
            "display_name": "Python 3",
            "language": "python",
            "name": "python3"
        },
        "language_info": {
            "name": "python",
            "version": "3.11.0"
        },
        "vscode": {
            "interpreter": {
                "hash": "9fedf123aa532497912d939029aac71791b23fba076af1a3c1eebd0e739bf47a"
            }
        }
    },
    "nbformat": 4,
    "nbformat_minor": 5
}
