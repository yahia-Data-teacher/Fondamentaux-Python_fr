{
    "cells": [
        {
            "cell_type": "markdown",
            "metadata": {
                "id": "view-in-github",
                "colab_type": "text"
            },
            "source": [
                "<a href=\"https://colab.research.google.com/github/yahia-kplr/Fondamentaux-Python_fr/blob/main/Jour_03/projet/solution/06-Project-Capitals_and_Frequency_Count.ipynb\" target=\"_blank\"><img src=\"https://colab.research.google.com/assets/colab-badge.svg\" alt=\"Open In Colab\"/></a>"
            ]
        },
        {
            "cell_type": "markdown",
            "metadata": {},
            "source": [
                "# Projet - Majuscules et nombre de fr\u00e9quences\n",
                "### Mais\n",
                "- Devinez un jeu capital\n",
                "- Compte de fr\u00e9quence\n"
            ]
        },
        {
            "cell_type": "markdown",
            "metadata": {},
            "source": [
                "### Description de Devinez un jeu de capital\n",
                "- Utilisez un dictionnaire pour conserver les paires pays-capitale comme cl\u00e9-valeur.\n",
                "- {'France'\u00a0: 'Paris', 'Finlande'\u00a0: 'Helsinki', 'Su\u00e8de'\u00a0: 'Stockholm', 'Danemark'\u00a0: 'Copenhague'}\n",
                "- Demander 3 fois \u00e0 l'utilisateur une capitale dans un pays.\n",
                "- Imprimer le nombre de majuscules correctes.\n",
                "- N'h\u00e9sitez pas \u00e0 imprimer si la r\u00e9ponse est correcte et ce qu'elle est.\n"
            ]
        },
        {
            "cell_type": "code",
            "execution_count": 1,
            "metadata": {},
            "outputs": [],
            "source": [
                "import random"
            ]
        },
        {
            "cell_type": "code",
            "execution_count": 4,
            "metadata": {},
            "outputs": [
                {
                    "name": "stdout",
                    "output_type": "stream",
                    "text": [
                        "Correct! The capital of France is Paris!\n",
                        "Correct! The capital of Denmark is Copenhagen!\n",
                        "Correct! The capital of Sweden is Stockholm!\n",
                        "Your score: 3\n"
                    ]
                }
            ],
            "source": [
                "capitals = {'France': 'Paris', 'Finland': 'Helsinki', 'Sweden': 'Stockholm', 'Denmark': 'Copenhagen'}\n",
                "\n",
                "score = 0\n",
                "\n",
                "for i in range(3):\n",
                "    country = random.choice(list(capitals.keys()))\n",
                "\n",
                "    answer = input(f\"What is the capital of {country} ?\")\n",
                "\n",
                "    if answer.lower() == capitals[country].lower():\n",
                "        print(f\"Correct! The capital of {country} is {capitals[country]}!\")\n",
                "        score = score + 1\n",
                "    else:\n",
                "        print(f\"Incorrect! The capital of {country} is {capitals[country]}!\")\n",
                "\n",
                "print(f\"Your score: {score}\")"
            ]
        },
        {
            "cell_type": "markdown",
            "metadata": {},
            "source": [
                "### Description du comptage de fr\u00e9quence\n",
                "- Demander \u00e0 l'utilisateur une ligne de texte\n",
                "- Utilisez un dictionnaire pour compter la fr\u00e9quence des lettres.\n",
                "- Imprimer les fr\u00e9quences\n"
            ]
        },
        {
            "cell_type": "code",
            "execution_count": 7,
            "metadata": {},
            "outputs": [
                {
                    "name": "stdout",
                    "output_type": "stream",
                    "text": [
                        "t: 3\n",
                        "h: 1\n",
                        "i: 2\n",
                        "s: 2\n",
                        " : 3\n",
                        "m: 1\n",
                        "y: 1\n",
                        "e: 1\n",
                        "x: 1\n"
                    ]
                }
            ],
            "source": [
                "text = input(\"Write a line of text: \")\n",
                "\n",
                "freq = {}\n",
                "\n",
                "for c in text:\n",
                "    c = c.lower()\n",
                "    freq[c] = freq.get(c, 0) + 1\n",
                "\n",
                "for key, value in freq.items():\n",
                "    print(f\"{key}: {value}\")"
            ]
        }
    ],
    "metadata": {
        "kernelspec": {
            "display_name": "Python 3",
            "language": "python",
            "name": "python3"
        },
        "language_info": {
            "codemirror_mode": {
                "name": "ipython",
                "version": 3
            },
            "file_extension": ".py",
            "mimetype": "text/x-python",
            "name": "python",
            "nbconvert_exporter": "python",
            "pygments_lexer": "ipython3",
            "version": "3.11.0 (main, Oct 24 2022, 18:26:48) [MSC v.1933 64 bit (AMD64)]"
        },
        "vscode": {
            "interpreter": {
                "hash": "9fedf123aa532497912d939029aac71791b23fba076af1a3c1eebd0e739bf47a"
            }
        }
    },
    "nbformat": 4,
    "nbformat_minor": 5
}