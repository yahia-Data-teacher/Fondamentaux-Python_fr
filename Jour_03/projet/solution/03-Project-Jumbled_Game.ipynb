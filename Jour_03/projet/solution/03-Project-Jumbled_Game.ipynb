{
    "cells": [
        {
            "cell_type": "markdown",
            "metadata": {
                "id": "view-in-github",
                "colab_type": "text"
            },
            "source": [
                "<a href=\"https://colab.research.google.com/github/yahia-kplr/Fondamentaux-Python_fr/blob/main/Jour_03/projet/solution/03-Project-Jumbled_Game.ipynb\" target=\"_blank\"><img src=\"https://colab.research.google.com/assets/colab-badge.svg\" alt=\"Open In Colab\"/></a>"
            ]
        },
        {
            "cell_type": "markdown",
            "id": "d78217ad",
            "metadata": {},
            "source": [
                "# Projet - Jumbled Game\n",
                "### But\n",
                "- Impl\u00e9menter le [Jumbled Game](https://en.wikipedia.org/wiki/Jumble)\n"
            ]
        },
        {
            "cell_type": "markdown",
            "id": "c4d67e22",
            "metadata": {},
            "source": [
                "### Description\n",
                "- Un fouillis de mots est un jeu de puzzle de mots qui pr\u00e9sente au joueur un tas de lettres m\u00e9lang\u00e9es et lui demande de d\u00e9chiffrer les lettres pour trouver le mot cach\u00e9.\n",
                "- L'ordinateur va prendre un mot et le m\u00e9langer (m\u00e9langer les lettres).\n",
                "- Ensuite, le joueur devinera quel est le mot\n",
                "- Une premi\u00e8re liste de mots pourrait \u00eatre\u00a0: ['p\u00e8re', 'entreprise', 'science', 'programmation', 'r\u00e9sistance', 'fiction', 'condition', 'inverse', 'ordinateur', 'python']\n"
            ]
        },
        {
            "cell_type": "code",
            "execution_count": 2,
            "id": "6c4ebaf6",
            "metadata": {},
            "outputs": [],
            "source": [
                "import random"
            ]
        },
        {
            "cell_type": "code",
            "execution_count": 6,
            "id": "2759ec85",
            "metadata": {},
            "outputs": [
                {
                    "name": "stdout",
                    "output_type": "stream",
                    "text": [
                        "The jumble word is tesrnpriee\n",
                        "Incorrect: The word is enterprise\n"
                    ]
                }
            ],
            "source": [
                "words = ['father', 'enterprise', 'science', 'programming', 'resistance', 'fiction', 'condition', 'reverse', 'computer', 'python']\n",
                "word = random.choice(words)\n",
                "\n",
                "jumble = ''.join(random.sample(word, len(word)))\n",
                "\n",
                "print(f\"The jumble word is {jumble}\")\n",
                "\n",
                "guess = input(\"Write your guess: \")\n",
                "\n",
                "if guess == word:\n",
                "    print(\"Correct\")\n",
                "else:\n",
                "    print(f\"Incorrect: The word is {word}\")"
            ]
        }
    ],
    "metadata": {
        "kernelspec": {
            "display_name": "Python 3",
            "language": "python",
            "name": "python3"
        },
        "language_info": {
            "name": "python",
            "version": "3.11.0 (main, Oct 24 2022, 18:26:48) [MSC v.1933 64 bit (AMD64)]"
        },
        "vscode": {
            "interpreter": {
                "hash": "9fedf123aa532497912d939029aac71791b23fba076af1a3c1eebd0e739bf47a"
            }
        }
    },
    "nbformat": 4,
    "nbformat_minor": 5
}