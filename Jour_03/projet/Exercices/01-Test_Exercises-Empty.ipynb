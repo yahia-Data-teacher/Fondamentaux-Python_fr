{
    "cells": [
        {
            "cell_type": "markdown",
            "metadata": {
                "id": "view-in-github",
                "colab_type": "text"
            },
            "source": [
                "<a href=\"https://colab.research.google.com/github/yahia-kplr/Fondamentaux-Python_fr/blob/main/Jour_03/projet/Exercices/01-Test_Exercises-Empty.ipynb\" target=\"_blank\"><img src=\"https://colab.research.google.com/assets/colab-badge.svg\" alt=\"Open In Colab\"/></a>"
            ]
        },
        {
            "cell_type": "markdown",
            "id": "b592a730",
            "metadata": {},
            "source": [
                "# Exercices de test\n"
            ]
        },
        {
            "attachments": {},
            "cell_type": "markdown",
            "id": "e24f8d44",
            "metadata": {},
            "source": [
                "### Exercice 1 : Coinflip\n",
                "\n",
                "Cr\u00e9ez un simple coinflip.\n",
                "\n",
                "Le programme doit soit afficher `head` ou `ARM`\n"
            ]
        },
        {
            "cell_type": "markdown",
            "id": "9b6e2875",
            "metadata": {},
            "source": [
                "#### DOUBLE-CLIQUEZ ICI POUR OBTENIR DE L'AIDE POUR L'IMPORTATION\n",
                "\n",
                "<!--\n",
                "\n",
                "Vous pouvez r\u00e9soudre ce probl\u00e8me en utilisant randrange. Vous l'importez comme suit.\n",
                "\n",
                "\u00e0 partir d'une importation al\u00e9atoire\n",
                "\n",
                "-->\n"
            ]
        },
        {
            "attachments": {},
            "cell_type": "markdown",
            "id": "8d13fe4f",
            "metadata": {},
            "source": [
                "#### DOUBLE-CLIQUEZ ICI POUR OBTENIR PLUS D'AIDE\n",
                "\n",
                "<!--\n",
                "\n",
                "Cr\u00e9ez un entier al\u00e9atoire qui vaut 0 ou 1.\n",
                "\n",
                "Utilisez ensuite une instruction if pour imprimer la t\u00eate si 1 et ARM sinon.\n",
                "\n",
                "-->\n"
            ]
        },
        {
            "cell_type": "code",
            "execution_count": null,
            "id": "791b4f26",
            "metadata": {},
            "outputs": [],
            "source": []
        },
        {
            "cell_type": "code",
            "execution_count": null,
            "id": "24d78c25",
            "metadata": {},
            "outputs": [],
            "source": []
        },
        {
            "cell_type": "code",
            "execution_count": null,
            "id": "b95dcefe",
            "metadata": {},
            "outputs": [],
            "source": []
        },
        {
            "cell_type": "markdown",
            "id": "899ab298",
            "metadata": {},
            "source": [
                "### Exercice 2\n",
                "\n",
                "Cr\u00e9ez un programme simple qui affiche les deux d\u00e9s lanc\u00e9s et la somme.\n"
            ]
        },
        {
            "cell_type": "markdown",
            "id": "09fd6f6a",
            "metadata": {},
            "source": [
                "#### DOUBLE-CLIQUEZ ICI POUR OBTENIR DE L'AIDE\n",
                "\n",
                "<!--\n",
                "\n",
                "randrange(start, stop) renverra un entier al\u00e9atoire de la plage [start (inclusive), stop (non inclusive)]\n",
                "\n",
                "-->\n"
            ]
        },
        {
            "cell_type": "code",
            "execution_count": null,
            "id": "a25a2be4",
            "metadata": {},
            "outputs": [],
            "source": []
        },
        {
            "cell_type": "code",
            "execution_count": null,
            "id": "e9b88737",
            "metadata": {},
            "outputs": [],
            "source": []
        },
        {
            "cell_type": "code",
            "execution_count": null,
            "id": "9fb61015",
            "metadata": {},
            "outputs": [],
            "source": []
        },
        {
            "cell_type": "markdown",
            "id": "8fcc7b02",
            "metadata": {},
            "source": [
                "### Exercice\u00a03\u00a0: devinez la capitale\n",
                "\n",
                "La petite s\u00e9lection suivante de quelques grandes capitales du monde.\n",
                "```Python\n",
                "majuscules = {\n",
                "'Chine : 'P\u00e9kin,\n",
                "'Japon : 'Kyo',\n",
                "'RD Congo': 'Kinshasa',\n",
                "'Russie'\u00a0: 'Moscou',\n",
                "'Indon\u00e9sie'\u00a0: 'Jakarta',\n",
                "'\u00c9gypte'\u00a0: 'Le Caire'\n",
                "}\n",
                "```\n",
                "\n",
                "Cr\u00e9ez un jeu simple qui demande \u00e0 l'utilisateur de deviner une capitale d'un pays al\u00e9atoire \u00e0 partir de \"capitales\".\n"
            ]
        },
        {
            "cell_type": "markdown",
            "id": "c20869d0",
            "metadata": {},
            "source": [
                "#### DOUBLE-CLIQUEZ ICI POUR OBTENIR DE L'AIDE POUR L'IMPORTATION\n",
                "\n",
                "<!--\n",
                "\n",
                "Vous pouvez utiliser le choix de la biblioth\u00e8que al\u00e9atoire. Vous importez le choix comme suit.\n",
                "\n",
                "du choix d'importation al\u00e9atoire\n",
                "\n",
                "-->\n"
            ]
        },
        {
            "cell_type": "markdown",
            "id": "37ee859b",
            "metadata": {},
            "source": [
                "#### DOUBLE-CLIQUEZ ICI POUR OBTENIR DE L'AIDE\n",
                "\n",
                "<!--\n",
                "\n",
                "La structure globale est la suivante.\n",
                "\n",
                "1. Obtenez un pays al\u00e9atoire (une cl\u00e9 al\u00e9atoire des capitales dict)\n",
                "2. Demandez \u00e0 l'utilisateur d'\u00e9crire la capitale de ce pays\n",
                "3. V\u00e9rifiez s'il est correct et imprimez les commentaires \u00e0 l'utilisateur\n",
                "\n",
                "-->\n"
            ]
        },
        {
            "cell_type": "markdown",
            "id": "4aa618eb",
            "metadata": {},
            "source": [
                "#### DOUBLE-CLIQUEZ ICI POUR OBTENIR DE L'AIDE POUR CHOISIR UN PAYS AU HASARD\n",
                "\n",
                "<!--\n",
                "\n",
                "Vous avez besoin d'une liste de toutes les cl\u00e9s des capitales du dict, puis vous pouvez utiliser le choix pour obtenir un pays al\u00e9atoire.\n",
                "\n",
                "pays = choix(liste(capitales))\n",
                "\n",
                "-->\n"
            ]
        },
        {
            "cell_type": "code",
            "execution_count": null,
            "id": "1d895a47",
            "metadata": {},
            "outputs": [],
            "source": []
        },
        {
            "cell_type": "code",
            "execution_count": null,
            "id": "fae445c7",
            "metadata": {},
            "outputs": [],
            "source": []
        },
        {
            "cell_type": "code",
            "execution_count": null,
            "id": "f42c5437",
            "metadata": {},
            "outputs": [],
            "source": []
        },
        {
            "cell_type": "markdown",
            "id": "7ae3326d",
            "metadata": {},
            "source": [
                "### Exercice\u00a04\u00a0: G\u00e9n\u00e9rateur de mots de passe\n",
                "\n",
                "\u00c9tant donn\u00e9 les caract\u00e8res suivants.\n",
                "\n",
                "```Python\n",
                "alphabet = 'abcdefghijklmnopqrstuvwxyz'\n",
                "nombres = '1234567890'\n",
                "promotions = '$!#%&'\n",
                "```\n",
                "\n",
                "1. Cr\u00e9ez un ensemble complet de caract\u00e8res `alphabet` \u00e0 la fois en minuscules et en majuscules, `numbers` et `specials`.\n",
                "2. G\u00e9n\u00e9rez un mot de passe de 18 caract\u00e8res\n"
            ]
        },
        {
            "cell_type": "markdown",
            "id": "038d5e25",
            "metadata": {},
            "source": [
                "#### DOUBLE-CLIQUEZ ICI POUR OBTENIR DE L'AIDE POUR L'IMPORTATION\n",
                "\n",
                "<!--\n",
                "\n",
                "Vous pouvez utiliser le choix de la biblioth\u00e8que al\u00e9atoire. Vous importez le choix comme suit.\n",
                "\n",
                "du choix d'importation al\u00e9atoire\n",
                "\n",
                "-->\n"
            ]
        },
        {
            "cell_type": "markdown",
            "id": "398efaaa",
            "metadata": {},
            "source": [
                "#### DOUBLE-CLIQUEZ ICI POUR OBTENIR DE L'AIDE\n",
                "\n",
                "<!--\n",
                "\n",
                "La structure globale est la suivante.\n",
                "\n",
                "1. Cr\u00e9ez une variable caract\u00e8res avec la concat\u00e9nation comme d\u00e9crit.\n",
                "2. Cr\u00e9ez une variable de cha\u00eene vide nomm\u00e9e mot de passe\n",
                "3. Cr\u00e9ez une boucle for qui it\u00e8re 18 fois\n",
                "4. Dans la boucle, ajoutez un caract\u00e8re \u00e0 partir de caract\u00e8res\n",
                "\n",
                "-->\n"
            ]
        },
        {
            "cell_type": "markdown",
            "id": "165c4015",
            "metadata": {},
            "source": [
                "#### DOUBLE-CLIQUEZ ICI POUR OBTENIR DE L'AIDE POUR CHOISIR UN PAYS AU HASARD\n",
                "\n",
                "<!--\n",
                "\n",
                "Convertissez les caract\u00e8res en une liste et utilisez le choix (import\u00e9 de mani\u00e8re al\u00e9atoire).\n",
                "\n",
                "-->\n"
            ]
        },
        {
            "cell_type": "code",
            "execution_count": null,
            "id": "96fbe97e",
            "metadata": {},
            "outputs": [],
            "source": []
        },
        {
            "cell_type": "code",
            "execution_count": null,
            "id": "01e9422e",
            "metadata": {},
            "outputs": [],
            "source": []
        },
        {
            "cell_type": "code",
            "execution_count": null,
            "id": "4760bd2c",
            "metadata": {},
            "outputs": [],
            "source": []
        }
    ],
    "metadata": {
        "kernelspec": {
            "display_name": "Python 3",
            "language": "python",
            "name": "python3"
        },
        "language_info": {
            "codemirror_mode": {
                "name": "ipython",
                "version": 3
            },
            "file_extension": ".py",
            "mimetype": "text/x-python",
            "name": "python",
            "nbconvert_exporter": "python",
            "pygments_lexer": "ipython3",
            "version": "3.11.0"
        },
        "vscode": {
            "interpreter": {
                "hash": "9fedf123aa532497912d939029aac71791b23fba076af1a3c1eebd0e739bf47a"
            }
        }
    },
    "nbformat": 4,
    "nbformat_minor": 5
}