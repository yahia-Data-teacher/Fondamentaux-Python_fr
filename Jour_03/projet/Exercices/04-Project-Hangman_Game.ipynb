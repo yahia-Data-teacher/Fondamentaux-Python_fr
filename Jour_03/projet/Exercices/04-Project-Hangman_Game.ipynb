{
    "cells": [
        {
            "cell_type": "markdown",
            "metadata": {
                "id": "view-in-github",
                "colab_type": "text"
            },
            "source": [
                "<a href=\"https://colab.research.google.com/github/yahia-kplr/Fondamentaux-Python_fr/blob/main/Jour_03/projet/Exercices/04-Project-Hangman_Game.ipynb\" target=\"_blank\"><img src=\"https://colab.research.google.com/assets/colab-badge.svg\" alt=\"Open In Colab\"/></a>"
            ]
        },
        {
            "cell_type": "markdown",
            "id": "2b28aa6c",
            "metadata": {},
            "source": [
                "# Projet - Jeu du Pendu\n",
                "### Mais\n",
                "- Cr\u00e9er un [jeu du pendu](https://en.wikipedia.org/wiki/Hangman_(game))\n"
            ]
        },
        {
            "cell_type": "markdown",
            "id": "e50c9ce6",
            "metadata": {},
            "source": [
                "### Description\n",
                "- Le jeu est le suivant.\n",
                "- L'ordinateur a une liste de mots.\n",
                "- L'ordinateur choisit un mot au hasard dans la liste.\n",
                "- Le joueur obtient 10 mauvaises suppositions (10 tours).\n",
                "- Le jeu suit cette boucle\n",
                "- L'ordinateur imprime le mot caract\u00e8re par caract\u00e8re en rempla\u00e7ant par un trait de soulignement ceux qui n'ont pas encore \u00e9t\u00e9 devin\u00e9s (aucun caract\u00e8re initial n'a \u00e9t\u00e9 devin\u00e9).\n",
                "- Le joueur devine un caract\u00e8re.\n",
                "- Si le caract\u00e8re n'est pas dans le mot, un tour est retir\u00e9\n",
                "- S'il ne reste plus de tours, l'ordinateur gagne.\n",
                "- Si le joueur a devin\u00e9 tous les caract\u00e8res, le joueur gagne\n",
                "- Une premi\u00e8re liste de mots pourrait \u00eatre\u00a0: ['p\u00e8re', 'entreprise', 'science', 'programmation', 'r\u00e9sistance', 'fiction', 'condition', 'inverse', 'ordinateur', 'python']\n"
            ]
        },
        {
            "cell_type": "code",
            "execution_count": null,
            "id": "6cd76d67",
            "metadata": {},
            "outputs": [],
            "source": []
        },
        {
            "cell_type": "code",
            "execution_count": null,
            "id": "7f6a0a82",
            "metadata": {},
            "outputs": [],
            "source": []
        }
    ],
    "metadata": {
        "kernelspec": {
            "display_name": "Python 3",
            "language": "python",
            "name": "python3"
        },
        "language_info": {
            "name": "python",
            "version": "3.11.0"
        },
        "vscode": {
            "interpreter": {
                "hash": "9fedf123aa532497912d939029aac71791b23fba076af1a3c1eebd0e739bf47a"
            }
        }
    },
    "nbformat": 4,
    "nbformat_minor": 5
}
