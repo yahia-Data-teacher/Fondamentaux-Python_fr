{
    "cells": [
        {
            "cell_type": "markdown",
            "metadata": {
                "id": "view-in-github",
                "colab_type": "text"
            },
            "source": [
                "<a href=\"https://colab.research.google.com/github/yahia-kplr/Fondamentaux-Python_fr/blob/main/Jour_03/projet/Exercices/02-Project-Math_Game_and_Rock-Paper-Scissor_Game.ipynb\" target=\"_blank\"><img src=\"https://colab.research.google.com/assets/colab-badge.svg\" alt=\"Open In Colab\"/></a>"
            ]
        },
        {
            "cell_type": "markdown",
            "id": "525d041d",
            "metadata": {},
            "source": [
                "# Projet - Jeu Math et Jeu Pierre-Papier-Ciseaux\n",
                "### Mais\n",
                "- Cr\u00e9er un jeu math\u00e9matique\n",
                "- Cr\u00e9er un [jeu pierre-papier-ciseaux](https://en.wikipedia.org/wiki/Rock_paper_scissors)\n"
            ]
        },
        {
            "cell_type": "markdown",
            "id": "4f64db8f",
            "metadata": {},
            "source": [
                "### Jeu de math\u00e9matiques\n",
                "- Tout d'abord, importez au hasard\n",
                "- Obtenez un nombre entier al\u00e9atoire de la plage 1 \u00e0 10 (les deux inclus)\n",
                "- Obtenez un autre entier al\u00e9atoire de la plage 1 \u00e0 10 (les deux inclus)\n",
                "- Demander \u00e0 l'utilisateur ce que sont les deux nombres entiers multipli\u00e9s\n",
                "- Imprimer si correct ou non. Si ce n'est pas correct, imprimez la bonne r\u00e9ponse.\n"
            ]
        },
        {
            "cell_type": "code",
            "execution_count": null,
            "id": "44e9296e",
            "metadata": {},
            "outputs": [],
            "source": []
        },
        {
            "attachments": {},
            "cell_type": "markdown",
            "id": "ee3354d1",
            "metadata": {},
            "source": [
                "### Jeu de pierre, papier et ciseaux\n",
                "\n",
                "![Rock Paper Scissor](../image/Rock Paper Scissors.png \"Rock-Paper-Scissor\")\n"
            ]
        },
        {
            "cell_type": "code",
            "execution_count": null,
            "id": "74814256",
            "metadata": {},
            "outputs": [],
            "source": []
        }
    ],
    "metadata": {
        "kernelspec": {
            "display_name": "Python 3",
            "language": "python",
            "name": "python3"
        },
        "language_info": {
            "name": "python",
            "version": "3.11.0"
        },
        "vscode": {
            "interpreter": {
                "hash": "9fedf123aa532497912d939029aac71791b23fba076af1a3c1eebd0e739bf47a"
            }
        }
    },
    "nbformat": 4,
    "nbformat_minor": 5
}