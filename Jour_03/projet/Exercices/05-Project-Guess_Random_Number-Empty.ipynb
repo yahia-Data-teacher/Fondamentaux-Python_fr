{
    "cells": [
        {
            "cell_type": "markdown",
            "metadata": {
                "id": "view-in-github",
                "colab_type": "text"
            },
            "source": [
                "<a href=\"https://colab.research.google.com/github/yahia-kplr/Fondamentaux-Python_fr/blob/main/Jour_03/projet/Exercices/05-Project-Guess_Random_Number-Empty.ipynb\" target=\"_blank\"><img src=\"https://colab.research.google.com/assets/colab-badge.svg\" alt=\"Open In Colab\"/></a>"
            ]
        },
        {
            "cell_type": "markdown",
            "id": "61a27fa1",
            "metadata": {},
            "source": [
                "# Project - Guess Random Number"
            ]
        },
        {
            "cell_type": "markdown",
            "id": "fb517602",
            "metadata": {},
            "source": [
                "### Le jeu\n",
                "\n",
                "- L'ordinateur g\u00e9n\u00e8re un nombre al\u00e9atoire de 1 \u00e0 100.\n",
                "- L'utilisateur doit le deviner.\n",
                "- Si l'utilisateur devine correct, il doit imprimer combien de suppositions l'utilisateur a utilis\u00e9es et se terminer.\n",
                "- Si l'utilisateur devine trop bas, imprimez-le.\n",
                "- Si l'utilisateur devine trop grand, imprimez-le.\n"
            ]
        },
        {
            "cell_type": "markdown",
            "id": "1619bccc",
            "metadata": {},
            "source": [
                "###\u00a0\u00c9tape\u00a01\u00a0: Importer\n",
                "\n",
                "- Vous devez importer un randrange pour g\u00e9n\u00e9rer un nombre al\u00e9atoire de 1 \u00e0 100 (les deux inclus).\n"
            ]
        },
        {
            "cell_type": "markdown",
            "id": "05c9c724",
            "metadata": {},
            "source": [
                "#### DOUBLE-CLIQUEZ ICI POUR OBTENIR DE L'AIDE POUR L'IMPORTATION\n",
                "\n",
                "<!--\n",
                "\n",
                "\u00e0 partir d'une importation al\u00e9atoire\n",
                "\n",
                "-->\n"
            ]
        },
        {
            "cell_type": "code",
            "execution_count": null,
            "id": "d824c46d",
            "metadata": {},
            "outputs": [],
            "source": []
        },
        {
            "cell_type": "code",
            "execution_count": null,
            "id": "d623565b",
            "metadata": {},
            "outputs": [],
            "source": []
        },
        {
            "cell_type": "markdown",
            "id": "1dcbfb0a",
            "metadata": {},
            "source": [
                "### \u00c9tape\u00a02\u00a0: G\u00e9n\u00e9rer un nombre al\u00e9atoire\n",
                "\n",
                "Vous devez g\u00e9n\u00e9rer un nombre al\u00e9atoire de 1 \u00e0 100 (les deux inclus).\n"
            ]
        },
        {
            "cell_type": "markdown",
            "id": "edfb2dd6",
            "metadata": {},
            "source": [
                "#### DOUBLE-CLIQUEZ ICI POUR OBTENIR DE L'AIDE\n",
                "\n",
                "<!--\n",
                "\n",
                "num = randrange(1, 101)\n",
                "\n",
                "-->\n"
            ]
        },
        {
            "cell_type": "code",
            "execution_count": null,
            "id": "0e49a3b8",
            "metadata": {},
            "outputs": [],
            "source": []
        },
        {
            "cell_type": "code",
            "execution_count": null,
            "id": "c40c9be8",
            "metadata": {},
            "outputs": [],
            "source": []
        },
        {
            "cell_type": "markdown",
            "id": "2456f518",
            "metadata": {},
            "source": [
                "###\u00a0\u00c9tape\u00a03\u00a0: Gardez une trace du nombre de suppositions\n",
                "\n",
                "Vous voulez savoir combien de suppositions l'utilisateur a utilis\u00e9es.\n"
            ]
        },
        {
            "cell_type": "markdown",
            "id": "4d352d17",
            "metadata": {},
            "source": [
                "#### DOUBLE-CLIQUEZ ICI POUR OBTENIR DE L'AIDE\n",
                "\n",
                "<!--\n",
                "\n",
                "Cr\u00e9ez une variable affect\u00e9e \u00e0 0 car avant de commencer l'utilisateur a devin\u00e9 0 fois.\n",
                "\n",
                "suppositions = 0\n",
                "\n",
                "-->\n"
            ]
        },
        {
            "cell_type": "code",
            "execution_count": null,
            "id": "c2b99f26",
            "metadata": {},
            "outputs": [],
            "source": []
        },
        {
            "cell_type": "code",
            "execution_count": null,
            "id": "739f345c",
            "metadata": {},
            "outputs": [],
            "source": []
        },
        {
            "cell_type": "markdown",
            "id": "186932d3",
            "metadata": {},
            "source": [
                "###\u00a04\u00a0: Boucle principale\n",
                "\n",
                "- Commencez par \u00e9crire une boucle qui demande \u00e0 l'utilisateur de deviner.\n",
                "- Ensuite, faites une validation que l'entr\u00e9e est la bonne plage (1 - 100)\n",
                "\n",
                "Pour tester votre boucle, vous pouvez utiliser `break` apr\u00e8s votre code, de cette fa\u00e7on vous ne vous retrouverez pas dans une boucle infinie.\n"
            ]
        },
        {
            "cell_type": "markdown",
            "id": "ca013a4a",
            "metadata": {},
            "source": [
                "#### DOUBLE-CLIQUEZ ICI POUR OBTENIR DE L'AIDE\n",
                "\n",
                "<!--\n",
                "\n",
                "1. Nous voulons utiliser une boucle while.\n",
                "2. Nous prenons l'entr\u00e9e de l'utilisateur et la convertissons en int.\n",
                "3. Ensuite, nous v\u00e9rifions si la supposition est dans la plage, sinon, recommencez\n",
                "\n",
                "tandis que Vrai\u00a0:\n",
                "\n",
                "devine = int(input(\"Quelle est votre estimation (1-100)\u00a0? \"))\n",
                "\n",
                "si deviner < 1 ou deviner > 100\u00a0:\n",
                "print('Hors limites !')\n",
                "continuer\n",
                "\n",
                "break # C'est pour terminer la boucle pendant le test\n",
                "\n",
                "-->\n"
            ]
        },
        {
            "cell_type": "code",
            "execution_count": null,
            "id": "b3ce2959",
            "metadata": {},
            "outputs": [],
            "source": []
        },
        {
            "cell_type": "code",
            "execution_count": null,
            "id": "f9a089f7",
            "metadata": {},
            "outputs": [],
            "source": []
        },
        {
            "cell_type": "markdown",
            "id": "9f2dd214",
            "metadata": {},
            "source": [
                "### \u00c9tape\u00a05\u00a0: Le code complet\n",
                "\n",
                "- Il ne vous reste plus qu'\u00e0 incr\u00e9menter la variable `guess` (incr\u00e9menter signifie lui ajouter 1).\n",
                "- Ensuite, v\u00e9rifiez si la supposition est correcte, si c'est le cas, imprimez-la et sortez de la boucle.\n",
                "- V\u00e9rifiez ensuite si l'estimation est trop faible ou trop grande, imprimez-la \u00e0 l'utilisateur.\n"
            ]
        },
        {
            "cell_type": "code",
            "execution_count": null,
            "id": "6627a7fe",
            "metadata": {},
            "outputs": [],
            "source": []
        },
        {
            "cell_type": "code",
            "execution_count": null,
            "id": "817d2253",
            "metadata": {},
            "outputs": [],
            "source": []
        },
        {
            "cell_type": "code",
            "execution_count": null,
            "id": "0c35073e",
            "metadata": {},
            "outputs": [],
            "source": []
        },
        {
            "cell_type": "code",
            "execution_count": null,
            "id": "5868d2df",
            "metadata": {},
            "outputs": [],
            "source": []
        }
    ],
    "metadata": {
        "kernelspec": {
            "display_name": "Python 3",
            "language": "python",
            "name": "python3"
        },
        "language_info": {
            "codemirror_mode": {
                "name": "ipython",
                "version": 3
            },
            "file_extension": ".py",
            "mimetype": "text/x-python",
            "name": "python",
            "nbconvert_exporter": "python",
            "pygments_lexer": "ipython3",
            "version": "3.11.0"
        },
        "vscode": {
            "interpreter": {
                "hash": "9fedf123aa532497912d939029aac71791b23fba076af1a3c1eebd0e739bf47a"
            }
        }
    },
    "nbformat": 4,
    "nbformat_minor": 5
}