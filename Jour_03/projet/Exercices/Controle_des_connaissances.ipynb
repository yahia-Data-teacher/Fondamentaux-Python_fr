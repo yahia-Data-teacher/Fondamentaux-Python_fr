{
    "cells": [
        {
            "cell_type": "markdown",
            "metadata": {
                "id": "view-in-github",
                "colab_type": "text"
            },
            "source": [
                "<a href=\"https://colab.research.google.com/github/yahia-kplr/Fondamentaux-Python_fr/blob/main/Jour_03/projet/Exercices/Controle_des_connaissances.ipynb\" target=\"_blank\"><img src=\"https://colab.research.google.com/assets/colab-badge.svg\" alt=\"Open In Colab\"/></a>"
            ]
        },
        {
            "cell_type": "markdown",
            "metadata": {
                "collapsed": true,
                "id": "daUq-xzBrDNs"
            },
            "source": [
                "# Contr\u00f4le des connaissances\n",
                "\n",
                "Voyons un peu ce que vous avez appris !"
            ]
        },
        {
            "cell_type": "markdown",
            "metadata": {
                "id": "Pag_X7k_rDNu"
            },
            "source": [
                "_____\n",
                "**Utilisez les instructions for, split(), et if pour cr\u00e9er un code qui va n'afficher que les mots qui commencent par 'c' dans cette phrase :**\n"
            ]
        },
        {
            "cell_type": "code",
            "execution_count": null,
            "metadata": {
                "collapsed": true,
                "id": "PbfQK4pcrDNv"
            },
            "outputs": [],
            "source": [
                "st = \"Cet exercice consiste \u00e0 afficher uniquement les mots commencent par la lettre c\""
            ]
        },
        {
            "cell_type": "code",
            "execution_count": null,
            "metadata": {
                "id": "BncesGbTrDNw"
            },
            "outputs": [],
            "source": [
                "# Votre code"
            ]
        },
        {
            "cell_type": "markdown",
            "metadata": {
                "id": "3vsVC7C-rDNx"
            },
            "source": [
                "______\n",
                "**Utilisez range() pour afficher les nombres pairs de 0 \u00e0 10.**\n"
            ]
        },
        {
            "cell_type": "code",
            "execution_count": null,
            "metadata": {
                "id": "e9Ak3cj3rDNy"
            },
            "outputs": [],
            "source": [
                "# Votre code"
            ]
        },
        {
            "cell_type": "markdown",
            "metadata": {
                "id": "IeRcjlSxrDNy"
            },
            "source": [
                "___\n",
                "**Utilisez la compr\u00e9hension de liste pour cr\u00e9er la liste des nombres divisibles par 3 compris entre 1 et 50.**\n"
            ]
        },
        {
            "cell_type": "code",
            "execution_count": null,
            "metadata": {
                "id": "TFH0XRqurDNz",
                "outputId": "e63911d1-f29c-4f90-802e-0f0ca99de70d"
            },
            "outputs": [
                {
                    "data": {
                        "text/plain": [
                            "[]"
                        ]
                    },
                    "execution_count": 3,
                    "metadata": {},
                    "output_type": "execute_result"
                }
            ],
            "source": [
                "# Votre code\n",
                "[]"
            ]
        },
        {
            "cell_type": "markdown",
            "metadata": {
                "id": "olqNjvyCrDN0"
            },
            "source": [
                "_____\n",
                "**Dans la chaine suivante, v\u00e9rifiez le nombre de lettre de chaque mot et si celui-ci est pair, affichez le mot aveec \"pair !\"**\n"
            ]
        },
        {
            "cell_type": "code",
            "execution_count": null,
            "metadata": {
                "collapsed": true,
                "id": "0dKsgPwarDN0"
            },
            "outputs": [],
            "source": [
                "st = 'Affichez chaque mot de cette phrase dont le nombre de lettres est pair'"
            ]
        },
        {
            "cell_type": "code",
            "execution_count": null,
            "metadata": {
                "collapsed": true,
                "id": "UwxNkq5crDN1"
            },
            "outputs": [],
            "source": [
                "# Votre code"
            ]
        },
        {
            "cell_type": "markdown",
            "metadata": {
                "id": "c39SRWfIrDN1"
            },
            "source": [
                "**\u00c9crire un programme qui affiche les nombres entiers de 1 \u00e0 100. Pour les multiples de trois afficher \"Fizz\" \u00e0 la place du nombre et pour les multiples de cinq afficher \"Buzz\". Pour les nombres qui sont \u00e0 la fois des multiples de trois et de cinq afficher \"FizzBuzz\". **\n"
            ]
        },
        {
            "cell_type": "code",
            "execution_count": null,
            "metadata": {
                "id": "giGZuWCdrDN1"
            },
            "outputs": [],
            "source": [
                "# Votre code"
            ]
        },
        {
            "cell_type": "markdown",
            "metadata": {
                "id": "BR45FpZXrDN2"
            },
            "source": [
                "____\n",
                "**Utilisez la compr\u00e9hension de liste pour cr\u00e9er la liste des cinq premi\u00e8res lettres de chaque mot dans la chaine ci dessous :**\n"
            ]
        },
        {
            "cell_type": "code",
            "execution_count": null,
            "metadata": {
                "collapsed": true,
                "id": "j9rJ7_VArDN2"
            },
            "outputs": [],
            "source": [
                "st = \"Cr\u00e9ation d'une liste des cinq premi\u00e8res lettres de chaque mot de cette chaine de caract\u00e8res\""
            ]
        },
        {
            "cell_type": "code",
            "execution_count": null,
            "metadata": {
                "collapsed": true,
                "id": "Q1WBq19LrDN2"
            },
            "outputs": [],
            "source": [
                "# Votre code"
            ]
        },
        {
            "cell_type": "code",
            "execution_count": null,
            "metadata": {
                "collapsed": true,
                "id": "4pcmtCdzrDN3"
            },
            "outputs": [],
            "source": []
        }
    ],
    "metadata": {
        "anaconda-cloud": {},
        "kernelspec": {
            "display_name": "Python [default]",
            "language": "python",
            "name": "python3"
        },
        "language_info": {
            "codemirror_mode": {
                "name": "ipython",
                "version": 3
            },
            "file_extension": ".py",
            "mimetype": "text/x-python",
            "name": "python",
            "nbconvert_exporter": "python",
            "pygments_lexer": "ipython3",
            "version": "3.5.2"
        }
    },
    "nbformat": 4,
    "nbformat_minor": 0
}