{
    "cells": [
        {
            "cell_type": "markdown",
            "metadata": {
                "id": "view-in-github",
                "colab_type": "text"
            },
            "source": [
                "<a href=\"https://colab.research.google.com/github/yahia-kplr/Fondamentaux-Python_fr/blob/main/Jour_03/02-while_Loops.ipynb\" target=\"_blank\"><img src=\"https://colab.research.google.com/assets/colab-badge.svg\" alt=\"Open In Colab\"/></a>"
            ]
        },
        {
            "cell_type": "markdown",
            "metadata": {
                "collapsed": true,
                "id": "X1hqkZlKC9QL"
            },
            "source": [
                "# while Loops\n",
                "\n",
                "The <code>while</code> statement in Python is one of most general ways to perform iteration. A <code>while</code> statement will repeatedly execute a single statement or group of statements as long as the condition is true. The reason it is called a 'loop' is because the code statements are looped through over and over again until the condition is no longer met.\n",
                "\n",
                "The general format of a while loop is:\n",
                "\n",
                "    while test:\n",
                "        code statements\n",
                "    else:\n",
                "        final code statements\n",
                "\n",
                "Let\u2019s look at a few simple <code>while</code> loops in action. "
            ]
        },
        {
            "cell_type": "markdown",
            "metadata": {
                "id": "X_skRSktZSTf"
            },
            "source": [
                "Comme vous pouvez le voir, la boucle <code>for</code> est utilis\u00e9e pour un flux contr\u00f4l\u00e9 de r\u00e9p\u00e9tition. Cependant, que se passe-t-il si nous ne savons pas quand nous voulons arr\u00eater la boucle\u00a0? Et si nous voulons continuer \u00e0 ex\u00e9cuter un bloc de code jusqu'\u00e0 ce qu'une certaine condition soit remplie\u00a0? La boucle <code>while</code> existe en tant qu'outil pour une ex\u00e9cution r\u00e9p\u00e9t\u00e9e bas\u00e9e sur une condition. Le bloc de code continuera \u00e0 \u00eatre ex\u00e9cut\u00e9 jusqu'\u00e0 ce que la condition logique donn\u00e9e renvoie une valeur bool\u00e9enne **False**.\n"
            ]
        },
        {
            "cell_type": "markdown",
            "metadata": {
                "id": "M5Fg-4IuZSTf"
            },
            "source": [
                "Disons que nous aimerions parcourir la liste <code>dates</code> et nous arr\u00eater \u00e0 l'ann\u00e9e 1973, puis imprimer le nombre d'it\u00e9rations. Cela peut \u00eatre fait avec le bloc de code suivant\u00a0:\n"
            ]
        },
        {
            "cell_type": "code",
            "execution_count": null,
            "metadata": {
                "id": "_9HclEaSZSTf"
            },
            "outputs": [],
            "source": [
                "# While Loop Example\n",
                "\n",
                "dates = [1982, 1980, 1973, 2000]\n",
                "\n",
                "i = 0\n",
                "year = 0\n",
                "\n",
                "while(year != 1973):\n",
                "    year = dates[i]\n",
                "    i = i + 1\n",
                "    print(year)\n",
                "\n",
                "print(\"It took \", i ,\"repetitions to get out of loop.\")"
            ]
        },
        {
            "cell_type": "markdown",
            "metadata": {
                "id": "donK0PdJZSTg"
            },
            "source": [
                "Une boucle while effectue une it\u00e9ration jusqu'\u00e0 ce que la condition de l'argument ne soit pas remplie, comme illustr\u00e9 dans la figure suivante\u00a0:\n"
            ]
        },
        {
            "cell_type": "markdown",
            "metadata": {
                "id": "p7v0MiwIZSTg"
            },
            "source": [
                "<img src=\"https://s3-api.us-geo.objectstorage.softlayer.net/cf-courses-data/CognitiveClass/PY0101EN/Chapter%203/Images/LoopsWhile.gif\" width=\"650\" />\n"
            ]
        },
        {
            "cell_type": "markdown",
            "metadata": {
                "id": "E0WDKmcMZSTg"
            },
            "source": [
                "<h>\n"
            ]
        },
        {
            "cell_type": "markdown",
            "metadata": {
                "id": "9M7q8N6pC9QO"
            },
            "source": [
                "Remarquez combien de fois les instructions d'impression se sont produites et comment la boucle <code>while</code> a continu\u00e9 jusqu'\u00e0 ce que la condition True soit remplie, ce qui s'est produit une fois x==10. Il est important de noter qu'une fois que cela s'est produit, le code s'est arr\u00eat\u00e9. Voyons comment ajouter une instruction <code>else</code>\u00a0:\n"
            ]
        },
        {
            "cell_type": "code",
            "execution_count": null,
            "metadata": {
                "id": "izSjDRq6C9QP",
                "outputId": "b130ecb7-6d72-4aeb-d382-70064e5b21c2"
            },
            "outputs": [
                {
                    "name": "stdout",
                    "output_type": "stream",
                    "text": [
                        "x is currently:  0\n",
                        " x is still less than 10, adding 1 to x\n",
                        "x is currently:  1\n",
                        " x is still less than 10, adding 1 to x\n",
                        "x is currently:  2\n",
                        " x is still less than 10, adding 1 to x\n",
                        "x is currently:  3\n",
                        " x is still less than 10, adding 1 to x\n",
                        "x is currently:  4\n",
                        " x is still less than 10, adding 1 to x\n",
                        "x is currently:  5\n",
                        " x is still less than 10, adding 1 to x\n",
                        "x is currently:  6\n",
                        " x is still less than 10, adding 1 to x\n",
                        "x is currently:  7\n",
                        " x is still less than 10, adding 1 to x\n",
                        "x is currently:  8\n",
                        " x is still less than 10, adding 1 to x\n",
                        "x is currently:  9\n",
                        " x is still less than 10, adding 1 to x\n",
                        "All Done!\n"
                    ]
                }
            ],
            "source": [
                "x = 0\n",
                "\n",
                "while x < 10:\n",
                "    print('x is currently: ',x)\n",
                "    print(' x is still less than 10, adding 1 to x')\n",
                "    x+=1\n",
                "    \n",
                "else:\n",
                "    print('All Done!')"
            ]
        },
        {
            "cell_type": "code",
            "execution_count": null,
            "metadata": {
                "id": "cIDUQaSSC9QN",
                "outputId": "26bc9c2a-5924-4b9c-c494-f4ec0acb8691"
            },
            "outputs": [
                {
                    "name": "stdout",
                    "output_type": "stream",
                    "text": [
                        "x is currently:  0\n",
                        " x is still less than 10, adding 1 to x\n",
                        "x is currently:  1\n",
                        " x is still less than 10, adding 1 to x\n",
                        "x is currently:  2\n",
                        " x is still less than 10, adding 1 to x\n",
                        "x is currently:  3\n",
                        " x is still less than 10, adding 1 to x\n",
                        "x is currently:  4\n",
                        " x is still less than 10, adding 1 to x\n",
                        "x is currently:  5\n",
                        " x is still less than 10, adding 1 to x\n",
                        "x is currently:  6\n",
                        " x is still less than 10, adding 1 to x\n",
                        "x is currently:  7\n",
                        " x is still less than 10, adding 1 to x\n",
                        "x is currently:  8\n",
                        " x is still less than 10, adding 1 to x\n",
                        "x is currently:  9\n",
                        " x is still less than 10, adding 1 to x\n"
                    ]
                }
            ],
            "source": [
                "x = 0\n",
                "\n",
                "while x < 10:\n",
                "    print('x is currently: ',x)\n",
                "    print(' x is still less than 10, adding 1 to x')\n",
                "    x+=1"
            ]
        },
        {
            "cell_type": "markdown",
            "metadata": {
                "id": "MwLyS-JiC9QP"
            },
            "source": [
                "# pause, continuer, passer\n",
                "\n",
                "Nous pouvons utiliser les instructions <code>break</code>, <code>continue</code> et <code>pass</code> dans nos boucles pour ajouter des fonctionnalit\u00e9s suppl\u00e9mentaires dans divers cas. Les trois \u00e9nonc\u00e9s sont d\u00e9finis par :\n",
                "\n",
                "break\u00a0: sort de la boucle englobante la plus proche actuelle.\n",
                "continue\u00a0: va au d\u00e9but de la boucle englobante la plus proche.\n",
                "pass : ne fait rien du tout.\n",
                "\n",
                "\n",
                "En pensant aux instructions <code>break</code> et <code>continue</code>, le format g\u00e9n\u00e9ral de la boucle <code>while</code> ressemble \u00e0 ceci\u00a0:\n",
                "\n",
                "pendant l'essai\u00a0:\n",
                "d\u00e9claration de code\n",
                "si essai :\n",
                "casser\n",
                "si essai :\n",
                "continuer\n",
                "autre:\n",
                "\n",
                "Les instructions <code>break</code> et <code>continue</code> peuvent appara\u00eetre n'importe o\u00f9 dans le corps de la boucle, mais nous les placerons g\u00e9n\u00e9ralement plus imbriqu\u00e9es en conjonction avec une instruction <code>if</code> pour effectuer une action bas\u00e9e sur une condition.\n",
                "\n",
                "Allons-y et regardons quelques exemples !\n"
            ]
        },
        {
            "cell_type": "code",
            "execution_count": null,
            "metadata": {
                "id": "ZySw8I-UC9QQ",
                "outputId": "5f330db3-1693-4e06-ecb0-132f33f9ee0e"
            },
            "outputs": [
                {
                    "name": "stdout",
                    "output_type": "stream",
                    "text": [
                        "x is currently:  0\n",
                        " x is still less than 10, adding 1 to x\n",
                        "continuing...\n",
                        "x is currently:  1\n",
                        " x is still less than 10, adding 1 to x\n",
                        "continuing...\n",
                        "x is currently:  2\n",
                        " x is still less than 10, adding 1 to x\n",
                        "x==3\n",
                        "x is currently:  3\n",
                        " x is still less than 10, adding 1 to x\n",
                        "continuing...\n",
                        "x is currently:  4\n",
                        " x is still less than 10, adding 1 to x\n",
                        "continuing...\n",
                        "x is currently:  5\n",
                        " x is still less than 10, adding 1 to x\n",
                        "continuing...\n",
                        "x is currently:  6\n",
                        " x is still less than 10, adding 1 to x\n",
                        "continuing...\n",
                        "x is currently:  7\n",
                        " x is still less than 10, adding 1 to x\n",
                        "continuing...\n",
                        "x is currently:  8\n",
                        " x is still less than 10, adding 1 to x\n",
                        "continuing...\n",
                        "x is currently:  9\n",
                        " x is still less than 10, adding 1 to x\n",
                        "continuing...\n"
                    ]
                }
            ],
            "source": [
                "x = 0\n",
                "\n",
                "while x < 10:\n",
                "    print('x is currently: ',x)\n",
                "    print(' x is still less than 10, adding 1 to x')\n",
                "    x+=1\n",
                "    if x==3:\n",
                "        print('x==3')\n",
                "    else:\n",
                "        print('continuing...')\n",
                "        continue"
            ]
        },
        {
            "cell_type": "markdown",
            "metadata": {
                "id": "G3A_LgAUC9QR"
            },
            "source": [
                "Notez comment nous avons une instruction imprim\u00e9e lorsque x==3, et un continue imprim\u00e9 alors que nous continuons dans la boucle while externe. Faisons une pause une fois x ==3 et voyons si le r\u00e9sultat a du sens\u00a0:\n"
            ]
        },
        {
            "cell_type": "code",
            "execution_count": null,
            "metadata": {
                "id": "0T5OwfQgC9QS",
                "outputId": "bb099223-e826-49a9-fd78-9a2dd4a95a01"
            },
            "outputs": [
                {
                    "name": "stdout",
                    "output_type": "stream",
                    "text": [
                        "x is currently:  0\n",
                        " x is still less than 10, adding 1 to x\n",
                        "continuing...\n",
                        "x is currently:  1\n",
                        " x is still less than 10, adding 1 to x\n",
                        "continuing...\n",
                        "x is currently:  2\n",
                        " x is still less than 10, adding 1 to x\n",
                        "Breaking because x==3\n"
                    ]
                }
            ],
            "source": [
                "x = 0\n",
                "\n",
                "while x < 10:\n",
                "    print('x is currently: ',x)\n",
                "    print(' x is still less than 10, adding 1 to x')\n",
                "    x+=1\n",
                "    if x==3:\n",
                "        print('Breaking because x==3')\n",
                "        break\n",
                "    else:\n",
                "        print('continuing...')\n",
                "        continue"
            ]
        },
        {
            "cell_type": "markdown",
            "metadata": {
                "id": "Vv_b9a5UC9QT"
            },
            "source": [
                "Notez que l'autre instruction <code>else</code> n'a pas \u00e9t\u00e9 atteinte et que continuer n'a jamais \u00e9t\u00e9 imprim\u00e9\u00a0!\n",
                "\n",
                "Apr\u00e8s ces exemples brefs mais simples, vous devriez vous sentir \u00e0 l'aise avec les instructions <code>while</code> dans votre code.\n",
                "\n",
                "**Un mot d'avertissement cependant! Il est possible de cr\u00e9er une boucle s'ex\u00e9cutant \u00e0 l'infini avec des instructions <code>while</code>. Par exemple:**\n"
            ]
        },
        {
            "cell_type": "code",
            "execution_count": null,
            "metadata": {
                "collapsed": true,
                "id": "E2s1C9KmC9QT"
            },
            "outputs": [],
            "source": [
                "# DO NOT RUN THIS CODE!!!! \n",
                "while True:\n",
                "    print(\"I'm stuck in an infinite loop!\")"
            ]
        },
        {
            "cell_type": "markdown",
            "metadata": {
                "collapsed": true,
                "id": "5nVxGH96C9QU"
            },
            "source": [
                "Une note rapide\u00a0: si vous avez *ex\u00e9cut\u00e9* la cellule ci-dessus, cliquez sur le menu Kernel ci-dessus pour red\u00e9marrer le noyau\u00a0!\n"
            ]
        }
    ],
    "metadata": {
        "kernelspec": {
            "display_name": "Python 3",
            "language": "python",
            "name": "python3"
        },
        "language_info": {
            "codemirror_mode": {
                "name": "ipython",
                "version": 3
            },
            "file_extension": ".py",
            "mimetype": "text/x-python",
            "name": "python",
            "nbconvert_exporter": "python",
            "pygments_lexer": "ipython3",
            "version": "3.6.6"
        }
    },
    "nbformat": 4,
    "nbformat_minor": 0
}