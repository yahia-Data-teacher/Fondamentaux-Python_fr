{
    "cells": [
        {
            "cell_type": "markdown",
            "metadata": {
                "id": "view-in-github",
                "colab_type": "text"
            },
            "source": [
                "<a href=\"https://colab.research.google.com/github/yahia-kplr/Fondamentaux-Python_fr/blob/main/Jour_03/03-List_Comprehensions.ipynb\" target=\"_blank\"><img src=\"https://colab.research.google.com/assets/colab-badge.svg\" alt=\"Open In Colab\"/></a>"
            ]
        },
        {
            "cell_type": "markdown",
            "metadata": {
                "collapsed": true,
                "id": "icSRODfiGgsB"
            },
            "source": [
                "# Liste des compr\u00e9hensions\n",
                "\n",
                "En plus des op\u00e9rations de s\u00e9quence et des m\u00e9thodes de liste, Python inclut une op\u00e9ration plus avanc\u00e9e appel\u00e9e compr\u00e9hension de liste.\n",
                "\n",
                "Les compr\u00e9hensions de liste nous permettent de construire des listes en utilisant une notation diff\u00e9rente. Vous pouvez le consid\u00e9rer essentiellement comme une boucle <code>for</code> d'une ligne construite \u00e0 l'int\u00e9rieur de crochets. Pour un exemple simple :\n",
                "## Exemple 1\n"
            ]
        },
        {
            "cell_type": "code",
            "execution_count": null,
            "metadata": {
                "collapsed": true,
                "id": "3zEM33xKGgsB"
            },
            "outputs": [],
            "source": [
                "# Grab every letter in string\n",
                "lst = [x for x in 'word']"
            ]
        },
        {
            "cell_type": "code",
            "execution_count": null,
            "metadata": {
                "id": "e29Z9BmHGgsC",
                "outputId": "1cf413a4-7dcb-4221-f4f6-41a825ec1f57"
            },
            "outputs": [
                {
                    "data": {
                        "text/plain": [
                            "['w', 'o', 'r', 'd']"
                        ]
                    },
                    "execution_count": 2,
                    "metadata": {},
                    "output_type": "execute_result"
                }
            ],
            "source": [
                "# Check\n",
                "lst"
            ]
        },
        {
            "cell_type": "markdown",
            "metadata": {
                "id": "g796aU3oGgsD"
            },
            "source": [
                "C'est l'id\u00e9e de base d'une compr\u00e9hension de liste. Si vous \u00eates familier avec la notation math\u00e9matique, ce format devrait vous sembler familier, par exemple : x^2 : x in { 0,1,2...10 }\n",
                "\n",
                "Voyons quelques exemples suppl\u00e9mentaires de compr\u00e9hensions de liste en Python\u00a0:\n",
                "## Exemple 2\n"
            ]
        },
        {
            "cell_type": "code",
            "execution_count": null,
            "metadata": {
                "collapsed": true,
                "id": "dMoR-dzMGgsE"
            },
            "outputs": [],
            "source": [
                "# Square numbers in range and turn into list\n",
                "lst = [x**2 for x in range(0,11)]"
            ]
        },
        {
            "cell_type": "code",
            "execution_count": null,
            "metadata": {
                "id": "Lyr3sAa7GgsE",
                "outputId": "84c338ee-c364-4d81-c60c-5dc3dc783175"
            },
            "outputs": [
                {
                    "data": {
                        "text/plain": [
                            "[0, 1, 4, 9, 16, 25, 36, 49, 64, 81, 100]"
                        ]
                    },
                    "execution_count": 4,
                    "metadata": {},
                    "output_type": "execute_result"
                }
            ],
            "source": [
                "lst"
            ]
        },
        {
            "cell_type": "markdown",
            "metadata": {
                "id": "ifSCeKzcGgsF"
            },
            "source": [
                "## Exemple 3\n",
                "Voyons comment ajouter des instructions <code>if</code>\u00a0:\n"
            ]
        },
        {
            "cell_type": "code",
            "execution_count": null,
            "metadata": {
                "collapsed": true,
                "id": "uKJ7BYx_GgsF"
            },
            "outputs": [],
            "source": [
                "# Check for even numbers in a range\n",
                "lst = [x for x in range(11) if x % 2 == 0]"
            ]
        },
        {
            "cell_type": "code",
            "execution_count": null,
            "metadata": {
                "id": "SOOOQo3nGgsG",
                "outputId": "3fe51a99-8995-4cbe-fbf5-cb719d6abf05"
            },
            "outputs": [
                {
                    "data": {
                        "text/plain": [
                            "[0, 2, 4, 6, 8, 10]"
                        ]
                    },
                    "execution_count": 6,
                    "metadata": {},
                    "output_type": "execute_result"
                }
            ],
            "source": [
                "lst"
            ]
        },
        {
            "cell_type": "markdown",
            "metadata": {
                "id": "xD3I6sEZGgsG"
            },
            "source": [
                "## Exemple 4\n",
                "Peut aussi faire des calculs plus compliqu\u00e9s\u00a0:\n"
            ]
        },
        {
            "cell_type": "code",
            "execution_count": null,
            "metadata": {
                "id": "uHFsuQS5GgsH",
                "outputId": "62f9eb5f-438e-4415-8b66-033f1bc1e219"
            },
            "outputs": [
                {
                    "data": {
                        "text/plain": [
                            "[32.0, 50.0, 68.18, 94.1]"
                        ]
                    },
                    "execution_count": 7,
                    "metadata": {},
                    "output_type": "execute_result"
                }
            ],
            "source": [
                "# Convert Celsius to Fahrenheit\n",
                "celsius = [0,10,20.1,34.5]\n",
                "\n",
                "fahrenheit = [((9/5)*temp + 32) for temp in celsius ]\n",
                "\n",
                "fahrenheit"
            ]
        },
        {
            "cell_type": "markdown",
            "metadata": {
                "id": "DHdqrzNCGgsI"
            },
            "source": [
                "## Exemple 5\n",
                "Nous pouvons \u00e9galement effectuer des compr\u00e9hensions de listes imbriqu\u00e9es, par exemple\u00a0:\n"
            ]
        },
        {
            "cell_type": "code",
            "execution_count": null,
            "metadata": {
                "id": "tYcQYD0ZGgsI",
                "outputId": "8bc6291b-548e-42de-a851-93c390c4023b"
            },
            "outputs": [
                {
                    "data": {
                        "text/plain": [
                            "[0, 1, 16, 81, 256, 625, 1296, 2401, 4096, 6561, 10000]"
                        ]
                    },
                    "execution_count": 8,
                    "metadata": {},
                    "output_type": "execute_result"
                }
            ],
            "source": [
                "lst = [ x**2 for x in [x**2 for x in range(11)]]\n",
                "lst"
            ]
        },
        {
            "cell_type": "markdown",
            "metadata": {
                "id": "y3br2RQHGgsI"
            },
            "source": [
                "Plus tard dans le cours, nous en apprendrons davantage sur les compr\u00e9hensions du g\u00e9n\u00e9rateur. Apr\u00e8s cette conf\u00e9rence, vous devriez vous sentir \u00e0 l'aise pour lire et \u00e9crire les compr\u00e9hensions de base des listes.\n"
            ]
        }
    ],
    "metadata": {
        "kernelspec": {
            "display_name": "Python 3",
            "language": "python",
            "name": "python3"
        },
        "language_info": {
            "codemirror_mode": {
                "name": "ipython",
                "version": 3
            },
            "file_extension": ".py",
            "mimetype": "text/x-python",
            "name": "python",
            "nbconvert_exporter": "python",
            "pygments_lexer": "ipython3",
            "version": "3.6.6"
        }
    },
    "nbformat": 4,
    "nbformat_minor": 0
}