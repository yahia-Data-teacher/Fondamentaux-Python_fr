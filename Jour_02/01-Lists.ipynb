{
    "cells": [
        {
            "cell_type": "markdown",
            "metadata": {
                "id": "view-in-github",
                "colab_type": "text"
            },
            "source": [
                "<a href=\"https://colab.research.google.com/github/yahia-kplr/Fondamentaux-Python_fr/blob/main/Jour_02/01-Lists.ipynb\" target=\"_blank\"><img src=\"https://colab.research.google.com/assets/colab-badge.svg\" alt=\"Open In Colab\"/></a>"
            ]
        },
        {
            "cell_type": "markdown",
            "metadata": {
                "id": "PUvov2P4uSox"
            },
            "source": [
                "# Listes\n",
                "\n",
                "Plus t\u00f4t, lors de la discussion sur les cha\u00eenes, nous avons introduit le concept de *s\u00e9quence* en Python. Les listes peuvent \u00eatre consid\u00e9r\u00e9es comme la version la plus g\u00e9n\u00e9rale d'une *s\u00e9quence* en Python. Contrairement aux cha\u00eenes, elles sont modifiables, ce qui signifie que les \u00e9l\u00e9ments d'une liste peuvent \u00eatre modifi\u00e9s\u00a0!\n",
                "\n",
                "Dans cette section, nous apprendrons :\n",
                "\n",
                "1.) Cr\u00e9er des listes\n",
                "2.) Listes d'indexation et de d\u00e9coupage\n",
                "3.) M\u00e9thodes de liste de base\n",
                "4.) Listes imbriqu\u00e9es\n",
                "5.) Introduction aux listes de compr\u00e9hension\n",
                "\n",
                "Les listes sont construites avec des crochets [] et des virgules s\u00e9parant chaque \u00e9l\u00e9ment de la liste.\n",
                "\n",
                "Allons-y et voyons comment nous pouvons construire des listes\u00a0!\n"
            ]
        },
        {
            "cell_type": "code",
            "execution_count": null,
            "metadata": {
                "collapsed": true,
                "id": "BYQhMBozuSoy"
            },
            "outputs": [],
            "source": [
                "# Assign a list to an variable named my_list\n",
                "my_list = [1,2,3]"
            ]
        },
        {
            "cell_type": "markdown",
            "metadata": {
                "id": "lEbl4bgruSoy"
            },
            "source": [
                "Nous venons de cr\u00e9er une liste d'entiers, mais les listes peuvent en fait contenir diff\u00e9rents types d'objets. Par exemple:\n"
            ]
        },
        {
            "cell_type": "code",
            "execution_count": null,
            "metadata": {
                "collapsed": true,
                "id": "KDvTKxwLuSoz"
            },
            "outputs": [],
            "source": [
                "my_list = ['A string',23,100.232,'o']"
            ]
        },
        {
            "cell_type": "markdown",
            "metadata": {
                "id": "H4nCq2AnuSo0"
            },
            "source": [
                "Tout comme les cha\u00eenes, la fonction len() vous dira combien d'\u00e9l\u00e9ments se trouvent dans la s\u00e9quence de la liste.\n"
            ]
        },
        {
            "cell_type": "code",
            "execution_count": null,
            "metadata": {
                "id": "PvWBBnaVuSo0",
                "outputId": "c5223256-136b-4a13-fd04-81a588b5236a"
            },
            "outputs": [
                {
                    "data": {
                        "text/plain": [
                            "4"
                        ]
                    },
                    "execution_count": 3,
                    "metadata": {},
                    "output_type": "execute_result"
                }
            ],
            "source": [
                "len(my_list)"
            ]
        },
        {
            "cell_type": "markdown",
            "metadata": {
                "id": "oBFpAKOS6klK"
            },
            "source": [
                "# Listes\n"
            ]
        },
        {
            "cell_type": "markdown",
            "metadata": {
                "id": "Yhy1HX006klM"
            },
            "source": [
                "<h3 id=\"index\">Indexation</h3>\n"
            ]
        },
        {
            "cell_type": "markdown",
            "metadata": {
                "id": "Iaio1MCt6klN"
            },
            "source": [
                "Nous allons jeter un \u0153il aux listes en Python. Une liste est une collection s\u00e9quenc\u00e9e de diff\u00e9rents objets tels que des entiers, des cha\u00eenes et d'autres listes. L'adresse de chaque \u00e9l\u00e9ment d'une liste est appel\u00e9e un <b>index</b>. Un index est utilis\u00e9 pour acc\u00e9der et faire r\u00e9f\u00e9rence aux \u00e9l\u00e9ments d'une liste.\n"
            ]
        },
        {
            "cell_type": "markdown",
            "metadata": {
                "id": "caCSnSyM6klO"
            },
            "source": [
                "<img src=\"https://s3-api.us-geo.objectstorage.softlayer.net/cf-courses-data/CognitiveClass/PY0101EN/Chapter%202/Images/ListsIndex.png\" width=\"1000\" />\n"
            ]
        },
        {
            "cell_type": "markdown",
            "metadata": {
                "id": "Cnmmxci46klO"
            },
            "source": [
                "Pour cr\u00e9er une liste, tapez la liste entre crochets <b>[ ]</b>, avec votre contenu entre parenth\u00e8ses et s\u00e9par\u00e9 par des virgules. Essayons!\n"
            ]
        },
        {
            "cell_type": "code",
            "execution_count": null,
            "metadata": {
                "colab": {
                    "base_uri": "https://localhost:8080/"
                },
                "id": "W-yqO4--6klP",
                "executionInfo": {
                    "status": "ok",
                    "timestamp": 1673796189034,
                    "user_tz": -60,
                    "elapsed": 383,
                    "user": {
                        "displayName": "yahia Prof",
                        "userId": "17482294505606711783"
                    }
                },
                "outputId": "563186fb-e80b-4544-b4c8-64e21a4c3034"
            },
            "outputs": [
                {
                    "output_type": "execute_result",
                    "data": {
                        "text/plain": [
                            "['Michael Jackson', 10.1, 1982]"
                        ]
                    },
                    "metadata": {},
                    "execution_count": 1
                }
            ],
            "source": [
                "# Create a list\n",
                "\n",
                "L = [\"Michael Jackson\", 10.1, 1982]\n",
                "L"
            ]
        },
        {
            "cell_type": "markdown",
            "metadata": {
                "id": "4ZGBHX5W6klQ"
            },
            "source": [
                "On peut utiliser une indexation n\u00e9gative et r\u00e9guli\u00e8re avec une liste :\n"
            ]
        },
        {
            "cell_type": "markdown",
            "metadata": {
                "id": "-5Luufz26klQ"
            },
            "source": [
                "<img src=\"https://s3-api.us-geo.objectstorage.softlayer.net/cf-courses-data/CognitiveClass/PY0101EN/Chapter%202/Images/ListsNeg.png\" width=\"1000\" />\n"
            ]
        },
        {
            "cell_type": "code",
            "execution_count": null,
            "metadata": {
                "id": "dGg6zFdk6klR"
            },
            "outputs": [],
            "source": [
                "# Print the elements on each index\n",
                "\n",
                "print('the same element using negative and positive indexing:\\n Postive:',L[0],\n",
                "'\\n Negative:' , L[-3]  )\n",
                "print('the same element using negative and positive indexing:\\n Postive:',L[1],\n",
                "'\\n Negative:' , L[-2]  )\n",
                "print('the same element using negative and positive indexing:\\n Postive:',L[2],\n",
                "'\\n Negative:' , L[-1]  )"
            ]
        },
        {
            "cell_type": "markdown",
            "metadata": {
                "id": "U8FsrMN06klR"
            },
            "source": [
                "<h3 id=\"content\">R\u00e9pertorier le contenu</h3>\n"
            ]
        },
        {
            "cell_type": "markdown",
            "metadata": {
                "id": "NdDSDU1B6klS"
            },
            "source": [
                "Les listes peuvent contenir des cha\u00eenes, des flottants et des entiers. Nous pouvons imbriquer d'autres listes, et nous pouvons \u00e9galement imbriquer des tuples et d'autres structures de donn\u00e9es. Les m\u00eames conventions d'indexation s'appliquent pour l'imbrication\u00a0:\n"
            ]
        },
        {
            "cell_type": "code",
            "execution_count": null,
            "metadata": {
                "colab": {
                    "base_uri": "https://localhost:8080/"
                },
                "id": "cZ00GW7k6klT",
                "executionInfo": {
                    "status": "ok",
                    "timestamp": 1673796193494,
                    "user_tz": -60,
                    "elapsed": 261,
                    "user": {
                        "displayName": "yahia Prof",
                        "userId": "17482294505606711783"
                    }
                },
                "outputId": "84913018-0b02-463f-cfb2-3d5f212a9f81"
            },
            "outputs": [
                {
                    "output_type": "execute_result",
                    "data": {
                        "text/plain": [
                            "['Michael Jackson', 10.1, 1982, [1, 2], ('A', 1)]"
                        ]
                    },
                    "metadata": {},
                    "execution_count": 2
                }
            ],
            "source": [
                "# Sample List\n",
                "\n",
                "[\"Michael Jackson\", 10.1, 1982, [1, 2], (\"A\", 1)]"
            ]
        },
        {
            "cell_type": "markdown",
            "metadata": {
                "id": "c6kurpdV6klU"
            },
            "source": [
                "<h3 id=\"op\">Op\u00e9rations de liste</h3>\n"
            ]
        },
        {
            "cell_type": "markdown",
            "metadata": {
                "id": "zGY5o_OM6klU"
            },
            "source": [
                "Nous pouvons \u00e9galement effectuer des d\u00e9coupages en listes. Par exemple, si nous voulons les deux derniers \u00e9l\u00e9ments, nous utilisons la commande suivante :\n"
            ]
        },
        {
            "cell_type": "code",
            "execution_count": null,
            "metadata": {
                "colab": {
                    "base_uri": "https://localhost:8080/"
                },
                "id": "GYCve9Ly6klU",
                "executionInfo": {
                    "status": "ok",
                    "timestamp": 1673796217667,
                    "user_tz": -60,
                    "elapsed": 273,
                    "user": {
                        "displayName": "yahia Prof",
                        "userId": "17482294505606711783"
                    }
                },
                "outputId": "4b505c30-5ddb-4f6f-99d4-87e74dd50c5d"
            },
            "outputs": [
                {
                    "output_type": "execute_result",
                    "data": {
                        "text/plain": [
                            "['Michael Jackson', 10.1, 1982, 'MJ', 1]"
                        ]
                    },
                    "metadata": {},
                    "execution_count": 4
                }
            ],
            "source": [
                "# Sample List\n",
                "\n",
                "L = [\"Michael Jackson\", 10.1,1982,\"MJ\",1]\n",
                "L"
            ]
        },
        {
            "cell_type": "markdown",
            "metadata": {
                "id": "cPJEFbMV6klV"
            },
            "source": [
                "<img src=\"https://s3-api.us-geo.objectstorage.softlayer.net/cf-courses-data/CognitiveClass/PY0101EN/Chapter%202/Images/ListsSlice.png\" width=\"1000\">\n"
            ]
        },
        {
            "cell_type": "code",
            "execution_count": null,
            "metadata": {
                "colab": {
                    "base_uri": "https://localhost:8080/"
                },
                "id": "Aa7gxaXN6klX",
                "executionInfo": {
                    "status": "ok",
                    "timestamp": 1673796219894,
                    "user_tz": -60,
                    "elapsed": 245,
                    "user": {
                        "displayName": "yahia Prof",
                        "userId": "17482294505606711783"
                    }
                },
                "outputId": "ade469fe-5944-4cb9-b5e7-02a15653e7a9"
            },
            "outputs": [
                {
                    "output_type": "execute_result",
                    "data": {
                        "text/plain": [
                            "['MJ', 1]"
                        ]
                    },
                    "metadata": {},
                    "execution_count": 5
                }
            ],
            "source": [
                "# List slicing\n",
                "\n",
                "L[3:5]"
            ]
        },
        {
            "cell_type": "markdown",
            "metadata": {
                "id": "P3qB4SKD6klX"
            },
            "source": [
                "Nous pouvons utiliser la m\u00e9thode <code>extend</code> pour ajouter de nouveaux \u00e9l\u00e9ments \u00e0 la liste\u00a0:\n"
            ]
        },
        {
            "cell_type": "code",
            "execution_count": null,
            "metadata": {
                "colab": {
                    "base_uri": "https://localhost:8080/"
                },
                "id": "zrw4vVkC6klY",
                "executionInfo": {
                    "status": "ok",
                    "timestamp": 1673796256391,
                    "user_tz": -60,
                    "elapsed": 263,
                    "user": {
                        "displayName": "yahia Prof",
                        "userId": "17482294505606711783"
                    }
                },
                "outputId": "0cdc031b-1fd7-40f2-a519-e58ce18935a1"
            },
            "outputs": [
                {
                    "output_type": "execute_result",
                    "data": {
                        "text/plain": [
                            "['Michael Jackson', 10.2, 'pop', 10]"
                        ]
                    },
                    "metadata": {},
                    "execution_count": 6
                }
            ],
            "source": [
                "# Use extend to add elements to list\n",
                "\n",
                "L = [ \"Michael Jackson\", 10.2]\n",
                "L.extend(['pop', 10])\n",
                "L"
            ]
        },
        {
            "cell_type": "markdown",
            "metadata": {
                "id": "7jmai8zE6klZ"
            },
            "source": [
                "Une autre m\u00e9thode similaire est <code>append</code>. Si nous appliquons <code>append</code> au lieu de <code>extend</code>, nous ajoutons un \u00e9l\u00e9ment \u00e0 la liste\u00a0:\n"
            ]
        },
        {
            "cell_type": "code",
            "execution_count": null,
            "metadata": {
                "colab": {
                    "base_uri": "https://localhost:8080/"
                },
                "id": "e7DCYcfS6klZ",
                "executionInfo": {
                    "status": "ok",
                    "timestamp": 1673796270985,
                    "user_tz": -60,
                    "elapsed": 258,
                    "user": {
                        "displayName": "yahia Prof",
                        "userId": "17482294505606711783"
                    }
                },
                "outputId": "f5e1981c-828b-4537-ad83-472c113eb9fa"
            },
            "outputs": [
                {
                    "output_type": "execute_result",
                    "data": {
                        "text/plain": [
                            "['Michael Jackson', 10.2, ['pop', 10]]"
                        ]
                    },
                    "metadata": {},
                    "execution_count": 7
                }
            ],
            "source": [
                "# Use append to add elements to list\n",
                "\n",
                "L = [ \"Michael Jackson\", 10.2]\n",
                "L.append(['pop', 10])\n",
                "L"
            ]
        },
        {
            "cell_type": "markdown",
            "metadata": {
                "id": "muGIQy2j6klZ"
            },
            "source": [
                "Chaque fois que nous appliquons une m\u00e9thode, la liste change. Si nous appliquons <code>extend</code> nous ajoutons deux nouveaux \u00e9l\u00e9ments \u00e0 la liste. La liste <code>L</code> est alors modifi\u00e9e en ajoutant deux nouveaux \u00e9l\u00e9ments\u00a0:\n"
            ]
        },
        {
            "cell_type": "code",
            "execution_count": null,
            "metadata": {
                "colab": {
                    "base_uri": "https://localhost:8080/"
                },
                "id": "Trr8v-eE6klZ",
                "executionInfo": {
                    "status": "ok",
                    "timestamp": 1673796341099,
                    "user_tz": -60,
                    "elapsed": 278,
                    "user": {
                        "displayName": "yahia Prof",
                        "userId": "17482294505606711783"
                    }
                },
                "outputId": "73fb4c1d-d6bc-4133-f5f0-708ea6566843"
            },
            "outputs": [
                {
                    "output_type": "execute_result",
                    "data": {
                        "text/plain": [
                            "['Michael Jackson', 10.2, 'pop', 10]"
                        ]
                    },
                    "metadata": {},
                    "execution_count": 8
                }
            ],
            "source": [
                "# Use extend to add elements to list\n",
                "\n",
                "L = [ \"Michael Jackson\", 10.2]\n",
                "L.extend(['pop', 10])\n",
                "L"
            ]
        },
        {
            "cell_type": "markdown",
            "metadata": {
                "id": "P0ez7WWB6kla"
            },
            "source": [
                "Si nous ajoutons la liste <code>['a','b']</code> nous avons un nouvel \u00e9l\u00e9ment consistant en une liste imbriqu\u00e9e\u00a0:\n"
            ]
        },
        {
            "cell_type": "code",
            "execution_count": null,
            "metadata": {
                "colab": {
                    "base_uri": "https://localhost:8080/"
                },
                "id": "VdP_Ma1y6kla",
                "executionInfo": {
                    "status": "ok",
                    "timestamp": 1673796348963,
                    "user_tz": -60,
                    "elapsed": 259,
                    "user": {
                        "displayName": "yahia Prof",
                        "userId": "17482294505606711783"
                    }
                },
                "outputId": "c932924f-d1b3-4bd4-c1da-150d971178a1"
            },
            "outputs": [
                {
                    "output_type": "execute_result",
                    "data": {
                        "text/plain": [
                            "['Michael Jackson', 10.2, 'pop', 10, ['a', 'b']]"
                        ]
                    },
                    "metadata": {},
                    "execution_count": 9
                }
            ],
            "source": [
                "# Use append to add elements to list\n",
                "\n",
                "L.append(['a','b'])\n",
                "L"
            ]
        },
        {
            "cell_type": "markdown",
            "metadata": {
                "id": "4kFeg3jl6klb"
            },
            "source": [
                "Comme les listes sont mutables, nous pouvons les changer. Par exemple, nous pouvons modifier le premier \u00e9l\u00e9ment comme suit\u00a0:\n"
            ]
        },
        {
            "cell_type": "code",
            "execution_count": null,
            "metadata": {
                "colab": {
                    "base_uri": "https://localhost:8080/"
                },
                "id": "kv07GGHX6klb",
                "executionInfo": {
                    "status": "ok",
                    "timestamp": 1673796358693,
                    "user_tz": -60,
                    "elapsed": 271,
                    "user": {
                        "displayName": "yahia Prof",
                        "userId": "17482294505606711783"
                    }
                },
                "outputId": "d292bdbc-11dc-46f8-c5c8-e64d6a913420"
            },
            "outputs": [
                {
                    "output_type": "stream",
                    "name": "stdout",
                    "text": [
                        "Before change: ['disco', 10, 1.2]\n",
                        "After change: ['hard rock', 10, 1.2]\n"
                    ]
                }
            ],
            "source": [
                "# Change the element based on the index\n",
                "\n",
                "A = [\"disco\", 10, 1.2]\n",
                "print('Before change:', A)\n",
                "A[0] = 'hard rock'\n",
                "print('After change:', A)"
            ]
        },
        {
            "cell_type": "markdown",
            "metadata": {
                "id": "KZqHBPtW6klb"
            },
            "source": [
                "On peut aussi supprimer un \u00e9l\u00e9ment d'une liste \u00e0 l'aide de la commande <code>del</code>\u00a0:\n"
            ]
        },
        {
            "cell_type": "code",
            "execution_count": null,
            "metadata": {
                "colab": {
                    "base_uri": "https://localhost:8080/"
                },
                "id": "jkjB8vSM6klc",
                "executionInfo": {
                    "status": "ok",
                    "timestamp": 1673796410382,
                    "user_tz": -60,
                    "elapsed": 305,
                    "user": {
                        "displayName": "yahia Prof",
                        "userId": "17482294505606711783"
                    }
                },
                "outputId": "512bfd3c-344d-471c-cf9e-ddf259d49c0c"
            },
            "outputs": [
                {
                    "output_type": "stream",
                    "name": "stdout",
                    "text": [
                        "Before change: ['hard rock', 10, 1.2]\n",
                        "After change: [10, 1.2]\n"
                    ]
                }
            ],
            "source": [
                "# Delete the element based on the index\n",
                "\n",
                "print('Before change:', A)\n",
                "del(A[0])\n",
                "print('After change:', A)"
            ]
        },
        {
            "cell_type": "markdown",
            "metadata": {
                "id": "juAtwBq56klc"
            },
            "source": [
                "Nous pouvons convertir une cha\u00eene en liste en utilisant <code>split</code>. Par exemple, la m\u00e9thode <code>split</code> traduit chaque groupe de caract\u00e8res s\u00e9par\u00e9s par un espace en un \u00e9l\u00e9ment d'une liste\u00a0:\n"
            ]
        },
        {
            "cell_type": "code",
            "execution_count": null,
            "metadata": {
                "colab": {
                    "base_uri": "https://localhost:8080/"
                },
                "id": "-xPNu8oX6kld",
                "executionInfo": {
                    "status": "ok",
                    "timestamp": 1673796430444,
                    "user_tz": -60,
                    "elapsed": 262,
                    "user": {
                        "displayName": "yahia Prof",
                        "userId": "17482294505606711783"
                    }
                },
                "outputId": "515c02c7-44fa-4308-c647-b6e46d878d80"
            },
            "outputs": [
                {
                    "output_type": "execute_result",
                    "data": {
                        "text/plain": [
                            "['hard', 'rock']"
                        ]
                    },
                    "metadata": {},
                    "execution_count": 12
                }
            ],
            "source": [
                "# Split the string, default is by space\n",
                "\n",
                "'hard rock'.split()"
            ]
        },
        {
            "cell_type": "markdown",
            "metadata": {
                "id": "xSWncOBm6kle"
            },
            "source": [
                "Nous pouvons utiliser la fonction split pour s\u00e9parer les cha\u00eenes sur un caract\u00e8re sp\u00e9cifique. Nous passons le caract\u00e8re que nous aimerions diviser dans l'argument, qui dans ce cas est une virgule. Le r\u00e9sultat est une liste, et chaque \u00e9l\u00e9ment correspond \u00e0 un ensemble de caract\u00e8res s\u00e9par\u00e9s par une virgule\u00a0:\n"
            ]
        },
        {
            "cell_type": "code",
            "execution_count": null,
            "metadata": {
                "colab": {
                    "base_uri": "https://localhost:8080/"
                },
                "id": "-Dw0o0ok6kle",
                "executionInfo": {
                    "status": "ok",
                    "timestamp": 1673796443864,
                    "user_tz": -60,
                    "elapsed": 243,
                    "user": {
                        "displayName": "yahia Prof",
                        "userId": "17482294505606711783"
                    }
                },
                "outputId": "9fe61585-179f-423a-a25f-561fb4c0728b"
            },
            "outputs": [
                {
                    "output_type": "execute_result",
                    "data": {
                        "text/plain": [
                            "['A', 'B', 'C', 'D']"
                        ]
                    },
                    "metadata": {},
                    "execution_count": 13
                }
            ],
            "source": [
                "# Split the string by comma\n",
                "\n",
                "'A,B,C,D'.split(',')"
            ]
        },
        {
            "cell_type": "markdown",
            "metadata": {
                "id": "qMi3b0_Y6kle"
            },
            "source": [
                "<h3 id=\"co\">Copier et cloner la liste</h3>\n"
            ]
        },
        {
            "cell_type": "markdown",
            "metadata": {
                "id": "5kqynyzE6kle"
            },
            "source": [
                "Lorsque nous d\u00e9finissons une variable <b>B</b> \u00e9gale \u00e0 <b>A</b>\u00a0; <b>A</b> et <b>B</b> font r\u00e9f\u00e9rence \u00e0 la m\u00eame liste en m\u00e9moire\u00a0:\n"
            ]
        },
        {
            "cell_type": "code",
            "execution_count": null,
            "metadata": {
                "colab": {
                    "base_uri": "https://localhost:8080/"
                },
                "id": "_OdQa_Mo6klf",
                "executionInfo": {
                    "status": "ok",
                    "timestamp": 1673796531777,
                    "user_tz": -60,
                    "elapsed": 257,
                    "user": {
                        "displayName": "yahia Prof",
                        "userId": "17482294505606711783"
                    }
                },
                "outputId": "b7be4bfb-95dc-4fa0-e860-b37e4cfb024a"
            },
            "outputs": [
                {
                    "output_type": "stream",
                    "name": "stdout",
                    "text": [
                        "A: ['hard rock', 10, 1.2]\n",
                        "B: ['hard rock', 10, 1.2]\n"
                    ]
                }
            ],
            "source": [
                "# Copy (copy by reference) the list A\n",
                "\n",
                "A = [\"hard rock\", 10, 1.2]\n",
                "B = A\n",
                "print('A:', A)\n",
                "print('B:', B)"
            ]
        },
        {
            "cell_type": "markdown",
            "metadata": {
                "id": "3Ncs60UW6klf"
            },
            "source": [
                "<img src=\"https://s3-api.us-geo.objectstorage.softlayer.net/cf-courses-data/CognitiveClass/PY0101EN/Chapter%202/Images/ListsRef.png\" width=\"1000\" align= \"centreur\">\n"
            ]
        },
        {
            "cell_type": "markdown",
            "metadata": {
                "id": "UvYJtEoV6klf"
            },
            "source": [
                "Initialement, la valeur du premier \u00e9l\u00e9ment de <b>B</b> est d\u00e9finie comme hard rock. Si nous changeons le premier \u00e9l\u00e9ment de <b>A</b> en <b>banane</b>, nous obtenons un effet secondaire inattendu. Comme <b>A</b> et <b>B</b> font r\u00e9f\u00e9rence \u00e0 la m\u00eame liste, si nous changeons la liste <b>A</b>, alors la liste <b>B</b> change \u00e9galement. Si nous v\u00e9rifions le premier \u00e9l\u00e9ment de <b>B</b> nous obtenons banane au lieu de hard rock\u00a0:\n"
            ]
        },
        {
            "cell_type": "code",
            "execution_count": null,
            "metadata": {
                "colab": {
                    "base_uri": "https://localhost:8080/"
                },
                "id": "gixLrP0V6klf",
                "executionInfo": {
                    "status": "ok",
                    "timestamp": 1673796534259,
                    "user_tz": -60,
                    "elapsed": 270,
                    "user": {
                        "displayName": "yahia Prof",
                        "userId": "17482294505606711783"
                    }
                },
                "outputId": "c0a68069-d8ed-40c2-c5e9-a341e72e3789"
            },
            "outputs": [
                {
                    "output_type": "stream",
                    "name": "stdout",
                    "text": [
                        "B[0]: hard rock\n",
                        "B[0]: banana\n"
                    ]
                }
            ],
            "source": [
                "# Examine the copy by reference\n",
                "\n",
                "print('B[0]:', B[0])\n",
                "A[0] = \"banana\"\n",
                "print('B[0]:', B[0])"
            ]
        },
        {
            "cell_type": "markdown",
            "metadata": {
                "id": "JrvEPRkZ6klg"
            },
            "source": [
                "Ceci est d\u00e9montr\u00e9 dans la figure suivante :\n"
            ]
        },
        {
            "cell_type": "markdown",
            "metadata": {
                "id": "RBXhhGLP6klg"
            },
            "source": [
                "<img src = \"https://s3-api.us-geo.objectstorage.softlayer.net/cf-courses-data/CognitiveClass/PY0101EN/Chapter%202/Images/ListsRefGif.gif\" width=\"1000\" />\n"
            ]
        },
        {
            "cell_type": "markdown",
            "metadata": {
                "id": "ul47TH816klg"
            },
            "source": [
                "Vous pouvez cloner la liste **A** en utilisant la syntaxe suivante\u00a0:\n"
            ]
        },
        {
            "cell_type": "code",
            "execution_count": null,
            "metadata": {
                "colab": {
                    "base_uri": "https://localhost:8080/"
                },
                "id": "UR5qanOM6kli",
                "executionInfo": {
                    "status": "ok",
                    "timestamp": 1673796555624,
                    "user_tz": -60,
                    "elapsed": 270,
                    "user": {
                        "displayName": "yahia Prof",
                        "userId": "17482294505606711783"
                    }
                },
                "outputId": "e2155cac-bab3-4eca-cc88-98dc6949f76e"
            },
            "outputs": [
                {
                    "output_type": "execute_result",
                    "data": {
                        "text/plain": [
                            "['banana', 10, 1.2]"
                        ]
                    },
                    "metadata": {},
                    "execution_count": 17
                }
            ],
            "source": [
                "# Clone (clone by value) the list A\n",
                "\n",
                "B = A[:]\n",
                "B"
            ]
        },
        {
            "cell_type": "markdown",
            "metadata": {
                "id": "jpnmvSQ06klj"
            },
            "source": [
                "La variable **B** fait r\u00e9f\u00e9rence \u00e0 une nouvelle copie ou \u00e0 un clone de la liste d'origine\u00a0; ceci est d\u00e9montr\u00e9 dans la figure suivante :\n"
            ]
        },
        {
            "cell_type": "markdown",
            "metadata": {
                "id": "N2YfDh_56klk"
            },
            "source": [
                "<img src=\"https://s3-api.us-geo.objectstorage.softlayer.net/cf-courses-data/CognitiveClass/PY0101EN/Chapter%202/Images/ListsVal.gif\" width=\"1000\" />\n"
            ]
        },
        {
            "cell_type": "markdown",
            "metadata": {
                "id": "AaSc1pPd6klk"
            },
            "source": [
                "Maintenant, si vous modifiez <b>A</b>, <b>B</b> ne changera pas\u00a0:\n"
            ]
        },
        {
            "cell_type": "code",
            "execution_count": null,
            "metadata": {
                "id": "KxKo4nmR6kll"
            },
            "outputs": [],
            "source": [
                "print('B[0]:', B[0])\n",
                "A[0] = \"hard rock\"\n",
                "print('B[0]:', B[0])"
            ]
        },
        {
            "cell_type": "markdown",
            "metadata": {
                "id": "wWA5Ps50uSo9"
            },
            "source": [
                "## M\u00e9thodes de liste de base\n",
                "\n",
                "Si vous connaissez un autre langage de programmation, vous pouvez commencer \u00e0 \u00e9tablir des parall\u00e8les entre les tableaux d'un autre langage et les listes en Python. Cependant, les listes en Python ont tendance \u00e0 \u00eatre plus flexibles que les tableaux dans d'autres langages pour deux bonnes raisons\u00a0: elles n'ont pas de taille fixe (ce qui signifie que nous n'avons pas \u00e0 sp\u00e9cifier la taille d'une liste), et elles n'ont pas de contrainte de type fixe. (comme nous l'avons vu plus haut).\n",
                "\n",
                "Continuons et explorons quelques m\u00e9thodes plus sp\u00e9ciales pour les listes\u00a0:\n"
            ]
        },
        {
            "cell_type": "code",
            "execution_count": null,
            "metadata": {
                "collapsed": true,
                "id": "K-GWNqKWuSo-"
            },
            "outputs": [],
            "source": [
                "# Create a new list\n",
                "list1 = [1,2,3]"
            ]
        },
        {
            "cell_type": "markdown",
            "metadata": {
                "id": "AO69AneiuSo-"
            },
            "source": [
                "Utilisez la m\u00e9thode **append** pour ajouter d\u00e9finitivement un \u00e9l\u00e9ment \u00e0 la fin d'une liste\u00a0:\n"
            ]
        },
        {
            "cell_type": "code",
            "execution_count": null,
            "metadata": {
                "collapsed": true,
                "id": "-0-YlNRZuSo-"
            },
            "outputs": [],
            "source": [
                "# Append\n",
                "list1.append('append me!')"
            ]
        },
        {
            "cell_type": "code",
            "execution_count": null,
            "metadata": {
                "id": "WghsFr7suSo-",
                "outputId": "102ad36b-c12d-41ec-c7f0-9cb68289db7b"
            },
            "outputs": [
                {
                    "data": {
                        "text/plain": [
                            "[1, 2, 3, 'append me!']"
                        ]
                    },
                    "execution_count": 16,
                    "metadata": {},
                    "output_type": "execute_result"
                }
            ],
            "source": [
                "# Show\n",
                "list1"
            ]
        },
        {
            "cell_type": "markdown",
            "metadata": {
                "id": "DWyxvBl4uSo-"
            },
            "source": [
                "Utilisez **pop** pour \"faire sauter\" un \u00e9l\u00e9ment de la liste. Par d\u00e9faut, pop supprime le dernier index, mais vous pouvez \u00e9galement sp\u00e9cifier quel index supprimer. Voyons un exemple\u00a0:\n"
            ]
        },
        {
            "cell_type": "code",
            "execution_count": null,
            "metadata": {
                "id": "Hbi-KOyMuSo_",
                "outputId": "855466ca-f233-48b8-b598-b63b46720e1c"
            },
            "outputs": [
                {
                    "data": {
                        "text/plain": [
                            "1"
                        ]
                    },
                    "execution_count": 17,
                    "metadata": {},
                    "output_type": "execute_result"
                }
            ],
            "source": [
                "# Pop off the 0 indexed item\n",
                "list1.pop(0)"
            ]
        },
        {
            "cell_type": "code",
            "execution_count": null,
            "metadata": {
                "id": "YiL8x_7EuSo_",
                "outputId": "9dc33c64-8fa0-4858-d1f9-16b15d100585"
            },
            "outputs": [
                {
                    "data": {
                        "text/plain": [
                            "[2, 3, 'append me!']"
                        ]
                    },
                    "execution_count": 18,
                    "metadata": {},
                    "output_type": "execute_result"
                }
            ],
            "source": [
                "# Show\n",
                "list1"
            ]
        },
        {
            "cell_type": "code",
            "execution_count": null,
            "metadata": {
                "collapsed": true,
                "id": "kqIaiSL5uSpA"
            },
            "outputs": [],
            "source": [
                "# Assign the popped element, remember default popped index is -1\n",
                "popped_item = list1.pop()"
            ]
        },
        {
            "cell_type": "code",
            "execution_count": null,
            "metadata": {
                "id": "GV7IFCNYuSpA",
                "outputId": "016c017e-0420-4846-801d-b0005b197ce5"
            },
            "outputs": [
                {
                    "data": {
                        "text/plain": [
                            "'append me!'"
                        ]
                    },
                    "execution_count": 20,
                    "metadata": {},
                    "output_type": "execute_result"
                }
            ],
            "source": [
                "popped_item"
            ]
        },
        {
            "cell_type": "code",
            "execution_count": null,
            "metadata": {
                "id": "MB1jjT_6uSpA",
                "outputId": "f6b9d9e8-cf21-4141-9147-7c47d2b8ada8"
            },
            "outputs": [
                {
                    "data": {
                        "text/plain": [
                            "[2, 3]"
                        ]
                    },
                    "execution_count": 21,
                    "metadata": {},
                    "output_type": "execute_result"
                }
            ],
            "source": [
                "# Show remaining list\n",
                "list1"
            ]
        },
        {
            "cell_type": "markdown",
            "metadata": {
                "id": "4R5GLSEtuSpB"
            },
            "source": [
                "Il convient \u00e9galement de noter que l'indexation des listes renverra une erreur s'il n'y a aucun \u00e9l\u00e9ment \u00e0 cet index. Par exemple:\n"
            ]
        },
        {
            "cell_type": "code",
            "execution_count": null,
            "metadata": {
                "id": "NBj3JEoruSpB",
                "outputId": "054169c6-a20f-445f-a256-cf743c6ff310"
            },
            "outputs": [
                {
                    "ename": "IndexError",
                    "evalue": "list index out of range",
                    "output_type": "error",
                    "traceback": [
                        "\u001b[1;31m---------------------------------------------------------------------------\u001b[0m",
                        "\u001b[1;31mIndexError\u001b[0m                                Traceback (most recent call last)",
                        "\u001b[1;32m<ipython-input-22-af6d2015fa1f>\u001b[0m in \u001b[0;36m<module>\u001b[1;34m()\u001b[0m\n\u001b[1;32m----> 1\u001b[1;33m \u001b[0mlist1\u001b[0m\u001b[1;33m[\u001b[0m\u001b[1;36m100\u001b[0m\u001b[1;33m]\u001b[0m\u001b[1;33m\u001b[0m\u001b[0m\n\u001b[0m",
                        "\u001b[1;31mIndexError\u001b[0m: list index out of range"
                    ]
                }
            ],
            "source": [
                "list1[100]"
            ]
        },
        {
            "cell_type": "markdown",
            "metadata": {
                "id": "b8Te8TYhuSpB"
            },
            "source": [
                "Nous pouvons utiliser la m\u00e9thode **sort** et les m\u00e9thodes **reverse** pour \u00e9galement affecter vos listes\u00a0:\n"
            ]
        },
        {
            "cell_type": "code",
            "execution_count": null,
            "metadata": {
                "collapsed": true,
                "id": "WsuumLtiuSpC"
            },
            "outputs": [],
            "source": [
                "new_list = ['a','e','x','b','c']"
            ]
        },
        {
            "cell_type": "code",
            "execution_count": null,
            "metadata": {
                "id": "6Z8YWT6NuSpC",
                "outputId": "0d534ed8-c30a-4047-95e8-305687eb30ca"
            },
            "outputs": [
                {
                    "data": {
                        "text/plain": [
                            "['a', 'e', 'x', 'b', 'c']"
                        ]
                    },
                    "execution_count": 24,
                    "metadata": {},
                    "output_type": "execute_result"
                }
            ],
            "source": [
                "#Show\n",
                "new_list"
            ]
        },
        {
            "cell_type": "code",
            "execution_count": null,
            "metadata": {
                "collapsed": true,
                "id": "2ff_FGFHuSpD"
            },
            "outputs": [],
            "source": [
                "# Use reverse to reverse order (this is permanent!)\n",
                "new_list.reverse()"
            ]
        },
        {
            "cell_type": "code",
            "execution_count": null,
            "metadata": {
                "id": "oTt1SEXHuSpD",
                "outputId": "9e7349ef-d87e-4516-daa8-6c09175b6c91"
            },
            "outputs": [
                {
                    "data": {
                        "text/plain": [
                            "['c', 'b', 'x', 'e', 'a']"
                        ]
                    },
                    "execution_count": 26,
                    "metadata": {},
                    "output_type": "execute_result"
                }
            ],
            "source": [
                "new_list"
            ]
        },
        {
            "cell_type": "code",
            "execution_count": null,
            "metadata": {
                "collapsed": true,
                "id": "LXMspoDmuSpD"
            },
            "outputs": [],
            "source": [
                "# Use sort to sort the list (in this case alphabetical order, but for numbers it will go ascending)\n",
                "new_list.sort()"
            ]
        },
        {
            "cell_type": "code",
            "execution_count": null,
            "metadata": {
                "id": "PI47XD3OuSpE",
                "outputId": "2e12a745-b553-4843-f55f-6208cfb2b9f0"
            },
            "outputs": [
                {
                    "data": {
                        "text/plain": [
                            "['a', 'b', 'c', 'e', 'x']"
                        ]
                    },
                    "execution_count": 28,
                    "metadata": {},
                    "output_type": "execute_result"
                }
            ],
            "source": [
                "new_list"
            ]
        },
        {
            "cell_type": "markdown",
            "metadata": {
                "id": "Qa0ZnXpV6kll"
            },
            "source": [
                "## Quiz sur la liste\n"
            ]
        },
        {
            "cell_type": "markdown",
            "metadata": {
                "id": "gZTM1Axm6kll"
            },
            "source": [
                "Cr\u00e9ez une liste <code>a_list</code>, avec les \u00e9l\u00e9ments suivants <code>1</code>, <code>hello</code>, <code>[1,2,3]</code> et < code>Vrai</code>.\n"
            ]
        },
        {
            "cell_type": "code",
            "execution_count": null,
            "metadata": {
                "id": "eECJDEup6kll"
            },
            "outputs": [],
            "source": [
                "# Write your code below and press Shift+Enter to execute"
            ]
        },
        {
            "cell_type": "code",
            "source": [
                "#@title Solution\n",
                "a_list = [1, 'hello', [1, 2, 3] , True]\n",
                "a_list"
            ],
            "metadata": {
                "cellView": "form",
                "id": "adNAo4o-v0D0"
            },
            "execution_count": null,
            "outputs": []
        },
        {
            "cell_type": "markdown",
            "metadata": {
                "id": "Mz6T-C9Z6kln"
            },
            "source": [
                "Trouvez la valeur stock\u00e9e \u00e0 l'index 1 de <code>a_list</code>.\n"
            ]
        },
        {
            "cell_type": "code",
            "execution_count": null,
            "metadata": {
                "id": "5Iov_9zf6kln"
            },
            "outputs": [],
            "source": [
                "# Write your code below and press Shift+Enter to execute"
            ]
        },
        {
            "cell_type": "code",
            "source": [
                "#@title Solution\n",
                "a_list[1]"
            ],
            "metadata": {
                "id": "8_CUTyiqwKAR"
            },
            "execution_count": null,
            "outputs": []
        },
        {
            "cell_type": "markdown",
            "metadata": {
                "id": "J_6tudjZ6klo"
            },
            "source": [
                "Double-cliquez <b>ici</b> pour la solution.\n",
                "\n",
                "<!-- Votre r\u00e9ponse est ci-dessous\u00a0:\n",
                "une_liste[1]\n",
                "-->\n"
            ]
        },
        {
            "cell_type": "markdown",
            "metadata": {
                "id": "Apf0eqvS6klo"
            },
            "source": [
                "R\u00e9cup\u00e9rer les \u00e9l\u00e9ments stock\u00e9s aux index 1, 2 et 3 de <code>a_list</code>.\n"
            ]
        },
        {
            "cell_type": "code",
            "execution_count": null,
            "metadata": {
                "id": "wqEOQApx6klo"
            },
            "outputs": [],
            "source": [
                "# Write your code below and press Shift+Enter to execute"
            ]
        },
        {
            "cell_type": "code",
            "source": [
                "#@title Solution\n",
                "a_list[1:4]"
            ],
            "metadata": {
                "cellView": "form",
                "id": "j_o1qCq6wNAi"
            },
            "execution_count": null,
            "outputs": []
        },
        {
            "cell_type": "markdown",
            "metadata": {
                "id": "1GQRy2HD6klp"
            },
            "source": [
                "Concat\u00e9nez les listes suivantes <code>A = [1, 'a']</code> et <code>B = [2, 1, 'd']</code>\u00a0:\n"
            ]
        },
        {
            "cell_type": "code",
            "execution_count": null,
            "metadata": {
                "collapsed": true,
                "id": "V8DkOF616klp"
            },
            "outputs": [],
            "source": [
                "# Write your code below and press Shift+Enter to execute"
            ]
        },
        {
            "cell_type": "code",
            "source": [
                "#@title Solution\n",
                "A = [1, 'a'] \n",
                "B = [2, 1, 'd']\n",
                "A + B"
            ],
            "metadata": {
                "cellView": "form",
                "id": "roY6IRN-wUXp"
            },
            "execution_count": null,
            "outputs": []
        },
        {
            "cell_type": "markdown",
            "metadata": {
                "id": "gIjMjqVGuSo1"
            },
            "source": [
                "### Indexation et d\u00e9coupage\n",
                "L'indexation et le d\u00e9coupage fonctionnent comme dans les cha\u00eenes. Faisons une nouvelle liste pour nous rappeler comment cela fonctionne :\n"
            ]
        },
        {
            "cell_type": "code",
            "execution_count": null,
            "metadata": {
                "collapsed": true,
                "id": "0_HtfEXkuSo1"
            },
            "outputs": [],
            "source": [
                "my_list = ['one','two','three',4,5]"
            ]
        },
        {
            "cell_type": "code",
            "execution_count": null,
            "metadata": {
                "id": "Yr9jOTXtuSo3",
                "outputId": "eb836e6a-c753-41f2-990b-9455615730d8"
            },
            "outputs": [
                {
                    "data": {
                        "text/plain": [
                            "'one'"
                        ]
                    },
                    "execution_count": 5,
                    "metadata": {},
                    "output_type": "execute_result"
                }
            ],
            "source": [
                "# Grab element at index 0\n",
                "my_list[0]"
            ]
        },
        {
            "cell_type": "code",
            "execution_count": null,
            "metadata": {
                "id": "fu17TDvsuSo3",
                "outputId": "c1ab6be7-324e-414f-9828-718880655c6b"
            },
            "outputs": [
                {
                    "data": {
                        "text/plain": [
                            "['two', 'three', 4, 5]"
                        ]
                    },
                    "execution_count": 6,
                    "metadata": {},
                    "output_type": "execute_result"
                }
            ],
            "source": [
                "# Grab index 1 and everything past it\n",
                "my_list[1:]"
            ]
        },
        {
            "cell_type": "code",
            "execution_count": null,
            "metadata": {
                "id": "eXtSUmn3uSo4",
                "outputId": "f1b61b67-0e7b-4171-9b8f-ce764bc01084"
            },
            "outputs": [
                {
                    "data": {
                        "text/plain": [
                            "['one', 'two', 'three']"
                        ]
                    },
                    "execution_count": 7,
                    "metadata": {},
                    "output_type": "execute_result"
                }
            ],
            "source": [
                "# Grab everything UP TO index 3\n",
                "my_list[:3]"
            ]
        },
        {
            "cell_type": "markdown",
            "metadata": {
                "id": "hK7rRgShuSo4"
            },
            "source": [
                "Nous pouvons \u00e9galement utiliser + pour concat\u00e9ner des listes, comme nous l'avons fait pour les cha\u00eenes.\n"
            ]
        },
        {
            "cell_type": "code",
            "execution_count": null,
            "metadata": {
                "id": "Gr0Kw_PNuSo5",
                "outputId": "b1d9b9f4-5bd4-4293-f422-4d358f9435c2"
            },
            "outputs": [
                {
                    "data": {
                        "text/plain": [
                            "['one', 'two', 'three', 4, 5, 'new item']"
                        ]
                    },
                    "execution_count": 8,
                    "metadata": {},
                    "output_type": "execute_result"
                }
            ],
            "source": [
                "my_list + ['new item']"
            ]
        },
        {
            "cell_type": "markdown",
            "metadata": {
                "id": "BZ7NH8jBuSo5"
            },
            "source": [
                "Remarque\u00a0: Cela ne modifie pas r\u00e9ellement la liste d'origine\u00a0!\n"
            ]
        },
        {
            "cell_type": "code",
            "execution_count": null,
            "metadata": {
                "id": "Tnppg_dCuSo5",
                "outputId": "be91d1b7-e82e-4178-bafc-b88e9eb15444"
            },
            "outputs": [
                {
                    "data": {
                        "text/plain": [
                            "['one', 'two', 'three', 4, 5]"
                        ]
                    },
                    "execution_count": 9,
                    "metadata": {},
                    "output_type": "execute_result"
                }
            ],
            "source": [
                "my_list"
            ]
        },
        {
            "cell_type": "markdown",
            "metadata": {
                "id": "jeWE5oNquSo7"
            },
            "source": [
                "Vous devrez r\u00e9affecter la liste pour rendre le changement permanent.\n"
            ]
        },
        {
            "cell_type": "code",
            "execution_count": null,
            "metadata": {
                "collapsed": true,
                "id": "CN24OKXsuSo8"
            },
            "outputs": [],
            "source": [
                "# Reassign\n",
                "my_list = my_list + ['add new item permanently']"
            ]
        },
        {
            "cell_type": "code",
            "execution_count": null,
            "metadata": {
                "id": "1X0_9K8YuSo8",
                "outputId": "d7696c77-a000-4134-9f4f-d2b34de72b60"
            },
            "outputs": [
                {
                    "data": {
                        "text/plain": [
                            "['one', 'two', 'three', 4, 5, 'add new item permanently']"
                        ]
                    },
                    "execution_count": 11,
                    "metadata": {},
                    "output_type": "execute_result"
                }
            ],
            "source": [
                "my_list"
            ]
        },
        {
            "cell_type": "markdown",
            "metadata": {
                "id": "PJYe7InfuSo8"
            },
            "source": [
                "Nous pouvons \u00e9galement utiliser le * pour une m\u00e9thode de duplication similaire aux cha\u00eenes :\n"
            ]
        },
        {
            "cell_type": "code",
            "execution_count": null,
            "metadata": {
                "id": "_e3FlLQguSo9",
                "outputId": "b68af3fc-7884-44f2-8c65-6618e7949f95"
            },
            "outputs": [
                {
                    "data": {
                        "text/plain": [
                            "['one',\n",
                            " 'two',\n",
                            " 'three',\n",
                            " 4,\n",
                            " 5,\n",
                            " 'add new item permanently',\n",
                            " 'one',\n",
                            " 'two',\n",
                            " 'three',\n",
                            " 4,\n",
                            " 5,\n",
                            " 'add new item permanently']"
                        ]
                    },
                    "execution_count": 12,
                    "metadata": {},
                    "output_type": "execute_result"
                }
            ],
            "source": [
                "# Make the list double\n",
                "my_list * 2"
            ]
        },
        {
            "cell_type": "code",
            "execution_count": null,
            "metadata": {
                "id": "R8owYr3yuSo9",
                "outputId": "c6517cac-92a9-4230-a160-05bbfc999032"
            },
            "outputs": [
                {
                    "data": {
                        "text/plain": [
                            "['one', 'two', 'three', 4, 5, 'add new item permanently']"
                        ]
                    },
                    "execution_count": 13,
                    "metadata": {},
                    "output_type": "execute_result"
                }
            ],
            "source": [
                "# Again doubling not permanent\n",
                "my_list"
            ]
        }
    ],
    "metadata": {
        "kernelspec": {
            "display_name": "Python 3",
            "language": "python",
            "name": "python3"
        },
        "language_info": {
            "codemirror_mode": {
                "name": "ipython",
                "version": 3
            },
            "file_extension": ".py",
            "mimetype": "text/x-python",
            "name": "python",
            "nbconvert_exporter": "python",
            "pygments_lexer": "ipython3",
            "version": "3.6.6"
        }
    },
    "nbformat": 4,
    "nbformat_minor": 0
}