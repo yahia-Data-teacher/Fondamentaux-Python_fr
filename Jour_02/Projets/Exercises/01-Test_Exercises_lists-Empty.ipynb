{
    "cells": [
        {
            "cell_type": "markdown",
            "metadata": {
                "id": "view-in-github",
                "colab_type": "text"
            },
            "source": [
                "<a href=\"https://colab.research.google.com/github/yahia-kplr/Fondamentaux-Python_fr/blob/main/Jour_02/Projets/Exercises/01-Test_Exercises_lists-Empty.ipynb\" target=\"_blank\"><img src=\"https://colab.research.google.com/assets/colab-badge.svg\" alt=\"Open In Colab\"/></a>"
            ]
        },
        {
            "cell_type": "markdown",
            "id": "c7e441d7",
            "metadata": {},
            "source": [
                "# Exercices de test\n"
            ]
        },
        {
            "cell_type": "markdown",
            "id": "45d347a3",
            "metadata": {},
            "source": [
                "### Exercice 1\n",
                "\n",
                "Cr\u00e9ez cette liste `[1, 2, 3]` de deux mani\u00e8res distinctes.\n"
            ]
        },
        {
            "cell_type": "code",
            "execution_count": null,
            "id": "5d1c3bda",
            "metadata": {},
            "outputs": [],
            "source": []
        },
        {
            "cell_type": "code",
            "execution_count": null,
            "id": "ecbcf43d",
            "metadata": {},
            "outputs": [],
            "source": []
        },
        {
            "cell_type": "code",
            "execution_count": null,
            "id": "38959f77",
            "metadata": {},
            "outputs": [],
            "source": []
        },
        {
            "cell_type": "markdown",
            "id": "2138f54b",
            "metadata": {},
            "source": [
                "### Exercice 2\n",
                "\n",
                "Attribuez la valeur `'great'` \u00e0 `'AWESOME'` dans la liste `[1, 2, 3, 'great']`\n",
                "- ASTUCE\u00a0: cr\u00e9ez d'abord la liste\n"
            ]
        },
        {
            "cell_type": "code",
            "execution_count": null,
            "id": "a7fbb469",
            "metadata": {},
            "outputs": [],
            "source": []
        },
        {
            "cell_type": "code",
            "execution_count": null,
            "id": "bfb1b513",
            "metadata": {},
            "outputs": [],
            "source": []
        },
        {
            "cell_type": "code",
            "execution_count": null,
            "id": "504d5efe",
            "metadata": {},
            "outputs": [],
            "source": []
        },
        {
            "cell_type": "markdown",
            "id": "80952629",
            "metadata": {},
            "source": [
                "### Exercice 3\n",
                "\n",
                "1. Cr\u00e9ez la liste `[1, 2, 3, 4, 5, 6]`\n",
                "2. Utilisez le d\u00e9coupage en tranches pour obtenir la liste `[1, 2, 3, 4]`\n",
                "3. Utilisez le d\u00e9coupage en tranches pour obtenir la liste `[4, 5, 6]`\n",
                "4. Utilisez le d\u00e9coupage en tranches pour obtenir la liste `[3, 4, 5]`\n"
            ]
        },
        {
            "cell_type": "code",
            "execution_count": null,
            "id": "c48f7c9c",
            "metadata": {},
            "outputs": [],
            "source": []
        },
        {
            "cell_type": "code",
            "execution_count": null,
            "id": "061b8010",
            "metadata": {},
            "outputs": [],
            "source": []
        },
        {
            "cell_type": "code",
            "execution_count": null,
            "id": "8ef633c7",
            "metadata": {},
            "outputs": [],
            "source": []
        },
        {
            "cell_type": "markdown",
            "id": "bc5536ce",
            "metadata": {},
            "source": [
                "### Exercice 4\n",
                "\n",
                "1. Cr\u00e9ez la liste `['a', 'b', 'c', 'd', 'e', \u200b\u200b'f', 'g']`\n",
                "2. Utilisez le d\u00e9coupage pour obtenir `['a', 'c', 'e', \u200b\u200b'g']`\n",
                "3. Utilisez le d\u00e9coupage pour obtenir `['b', 'd', 'f']`\n"
            ]
        },
        {
            "cell_type": "code",
            "execution_count": null,
            "id": "19ac3171",
            "metadata": {},
            "outputs": [],
            "source": []
        },
        {
            "cell_type": "code",
            "execution_count": null,
            "id": "0d47a37e",
            "metadata": {},
            "outputs": [],
            "source": []
        },
        {
            "cell_type": "code",
            "execution_count": null,
            "id": "8741d9ff",
            "metadata": {},
            "outputs": [],
            "source": []
        },
        {
            "cell_type": "markdown",
            "id": "292752c5",
            "metadata": {},
            "source": [
                "### Exercice 5\n",
                "1. Cr\u00e9ez deux listes `[1, 2, 3]` et `[4, 5, 6]`\n",
                "2. Concat\u00e9ner les dans une nouvelle liste\n"
            ]
        },
        {
            "cell_type": "code",
            "execution_count": null,
            "id": "cad2d90e",
            "metadata": {},
            "outputs": [],
            "source": []
        },
        {
            "cell_type": "code",
            "execution_count": null,
            "id": "8f4d806d",
            "metadata": {},
            "outputs": [],
            "source": []
        },
        {
            "cell_type": "code",
            "execution_count": null,
            "id": "10b409db",
            "metadata": {},
            "outputs": [],
            "source": []
        },
        {
            "cell_type": "markdown",
            "id": "d334f8e5",
            "metadata": {},
            "source": [
                "### Exercice 6\n",
                "1. Cr\u00e9ez une liste `[1, 2, 3]`\n",
                "2. Ajouter un \u00e9l\u00e9ment \u00e0 la liste (`4`)\n",
                "3. Ajouter un autre \u00e9l\u00e9ment \u00e0 la liste d'une autre mani\u00e8re (`5`)\n",
                "4. Utilisez une fonction int\u00e9gr\u00e9e pour obtenir la longueur de la liste\n"
            ]
        },
        {
            "cell_type": "code",
            "execution_count": null,
            "id": "e4b20070",
            "metadata": {},
            "outputs": [],
            "source": []
        },
        {
            "cell_type": "code",
            "execution_count": null,
            "id": "cbc24c3d",
            "metadata": {},
            "outputs": [],
            "source": []
        },
        {
            "cell_type": "code",
            "execution_count": null,
            "id": "8176104e",
            "metadata": {},
            "outputs": [],
            "source": []
        },
        {
            "cell_type": "code",
            "execution_count": null,
            "id": "f64d298b",
            "metadata": {},
            "outputs": [],
            "source": []
        },
        {
            "cell_type": "markdown",
            "id": "03b17b29",
            "metadata": {},
            "source": [
                "### Exercice 7\n",
                "\n",
                "1. Cr\u00e9ez une liste `[7, 2, 5, 3, 9, 1, 6, 8, 4, 0]`\n",
                "2. Trier la liste\n",
                "3. Inverser la liste\n"
            ]
        },
        {
            "cell_type": "code",
            "execution_count": null,
            "id": "766f76a3",
            "metadata": {},
            "outputs": [],
            "source": []
        },
        {
            "cell_type": "code",
            "execution_count": null,
            "id": "1333612f",
            "metadata": {},
            "outputs": [],
            "source": []
        },
        {
            "cell_type": "code",
            "execution_count": null,
            "id": "c539c9e8",
            "metadata": {},
            "outputs": [],
            "source": []
        },
        {
            "cell_type": "code",
            "execution_count": null,
            "id": "999b8ac4",
            "metadata": {},
            "outputs": [],
            "source": []
        }
    ],
    "metadata": {
        "kernelspec": {
            "display_name": "Python 3 (ipykernel)",
            "language": "python",
            "name": "python3"
        },
        "language_info": {
            "codemirror_mode": {
                "name": "ipython",
                "version": 3
            },
            "file_extension": ".py",
            "mimetype": "text/x-python",
            "name": "python",
            "nbconvert_exporter": "python",
            "pygments_lexer": "ipython3",
            "version": "3.9.13"
        }
    },
    "nbformat": 4,
    "nbformat_minor": 5
}