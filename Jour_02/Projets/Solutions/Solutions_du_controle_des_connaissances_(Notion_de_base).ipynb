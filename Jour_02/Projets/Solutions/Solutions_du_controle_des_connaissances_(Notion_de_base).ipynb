{
    "cells": [
        {
            "cell_type": "markdown",
            "metadata": {
                "id": "view-in-github",
                "colab_type": "text"
            },
            "source": [
                "<a href=\"https://colab.research.google.com/github/yahia-kplr/Fondamentaux-Python_fr/blob/main/Jour_02/Projets/Solutions/Solutions_du_controle_des_connaissances_(Notion_de_base).ipynb\" target=\"_blank\"><img src=\"https://colab.research.google.com/assets/colab-badge.svg\" alt=\"Open In Colab\"/></a>"
            ]
        },
        {
            "cell_type": "markdown",
            "metadata": {},
            "source": [
                "# Test de validation des connaissances acquises sur les objets et structures de donn\u00e9es"
            ]
        },
        {
            "cell_type": "markdown",
            "metadata": {
                "collapsed": true
            },
            "source": [
                "## Contr\u00f4lez vos connaissances\n",
                "\n",
                "** R\u00e9pondez aux questions suivantes **\n"
            ]
        },
        {
            "cell_type": "markdown",
            "metadata": {
                "collapsed": true
            },
            "source": [
                "R\u00e9digez une courte description des objets suivants que nous avons \u00e9tudi\u00e9s :\n"
            ]
        },
        {
            "cell_type": "markdown",
            "metadata": {},
            "source": [
                "**Pour une r\u00e9ponse d\u00e9taill\u00e9e, vous pouvez relire le bloc-note Jupyter correspondant!**\n",
                "\n",
                "[Les nombres](http://nbviewer.ipython.org/github/jmportilla/Python_Francais/blob/master/Numbers.ipynb)\n",
                "\n",
                "[Les chaines de caract\u00e8res](http://nbviewer.ipython.org/github/jmportilla/Python_Francais/blob/master/Strings.ipynb)\n",
                "\n",
                "[Les listes](http://nbviewer.ipython.org/github/jmportilla/Python_Francais/blob/master/Lists.ipynb)\n",
                "\n",
                "[Les Tuples](http://nbviewer.ipython.org/github/jmportilla/Python_Francais/blob/master/Tuples.ipynb)\n",
                "\n",
                "[Les dictionnaires](http://nbviewer.ipython.org/github/jmportilla/Python_Francais/blob/master/Dictionaries.ipynb)\n"
            ]
        },
        {
            "cell_type": "markdown",
            "metadata": {},
            "source": [
                "## Les nombres\n",
                "\n",
                "R\u00e9digez une \u00e9quation qui utilise multiplication, division, exposant, addition, et soustraction dont le r\u00e9sultat sera 100.25.\n",
                "\n",
                "Conseil: Le but est de tester votre m\u00e9moire sur les commandes arithm\u00e9tiques de base, travaillez en remontant \u00e0 partir de 100.25\n"
            ]
        },
        {
            "cell_type": "code",
            "execution_count": 17,
            "metadata": {
                "collapsed": false
            },
            "outputs": [
                {
                    "data": {
                        "text/plain": [
                            "100.25"
                        ]
                    },
                    "execution_count": 17,
                    "metadata": {},
                    "output_type": "execute_result"
                }
            ],
            "source": [
                "# Votre r\u00e9ponse est sans doute diff\u00e9rente\n",
                "(20000 - (60 ** 2) /12 * 34) - 9699.75"
            ]
        },
        {
            "cell_type": "markdown",
            "metadata": {},
            "source": [
                "R\u00e9pondez \u00e0 ces 3 questions sans taper de code. Ensuite tapez le code pour v\u00e9rifier votre r\u00e9ponse.\n",
                "\n",
                "Quelle est le r\u00e9sultat de l'expression 4 * (6 + 5)\n",
                "\n",
                "Quelle est le r\u00e9sultat de l'expression 4 * 6 + 5\n",
                "\n",
                "Quelle est le r\u00e9sultat de l'expression 4 + 6 * 5\n"
            ]
        },
        {
            "cell_type": "code",
            "execution_count": 16,
            "metadata": {
                "collapsed": false
            },
            "outputs": [
                {
                    "data": {
                        "text/plain": [
                            "44"
                        ]
                    },
                    "execution_count": 16,
                    "metadata": {},
                    "output_type": "execute_result"
                }
            ],
            "source": [
                "4 * (6 + 5)"
            ]
        },
        {
            "cell_type": "code",
            "execution_count": 17,
            "metadata": {
                "collapsed": false
            },
            "outputs": [
                {
                    "data": {
                        "text/plain": [
                            "29"
                        ]
                    },
                    "execution_count": 17,
                    "metadata": {},
                    "output_type": "execute_result"
                }
            ],
            "source": [
                "4 * 6 + 5 "
            ]
        },
        {
            "cell_type": "code",
            "execution_count": 18,
            "metadata": {
                "collapsed": false
            },
            "outputs": [
                {
                    "data": {
                        "text/plain": [
                            "34"
                        ]
                    },
                    "execution_count": 18,
                    "metadata": {},
                    "output_type": "execute_result"
                }
            ],
            "source": [
                "4 + 6 * 5 "
            ]
        },
        {
            "cell_type": "markdown",
            "metadata": {},
            "source": [
                "Quel est le *type* du r\u00e9sultat de l'expression 3 + 1.5 + 4?\n"
            ]
        },
        {
            "cell_type": "markdown",
            "metadata": {},
            "source": [
                "**R\u00e9ponse: Nombre de type Float**\n"
            ]
        },
        {
            "cell_type": "markdown",
            "metadata": {},
            "source": [
                "Qu'est-ce que vous utiliseriez pour calculer une racine carr\u00e9e, ou un carr\u00e9 ?\n"
            ]
        },
        {
            "cell_type": "code",
            "execution_count": 14,
            "metadata": {
                "collapsed": false
            },
            "outputs": [
                {
                    "data": {
                        "text/plain": [
                            "10.0"
                        ]
                    },
                    "execution_count": 14,
                    "metadata": {},
                    "output_type": "execute_result"
                }
            ],
            "source": [
                "100 ** 0.5"
            ]
        },
        {
            "cell_type": "code",
            "execution_count": 12,
            "metadata": {
                "collapsed": false
            },
            "outputs": [
                {
                    "data": {
                        "text/plain": [
                            "100"
                        ]
                    },
                    "execution_count": 12,
                    "metadata": {},
                    "output_type": "execute_result"
                }
            ],
            "source": [
                "10 ** 2"
            ]
        },
        {
            "cell_type": "markdown",
            "metadata": {},
            "source": [
                "## Les chaines de caract\u00e8res\n"
            ]
        },
        {
            "cell_type": "markdown",
            "metadata": {},
            "source": [
                "Soit une chaine de caract\u00e8re 'Bonjour', donnez une commande index\u00e9e qui donnera le r\u00e9sultat 'o'.\n",
                "Utilisez le code ci dessous :\n"
            ]
        },
        {
            "cell_type": "code",
            "execution_count": 1,
            "metadata": {
                "collapsed": false
            },
            "outputs": [
                {
                    "data": {
                        "text/plain": [
                            "'o'"
                        ]
                    },
                    "execution_count": 1,
                    "metadata": {},
                    "output_type": "execute_result"
                }
            ],
            "source": [
                "s = 'Bonjour'\n",
                "# Afficher 'o' en utilisant un index\n",
                "s[1]"
            ]
        },
        {
            "cell_type": "markdown",
            "metadata": {},
            "source": [
                "Inverser la chaine 'bonjour' avec l'indexage :\n"
            ]
        },
        {
            "cell_type": "code",
            "execution_count": 2,
            "metadata": {
                "collapsed": false
            },
            "outputs": [
                {
                    "data": {
                        "text/plain": [
                            "'ruojnob'"
                        ]
                    },
                    "execution_count": 2,
                    "metadata": {},
                    "output_type": "execute_result"
                }
            ],
            "source": [
                "s ='bonjour'\n",
                "# Inverser la chaine 'bonjour' avec l'indexage\n",
                "s[::-1]"
            ]
        },
        {
            "cell_type": "markdown",
            "metadata": {},
            "source": [
                "Soit une chaine de caract\u00e8re 'Bonjour', donner 2 moyens d'afficher 'r' en utilisant l'index\n"
            ]
        },
        {
            "cell_type": "code",
            "execution_count": 18,
            "metadata": {
                "collapsed": false
            },
            "outputs": [
                {
                    "data": {
                        "text/plain": [
                            "'r'"
                        ]
                    },
                    "execution_count": 18,
                    "metadata": {},
                    "output_type": "execute_result"
                }
            ],
            "source": [
                "s ='Bonjour'\n",
                "# Le code\n",
                "s[-1]"
            ]
        },
        {
            "cell_type": "code",
            "execution_count": 21,
            "metadata": {
                "collapsed": false
            },
            "outputs": [
                {
                    "data": {
                        "text/plain": [
                            "'r'"
                        ]
                    },
                    "execution_count": 21,
                    "metadata": {},
                    "output_type": "execute_result"
                }
            ],
            "source": [
                "s[6]"
            ]
        },
        {
            "cell_type": "markdown",
            "metadata": {},
            "source": [
                "## Les listes\n"
            ]
        },
        {
            "cell_type": "markdown",
            "metadata": {},
            "source": [
                "Construire la liste [0,0,0] de deux fa\u00e7ons diff\u00e9rentes :\n"
            ]
        },
        {
            "cell_type": "code",
            "execution_count": 25,
            "metadata": {
                "collapsed": false
            },
            "outputs": [
                {
                    "data": {
                        "text/plain": [
                            "[0, 0, 0]"
                        ]
                    },
                    "execution_count": 25,
                    "metadata": {},
                    "output_type": "execute_result"
                }
            ],
            "source": [
                "#M\u00e9thode 1\n",
                "[0]*3"
            ]
        },
        {
            "cell_type": "code",
            "execution_count": 27,
            "metadata": {
                "collapsed": false
            },
            "outputs": [
                {
                    "data": {
                        "text/plain": [
                            "[0, 0, 0]"
                        ]
                    },
                    "execution_count": 27,
                    "metadata": {},
                    "output_type": "execute_result"
                }
            ],
            "source": [
                "#M\u00e9thode 2\n",
                "l = [0,0,0]\n",
                "l"
            ]
        },
        {
            "cell_type": "markdown",
            "metadata": {},
            "source": [
                "R\u00e9-assigne le 'bonjour' dans cette liste imbriqu\u00e9e pour dire 'salut':\n"
            ]
        },
        {
            "cell_type": "code",
            "execution_count": 4,
            "metadata": {
                "collapsed": true
            },
            "outputs": [],
            "source": [
                "l = [1,2,[3,4,'bonjour']]"
            ]
        },
        {
            "cell_type": "code",
            "execution_count": 5,
            "metadata": {
                "collapsed": false
            },
            "outputs": [],
            "source": [
                "l[2][2] = 'salut'"
            ]
        },
        {
            "cell_type": "code",
            "execution_count": 6,
            "metadata": {
                "collapsed": false
            },
            "outputs": [
                {
                    "data": {
                        "text/plain": [
                            "[1, 2, [3, 4, 'salut']]"
                        ]
                    },
                    "execution_count": 6,
                    "metadata": {},
                    "output_type": "execute_result"
                }
            ],
            "source": [
                "l"
            ]
        },
        {
            "cell_type": "markdown",
            "metadata": {},
            "source": [
                "Trier la liste ci-dessous :\n"
            ]
        },
        {
            "cell_type": "code",
            "execution_count": 33,
            "metadata": {
                "collapsed": true
            },
            "outputs": [],
            "source": [
                "l = [3,4,5,5,6]"
            ]
        },
        {
            "cell_type": "code",
            "execution_count": 38,
            "metadata": {
                "collapsed": false
            },
            "outputs": [
                {
                    "data": {
                        "text/plain": [
                            "[3, 4, 5, 5, 6]"
                        ]
                    },
                    "execution_count": 38,
                    "metadata": {},
                    "output_type": "execute_result"
                }
            ],
            "source": [
                "#M\u00e9thode 1\n",
                "sorted(l)"
            ]
        },
        {
            "cell_type": "code",
            "execution_count": 40,
            "metadata": {
                "collapsed": false
            },
            "outputs": [
                {
                    "data": {
                        "text/plain": [
                            "[3, 4, 5, 5, 6]"
                        ]
                    },
                    "execution_count": 40,
                    "metadata": {},
                    "output_type": "execute_result"
                }
            ],
            "source": [
                "#M\u00e9thode 2\n",
                "l.sort()\n",
                "l"
            ]
        },
        {
            "cell_type": "markdown",
            "metadata": {},
            "source": [
                "## Les dictionnaires\n"
            ]
        },
        {
            "cell_type": "markdown",
            "metadata": {},
            "source": [
                "Au moyen de clefs et d'index, extraire 'bonjour' du dictionnaire ci dessous :\n"
            ]
        },
        {
            "cell_type": "code",
            "execution_count": 7,
            "metadata": {
                "collapsed": true
            },
            "outputs": [],
            "source": [
                "d = {'clef_simple':'bonjour'}\n",
                "# Extraire 'bonjour'"
            ]
        },
        {
            "cell_type": "code",
            "execution_count": 8,
            "metadata": {
                "collapsed": false
            },
            "outputs": [
                {
                    "data": {
                        "text/plain": [
                            "'bonjour'"
                        ]
                    },
                    "execution_count": 8,
                    "metadata": {},
                    "output_type": "execute_result"
                }
            ],
            "source": [
                "d['clef_simple']"
            ]
        },
        {
            "cell_type": "code",
            "execution_count": 1,
            "metadata": {
                "collapsed": true
            },
            "outputs": [],
            "source": [
                "d = {'c1':{'c2':'bonjour'}}\n",
                "# Extraire 'bonjour'"
            ]
        },
        {
            "cell_type": "code",
            "execution_count": 2,
            "metadata": {
                "collapsed": false
            },
            "outputs": [
                {
                    "data": {
                        "text/plain": [
                            "'bonjour'"
                        ]
                    },
                    "execution_count": 2,
                    "metadata": {},
                    "output_type": "execute_result"
                }
            ],
            "source": [
                "d['c1']['c2']"
            ]
        },
        {
            "cell_type": "code",
            "execution_count": 11,
            "metadata": {
                "collapsed": true
            },
            "outputs": [],
            "source": [
                "# Un peu plus difficile\n",
                "d = {'clef1':[{'clef_imbriqu\u00e9e':['profond',['bonjour']]}]}\n",
                "# Extraire 'bonjour'"
            ]
        },
        {
            "cell_type": "code",
            "execution_count": 12,
            "metadata": {
                "collapsed": false
            },
            "outputs": [
                {
                    "data": {
                        "text/plain": [
                            "'bonjour'"
                        ]
                    },
                    "execution_count": 12,
                    "metadata": {},
                    "output_type": "execute_result"
                }
            ],
            "source": [
                "# Plus difficile que ce que j'imaginais...\n",
                "d['clef1'][0]['clef_imbriqu\u00e9e'][1][0]"
            ]
        },
        {
            "cell_type": "code",
            "execution_count": 16,
            "metadata": {
                "collapsed": true
            },
            "outputs": [],
            "source": [
                "# Celui-ci est compliqu\u00e9 et ennuyeux\n",
                "d = {'clef1':[1,2,{'clef2':['difficile',{'profond':[1,2,['bonjour']]}]}]}"
            ]
        },
        {
            "cell_type": "code",
            "execution_count": 17,
            "metadata": {
                "collapsed": false
            },
            "outputs": [
                {
                    "data": {
                        "text/plain": [
                            "'bonjour'"
                        ]
                    },
                    "execution_count": 17,
                    "metadata": {},
                    "output_type": "execute_result"
                }
            ],
            "source": [
                "# Ouch !\n",
                "d['clef1'][2]['clef2'][1]['profond'][2][0]"
            ]
        },
        {
            "cell_type": "markdown",
            "metadata": {},
            "source": [
                "Peut-on trier un dictionnaire ? Pourquoi ?\n"
            ]
        },
        {
            "cell_type": "markdown",
            "metadata": {},
            "source": [
                "**R\u00e9ponse : Non! Parce que les dictionaires fonctionnent par *mise en relation*, pas par s\u00e9quence. **\n"
            ]
        },
        {
            "cell_type": "markdown",
            "metadata": {},
            "source": [
                "## Nuplets\n"
            ]
        },
        {
            "cell_type": "markdown",
            "metadata": {},
            "source": [
                "Quelle est la principale diff\u00e9rence entre les tuples et les listes ?\n"
            ]
        },
        {
            "cell_type": "markdown",
            "metadata": {},
            "source": [
                "**Les Tuples sont immuables, invariables !**\n"
            ]
        },
        {
            "cell_type": "markdown",
            "metadata": {},
            "source": [
                "Comment cr\u00e9er un tuple ?\n"
            ]
        },
        {
            "cell_type": "code",
            "execution_count": 63,
            "metadata": {
                "collapsed": false
            },
            "outputs": [],
            "source": [
                "t = (1,2,3)"
            ]
        },
        {
            "cell_type": "markdown",
            "metadata": {},
            "source": [
                "## Ensembles\n"
            ]
        },
        {
            "cell_type": "markdown",
            "metadata": {},
            "source": [
                "Qu'est-ce qui est unique dans un set ?\n"
            ]
        },
        {
            "cell_type": "markdown",
            "metadata": {},
            "source": [
                "**R\u00e9ponse : Ils interdisent d'avoir des \u00e9l\u00e9ments en double !**\n"
            ]
        },
        {
            "cell_type": "markdown",
            "metadata": {},
            "source": [
                "Utilisez un set pour trouver les valeurs distinctes de cette liste :\n"
            ]
        },
        {
            "cell_type": "code",
            "execution_count": 64,
            "metadata": {
                "collapsed": true
            },
            "outputs": [],
            "source": [
                "l = [1,2,2,33,4,4,11,22,3,3,2]"
            ]
        },
        {
            "cell_type": "code",
            "execution_count": 65,
            "metadata": {
                "collapsed": false
            },
            "outputs": [
                {
                    "data": {
                        "text/plain": [
                            "{1, 2, 3, 4, 11, 22, 33}"
                        ]
                    },
                    "execution_count": 65,
                    "metadata": {},
                    "output_type": "execute_result"
                }
            ],
            "source": [
                "set(l)"
            ]
        },
        {
            "cell_type": "markdown",
            "metadata": {},
            "source": [
                "## Bool\u00e9ens\n"
            ]
        },
        {
            "cell_type": "markdown",
            "metadata": {},
            "source": [
                "Pour les questions suivantes, vous aurez besoin de donner un coup d'oeil aux op\u00e9rateurs de comparaison suivants :\n",
                "\n",
                "<table class=\"table bord\u00e9e de table\">\n",
                "<tr>\n",
                "<th style=\"width:10%\">Op\u00e9rateur</th><th style=\"width:45%\">Description</th><th>Exemple</th>\n",
                "</tr>\n",
                "<tr>\n",
                "<td>==</td>\n",
                "<td>Si les valeurs des deux op\u00e9randes sont \u00e9gales, alors la condition est vraie.</td>\n",
                "<td> (a == b) n'est pas vrai.</td>\n",
                "</tr>\n",
                "<tr>\n",
                "<td>!=</td>\n",
                "<td>Si les valeurs des deux op\u00e9randes ne sont pas \u00e9gales, alors la condition est vraie.</td>\n",
                "<td> (a != b) est vrai.</td></tr>\n",
                "<tr>\n",
                "<td>></td>\n",
                "<td>Si la valeur de l'op\u00e9rande de gauche est sup\u00e9rieure \u00e0 la valeur de l'op\u00e9rateur de droite, alors la condition est vraie.</td>\n",
                "<td> (a > b) n'est pas vrai.</td>\n",
                "</tr>\n",
                "<tr>\n",
                "<td><</td>\n",
                "<td>Si la valeur de l'op\u00e9rande de gauche est inf\u00e9rieure \u00e0 la valeur de l'op\u00e9rateur de droite, alors la condition est vraie.</td>\n",
                "<td> (a < b) est vrai.</td>\n",
                "</tr>\n",
                "<tr>\n",
                "<td>>=</td>\n",
                "<td>Si la valeur de l'op\u00e9rande de gauche est sup\u00e9rieure ou \u00e9gale \u00e0 la valeur de l'op\u00e9rateur de droite, alors la condition est vraie.</td>\n",
                "<td> (a >= b) n'est pas vrai. </td>\n",
                "</tr>\n",
                "<tr>\n",
                "<td><=</td>\n",
                "<td>Si la valeur de l'op\u00e9rande de gauche est inf\u00e9rieure ou \u00e9gale \u00e0 la valeur de l'op\u00e9rateur de droite, alors la condition est vraie.</td>\n",
                "<td> (a <= b) est vrai. </td>\n",
                "</tr>\n",
                "</table>\n"
            ]
        },
        {
            "cell_type": "markdown",
            "metadata": {},
            "source": [
                "Que sera le r\u00e9sultat bool\u00e9en des morceaux de code suivants (r\u00e9pondez d'abord puis v\u00e9rifiez en ex\u00e9cutant le code correspondant !)\n"
            ]
        },
        {
            "cell_type": "code",
            "execution_count": 66,
            "metadata": {
                "collapsed": false
            },
            "outputs": [
                {
                    "data": {
                        "text/plain": [
                            "False"
                        ]
                    },
                    "execution_count": 66,
                    "metadata": {},
                    "output_type": "execute_result"
                }
            ],
            "source": [
                "# R\u00e9pondez avec d'ex\u00e9cuter la cellule\n",
                "2 > 3"
            ]
        },
        {
            "cell_type": "code",
            "execution_count": 67,
            "metadata": {
                "collapsed": false
            },
            "outputs": [
                {
                    "data": {
                        "text/plain": [
                            "False"
                        ]
                    },
                    "execution_count": 67,
                    "metadata": {},
                    "output_type": "execute_result"
                }
            ],
            "source": [
                "# R\u00e9pondez avec d'ex\u00e9cuter la cellule\n",
                "3 <= 2"
            ]
        },
        {
            "cell_type": "code",
            "execution_count": 68,
            "metadata": {
                "collapsed": false
            },
            "outputs": [
                {
                    "data": {
                        "text/plain": [
                            "False"
                        ]
                    },
                    "execution_count": 68,
                    "metadata": {},
                    "output_type": "execute_result"
                }
            ],
            "source": [
                "# R\u00e9pondez avec d'ex\u00e9cuter la cellule\n",
                "3 == 2.0"
            ]
        },
        {
            "cell_type": "code",
            "execution_count": 69,
            "metadata": {
                "collapsed": false
            },
            "outputs": [
                {
                    "data": {
                        "text/plain": [
                            "True"
                        ]
                    },
                    "execution_count": 69,
                    "metadata": {},
                    "output_type": "execute_result"
                }
            ],
            "source": [
                "# R\u00e9pondez avec d'ex\u00e9cuter la cellule\n",
                "3.0 == 3"
            ]
        },
        {
            "cell_type": "code",
            "execution_count": 70,
            "metadata": {
                "collapsed": false
            },
            "outputs": [
                {
                    "data": {
                        "text/plain": [
                            "False"
                        ]
                    },
                    "execution_count": 70,
                    "metadata": {},
                    "output_type": "execute_result"
                }
            ],
            "source": [
                "# R\u00e9pondez avec d'ex\u00e9cuter la cellule\n",
                "4**0.5 != 2"
            ]
        },
        {
            "cell_type": "markdown",
            "metadata": {},
            "source": [
                "Derni\u00e8re question : quel est le r\u00e9sultat du bloc suivant ?\n"
            ]
        },
        {
            "cell_type": "code",
            "execution_count": 19,
            "metadata": {
                "collapsed": false
            },
            "outputs": [
                {
                    "data": {
                        "text/plain": [
                            "False"
                        ]
                    },
                    "execution_count": 19,
                    "metadata": {},
                    "output_type": "execute_result"
                }
            ],
            "source": [
                "# Deux liste imbriqu\u00e9es\n",
                "l_un = [1,2,[3,4]]\n",
                "l_deux = [1,2,{'clef1':4}]\n",
                "\n",
                "# Vrai ou faux ? True ou False?\n",
                "l_un[2][0] >= l_deux[2]['clef1']"
            ]
        }
    ],
    "metadata": {
        "anaconda-cloud": {},
        "kernelspec": {
            "display_name": "Python 3",
            "language": "python",
            "name": "python3"
        },
        "language_info": {
            "codemirror_mode": {
                "name": "ipython",
                "version": 3
            },
            "file_extension": ".py",
            "mimetype": "text/x-python",
            "name": "python",
            "nbconvert_exporter": "python",
            "pygments_lexer": "ipython3",
            "version": "3.11.0 (main, Oct 24 2022, 18:26:48) [MSC v.1933 64 bit (AMD64)]"
        },
        "vscode": {
            "interpreter": {
                "hash": "9fedf123aa532497912d939029aac71791b23fba076af1a3c1eebd0e739bf47a"
            }
        }
    },
    "nbformat": 4,
    "nbformat_minor": 0
}