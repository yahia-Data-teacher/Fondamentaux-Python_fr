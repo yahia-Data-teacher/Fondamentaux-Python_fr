{
    "cells": [
        {
            "cell_type": "markdown",
            "metadata": {
                "id": "view-in-github",
                "colab_type": "text"
            },
            "source": [
                "<a href=\"https://colab.research.google.com/github/yahia-kplr/Fondamentaux-Python_fr/blob/main/Jour_02/Projets/Solutions/02-Project_Order_Input_Sequence-Solution.ipynb\" target=\"_blank\"><img src=\"https://colab.research.google.com/assets/colab-badge.svg\" alt=\"Open In Colab\"/></a>"
            ]
        },
        {
            "cell_type": "markdown",
            "id": "c3cbb30f",
            "metadata": {},
            "source": [
                "# S\u00e9quence d'entr\u00e9e de la commande de projet\n"
            ]
        },
        {
            "cell_type": "markdown",
            "id": "62ad7ed9",
            "metadata": {},
            "source": [
                "Dans ce projet, vous demanderez \u00e0 l'utilisateur de saisir 3 chiffres. Ensuite, devrait sortir les nombres dans l'ordre croissant.\n",
                "\n",
                "#### Exemple\n",
                "- L'utilisateur saisit les nombres\u00a0: 10, 7, 8\n",
                "- Ensuite, le programme doit afficher\u00a0: 7, 8, 10\n",
                "\n",
                "Prenez un moment et r\u00e9fl\u00e9chissez \u00e0 la mani\u00e8re dont vous pouvez y parvenir avec vos comp\u00e9tences actuelles.\n",
                "\n",
                "Ne vous inqui\u00e9tez pas si vous ne pouvez pas le comprendre.\n"
            ]
        },
        {
            "cell_type": "markdown",
            "id": "8921f062",
            "metadata": {},
            "source": [
                "###\u00a0\u00c9tape\u00a01\u00a0: Entr\u00e9e de l'utilisateur\n",
                "- Entrez 3 nombres de l'utilisateur \u00e0 3 variables d'entr\u00e9e.\n"
            ]
        },
        {
            "cell_type": "code",
            "execution_count": 1,
            "id": "b14bea4c",
            "metadata": {},
            "outputs": [
                {
                    "name": "stdout",
                    "output_type": "stream",
                    "text": [
                        "Input a number: 10\n",
                        "Input a number: 7\n",
                        "Input a number: 8\n"
                    ]
                }
            ],
            "source": [
                "n1_str = input('Input a number: ')\n",
                "n2_str = input('Input a number: ')\n",
                "n3_str = input('Input a number: ')"
            ]
        },
        {
            "cell_type": "code",
            "execution_count": null,
            "id": "90b9b5c6",
            "metadata": {},
            "outputs": [],
            "source": []
        },
        {
            "cell_type": "code",
            "execution_count": null,
            "id": "934ed5b7",
            "metadata": {},
            "outputs": [],
            "source": []
        },
        {
            "cell_type": "markdown",
            "id": "ecaa8827",
            "metadata": {},
            "source": [
                "###\u00a0\u00c9tape\u00a02\u00a0: Convertir\n",
                "- Convertir les 3 variables d'entr\u00e9e en nombres entiers (`int`)\n"
            ]
        },
        {
            "cell_type": "code",
            "execution_count": 2,
            "id": "226a3c8f",
            "metadata": {},
            "outputs": [],
            "source": [
                "n1 = int(n1_str)\n",
                "n2 = int(n2_str)\n",
                "n3 = int(n3_str)"
            ]
        },
        {
            "cell_type": "code",
            "execution_count": null,
            "id": "c5e608c0",
            "metadata": {},
            "outputs": [],
            "source": []
        },
        {
            "cell_type": "code",
            "execution_count": null,
            "id": "6e20d3ad",
            "metadata": {},
            "outputs": [],
            "source": []
        },
        {
            "cell_type": "markdown",
            "id": "5803296a",
            "metadata": {},
            "source": [
                "### \u00c9tape\u00a03\u00a0: liste\n",
                "- Cr\u00e9er une liste contenant les 3 variables.\n"
            ]
        },
        {
            "cell_type": "code",
            "execution_count": 3,
            "id": "6ffbc6e8",
            "metadata": {},
            "outputs": [],
            "source": [
                "list_of_numbers = [n1, n2, n3]"
            ]
        },
        {
            "cell_type": "code",
            "execution_count": null,
            "id": "897b3a3e",
            "metadata": {},
            "outputs": [],
            "source": []
        },
        {
            "cell_type": "code",
            "execution_count": null,
            "id": "f945a8b6",
            "metadata": {},
            "outputs": [],
            "source": []
        },
        {
            "cell_type": "markdown",
            "id": "8a479042",
            "metadata": {},
            "source": [
                "### \u00c9tape\u00a04\u00a0: Trier\n",
                "- Trier la liste\n"
            ]
        },
        {
            "cell_type": "code",
            "execution_count": 4,
            "id": "7f2ac21b",
            "metadata": {},
            "outputs": [],
            "source": [
                "list_of_numbers.sort()"
            ]
        },
        {
            "cell_type": "code",
            "execution_count": null,
            "id": "cf4830db",
            "metadata": {},
            "outputs": [],
            "source": []
        },
        {
            "cell_type": "code",
            "execution_count": null,
            "id": "4cfc42d9",
            "metadata": {},
            "outputs": [],
            "source": []
        },
        {
            "cell_type": "markdown",
            "id": "33b959e5",
            "metadata": {},
            "source": [
                "### \u00c9tape\u00a05\u00a0: Imprimer\n",
                "- Imprimer les \u00e9l\u00e9ments de la liste\n"
            ]
        },
        {
            "cell_type": "code",
            "execution_count": 5,
            "id": "44d661ef",
            "metadata": {},
            "outputs": [
                {
                    "name": "stdout",
                    "output_type": "stream",
                    "text": [
                        "7\n",
                        "8\n",
                        "10\n"
                    ]
                }
            ],
            "source": [
                "print(list_of_numbers[0])\n",
                "print(list_of_numbers[1])\n",
                "print(list_of_numbers[2])"
            ]
        },
        {
            "cell_type": "code",
            "execution_count": null,
            "id": "c5d0470c",
            "metadata": {},
            "outputs": [],
            "source": []
        },
        {
            "cell_type": "code",
            "execution_count": null,
            "id": "06207d33",
            "metadata": {},
            "outputs": [],
            "source": []
        }
    ],
    "metadata": {
        "kernelspec": {
            "display_name": "Python 3",
            "language": "python",
            "name": "python3"
        },
        "language_info": {
            "codemirror_mode": {
                "name": "ipython",
                "version": 3
            },
            "file_extension": ".py",
            "mimetype": "text/x-python",
            "name": "python",
            "nbconvert_exporter": "python",
            "pygments_lexer": "ipython3",
            "version": "3.11.0"
        },
        "vscode": {
            "interpreter": {
                "hash": "9fedf123aa532497912d939029aac71791b23fba076af1a3c1eebd0e739bf47a"
            }
        }
    },
    "nbformat": 4,
    "nbformat_minor": 5
}