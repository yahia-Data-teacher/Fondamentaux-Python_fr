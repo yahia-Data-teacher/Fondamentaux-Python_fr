{
    "cells": [
        {
            "cell_type": "markdown",
            "metadata": {
                "id": "view-in-github",
                "colab_type": "text"
            },
            "source": [
                "<a href=\"https://colab.research.google.com/github/yahia-kplr/Fondamentaux-Python_fr/blob/main/Jour_02/Projets/Solutions/05-Project_Store-Solution.ipynb\" target=\"_blank\"><img src=\"https://colab.research.google.com/assets/colab-badge.svg\" alt=\"Open In Colab\"/></a>"
            ]
        },
        {
            "cell_type": "markdown",
            "id": "c9929742",
            "metadata": {},
            "source": [
                "# Magasin de projets\n",
                "\n",
                "Vous commencerez \u00e0 vendre des articles de votre magasin g\u00e9nial avec un affichage interactif.\n"
            ]
        },
        {
            "cell_type": "markdown",
            "id": "88f965e3",
            "metadata": {},
            "source": [
                "###\u00a0\u00c9tape\u00a01\u00a0: Configuration\n",
                "\n",
                "Vous comptez les articles vendus et vendez les trois articles suivants.\n",
                "1. \"pomme\"\n",
                "2. \"poire\"\n",
                "3. \"Orange\"\n",
                "\n",
                "Pour garder une trace du nombre d'articles que vous vendez, vous pouvez utiliser un dictionnaire.\n",
                "\n",
                "Le dictionnaire peut utiliser les articles comme cl\u00e9s et le nombre d'articles vendus comme valeur.\n",
                "\n",
                "``` Python\n",
                "articles_vendus = {'pomme'\u00a0: 0}\n",
                "```\n",
                "\n",
                "Cr\u00e9ez un dictionnaire avec les trois articles que vous vendez.\n"
            ]
        },
        {
            "cell_type": "code",
            "execution_count": 1,
            "id": "1eb7e496",
            "metadata": {},
            "outputs": [],
            "source": [
                "sold_items = {\n",
                "    'apple': 0,\n",
                "    'pear': 0,\n",
                "    'orange': 0\n",
                "}"
            ]
        },
        {
            "cell_type": "code",
            "execution_count": 2,
            "id": "d26ba570",
            "metadata": {},
            "outputs": [
                {
                    "data": {
                        "text/plain": [
                            "dict"
                        ]
                    },
                    "execution_count": 2,
                    "metadata": {},
                    "output_type": "execute_result"
                }
            ],
            "source": [
                "type(sold_items)"
            ]
        },
        {
            "cell_type": "code",
            "execution_count": 3,
            "id": "8f90c087",
            "metadata": {},
            "outputs": [
                {
                    "data": {
                        "text/plain": [
                            "{'apple': 0, 'pear': 0, 'orange': 0}"
                        ]
                    },
                    "execution_count": 3,
                    "metadata": {},
                    "output_type": "execute_result"
                }
            ],
            "source": [
                "sold_items"
            ]
        },
        {
            "cell_type": "markdown",
            "id": "d2d23874",
            "metadata": {},
            "source": [
                "###\u00a0\u00c9tape\u00a02\u00a0: Invite client\n",
                "- Un client devrait \u00eatre demand\u00e9 quel article acheter et combien.\n",
                "- Ensuite, vous devez mettre \u00e0 jour le nombre d'articles vendus dans le dictionnaire `sold_items`\n",
                "\n",
                "Si vous \u00e9crivez tout le code dans une cellule, vous pouvez l'ex\u00e9cuter pour chaque client entrant dans le magasin.\n"
            ]
        },
        {
            "cell_type": "markdown",
            "id": "9c412d40",
            "metadata": {},
            "source": [
                "####\u00a0CLIQUEZ POUR UN CONSEIL\n",
                "\n",
                "<!--\n",
                "\n",
                "Pour obtenir l'entr\u00e9e du client, utilisez la fonction int\u00e9gr\u00e9e input()\n",
                "N'oubliez pas de convertir l'entr\u00e9e en nombres entiers.\n",
                "\n",
                "-->\n"
            ]
        },
        {
            "cell_type": "code",
            "execution_count": 7,
            "id": "d8ac8a53",
            "metadata": {},
            "outputs": [
                {
                    "name": "stdout",
                    "output_type": "stream",
                    "text": [
                        "What do you want (apple/pear/orange)? pear\n",
                        "How many do you want? 17\n"
                    ]
                },
                {
                    "data": {
                        "text/plain": [
                            "{'apple': 20, 'pear': 20, 'orange': 60}"
                        ]
                    },
                    "execution_count": 7,
                    "metadata": {},
                    "output_type": "execute_result"
                }
            ],
            "source": [
                "item = input('What do you want (apple/pear/orange)? ')\n",
                "number_str = input('How many do you want? ')\n",
                "number = int(number_str)\n",
                "\n",
                "sold_items[item] += number\n",
                "sold_items"
            ]
        },
        {
            "cell_type": "code",
            "execution_count": null,
            "id": "ebd15bde",
            "metadata": {},
            "outputs": [],
            "source": []
        },
        {
            "cell_type": "code",
            "execution_count": null,
            "id": "a6b29357",
            "metadata": {},
            "outputs": [],
            "source": []
        },
        {
            "cell_type": "markdown",
            "id": "36316b1a",
            "metadata": {},
            "source": [
                "### \u00c9tape\u00a03\u00a0: \u00c9tat\n",
                "- Vous pouvez maintenant imprimer le nombre d'articles que vous avez vendus.\n",
                "- En outre, vous pouvez imprimer le nombre total d'articles.\n"
            ]
        },
        {
            "cell_type": "code",
            "execution_count": 9,
            "id": "9f395dca",
            "metadata": {},
            "outputs": [
                {
                    "name": "stdout",
                    "output_type": "stream",
                    "text": [
                        "STATUS:\n",
                        "  apples 20\n",
                        "  pears 20\n",
                        "  oranges 60\n",
                        "  TOTAL: 100\n"
                    ]
                }
            ],
            "source": [
                "print('STATUS:')\n",
                "print('  apples', sold_items['apple'])\n",
                "print('  pears', sold_items['pear'])\n",
                "print('  oranges', sold_items['orange'])\n",
                "\n",
                "total = sold_items['apple'] + sold_items['pear'] + sold_items['orange']\n",
                "\n",
                "print('  TOTAL:', total)"
            ]
        },
        {
            "cell_type": "code",
            "execution_count": null,
            "id": "74487a89",
            "metadata": {},
            "outputs": [],
            "source": []
        },
        {
            "cell_type": "code",
            "execution_count": null,
            "id": "99fd8235",
            "metadata": {},
            "outputs": [],
            "source": []
        },
        {
            "cell_type": "code",
            "execution_count": null,
            "id": "711767e0",
            "metadata": {},
            "outputs": [],
            "source": []
        },
        {
            "cell_type": "code",
            "execution_count": null,
            "id": "5b7cfb07",
            "metadata": {},
            "outputs": [],
            "source": []
        }
    ],
    "metadata": {
        "kernelspec": {
            "display_name": "Python 3",
            "language": "python",
            "name": "python3"
        },
        "language_info": {
            "codemirror_mode": {
                "name": "ipython",
                "version": 3
            },
            "file_extension": ".py",
            "mimetype": "text/x-python",
            "name": "python",
            "nbconvert_exporter": "python",
            "pygments_lexer": "ipython3",
            "version": "3.11.0"
        },
        "vscode": {
            "interpreter": {
                "hash": "9fedf123aa532497912d939029aac71791b23fba076af1a3c1eebd0e739bf47a"
            }
        }
    },
    "nbformat": 4,
    "nbformat_minor": 5
}