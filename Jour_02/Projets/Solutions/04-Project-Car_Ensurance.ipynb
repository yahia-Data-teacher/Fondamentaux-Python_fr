{
    "cells": [
        {
            "cell_type": "markdown",
            "metadata": {
                "id": "view-in-github",
                "colab_type": "text"
            },
            "source": [
                "<a href=\"https://colab.research.google.com/github/yahia-kplr/Fondamentaux-Python_fr/blob/main/Jour_02/Projets/Solutions/04-Project-Car_Ensurance.ipynb\" target=\"_blank\"><img src=\"https://colab.research.google.com/assets/colab-badge.svg\" alt=\"Open In Colab\"/></a>"
            ]
        },
        {
            "cell_type": "markdown",
            "id": "38488d3d",
            "metadata": {},
            "source": [
                "# Projet - Assurance Auto\n",
                "### But\n",
                "- Calcul de l'assurance automobile bas\u00e9 sur l'arbre de d\u00e9cision suivant\n"
            ]
        },
        {
            "cell_type": "markdown",
            "id": "b777618f",
            "metadata": {},
            "source": [
                "![texte alternatif](../img/DecisionTree.png \"Titre\")\n"
            ]
        },
        {
            "cell_type": "markdown",
            "id": "e65b8621",
            "metadata": {},
            "source": [
                "### Description\n",
                "- Il s'agit d'une compagnie d'assurance automobile fictive appel\u00e9e Car Crash\n",
                "- Ils calculent le prix annuel de l'assurance en fonction du prix actuel du march\u00e9 de la voiture\n",
                "- \u00c9tant donn\u00e9 le prix du march\u00e9 : market_price\n",
                "- Ensuite, le prix d'assurance annuel est de 9\u00a0% du prix du march\u00e9 s'il s'agit d'un homme de plus de 26\u00a0ans.\n",
                "- Comme nous le voyons dans l'arbre de d\u00e9cision, nous avons 4 calculs de prix possibles.\n",
                "- Cr\u00e9er un programme, qui prend en compte et sur la base de cela calcul\u00e9 le prix correct pour les 4 cas\n"
            ]
        },
        {
            "cell_type": "code",
            "execution_count": 6,
            "id": "d276069d",
            "metadata": {},
            "outputs": [
                {
                    "name": "stdout",
                    "output_type": "stream",
                    "text": [
                        "Male\n",
                        "More than 26\n",
                        "Ensurance offer: 900.0\n"
                    ]
                }
            ],
            "source": [
                "gender = input(\"What is your gender (M/F): \")\n",
                "gender = gender.upper()\n",
                "if gender == 'M':\n",
                "    print(\"Male\")\n",
                "    age = input(\"What is your age? \")\n",
                "    age = int(age)\n",
                "    if age <= 26:\n",
                "        print(\"Less/equal to 26\")\n",
                "        percentage = 23\n",
                "    else:\n",
                "        print(\"More than 26\")\n",
                "        percentage = 9\n",
                "elif gender == 'F':\n",
                "    print(\"Female\")\n",
                "    car_type = input(\"What is your car type (sports/non-sports) \")\n",
                "    car_type = car_type.upper()\n",
                "    if car_type == \"SPORTS\":\n",
                "        print(\"Sports car\")\n",
                "        percentage = 21\n",
                "    else:\n",
                "        print(\"Non-sports car\")\n",
                "        percentage = 10\n",
                "else:\n",
                "    print(\"Wrong format\")\n",
                "    percentage = None\n",
                "\n",
                "market_price = input(\"What is the market price of your car? \")\n",
                "market_price = int(market_price)\n",
                "\n",
                "ensurance_offer = market_price*percentage/100\n",
                "\n",
                "\n",
                "\n",
                "print(f\"Ensurance offer: {ensurance_offer}\")"
            ]
        }
    ],
    "metadata": {
        "kernelspec": {
            "display_name": "Python 3",
            "language": "python",
            "name": "python3"
        },
        "language_info": {
            "name": "python",
            "version": "3.11.0"
        },
        "vscode": {
            "interpreter": {
                "hash": "9fedf123aa532497912d939029aac71791b23fba076af1a3c1eebd0e739bf47a"
            }
        }
    },
    "nbformat": 4,
    "nbformat_minor": 5
}