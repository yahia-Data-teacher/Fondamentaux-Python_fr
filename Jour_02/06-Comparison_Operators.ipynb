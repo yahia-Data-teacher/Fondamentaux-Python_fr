{
    "cells": [
        {
            "cell_type": "markdown",
            "metadata": {
                "id": "view-in-github",
                "colab_type": "text"
            },
            "source": [
                "<a href=\"https://colab.research.google.com/github/yahia-kplr/Fondamentaux-Python_fr/blob/main/Jour_02/06-Comparison_Operators.ipynb\" target=\"_blank\"><img src=\"https://colab.research.google.com/assets/colab-badge.svg\" alt=\"Open In Colab\"/></a>"
            ]
        },
        {
            "cell_type": "markdown",
            "metadata": {
                "id": "JXqb2YDD2fJG"
            },
            "source": [
                "# Comparison Operators \n",
                "\n",
                "In this lecture we will be learning about Comparison Operators in Python. These operators will allow us to compare variables and output a Boolean value (True or False). \n",
                "\n",
                "If you have any sort of background in Math, these operators should be very straight forward.\n",
                "\n",
                "First we'll present a table of the comparison operators and then work through some examples:\n",
                "\n",
                "<h2> Table of Comparison Operators </h2><p>  In the table below, a=3 and b=4.</p>\n",
                "\n",
                "<table class=\"table table-bordered\">\n",
                "<tr>\n",
                "<th style=\"width:10%\">Operator</th><th style=\"width:45%\">Description</th><th>Example</th>\n",
                "</tr>\n",
                "<tr>\n",
                "<td>==</td>\n",
                "<td>If the values of two operands are equal, then the condition becomes true.</td>\n",
                "<td> (a == b) is not true.</td>\n",
                "</tr>\n",
                "<tr>\n",
                "<td>!=</td>\n",
                "<td>If values of two operands are not equal, then condition becomes true.</td>\n",
                "<td>(a != b) is true</td>\n",
                "</tr>\n",
                "<tr>\n",
                "<td>&gt;</td>\n",
                "<td>If the value of left operand is greater than the value of right operand, then condition becomes true.</td>\n",
                "<td> (a &gt; b) is not true.</td>\n",
                "</tr>\n",
                "<tr>\n",
                "<td>&lt;</td>\n",
                "<td>If the value of left operand is less than the value of right operand, then condition becomes true.</td>\n",
                "<td> (a &lt; b) is true.</td>\n",
                "</tr>\n",
                "<tr>\n",
                "<td>&gt;=</td>\n",
                "<td>If the value of left operand is greater than or equal to the value of right operand, then condition becomes true.</td>\n",
                "<td> (a &gt;= b) is not true. </td>\n",
                "</tr>\n",
                "<tr>\n",
                "<td>&lt;=</td>\n",
                "<td>If the value of left operand is less than or equal to the value of right operand, then condition becomes true.</td>\n",
                "<td> (a &lt;= b) is true. </td>\n",
                "</tr>\n",
                "</table>"
            ]
        },
        {
            "cell_type": "markdown",
            "metadata": {
                "id": "LDS1culZTzjL"
            },
            "source": [
                "### Op\u00e9rateurs de comparaison\n"
            ]
        },
        {
            "cell_type": "markdown",
            "metadata": {
                "id": "eUExM8xVTzjM"
            },
            "source": [
                "Attribuons \u00e0 <code>a</code> la valeur 5. Utilisez l'op\u00e9rateur d'\u00e9galit\u00e9 indiqu\u00e9 par deux signes \u00e9gal <b>==</b> pour d\u00e9terminer si deux valeurs sont \u00e9gales. Le cas ci-dessous compare la variable <code>a</code> avec 6.\n"
            ]
        },
        {
            "cell_type": "code",
            "execution_count": null,
            "metadata": {
                "id": "yfwCMQdPTzjM"
            },
            "outputs": [],
            "source": [
                "# Condition Equal\n",
                "\n",
                "a = 5\n",
                "a == 6"
            ]
        },
        {
            "cell_type": "markdown",
            "metadata": {
                "id": "GgjfRlqPTzjO"
            },
            "source": [
                "Le r\u00e9sultat est <b>Faux</b>, car 5 n'est pas \u00e9gal \u00e0 6.\n"
            ]
        },
        {
            "cell_type": "markdown",
            "metadata": {
                "id": "m2NktMMmTzjO"
            },
            "source": [
                "Consid\u00e9rez l'op\u00e9rateur de comparaison d'\u00e9galit\u00e9 suivant <code>i > 5</code>. Si la valeur de l'op\u00e9rande de gauche, dans ce cas la variable <b>i</b>, est sup\u00e9rieure \u00e0 la valeur de l'op\u00e9rande de droite, dans ce cas 5, alors l'\u00e9nonc\u00e9 est <b>True</b>. Sinon, la d\u00e9claration est <b>Faux</b>. Si <b>i</b> est \u00e9gal \u00e0 6, car 6 est sup\u00e9rieur \u00e0 5, la sortie est <b>True</b>.\n"
            ]
        },
        {
            "cell_type": "code",
            "execution_count": null,
            "metadata": {
                "id": "s4cmdEs8TzjP"
            },
            "outputs": [],
            "source": [
                "# Greater than Sign\n",
                "\n",
                "i = 6\n",
                "i > 5"
            ]
        },
        {
            "cell_type": "markdown",
            "metadata": {
                "id": "CT0xtvzrTzjP"
            },
            "source": [
                "D\u00e9finissez <code>i = 2</code>. L'\u00e9nonc\u00e9 est faux car 2 n'est pas sup\u00e9rieur \u00e0 5\u00a0:\n"
            ]
        },
        {
            "cell_type": "code",
            "execution_count": null,
            "metadata": {
                "id": "NSoBGz0eTzjQ"
            },
            "outputs": [],
            "source": [
                "# Greater than Sign\n",
                "\n",
                "i = 2\n",
                "i > 5"
            ]
        },
        {
            "cell_type": "markdown",
            "metadata": {
                "id": "lmGkXdAlTzjQ"
            },
            "source": [
                "Affichons quelques valeurs pour <code>i</code> dans la figure. D\u00e9finissez les valeurs sup\u00e9rieures \u00e0 5 en vert et le reste en rouge. La r\u00e9gion verte repr\u00e9sente l'endroit o\u00f9 la condition est **Vrai**, le rouge o\u00f9 l'\u00e9nonc\u00e9 est **Faux**. Si la valeur de <code>i</code> est 2, nous obtenons **False** car le 2 tombe dans la r\u00e9gion rouge. De m\u00eame, si la valeur de <code>i</code> est 6, nous obtenons un **True** car la condition tombe dans la r\u00e9gion verte.\n"
            ]
        },
        {
            "cell_type": "markdown",
            "metadata": {
                "id": "UX28JkbPTzjQ"
            },
            "source": [
                "<img src=\"https://s3-api.us-geo.objectstorage.softlayer.net/cf-courses-data/CognitiveClass/PY0101EN/Chapter%203/Images/CondsGreater.gif\" width=\"650\" />\n"
            ]
        },
        {
            "cell_type": "markdown",
            "metadata": {
                "id": "JMrg3kCETzjR"
            },
            "source": [
                "Le test d'in\u00e9galit\u00e9 utilise un point d'exclamation pr\u00e9c\u00e9dant le signe \u00e9gal, si deux op\u00e9randes ne sont pas \u00e9gaux alors la condition devient **True**. Par exemple, la condition suivante produira **True** tant que la valeur de <code>i</code> n'est pas \u00e9gale \u00e0 6\u00a0:\n"
            ]
        },
        {
            "cell_type": "code",
            "execution_count": null,
            "metadata": {
                "id": "PYMCwNqCTzjR"
            },
            "outputs": [],
            "source": [
                "# Inequality Sign\n",
                "\n",
                "i = 2\n",
                "i != 6"
            ]
        },
        {
            "cell_type": "markdown",
            "metadata": {
                "id": "-FBLKV3VTzjR"
            },
            "source": [
                "Lorsque <code>i</code> est \u00e9gal \u00e0 6, l'expression d'in\u00e9galit\u00e9 produit <b>False</b>.\n"
            ]
        },
        {
            "cell_type": "code",
            "execution_count": null,
            "metadata": {
                "id": "OqXz1Lv_TzjR"
            },
            "outputs": [],
            "source": [
                "# Inequality Sign\n",
                "\n",
                "i = 6\n",
                "i != 6"
            ]
        },
        {
            "cell_type": "markdown",
            "metadata": {
                "id": "5w32CxTyTzjS"
            },
            "source": [
                "Voir la ligne num\u00e9rique ci-dessous. lorsque la condition est **Vraie**, les num\u00e9ros correspondants sont marqu\u00e9s en vert et lorsque la condition est **Faux**, le num\u00e9ro correspondant est marqu\u00e9 en rouge. Si nous d\u00e9finissons <code>i</code> \u00e9gal \u00e0 2, l'op\u00e9rateur est vrai car 2 est dans la r\u00e9gion verte. Si nous d\u00e9finissons <code>i</code> \u00e9gal \u00e0 6, nous obtenons un **Faux** car la condition tombe dans la r\u00e9gion rouge.\n"
            ]
        },
        {
            "cell_type": "markdown",
            "metadata": {
                "id": "-9mwAaO-TzjS"
            },
            "source": [
                "<img src=\"https://s3-api.us-geo.objectstorage.softlayer.net/cf-courses-data/CognitiveClass/PY0101EN/Chapter%203/Images/CondsIneq.gif\" width=\"650\" />\n"
            ]
        },
        {
            "cell_type": "markdown",
            "metadata": {
                "id": "_VnY6dFeTzjS"
            },
            "source": [
                "Nous pouvons appliquer les m\u00eames m\u00e9thodes sur les cha\u00eenes. Par exemple, utilisez un op\u00e9rateur d'\u00e9galit\u00e9 sur deux cha\u00eenes diff\u00e9rentes. Comme les cha\u00eenes ne sont pas \u00e9gales, nous obtenons un **False**.\n"
            ]
        },
        {
            "cell_type": "code",
            "execution_count": null,
            "metadata": {
                "id": "ws8Th5RbTzjS"
            },
            "outputs": [],
            "source": [
                "# Use Equality sign to compare the strings\n",
                "\n",
                "\"ACDC\" == \"Michael Jackson\""
            ]
        },
        {
            "cell_type": "markdown",
            "metadata": {
                "id": "Gg9rnIyfTzjS"
            },
            "source": [
                "Si nous utilisons l'op\u00e9rateur d'in\u00e9galit\u00e9, la sortie sera **True** car les cha\u00eenes ne sont pas \u00e9gales.\n"
            ]
        },
        {
            "cell_type": "code",
            "execution_count": null,
            "metadata": {
                "id": "3rkxneCfTzjT"
            },
            "outputs": [],
            "source": [
                "# Use Inequality sign to compare the strings\n",
                "\n",
                "\"ACDC\" != \"Michael Jackson\""
            ]
        },
        {
            "cell_type": "markdown",
            "metadata": {
                "id": "vs97j-q8TzjT"
            },
            "source": [
                "L'op\u00e9ration d'in\u00e9galit\u00e9 est \u00e9galement utilis\u00e9e pour comparer les lettres/mots/symboles selon la valeur ASCII des lettres. La valeur d\u00e9cimale indiqu\u00e9e dans le tableau suivant repr\u00e9sente l'ordre du caract\u00e8re\u00a0:\n"
            ]
        },
        {
            "cell_type": "markdown",
            "metadata": {
                "id": "RWsFAjPlTzjT"
            },
            "source": [
                "Par exemple, le code ASCII pour <b>!</b> est 21, tandis que le code ASCII pour <b>+</b> est 43. Par cons\u00e9quent, <b>+</b> est plus grand que <b>\u00a0! </b> car 43 est sup\u00e9rieur \u00e0 21.\n"
            ]
        },
        {
            "cell_type": "markdown",
            "metadata": {
                "id": "U-BT9jE3TzjT"
            },
            "source": [
                "De m\u00eame, la valeur de <b>A</b> est 101, et la valeur de <b>B</b> est 102 donc\u00a0:\n"
            ]
        },
        {
            "cell_type": "code",
            "execution_count": null,
            "metadata": {
                "id": "T6x86ES6TzjT"
            },
            "outputs": [],
            "source": [
                "# Compare characters\n",
                "\n",
                "'B' > 'A'"
            ]
        },
        {
            "cell_type": "markdown",
            "metadata": {
                "id": "tPrKVKfxTzjU"
            },
            "source": [
                "Lorsqu'il y a plusieurs lettres, la premi\u00e8re lettre pr\u00e9vaut dans l'ordre\u00a0:\n"
            ]
        },
        {
            "cell_type": "code",
            "execution_count": null,
            "metadata": {
                "id": "ICOZl-aITzjU"
            },
            "outputs": [],
            "source": [
                "# Compare characters\n",
                "\n",
                "'BA' > 'AB'"
            ]
        },
        {
            "cell_type": "markdown",
            "metadata": {
                "id": "ReC1wg5tTzjU"
            },
            "source": [
                "<b>Remarque</b>\u00a0: les lettres majuscules ont un code ASCII diff\u00e9rent des lettres minuscules, ce qui signifie que la comparaison entre les lettres en python est sensible \u00e0 la casse.\n"
            ]
        },
        {
            "cell_type": "markdown",
            "metadata": {
                "id": "0VBed2C-2fJW"
            },
            "source": [
                "#### Inf\u00e9rieur ou \u00e9gal \u00e0\n"
            ]
        },
        {
            "cell_type": "code",
            "execution_count": null,
            "metadata": {
                "id": "F91CFgWv2fJW",
                "outputId": "3a9b6488-5450-4bca-d18c-ee3569c17bc6"
            },
            "outputs": [
                {
                    "data": {
                        "text/plain": [
                            "True"
                        ]
                    },
                    "execution_count": 11,
                    "metadata": {},
                    "output_type": "execute_result"
                }
            ],
            "source": [
                "2 <= 2"
            ]
        },
        {
            "cell_type": "code",
            "execution_count": null,
            "metadata": {
                "id": "jQAY5XdS2fJX",
                "outputId": "6f5bf439-9d9b-45dd-b342-588d4167d564"
            },
            "outputs": [
                {
                    "data": {
                        "text/plain": [
                            "True"
                        ]
                    },
                    "execution_count": 12,
                    "metadata": {},
                    "output_type": "execute_result"
                }
            ],
            "source": [
                "2 <= 4"
            ]
        },
        {
            "cell_type": "markdown",
            "metadata": {
                "id": "GqJvSleb2fJX"
            },
            "source": [
                "**Super! Passez en revue chaque op\u00e9rateur de comparaison pour vous assurer que vous comprenez ce que chacun dit. Mais j'esp\u00e8re que cela a \u00e9t\u00e9 simple pour vous. **\n",
                "\n",
                "Ensuite, nous couvrirons les op\u00e9rateurs de comparaison cha\u00een\u00e9s\n"
            ]
        },
        {
            "cell_type": "markdown",
            "metadata": {
                "id": "zATszhSJ2fJW"
            },
            "source": [
                "#### Plus grand ou \u00e9gal \u00e0\n"
            ]
        },
        {
            "cell_type": "code",
            "execution_count": null,
            "metadata": {
                "id": "YJPqM18b2fJW",
                "outputId": "5a27cd2c-32d1-4ec2-9418-d951b7873247"
            },
            "outputs": [
                {
                    "data": {
                        "text/plain": [
                            "True"
                        ]
                    },
                    "execution_count": 9,
                    "metadata": {},
                    "output_type": "execute_result"
                }
            ],
            "source": [
                "2 >= 2"
            ]
        },
        {
            "cell_type": "code",
            "execution_count": null,
            "metadata": {
                "id": "nxu3Q2oa2fJW",
                "outputId": "1e21c164-9166-488e-fb48-2a9b90340d48"
            },
            "outputs": [
                {
                    "data": {
                        "text/plain": [
                            "True"
                        ]
                    },
                    "execution_count": 10,
                    "metadata": {},
                    "output_type": "execute_result"
                }
            ],
            "source": [
                "2 >= 1"
            ]
        },
        {
            "cell_type": "markdown",
            "metadata": {
                "id": "TlYeUINn2fJV"
            },
            "source": [
                "#### Moins que\n"
            ]
        },
        {
            "cell_type": "code",
            "execution_count": null,
            "metadata": {
                "id": "NnpgcdvF2fJV",
                "outputId": "f45b15ab-0667-4de6-91ee-7e542597824c"
            },
            "outputs": [
                {
                    "data": {
                        "text/plain": [
                            "True"
                        ]
                    },
                    "execution_count": 7,
                    "metadata": {},
                    "output_type": "execute_result"
                }
            ],
            "source": [
                "2 < 4"
            ]
        },
        {
            "cell_type": "code",
            "execution_count": null,
            "metadata": {
                "id": "NXBTqkTV2fJV",
                "outputId": "9db18d4f-143d-4112-f75e-0bb141be5771"
            },
            "outputs": [
                {
                    "data": {
                        "text/plain": [
                            "False"
                        ]
                    },
                    "execution_count": 8,
                    "metadata": {},
                    "output_type": "execute_result"
                }
            ],
            "source": [
                "2 < 1"
            ]
        },
        {
            "cell_type": "markdown",
            "metadata": {
                "id": "l2_-R40K2fJS"
            },
            "source": [
                "#### Plus grand que\n"
            ]
        },
        {
            "cell_type": "code",
            "execution_count": null,
            "metadata": {
                "id": "Gfk3FkxA2fJS",
                "outputId": "02e3e293-539c-44d4-e7d8-e0ef4eca0116"
            },
            "outputs": [
                {
                    "data": {
                        "text/plain": [
                            "True"
                        ]
                    },
                    "execution_count": 5,
                    "metadata": {},
                    "output_type": "execute_result"
                }
            ],
            "source": [
                "2 > 1"
            ]
        },
        {
            "cell_type": "code",
            "execution_count": null,
            "metadata": {
                "id": "V8CcmEn72fJT",
                "outputId": "c028decd-5fc7-458e-acd0-0e6ad924f400"
            },
            "outputs": [
                {
                    "data": {
                        "text/plain": [
                            "False"
                        ]
                    },
                    "execution_count": 6,
                    "metadata": {},
                    "output_type": "execute_result"
                }
            ],
            "source": [
                "2 > 4"
            ]
        },
        {
            "cell_type": "markdown",
            "metadata": {
                "id": "wyxUPi3S2fJQ"
            },
            "source": [
                "#### In\u00e9gal\n"
            ]
        },
        {
            "cell_type": "code",
            "execution_count": null,
            "metadata": {
                "id": "E1oaNIye2fJR",
                "outputId": "0ae774ce-2444-4091-e179-a504ab2a0f3a"
            },
            "outputs": [
                {
                    "data": {
                        "text/plain": [
                            "True"
                        ]
                    },
                    "execution_count": 3,
                    "metadata": {},
                    "output_type": "execute_result"
                }
            ],
            "source": [
                "2 != 1"
            ]
        },
        {
            "cell_type": "code",
            "execution_count": null,
            "metadata": {
                "id": "5o5KhBDP2fJS",
                "outputId": "339a101c-dcff-40dc-ca90-64f3e5f1702d"
            },
            "outputs": [
                {
                    "data": {
                        "text/plain": [
                            "False"
                        ]
                    },
                    "execution_count": 4,
                    "metadata": {},
                    "output_type": "execute_result"
                }
            ],
            "source": [
                "2 != 2"
            ]
        },
        {
            "cell_type": "markdown",
            "metadata": {
                "id": "0lDxdYhy2fJJ"
            },
            "source": [
                "Passons maintenant \u00e0 des exemples rapides de chacun d'entre eux.\n",
                "\n",
                "#### \u00c9gal\n"
            ]
        },
        {
            "cell_type": "code",
            "execution_count": null,
            "metadata": {
                "id": "3w2uP3ol2fJK",
                "outputId": "4c095a4c-452a-4459-d5ba-df04e66841a1"
            },
            "outputs": [
                {
                    "data": {
                        "text/plain": [
                            "True"
                        ]
                    },
                    "execution_count": 1,
                    "metadata": {},
                    "output_type": "execute_result"
                }
            ],
            "source": [
                "2 == 2"
            ]
        },
        {
            "cell_type": "code",
            "execution_count": null,
            "metadata": {
                "id": "AlVGgyYA2fJK",
                "outputId": "02bec6c2-aca2-4b1c-aaef-4275f8d87bc5"
            },
            "outputs": [
                {
                    "data": {
                        "text/plain": [
                            "False"
                        ]
                    },
                    "execution_count": 2,
                    "metadata": {},
                    "output_type": "execute_result"
                }
            ],
            "source": [
                "1 == 0"
            ]
        },
        {
            "cell_type": "markdown",
            "metadata": {
                "id": "zPkgVmkd2fJQ"
            },
            "source": [
                "Notez que <code>==</code> est un op\u00e9rateur de <em>comparaison</em>, tandis que <code>=</code> est un op\u00e9rateur d'<em>affectation</em>.\n"
            ]
        }
    ],
    "metadata": {
        "kernelspec": {
            "display_name": "Python 3",
            "language": "python",
            "name": "python3"
        },
        "language_info": {
            "codemirror_mode": {
                "name": "ipython",
                "version": 3
            },
            "file_extension": ".py",
            "mimetype": "text/x-python",
            "name": "python",
            "nbconvert_exporter": "python",
            "pygments_lexer": "ipython3",
            "version": "3.6.6"
        }
    },
    "nbformat": 4,
    "nbformat_minor": 0
}