{
    "cells": [
        {
            "cell_type": "markdown",
            "metadata": {
                "id": "view-in-github",
                "colab_type": "text"
            },
            "source": [
                "<a href=\"https://colab.research.google.com/github/yahia-kplr/Fondamentaux-Python_fr/blob/main/Jour_02/07-Chained_Comparison_Operators.ipynb\" target=\"_blank\"><img src=\"https://colab.research.google.com/assets/colab-badge.svg\" alt=\"Open In Colab\"/></a>"
            ]
        },
        {
            "cell_type": "markdown",
            "metadata": {
                "id": "Z8SHHclLTzjY"
            },
            "source": [
                "## Op\u00e9rateurs logiques\n"
            ]
        },
        {
            "cell_type": "markdown",
            "metadata": {
                "id": "P3IiCyCCTzjY"
            },
            "source": [
                "\n",
                "Parfois, vous souhaitez v\u00e9rifier plusieurs conditions \u00e0 la fois. Par exemple, vous voudrez peut-\u00eatre v\u00e9rifier si une condition et une autre condition sont **Vraies**. Les op\u00e9rateurs logiques permettent de combiner ou de modifier des conditions.\n",
                "<ul>\n",
                "<li><code>et</code></li>\n",
                "<li><code>ou</code></li>\n",
                "<li><code>non</code></li>\n",
                "</ul>\n",
                "\n",
                "Ces op\u00e9rateurs sont r\u00e9sum\u00e9s pour deux variables \u00e0 l'aide des tables de v\u00e9rit\u00e9 suivantes\u00a0:\n"
            ]
        },
        {
            "cell_type": "markdown",
            "metadata": {
                "id": "50mBryOcTzjZ"
            },
            "source": [
                "<img src=\"https://s3-api.us-geo.objectstorage.softlayer.net/cf-courses-data/CognitiveClass/PY0101EN/Chapter%203/Images/CondsTable.png\" width=\"650\" />\n"
            ]
        },
        {
            "cell_type": "markdown",
            "metadata": {
                "id": "DPoTVLWwTzja"
            },
            "source": [
                "L'instruction <code>and</code> est uniquement **True** lorsque les deux conditions sont vraies. L'instruction <code>or</code> est vraie si une condition est **True**. L'instruction <code>not</code> g\u00e9n\u00e8re la valeur de v\u00e9rit\u00e9 oppos\u00e9e.\n"
            ]
        },
        {
            "cell_type": "markdown",
            "metadata": {
                "id": "tgrsVeYyTzja"
            },
            "source": [
                "Voyons comment d\u00e9terminer si un album est sorti apr\u00e8s 1979 (1979 n'est pas inclus) et avant 1990 (1990 n'est pas inclus). Les p\u00e9riodes comprises entre 1980 et 1989 satisfont \u00e0 cette condition. Ceci est d\u00e9montr\u00e9 dans la figure ci-dessous. Le vert sur les lignes <strong>a</strong> et <strong>b</strong> repr\u00e9sente les p\u00e9riodes o\u00f9 l'\u00e9nonc\u00e9 est **Vrai**. Le vert sur la ligne <strong>c</strong> repr\u00e9sente l'endroit o\u00f9 les deux conditions sont **Vrai**, cela correspond \u00e0 l'endroit o\u00f9 les r\u00e9gions vertes se chevauchent.\n",
                "\n"
            ]
        },
        {
            "cell_type": "markdown",
            "metadata": {
                "id": "P319s_4VTzja"
            },
            "source": [
                "<img src=\"https://s3-api.us-geo.objectstorage.softlayer.net/cf-courses-data/CognitiveClass/PY0101EN/Chapter%203/Images/CondsEgOne.png\" width=\"650\" />\n"
            ]
        },
        {
            "cell_type": "markdown",
            "metadata": {
                "id": "qlRLmxNETzja"
            },
            "source": [
                "Le bloc de code pour effectuer cette v\u00e9rification est donn\u00e9 par :\n"
            ]
        },
        {
            "cell_type": "code",
            "execution_count": null,
            "metadata": {
                "id": "Dp3rYbA9Tzja"
            },
            "outputs": [],
            "source": [
                "\n",
                "album_year = input('Album year :')\n",
                "\n",
                "result = (album_year > 1979) and (album_year < 1990)\n",
                "print(result)"
            ]
        },
        {
            "cell_type": "markdown",
            "metadata": {
                "id": "7VuxLZx0Tzja"
            },
            "source": [
                "Pour d\u00e9terminer si un album est sorti avant 1980 (~ - 1979) ou apr\u00e8s 1989 (1990 - ~), une instruction **ou** peut \u00eatre utilis\u00e9e. Les p\u00e9riodes ant\u00e9rieures \u00e0 1980 (~ - 1979) ou post\u00e9rieures \u00e0 1989 (1990 - ~) satisfont \u00e0 cette condition. Ceci est d\u00e9montr\u00e9 dans la figure suivante, la couleur verte dans <strong>a</strong> et <strong>b</strong> repr\u00e9sente les p\u00e9riodes o\u00f9 l'\u00e9nonc\u00e9 est vrai. La couleur verte dans **c** repr\u00e9sente o\u00f9 au moins une des conditions\n",
                "sont vrai.\n"
            ]
        },
        {
            "cell_type": "markdown",
            "metadata": {
                "id": "2ixUCld2Tzjb"
            },
            "source": [
                "<img src=\"https://s3-api.us-geo.objectstorage.softlayer.net/cf-courses-data/CognitiveClass/PY0101EN/Chapter%203/Images/CondsEgTwo.png\" width=\"650\" />\n"
            ]
        },
        {
            "cell_type": "markdown",
            "metadata": {
                "id": "-j4rd8ExTzjc"
            },
            "source": [
                "<h>\n"
            ]
        }
    ],
    "metadata": {
        "kernelspec": {
            "display_name": "Python 3",
            "language": "python",
            "name": "python3"
        },
        "language_info": {
            "codemirror_mode": {
                "name": "ipython",
                "version": 3
            },
            "file_extension": ".py",
            "mimetype": "text/x-python",
            "name": "python",
            "nbconvert_exporter": "python",
            "pygments_lexer": "ipython3",
            "version": "3.6.6"
        }
    },
    "nbformat": 4,
    "nbformat_minor": 0
}