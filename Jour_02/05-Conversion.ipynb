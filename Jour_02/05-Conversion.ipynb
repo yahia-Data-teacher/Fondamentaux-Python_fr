{
    "cells": [
        {
            "cell_type": "markdown",
            "metadata": {
                "id": "view-in-github",
                "colab_type": "text"
            },
            "source": [
                "<a href=\"https://colab.research.google.com/github/yahia-kplr/Fondamentaux-Python_fr/blob/main/Jour_02/05-Conversion.ipynb\" target=\"_blank\"><img src=\"https://colab.research.google.com/assets/colab-badge.svg\" alt=\"Open In Colab\"/></a>"
            ]
        },
        {
            "cell_type": "markdown",
            "id": "6ece5500",
            "metadata": {},
            "source": [
                "# Conversion de structures de donn\u00e9es / NEED-TO-KNOW\n"
            ]
        },
        {
            "cell_type": "markdown",
            "id": "90660e42",
            "metadata": {},
            "source": [
                "### Comment convertir en une structure de donn\u00e9es\n",
                "\n",
                "- `liste()`\n",
                "- `dict()`\n",
                "- `tuple()`\n",
                "- `set()`\n"
            ]
        },
        {
            "cell_type": "code",
            "execution_count": 1,
            "id": "bd2f74e9",
            "metadata": {},
            "outputs": [
                {
                    "data": {
                        "text/plain": [
                            "[1, 2, 3, 4, 5]"
                        ]
                    },
                    "execution_count": 1,
                    "metadata": {},
                    "output_type": "execute_result"
                }
            ],
            "source": [
                "l = [1, 2, 3, 4, 5]\n",
                "l"
            ]
        },
        {
            "cell_type": "code",
            "execution_count": 2,
            "id": "6d7f7197",
            "metadata": {},
            "outputs": [],
            "source": [
                "t = tuple(l)"
            ]
        },
        {
            "cell_type": "code",
            "execution_count": 3,
            "id": "64d1ed35",
            "metadata": {},
            "outputs": [
                {
                    "data": {
                        "text/plain": [
                            "(1, 2, 3, 4, 5)"
                        ]
                    },
                    "execution_count": 3,
                    "metadata": {},
                    "output_type": "execute_result"
                }
            ],
            "source": [
                "t"
            ]
        },
        {
            "cell_type": "code",
            "execution_count": 4,
            "id": "2a666b60",
            "metadata": {},
            "outputs": [
                {
                    "data": {
                        "text/plain": [
                            "[1, 2, 3, 4, 5]"
                        ]
                    },
                    "execution_count": 4,
                    "metadata": {},
                    "output_type": "execute_result"
                }
            ],
            "source": [
                "l"
            ]
        },
        {
            "cell_type": "code",
            "execution_count": 5,
            "id": "20e99d5e",
            "metadata": {},
            "outputs": [
                {
                    "ename": "TypeError",
                    "evalue": "'tuple' object does not support item assignment",
                    "output_type": "error",
                    "traceback": [
                        "\u001b[0;31m---------------------------------------------------------------------------\u001b[0m",
                        "\u001b[0;31mTypeError\u001b[0m                                 Traceback (most recent call last)",
                        "\u001b[0;32m/var/folders/5f/vgbh9pkd4wzf4ysrpf9wsr800000gn/T/ipykernel_46516/2503569305.py\u001b[0m in \u001b[0;36m<module>\u001b[0;34m\u001b[0m\n\u001b[0;32m----> 1\u001b[0;31m \u001b[0mt\u001b[0m\u001b[0;34m[\u001b[0m\u001b[0;36m0\u001b[0m\u001b[0;34m]\u001b[0m \u001b[0;34m=\u001b[0m \u001b[0;34m'Zero'\u001b[0m\u001b[0;34m\u001b[0m\u001b[0;34m\u001b[0m\u001b[0m\n\u001b[0m",
                        "\u001b[0;31mTypeError\u001b[0m: 'tuple' object does not support item assignment"
                    ]
                }
            ],
            "source": [
                "t[0] = 'Zero'"
            ]
        },
        {
            "cell_type": "code",
            "execution_count": 6,
            "id": "1391bf1a",
            "metadata": {},
            "outputs": [],
            "source": [
                "l[0] = 'Zero'"
            ]
        },
        {
            "cell_type": "code",
            "execution_count": 7,
            "id": "2662d206",
            "metadata": {},
            "outputs": [
                {
                    "data": {
                        "text/plain": [
                            "(1, 2, 3, 4, 5)"
                        ]
                    },
                    "execution_count": 7,
                    "metadata": {},
                    "output_type": "execute_result"
                }
            ],
            "source": [
                "t"
            ]
        },
        {
            "cell_type": "code",
            "execution_count": 8,
            "id": "fdf08ef4",
            "metadata": {},
            "outputs": [
                {
                    "data": {
                        "text/plain": [
                            "['Zero', 2, 3, 4, 5]"
                        ]
                    },
                    "execution_count": 8,
                    "metadata": {},
                    "output_type": "execute_result"
                }
            ],
            "source": [
                "l"
            ]
        },
        {
            "cell_type": "code",
            "execution_count": 9,
            "id": "27386873",
            "metadata": {},
            "outputs": [
                {
                    "data": {
                        "text/plain": [
                            "{1, 2, 3}"
                        ]
                    },
                    "execution_count": 9,
                    "metadata": {},
                    "output_type": "execute_result"
                }
            ],
            "source": [
                "l = [1, 1, 1, 2, 2, 3, 3, 1, 1]\n",
                "s = set(l)\n",
                "s"
            ]
        },
        {
            "cell_type": "markdown",
            "id": "c7a28ee1",
            "metadata": {},
            "source": [
                "### Fermeture \u00e9clair\n",
                "\n",
                "Vous pouvez compresser deux listes ensemble.\n",
                "\n",
                "```Python\n",
                "z = zip([1, 2], [3, 4])\n",
                "```\n"
            ]
        },
        {
            "cell_type": "code",
            "execution_count": 10,
            "id": "5e29a486",
            "metadata": {},
            "outputs": [],
            "source": [
                "z = zip([1, 2], [3, 4])"
            ]
        },
        {
            "cell_type": "code",
            "execution_count": 11,
            "id": "df5e9f7b",
            "metadata": {},
            "outputs": [
                {
                    "data": {
                        "text/plain": [
                            "<zip at 0x7fd47b037dc0>"
                        ]
                    },
                    "execution_count": 11,
                    "metadata": {},
                    "output_type": "execute_result"
                }
            ],
            "source": [
                "z"
            ]
        },
        {
            "cell_type": "code",
            "execution_count": 12,
            "id": "6eb80bd9",
            "metadata": {},
            "outputs": [
                {
                    "data": {
                        "text/plain": [
                            "[(1, 3), (2, 4)]"
                        ]
                    },
                    "execution_count": 12,
                    "metadata": {},
                    "output_type": "execute_result"
                }
            ],
            "source": [
                "l = list(z)\n",
                "l"
            ]
        },
        {
            "cell_type": "code",
            "execution_count": 13,
            "id": "4a98938e",
            "metadata": {},
            "outputs": [
                {
                    "data": {
                        "text/plain": [
                            "{'Name': 'Charles', 'Age': 24}"
                        ]
                    },
                    "execution_count": 13,
                    "metadata": {},
                    "output_type": "execute_result"
                }
            ],
            "source": [
                "l1 = ['Name', 'Age']\n",
                "l2 = ['Charles', 24]\n",
                "\n",
                "d = dict(zip(l1, l2))\n",
                "d"
            ]
        },
        {
            "cell_type": "code",
            "execution_count": null,
            "id": "d2328994",
            "metadata": {},
            "outputs": [],
            "source": []
        }
    ],
    "metadata": {
        "kernelspec": {
            "display_name": "Python 3 (ipykernel)",
            "language": "python",
            "name": "python3"
        },
        "language_info": {
            "codemirror_mode": {
                "name": "ipython",
                "version": 3
            },
            "file_extension": ".py",
            "mimetype": "text/x-python",
            "name": "python",
            "nbconvert_exporter": "python",
            "pygments_lexer": "ipython3",
            "version": "3.9.13"
        }
    },
    "nbformat": 4,
    "nbformat_minor": 5
}