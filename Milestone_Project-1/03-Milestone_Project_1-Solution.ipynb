{
    "cells": [
        {
            "cell_type": "markdown",
            "metadata": {
                "id": "view-in-github",
                "colab_type": "text"
            },
            "source": [
                "<a href=\"https://colab.research.google.com/github/yahia-kplr/Fondamentaux-Python_fr/blob/main/Milestone_Project-1/03-Milestone_Project_1-Solution.ipynb\" target=\"_blank\"><img src=\"https://colab.research.google.com/assets/colab-badge.svg\" alt=\"Open In Colab\"/></a>"
            ]
        },
        {
            "cell_type": "markdown",
            "metadata": {},
            "source": [
                "# Milestone Project 1: Full Walk-through Code Solution\n",
                "\n",
                "Below is the filled in code that goes along with the complete walk-through video. Check out the corresponding lecture videos for more information on this code!"
            ]
        },
        {
            "cell_type": "markdown",
            "metadata": {},
            "source": [
                "**\u00c9tape 1 : \u00e9crivez une fonction qui peut imprimer un tableau. Configurez votre tableau sous forme de liste, o\u00f9 chaque index 1-9 correspond \u00e0 un num\u00e9ro sur un pav\u00e9 num\u00e9rique, de sorte que vous obtenez une repr\u00e9sentation du tableau 3 par 3.**\n"
            ]
        },
        {
            "cell_type": "code",
            "execution_count": 1,
            "metadata": {
                "collapsed": true
            },
            "outputs": [],
            "source": [
                "from IPython.display import clear_output\n",
                "\n",
                "def display_board(board):\n",
                "    clear_output()  # Remember, this only works in jupyter!\n",
                "    \n",
                "    print('   |   |')\n",
                "    print(' ' + board[7] + ' | ' + board[8] + ' | ' + board[9])\n",
                "    print('   |   |')\n",
                "    print('-----------')\n",
                "    print('   |   |')\n",
                "    print(' ' + board[4] + ' | ' + board[5] + ' | ' + board[6])\n",
                "    print('   |   |')\n",
                "    print('-----------')\n",
                "    print('   |   |')\n",
                "    print(' ' + board[1] + ' | ' + board[2] + ' | ' + board[3])\n",
                "    print('   |   |')"
            ]
        },
        {
            "cell_type": "markdown",
            "metadata": {},
            "source": [
                "**TEST \u00c9tape 1\u00a0:** ex\u00e9cutez votre fonction sur une version test de la liste des cartes et effectuez les ajustements n\u00e9cessaires\n"
            ]
        },
        {
            "cell_type": "code",
            "execution_count": 2,
            "metadata": {},
            "outputs": [
                {
                    "name": "stdout",
                    "output_type": "stream",
                    "text": [
                        "   |   |\n",
                        " X | O | X\n",
                        "   |   |\n",
                        "-----------\n",
                        "   |   |\n",
                        " O | X | O\n",
                        "   |   |\n",
                        "-----------\n",
                        "   |   |\n",
                        " X | O | X\n",
                        "   |   |\n"
                    ]
                }
            ],
            "source": [
                "test_board = ['#','X','O','X','O','X','O','X','O','X']\n",
                "display_board(test_board)"
            ]
        },
        {
            "cell_type": "markdown",
            "metadata": {},
            "source": [
                "**\u00c9tape 2\u00a0: \u00e9crivez une fonction qui peut prendre en compte l'entr\u00e9e d'un joueur et attribuer son marqueur comme \u00ab\u00a0X\u00a0\u00bb ou \u00ab\u00a0O\u00a0\u00bb. Pensez \u00e0 utiliser des boucles *while* pour demander continuellement jusqu'\u00e0 ce que vous obteniez une r\u00e9ponse correcte.**\n"
            ]
        },
        {
            "cell_type": "code",
            "execution_count": 3,
            "metadata": {
                "collapsed": true
            },
            "outputs": [],
            "source": [
                "def player_input():\n",
                "    marker = ''\n",
                "    \n",
                "    while not (marker == 'X' or marker == 'O'):\n",
                "        marker = input('Player 1: Do you want to be X or O? ').upper()\n",
                "\n",
                "    if marker == 'X':\n",
                "        return ('X', 'O')\n",
                "    else:\n",
                "        return ('O', 'X')"
            ]
        },
        {
            "cell_type": "markdown",
            "metadata": {},
            "source": [
                "**TEST \u00c9tape\u00a02\u00a0:** ex\u00e9cutez la fonction pour vous assurer qu'elle renvoie la sortie souhait\u00e9e\n"
            ]
        },
        {
            "cell_type": "code",
            "execution_count": 4,
            "metadata": {},
            "outputs": [
                {
                    "name": "stdout",
                    "output_type": "stream",
                    "text": [
                        "Player 1: Do you want to be X or O? X\n"
                    ]
                },
                {
                    "data": {
                        "text/plain": [
                            "('X', 'O')"
                        ]
                    },
                    "execution_count": 4,
                    "metadata": {},
                    "output_type": "execute_result"
                }
            ],
            "source": [
                "player_input()"
            ]
        },
        {
            "cell_type": "markdown",
            "metadata": {},
            "source": [
                "**\u00c9tape 3\u00a0: \u00e9crivez une fonction qui prend dans l'objet de la liste du tableau, un marqueur (\"X\" ou \"O\") et une position souhait\u00e9e (num\u00e9ro 1-9) et l'affecte au tableau.**\n"
            ]
        },
        {
            "cell_type": "code",
            "execution_count": 5,
            "metadata": {
                "collapsed": true
            },
            "outputs": [],
            "source": [
                "def place_marker(board, marker, position):\n",
                "    board[position] = marker"
            ]
        },
        {
            "cell_type": "markdown",
            "metadata": {},
            "source": [
                "**TEST \u00c9tape\u00a03\u00a0:** ex\u00e9cutez la fonction de marqueur de lieu \u00e0 l'aide des param\u00e8tres de test et affichez le tableau modifi\u00e9\n"
            ]
        },
        {
            "cell_type": "code",
            "execution_count": 6,
            "metadata": {},
            "outputs": [
                {
                    "name": "stdout",
                    "output_type": "stream",
                    "text": [
                        "   |   |\n",
                        " X | $ | X\n",
                        "   |   |\n",
                        "-----------\n",
                        "   |   |\n",
                        " O | X | O\n",
                        "   |   |\n",
                        "-----------\n",
                        "   |   |\n",
                        " X | O | X\n",
                        "   |   |\n"
                    ]
                }
            ],
            "source": [
                "place_marker(test_board,'$',8)\n",
                "display_board(test_board)"
            ]
        },
        {
            "cell_type": "markdown",
            "metadata": {},
            "source": [
                "**\u00c9tape 4 : \u00e9crivez une fonction qui prend un tableau et v\u00e9rifie si quelqu'un a gagn\u00e9. **\n"
            ]
        },
        {
            "cell_type": "code",
            "execution_count": 7,
            "metadata": {
                "collapsed": true
            },
            "outputs": [],
            "source": [
                "def win_check(board,mark):\n",
                "    \n",
                "    return ((board[7] == mark and board[8] == mark and board[9] == mark) or # across the top\n",
                "    (board[4] == mark and board[5] == mark and board[6] == mark) or # across the middle\n",
                "    (board[1] == mark and board[2] == mark and board[3] == mark) or # across the bottom\n",
                "    (board[7] == mark and board[4] == mark and board[1] == mark) or # down the middle\n",
                "    (board[8] == mark and board[5] == mark and board[2] == mark) or # down the middle\n",
                "    (board[9] == mark and board[6] == mark and board[3] == mark) or # down the right side\n",
                "    (board[7] == mark and board[5] == mark and board[3] == mark) or # diagonal\n",
                "    (board[9] == mark and board[5] == mark and board[1] == mark)) # diagonal"
            ]
        },
        {
            "cell_type": "markdown",
            "metadata": {},
            "source": [
                "**TEST Step 4:** ex\u00e9cutez la fonction win_check sur notre test_board - elle devrait renvoyer True\n"
            ]
        },
        {
            "cell_type": "code",
            "execution_count": 8,
            "metadata": {},
            "outputs": [
                {
                    "data": {
                        "text/plain": [
                            "True"
                        ]
                    },
                    "execution_count": 8,
                    "metadata": {},
                    "output_type": "execute_result"
                }
            ],
            "source": [
                "win_check(test_board,'X')"
            ]
        },
        {
            "cell_type": "markdown",
            "metadata": {},
            "source": [
                "**\u00c9tape 5\u00a0: \u00e9crivez une fonction qui utilise le module al\u00e9atoire pour d\u00e9cider au hasard quel joueur jouera en premier. Vous voudrez peut-\u00eatre rechercher random.randint() Renvoie une cha\u00eene indiquant quel joueur est pass\u00e9 en premier.**\n"
            ]
        },
        {
            "cell_type": "code",
            "execution_count": 9,
            "metadata": {
                "collapsed": true
            },
            "outputs": [],
            "source": [
                "import random\n",
                "\n",
                "def choose_first():\n",
                "    if random.randint(0, 1) == 0:\n",
                "        return 'Player 2'\n",
                "    else:\n",
                "        return 'Player 1'"
            ]
        },
        {
            "cell_type": "markdown",
            "metadata": {},
            "source": [
                "**\u00c9tape\u00a06\u00a0: \u00e9crivez une fonction qui renvoie un bool\u00e9en indiquant si un espace sur le tableau est librement disponible.**\n"
            ]
        },
        {
            "cell_type": "code",
            "execution_count": 10,
            "metadata": {
                "collapsed": true
            },
            "outputs": [],
            "source": [
                "def space_check(board, position):\n",
                "    \n",
                "    return board[position] == ' '"
            ]
        },
        {
            "cell_type": "markdown",
            "metadata": {},
            "source": [
                "**\u00c9tape 7\u00a0: \u00e9crivez une fonction qui v\u00e9rifie si la carte est pleine et renvoie une valeur bool\u00e9enne. Vrai si plein, Faux sinon.**\n"
            ]
        },
        {
            "cell_type": "code",
            "execution_count": 11,
            "metadata": {
                "collapsed": true
            },
            "outputs": [],
            "source": [
                "def full_board_check(board):\n",
                "    for i in range(1,10):\n",
                "        if space_check(board, i):\n",
                "            return False\n",
                "    return True"
            ]
        },
        {
            "cell_type": "markdown",
            "metadata": {},
            "source": [
                "**\u00c9tape 8\u00a0: \u00c9crivez une fonction qui demande la position suivante d'un joueur (sous la forme d'un nombre de 1 \u00e0 9), puis utilisez la fonction de l'\u00e9tape 6 pour v\u00e9rifier s'il s'agit d'une position libre. Si c'est le cas, remettez la position pour une utilisation ult\u00e9rieure. **\n"
            ]
        },
        {
            "cell_type": "code",
            "execution_count": 12,
            "metadata": {
                "collapsed": true
            },
            "outputs": [],
            "source": [
                "def player_choice(board):\n",
                "    position = 0\n",
                "    \n",
                "    while position not in [1,2,3,4,5,6,7,8,9] or not space_check(board, position):\n",
                "        position = int(input('Choose your next position: (1-9) '))\n",
                "        \n",
                "    return position"
            ]
        },
        {
            "cell_type": "markdown",
            "metadata": {},
            "source": [
                "**\u00c9tape 9\u00a0: \u00e9crivez une fonction qui demande au joueur s'il veut rejouer et renvoie un bool\u00e9en Vrai s'il veut rejouer.**\n"
            ]
        },
        {
            "cell_type": "code",
            "execution_count": 13,
            "metadata": {
                "collapsed": true
            },
            "outputs": [],
            "source": [
                "def replay():\n",
                "    \n",
                "    return input('Do you want to play again? Enter Yes or No: ').lower().startswith('y')"
            ]
        },
        {
            "cell_type": "markdown",
            "metadata": {
                "collapsed": true
            },
            "source": [
                "**\u00c9tape 10\u00a0: Voici la partie la plus difficile\u00a0! Utilisez les boucles while et les fonctions que vous avez cr\u00e9\u00e9es pour lancer le jeu\u00a0!**\n"
            ]
        },
        {
            "cell_type": "code",
            "execution_count": 14,
            "metadata": {},
            "outputs": [
                {
                    "name": "stdout",
                    "output_type": "stream",
                    "text": [
                        "   |   |\n",
                        "   | O | O\n",
                        "   |   |\n",
                        "-----------\n",
                        "   |   |\n",
                        "   |   |  \n",
                        "   |   |\n",
                        "-----------\n",
                        "   |   |\n",
                        " X | X | X\n",
                        "   |   |\n",
                        "Congratulations! You have won the game!\n",
                        "Do you want to play again? Enter Yes or No: No\n"
                    ]
                }
            ],
            "source": [
                "print('Welcome to Tic Tac Toe!')\n",
                "\n",
                "while True:\n",
                "    # Reset the board\n",
                "    theBoard = [' '] * 10\n",
                "    player1_marker, player2_marker = player_input()\n",
                "    turn = choose_first()\n",
                "    print(turn + ' will go first.')\n",
                "    \n",
                "    play_game = input('Are you ready to play? Enter Yes or No.')\n",
                "    \n",
                "    if play_game.lower()[0] == 'y':\n",
                "        game_on = True\n",
                "    else:\n",
                "        game_on = False\n",
                "\n",
                "    while game_on:\n",
                "        if turn == 'Player 1':\n",
                "            # Player1's turn.\n",
                "            \n",
                "            display_board(theBoard)\n",
                "            position = player_choice(theBoard)\n",
                "            place_marker(theBoard, player1_marker, position)\n",
                "\n",
                "            if win_check(theBoard, player1_marker):\n",
                "                display_board(theBoard)\n",
                "                print('Congratulations! You have won the game!')\n",
                "                game_on = False\n",
                "            else:\n",
                "                if full_board_check(theBoard):\n",
                "                    display_board(theBoard)\n",
                "                    print('The game is a draw!')\n",
                "                    break\n",
                "                else:\n",
                "                    turn = 'Player 2'\n",
                "\n",
                "        else:\n",
                "            # Player2's turn.\n",
                "            \n",
                "            display_board(theBoard)\n",
                "            position = player_choice(theBoard)\n",
                "            place_marker(theBoard, player2_marker, position)\n",
                "\n",
                "            if win_check(theBoard, player2_marker):\n",
                "                display_board(theBoard)\n",
                "                print('Player 2 has won!')\n",
                "                game_on = False\n",
                "            else:\n",
                "                if full_board_check(theBoard):\n",
                "                    display_board(theBoard)\n",
                "                    print('The game is a draw!')\n",
                "                    break\n",
                "                else:\n",
                "                    turn = 'Player 1'\n",
                "\n",
                "    if not replay():\n",
                "        break"
            ]
        }
    ],
    "metadata": {
        "anaconda-cloud": {},
        "kernelspec": {
            "display_name": "Python 3",
            "language": "python",
            "name": "python3"
        },
        "language_info": {
            "codemirror_mode": {
                "name": "ipython",
                "version": 3
            },
            "file_extension": ".py",
            "mimetype": "text/x-python",
            "name": "python",
            "nbconvert_exporter": "python",
            "pygments_lexer": "ipython3",
            "version": "3.11.0"
        },
        "vscode": {
            "interpreter": {
                "hash": "9fedf123aa532497912d939029aac71791b23fba076af1a3c1eebd0e739bf47a"
            }
        }
    },
    "nbformat": 4,
    "nbformat_minor": 1
}