{
    "cells": [
        {
            "cell_type": "markdown",
            "metadata": {
                "id": "view-in-github",
                "colab_type": "text"
            },
            "source": [
                "<a href=\"https://colab.research.google.com/github/yahia-kplr/Fondamentaux-Python_fr/blob/main/Milestone_Project-1/01-Milestone_Project_1.ipynb\" target=\"_blank\"><img src=\"https://colab.research.google.com/assets/colab-badge.svg\" alt=\"Open In Colab\"/></a>"
            ]
        },
        {
            "cell_type": "markdown",
            "metadata": {},
            "source": [
                "# Projet jalon 1\n",
                "## F\u00e9licitations pour avoir atteint votre premier jalon\u00a0!\n",
                "Vous avez d\u00e9j\u00e0 beaucoup appris et \u00eates pr\u00eat \u00e0 travailler sur un vrai projet.\n",
                "\n",
                "Votre mission : Cr\u00e9er un jeu Tic Tac Toe. Vous \u00eates libre d'utiliser n'importe quel IDE que vous aimez.\n",
                "\n",
                "Voici les exigences :\n",
                "\n",
                "* 2 joueurs doivent pouvoir jouer au jeu (tous deux assis sur le m\u00eame ordinateur)\n",
                "* Le tableau doit \u00eatre imprim\u00e9 \u00e0 chaque fois qu'un joueur fait un mouvement\n",
                "* Vous devriez \u00eatre en mesure d'accepter la saisie de la position du joueur, puis de placer un symbole sur le tableau\n",
                "\n",
                "N'h\u00e9sitez pas \u00e0 utiliser Google pour vous aider \u00e0 comprendre quoi que ce soit (mais ne vous contentez pas de Google \"Tic Tac Toe en Python\" sinon vous n'apprendrez rien !) Gardez \u00e0 l'esprit que ce projet peut prendre entre plusieurs heures et plusieurs jours.\n",
                "\n",
                "Il existe 4 blocs-notes Jupyter li\u00e9s \u00e0 cette mission\u00a0:\n",
                "\n",
                "* Ce cahier de devoirs\n",
                "* Un cahier \"Cahier des \u00e9tapes de la proc\u00e9dure pas \u00e0 pas\"\n",
                "* Un cahier \"Solution compl\u00e8te de proc\u00e9dure pas \u00e0 pas\"\n",
                "* Un ordinateur portable \"Solution avanc\u00e9e\"\n",
                "\n",
                "Je vous encourage \u00e0 essayer de d\u00e9marrer le projet par vous-m\u00eame sans faire r\u00e9f\u00e9rence \u00e0 aucun des cahiers. Si vous \u00eates bloqu\u00e9, consultez la conf\u00e9rence suivante qui est une conf\u00e9rence textuelle avec des conseils et des \u00e9tapes utiles. Si vous \u00eates toujours bloqu\u00e9 apr\u00e8s cela, consultez le manuel des \u00e9tapes de la proc\u00e9dure pas \u00e0 pas, qui divise le projet en \u00e9tapes \u00e0 r\u00e9soudre. Toujours coinc\u00e9? Consultez ensuite la vid\u00e9o de la solution compl\u00e8te pour plus d'aide sur l'approche du projet\u00a0!\n"
            ]
        }
    ],
    "metadata": {
        "kernelspec": {
            "display_name": "Python 3",
            "language": "python",
            "name": "python3"
        },
        "language_info": {
            "codemirror_mode": {
                "name": "ipython",
                "version": 3
            },
            "file_extension": ".py",
            "mimetype": "text/x-python",
            "name": "python",
            "nbconvert_exporter": "python",
            "pygments_lexer": "ipython3",
            "version": "3.11.0"
        },
        "vscode": {
            "interpreter": {
                "hash": "9fedf123aa532497912d939029aac71791b23fba076af1a3c1eebd0e739bf47a"
            }
        }
    },
    "nbformat": 4,
    "nbformat_minor": 1
}