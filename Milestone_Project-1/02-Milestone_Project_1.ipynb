{
    "cells": [
        {
            "cell_type": "markdown",
            "metadata": {
                "id": "view-in-github",
                "colab_type": "text"
            },
            "source": [
                "<a href=\"https://colab.research.google.com/github/yahia-kplr/Fondamentaux-Python_fr/blob/main/Milestone_Project-1/02-Milestone_Project_1.ipynb\" target=\"_blank\"><img src=\"https://colab.research.google.com/assets/colab-badge.svg\" alt=\"Open In Colab\"/></a>"
            ]
        },
        {
            "cell_type": "markdown",
            "metadata": {},
            "source": [
                "# Milestone Project 1: Walkthrough Steps Workbook\n",
                "\n",
                "Below is a set of steps for you to follow to try to create the Tic Tac Toe Milestone Project game!"
            ]
        },
        {
            "cell_type": "markdown",
            "metadata": {},
            "source": [
                "#### Quelques suggestions d'outils avant de commencer\u00a0:\n",
                "Pour prendre l'entr\u00e9e d'un utilisateur\u00a0:\n",
                "\n",
                "player1 = input(\"Veuillez choisir un marqueur 'X' ou 'O'\")\n",
                "\n",
                "Notez que input() prend une cha\u00eene. Si vous avez besoin d'une valeur enti\u00e8re, utilisez\n",
                "\n",
                "position = int(input('Veuillez entrer un nombre'))\n",
                "\n",
                "<br>Pour effacer l'\u00e9cran entre les coups\u00a0:\n",
                "\n",
                "depuis IPython.display importer clear_output\n",
                "clear_output()\n",
                "\n",
                "Notez que clear_output() ne fonctionnera que dans jupyter. Pour effacer l'\u00e9cran dans d'autres IDE, consid\u00e9rez\u00a0:\n",
                "\n",
                "imprimer('\\n'*100)\n",
                "\n",
                "Cela fait d\u00e9filer le tableau pr\u00e9c\u00e9dent hors de vue. Passons maintenant au programme !\n"
            ]
        },
        {
            "cell_type": "markdown",
            "metadata": {},
            "source": [
                "**\u00c9tape 1 : \u00e9crivez une fonction qui peut imprimer un tableau. Configurez votre tableau sous forme de liste, o\u00f9 chaque index 1-9 correspond \u00e0 un num\u00e9ro sur un pav\u00e9 num\u00e9rique, de sorte que vous obtenez une repr\u00e9sentation du tableau 3 par 3.**\n"
            ]
        },
        {
            "cell_type": "code",
            "execution_count": null,
            "metadata": {
                "collapsed": true
            },
            "outputs": [],
            "source": [
                "from IPython.display import clear_output\n",
                "\n",
                "def display_board(board):\n",
                "    \n",
                "    pass"
            ]
        },
        {
            "cell_type": "markdown",
            "metadata": {},
            "source": [
                "**TEST \u00c9tape 1\u00a0:** ex\u00e9cutez votre fonction sur une version test de la liste des cartes et effectuez les ajustements n\u00e9cessaires\n"
            ]
        },
        {
            "cell_type": "code",
            "execution_count": null,
            "metadata": {
                "collapsed": true
            },
            "outputs": [],
            "source": [
                "test_board = ['#','X','O','X','O','X','O','X','O','X']\n",
                "display_board(test_board)"
            ]
        },
        {
            "cell_type": "markdown",
            "metadata": {},
            "source": [
                "**\u00c9tape 2\u00a0: \u00e9crivez une fonction qui peut prendre en compte l'entr\u00e9e d'un joueur et attribuer son marqueur comme \u00ab\u00a0X\u00a0\u00bb ou \u00ab\u00a0O\u00a0\u00bb. Pensez \u00e0 utiliser des boucles *while* pour demander continuellement jusqu'\u00e0 ce que vous obteniez une r\u00e9ponse correcte.**\n"
            ]
        },
        {
            "cell_type": "code",
            "execution_count": null,
            "metadata": {
                "collapsed": true
            },
            "outputs": [],
            "source": [
                "def player_input():\n",
                "    \n",
                "    pass"
            ]
        },
        {
            "cell_type": "markdown",
            "metadata": {},
            "source": [
                "**TEST \u00c9tape\u00a02\u00a0:** ex\u00e9cutez la fonction pour vous assurer qu'elle renvoie la sortie souhait\u00e9e\n"
            ]
        },
        {
            "cell_type": "code",
            "execution_count": null,
            "metadata": {
                "collapsed": true
            },
            "outputs": [],
            "source": [
                "player_input()"
            ]
        },
        {
            "cell_type": "markdown",
            "metadata": {},
            "source": [
                "**\u00c9tape 3\u00a0: \u00e9crivez une fonction qui prend dans l'objet de la liste du tableau, un marqueur (\"X\" ou \"O\") et une position souhait\u00e9e (num\u00e9ro 1-9) et l'affecte au tableau.**\n"
            ]
        },
        {
            "cell_type": "code",
            "execution_count": null,
            "metadata": {
                "collapsed": true
            },
            "outputs": [],
            "source": [
                "def place_marker(board, marker, position):\n",
                "    \n",
                "    pass"
            ]
        },
        {
            "cell_type": "markdown",
            "metadata": {},
            "source": [
                "**TEST \u00c9tape\u00a03\u00a0:** ex\u00e9cutez la fonction de marqueur de lieu \u00e0 l'aide des param\u00e8tres de test et affichez le tableau modifi\u00e9\n"
            ]
        },
        {
            "cell_type": "code",
            "execution_count": null,
            "metadata": {
                "collapsed": true
            },
            "outputs": [],
            "source": [
                "place_marker(test_board,'$',8)\n",
                "display_board(test_board)"
            ]
        },
        {
            "cell_type": "markdown",
            "metadata": {},
            "source": [
                "**\u00c9tape 4\u00a0: \u00c9crivez une fonction qui prend en compte un tableau et une marque (X ou O), puis v\u00e9rifie si cette marque a gagn\u00e9. **\n"
            ]
        },
        {
            "cell_type": "code",
            "execution_count": null,
            "metadata": {
                "collapsed": true
            },
            "outputs": [],
            "source": [
                "def win_check(board, mark):\n",
                "    \n",
                "    pass"
            ]
        },
        {
            "cell_type": "markdown",
            "metadata": {},
            "source": [
                "**TEST Step 4:** ex\u00e9cutez la fonction win_check sur notre test_board - elle devrait renvoyer True\n"
            ]
        },
        {
            "cell_type": "code",
            "execution_count": null,
            "metadata": {
                "collapsed": true
            },
            "outputs": [],
            "source": [
                "win_check(test_board,'X')"
            ]
        },
        {
            "cell_type": "markdown",
            "metadata": {},
            "source": [
                "**\u00c9tape 5\u00a0: \u00e9crivez une fonction qui utilise le module al\u00e9atoire pour d\u00e9cider au hasard quel joueur jouera en premier. Vous voudrez peut-\u00eatre rechercher random.randint() Renvoie une cha\u00eene indiquant quel joueur est pass\u00e9 en premier.**\n"
            ]
        },
        {
            "cell_type": "code",
            "execution_count": null,
            "metadata": {
                "collapsed": true
            },
            "outputs": [],
            "source": [
                "import random\n",
                "\n",
                "def choose_first():\n",
                "    pass"
            ]
        },
        {
            "cell_type": "markdown",
            "metadata": {},
            "source": [
                "**\u00c9tape\u00a06\u00a0: \u00e9crivez une fonction qui renvoie un bool\u00e9en indiquant si un espace sur le tableau est librement disponible.**\n"
            ]
        },
        {
            "cell_type": "code",
            "execution_count": null,
            "metadata": {
                "collapsed": true
            },
            "outputs": [],
            "source": [
                "def space_check(board, position):\n",
                "    \n",
                "    pass"
            ]
        },
        {
            "cell_type": "markdown",
            "metadata": {},
            "source": [
                "**\u00c9tape 7\u00a0: \u00e9crivez une fonction qui v\u00e9rifie si la carte est pleine et renvoie une valeur bool\u00e9enne. Vrai si plein, Faux sinon.**\n"
            ]
        },
        {
            "cell_type": "code",
            "execution_count": null,
            "metadata": {
                "collapsed": true
            },
            "outputs": [],
            "source": [
                "def full_board_check(board):\n",
                "    \n",
                "    pass"
            ]
        },
        {
            "cell_type": "markdown",
            "metadata": {},
            "source": [
                "**\u00c9tape 8\u00a0: \u00c9crivez une fonction qui demande la position suivante d'un joueur (sous la forme d'un nombre de 1 \u00e0 9), puis utilisez la fonction de l'\u00e9tape 6 pour v\u00e9rifier s'il s'agit d'une position libre. Si c'est le cas, remettez la position pour une utilisation ult\u00e9rieure.**\n"
            ]
        },
        {
            "cell_type": "code",
            "execution_count": null,
            "metadata": {
                "collapsed": true
            },
            "outputs": [],
            "source": [
                "def player_choice(board):\n",
                "    \n",
                "    pass"
            ]
        },
        {
            "cell_type": "markdown",
            "metadata": {},
            "source": [
                "**\u00c9tape 9\u00a0: \u00e9crivez une fonction qui demande au joueur s'il veut rejouer et renvoie un bool\u00e9en Vrai s'il veut rejouer.**\n"
            ]
        },
        {
            "cell_type": "code",
            "execution_count": null,
            "metadata": {
                "collapsed": true
            },
            "outputs": [],
            "source": [
                "def replay():\n",
                "    \n",
                "    pass"
            ]
        },
        {
            "cell_type": "markdown",
            "metadata": {
                "collapsed": true
            },
            "source": [
                "**\u00c9tape 10\u00a0: Voici la partie la plus difficile\u00a0! Utilisez les boucles while et les fonctions que vous avez cr\u00e9\u00e9es pour lancer le jeu\u00a0!**\n"
            ]
        },
        {
            "cell_type": "code",
            "execution_count": null,
            "metadata": {
                "collapsed": true
            },
            "outputs": [],
            "source": [
                "print('Welcome to Tic Tac Toe!')\n",
                "\n",
                "#while True:\n",
                "    # Set the game up here\n",
                "    #pass\n",
                "\n",
                "    #while game_on:\n",
                "        #Player 1 Turn\n",
                "        \n",
                "        \n",
                "        # Player2's turn.\n",
                "            \n",
                "            #pass\n",
                "\n",
                "    #if not replay():\n",
                "        #break"
            ]
        },
        {
            "cell_type": "markdown",
            "metadata": {
                "collapsed": true
            },
            "source": [
                "## Bon travail!\n"
            ]
        }
    ],
    "metadata": {
        "kernelspec": {
            "display_name": "Python 3",
            "language": "python",
            "name": "python3"
        },
        "language_info": {
            "codemirror_mode": {
                "name": "ipython",
                "version": 3
            },
            "file_extension": ".py",
            "mimetype": "text/x-python",
            "name": "python",
            "nbconvert_exporter": "python",
            "pygments_lexer": "ipython3",
            "version": "3.11.0"
        },
        "vscode": {
            "interpreter": {
                "hash": "9fedf123aa532497912d939029aac71791b23fba076af1a3c1eebd0e739bf47a"
            }
        }
    },
    "nbformat": 4,
    "nbformat_minor": 1
}